{
 "cells": [
  {
   "cell_type": "code",
   "execution_count": 140,
   "metadata": {},
   "outputs": [],
   "source": [
    "# PROJECT 4 - Wrangle Twitter data via API"
   ]
  },
  {
   "source": [
    "## Table of Contents\n",
    "* [Introduction](#intro)\n",
    "* [Initial Brief](#1.1-initial-brief)\n",
    "* [General Outline](#general_outline)\n",
    "* [Import Libraries](#)\n",
    "* [](#)\n",
    "\n",
    "`Note: Fill at the end. Automate with python library/extension.`"
   ],
   "cell_type": "markdown",
   "metadata": {}
  },
  {
   "source": [
    "# Introduction\n",
    "Gather readily available data from an existing source on the web to allow first hand experience of wrangling data.<br>\n",
    "It is a significant task as data will not always be provided and if it is: <br>\n",
    " - Best case: Spelling mistakes and/or equivalent,\n",
    " - Worst case: No schema/format, duplicates, incomplete and/or incorrect values recorded."
   ],
   "cell_type": "markdown",
   "metadata": {}
  },
  {
   "source": [
    "## Initial Brief\n",
    "- User has provided archived twitter data for analysis\n",
    " - [ ] Twitter archive export in CSV\n",
    " - [ ] URL to Machine Learning image predictions\n",
    "<br>\n",
    "- Identify minimum:\n",
    " - [ ] 8 quality issues\n",
    " - [ ] 2 tidiness issues\n",
    "<br>\n",
    "- Out of scope:\n",
    " - [ ] Unique rating system\n",
    " - [ ] No gathering required past 01 Aug 2017"
   ],
   "cell_type": "markdown",
   "metadata": {}
  },
  {
   "source": [
    "## General outline\n",
    "- [ ] Read-in CSV data\n",
    "- [ ] Access URL data (_over manually downloading file_)"
   ],
   "cell_type": "markdown",
   "metadata": {}
  },
  {
   "source": [
    "## install modules via terminal\n",
    "#pip install pandas # also downloads numpy\n",
    "#pip install requests\n",
    "#pip install tweepy\n",
    "\n",
    "## Optional - provides TOC\n",
    "#pip install jupyter_contrib_nbextensions"
   ],
   "cell_type": "code",
   "metadata": {},
   "execution_count": 141,
   "outputs": []
  },
  {
   "source": [
    "## Import Libraries"
   ],
   "cell_type": "markdown",
   "metadata": {}
  },
  {
   "cell_type": "code",
   "execution_count": 142,
   "metadata": {},
   "outputs": [],
   "source": [
    "import pandas as pd\n",
    "import numpy as np\n",
    "\n",
    "import requests\n",
    "import os\n",
    "\n",
    "import msvcrt\n",
    "import sys\n",
    "\n",
    "from bs4 import BeautifulSoup\n",
    "\n",
    "import tweepy\n",
    "\n",
    "import json"
   ]
  },
  {
   "source": [
    "## Defined Functions\n",
    "\n",
    "- addFiles(filename)    `Created for the ability to scale`\n",
    "- go_assess(df)         `Created to reiterate through assessment steps`"
   ],
   "cell_type": "markdown",
   "metadata": {}
  },
  {
   "cell_type": "code",
   "execution_count": 143,
   "metadata": {},
   "outputs": [
    {
     "output_type": "stream",
     "name": "stdout",
     "text": [
      "0 Files in list\n"
     ]
    }
   ],
   "source": [
    "filelist = [] # declare\n",
    "print('{} Files in list'.format(len(filelist)) ) # initial print\n",
    "\n",
    "# Adds and tracks files\n",
    "def add_files(*filename): # PARAMETER: <string>\n",
    "    for file in filename:\n",
    "        filelist.append(file)\n",
    "        print('{} added to file list.'.format(file) )\n",
    "\n",
    "    if len(filelist) > 1:\n",
    "        print('{} files now in list.'.format( len(filelist)) )\n",
    "    else:\n",
    "        print('{} file now in list.'.format( len(filelist)) )\n",
    "    return file"
   ]
  },
  {
   "cell_type": "code",
   "execution_count": 144,
   "metadata": {},
   "outputs": [],
   "source": [
    "def get_values(df, col, name): # \n",
    "    export = []\n",
    "    value_cnt = col.value_counts()\n",
    "    value = value_cnt.values\n",
    "# test for duplicates, no duplicates should be equal to .series size\n",
    "    if value.sum() > value.shape[0]: # there are duplicates\n",
    "        txt_result = ('Duplicates found in column \\'{}\\', the max duplicate item repeats {} times.'.format(name, value.max()) ) # print results, return indexes\n",
    "    else: # no duplicates\n",
    "        txt_result = ('No duplicates found in column \\'{}\\'.'.format(name) )\n",
    "        #print('{}: No duplicates found.'.format(col) )\n",
    "    # pack variables into list\n",
    "    export.append(value_cnt)\n",
    "    export.append(txt_result)\n",
    "    \n",
    "    return export"
   ]
  },
  {
   "cell_type": "code",
   "execution_count": 145,
   "metadata": {},
   "outputs": [],
   "source": [
    "#assessment = [] # create global\n",
    "def go_assess(df):\n",
    "    # empty every function call, to prevent list from accumulating over time\n",
    "    results = [] #\n",
    "    summary = [] #\n",
    "    val_sum = [] # \n",
    "    assessment = []\n",
    "    print('Dataframe contains the following columns:')\n",
    "    print('{}\\n'.format(df.columns) )\n",
    "\n",
    "    for i, col in enumerate(df.columns):\n",
    "        # copy into message\n",
    "        print('Column {} - \\'{}\\' has been assessed. Assessment saved in results[{}] and summary[{}]'.format(i, col, i, i))\n",
    "        \n",
    "        # call and get results\n",
    "        val_sum = get_values(df, df[col], col)\n",
    "\n",
    "        # append results\n",
    "        summary.append(val_sum[1])\n",
    "        results.append(val_sum[0])\n",
    "\n",
    "    assessment.append(summary)\n",
    "    assessment.append(results)\n",
    "    print('NOTE: To access variables, set a series name e.g below:\\nseries[0][x] to access summary details.\\nseries[1][x] to access the value_counts results.\\nx represents column number')\n",
    "    return assessment #"
   ]
  },
  {
   "cell_type": "code",
   "execution_count": 146,
   "metadata": {},
   "outputs": [],
   "source": [
    "def trim_strings(df):\n",
    "    for col in df:\n",
    "        if df[col].dtype == 'object':\n",
    "            startcount = df[col].str.len()\n",
    "            df[col].str.strip()\n",
    "            endcount = df[col].str.len()\n",
    "            print\n",
    "\n",
    "            if (startcount.sum() - endcount.sum()) > 0:\n",
    "                print('Whitespaces were present in {}.'.format(col) )\n",
    "            else:\n",
    "                print('No whitespaces in {}.'.format(col) )"
   ]
  },
  {
   "cell_type": "code",
   "execution_count": 147,
   "metadata": {},
   "outputs": [],
   "source": [
    "## BLANK"
   ]
  },
  {
   "source": [
    "## Data Wrangling"
   ],
   "cell_type": "markdown",
   "metadata": {}
  },
  {
   "source": [
    "## Iteration 1\n",
    "Import data from a twitter user archive provided by the end-user\n",
    "\n",
    "`Note: Add edit# upon addition of new issue.`"
   ],
   "cell_type": "markdown",
   "metadata": {}
  },
  {
   "source": [
    "### Gathering 1\n",
    "#### Initialize\n",
    "Enter Known Input Info\n",
    "Format: file name inside ''"
   ],
   "cell_type": "markdown",
   "metadata": {}
  },
  {
   "cell_type": "code",
   "execution_count": 148,
   "metadata": {},
   "outputs": [
    {
     "output_type": "stream",
     "name": "stdout",
     "text": [
      "twitter-archive-enhanced-2.csv added to file list.\n1 file now in list.\n"
     ]
    },
    {
     "output_type": "execute_result",
     "data": {
      "text/plain": [
       "'twitter-archive-enhanced-2.csv'"
      ]
     },
     "metadata": {},
     "execution_count": 148
    }
   ],
   "source": [
    "# FILE 1 - TWITTER ARCHIVE DATA\n",
    "folder = 'Incoming_Files/'\n",
    "twitter_file = 'twitter-archive-enhanced-2.csv'\n",
    "add_files(twitter_file)"
   ]
  },
  {
   "cell_type": "code",
   "execution_count": 149,
   "metadata": {},
   "outputs": [
    {
     "output_type": "stream",
     "name": "stdout",
     "text": [
      "image-predictions.tsv has been saved in: \"/Incoming_Files/\"\nimage-predictions.tsv added to file list.\n2 files now in list.\n"
     ]
    },
    {
     "output_type": "execute_result",
     "data": {
      "text/plain": [
       "'image-predictions.tsv'"
      ]
     },
     "metadata": {},
     "execution_count": 149
    }
   ],
   "source": [
    "# FILE 2 - TWITTER ML IMAGE PREDICTIONS\n",
    "url = 'https://d17h27t6h515a5.cloudfront.net/topher/2017/August/599fd2ad_image-predictions/image-predictions.tsv'\n",
    "\n",
    "# assign to a response object\n",
    "response = requests.get(url)\n",
    "\n",
    "image_predictions = url.split('/')[-1] # extract file name\n",
    "\n",
    "# with open, allows for the auto close file when complete\n",
    "# split after last delimiter /, indicating file name\n",
    "with open(os.path.join(folder, image_predictions), mode='wb') as file:\n",
    "    # read file \n",
    "    file.write(response.content)\n",
    "    print('{} has been saved in: \"/{}\"'.format(image_predictions, folder) )\n",
    "\n",
    "# call function and add name to end of list\n",
    "add_files(image_predictions)"
   ]
  },
  {
   "cell_type": "code",
   "execution_count": 150,
   "metadata": {},
   "outputs": [],
   "source": [
    "run_script = str(input('Run script to Access Twitter API (Y/N)?'))\n",
    "valid_input = ['n', 'N', 'y', 'Y']\n",
    "yes_list = ['y','Y']\n",
    "no_list = ['n','N']"
   ]
  },
  {
   "cell_type": "code",
   "execution_count": 151,
   "metadata": {
    "tags": []
   },
   "outputs": [
    {
     "output_type": "stream",
     "name": "stdout",
     "text": [
      "Script not running.\n"
     ]
    }
   ],
   "source": [
    "# FILE 3 - TWITTER API JSON\n",
    "# run python script, pass dataframe name (dataframe could not be passed)\n",
    "while run_script not in valid_input:\n",
    "    run_script = input('Wrong input. Run script to Access Twitter API (Y/N)?')\n",
    "\n",
    "if run_script in yes_list:\n",
    "    folderarg = folder.replace(' ', '_')\n",
    "    print('Running. Will indicate when complete.\\n')\n",
    "    %run twitter-api.py $folderarg $filelist[0]\n",
    "elif run_script in no_list:\n",
    "    print('Script not running.')"
   ]
  },
  {
   "cell_type": "code",
   "execution_count": 152,
   "metadata": {},
   "outputs": [
    {
     "output_type": "stream",
     "name": "stdout",
     "text": [
      "tweet_json.txt added to file list.\n3 files now in list.\n"
     ]
    }
   ],
   "source": [
    "## Twitter API data\n",
    "API_cols = ['tweet_id', 'rt_count', 'fav_count']\n",
    "\n",
    "# read in txt and convert to json\n",
    "API_export = 'tweet_json.txt'\n",
    "# call function and add name to end of list\n",
    "add_files(API_export)\n",
    "\n",
    "json_keys, json_id, json_fav_count, json_retweet_cnt = [], [],[],[]\n",
    "\n",
    "with open(API_export) as txt_file:\n",
    "    for line in txt_file:\n",
    "        #print(line)\n",
    "        json_obj = json.loads(line)\n",
    "        #append to list then combine lists \n",
    "        json_keys.append(json_obj)\n",
    "        json_id.append(json_obj['id_str'])\n",
    "        json_fav_count.append(json_obj['favorite_count'])\n",
    "        json_retweet_cnt.append(json_obj['retweet_count'])\n",
    "        "
   ]
  },
  {
   "source": [
    "#### Import into dataframes"
   ],
   "cell_type": "markdown",
   "metadata": {}
  },
  {
   "cell_type": "code",
   "execution_count": 153,
   "metadata": {},
   "outputs": [],
   "source": [
    " # create empty list\n",
    "df_raw = []\n",
    "file_extensions = []\n",
    "\n",
    "# dataframe to contain original imports\n",
    "for num, file in enumerate(filelist):\n",
    "    ext = file.split('.')[-1]\n",
    "    file_extensions.append(ext)\n",
    "    # read extension type\n",
    "    ## catch CSV, TSV, JSON, no Switch/Case in Python\n",
    "    if ext == 'csv':\n",
    "        df_raw.append(pd.read_csv(folder + file) )\n",
    "    elif ext == 'tsv':\n",
    "        df_raw.append(pd.read_csv(folder + file, sep='\\t') )\n",
    "    elif file == 'tweet_json.txt':\n",
    "        df_raw.append(pd.DataFrame(zip(json_id, json_fav_count, json_retweet_cnt), columns=API_cols))\n",
    "    else:\n",
    "        print('filelist({}) - \"{}\", could not be read into a dataframe.'.format(num, filelist[num]) )"
   ]
  },
  {
   "cell_type": "code",
   "execution_count": 154,
   "metadata": {},
   "outputs": [
    {
     "output_type": "stream",
     "name": "stdout",
     "text": [
      "['twitter-archive-enhanced-2.csv', 'image-predictions.tsv', 'tweet_json.txt']\n"
     ]
    }
   ],
   "source": [
    "print(filelist)"
   ]
  },
  {
   "cell_type": "code",
   "execution_count": 155,
   "metadata": {},
   "outputs": [
    {
     "output_type": "execute_result",
     "data": {
      "text/plain": [
       "                tweet_id  in_reply_to_status_id  in_reply_to_user_id  \\\n",
       "2137  670046952931721218                    NaN                  NaN   \n",
       "1737  679530280114372609                    NaN                  NaN   \n",
       "1020  746757706116112384                    NaN                  NaN   \n",
       "\n",
       "                      timestamp  \\\n",
       "2137  2015-11-27 01:10:17 +0000   \n",
       "1737  2015-12-23 05:13:38 +0000   \n",
       "1020  2016-06-25 17:31:25 +0000   \n",
       "\n",
       "                                                 source  \\\n",
       "2137  <a href=\"http://twitter.com/download/iphone\" r...   \n",
       "1737  <a href=\"http://twitter.com/download/iphone\" r...   \n",
       "1020  <a href=\"http://vine.co\" rel=\"nofollow\">Vine -...   \n",
       "\n",
       "                                                   text  retweeted_status_id  \\\n",
       "2137  This is Ben &amp; Carson. It's impossible for ...                  NaN   \n",
       "1737  Guys this really needs to stop. We've been ove...                  NaN   \n",
       "1020  This is Maddie. She gets some wicked air time....                  NaN   \n",
       "\n",
       "      retweeted_status_user_id retweeted_status_timestamp  \\\n",
       "2137                       NaN                        NaN   \n",
       "1737                       NaN                        NaN   \n",
       "1020                       NaN                        NaN   \n",
       "\n",
       "                                          expanded_urls  rating_numerator  \\\n",
       "2137  https://twitter.com/dog_rates/status/670046952...                11   \n",
       "1737  https://twitter.com/dog_rates/status/679530280...                 7   \n",
       "1020                      https://vine.co/v/5BYq6hmrEI3                11   \n",
       "\n",
       "      rating_denominator    name doggo floofer pupper puppo  \n",
       "2137                  10     Ben  None    None   None  None  \n",
       "1737                  10       a  None    None   None  None  \n",
       "1020                  10  Maddie  None    None   None  None  "
      ],
      "text/html": "<div>\n<style scoped>\n    .dataframe tbody tr th:only-of-type {\n        vertical-align: middle;\n    }\n\n    .dataframe tbody tr th {\n        vertical-align: top;\n    }\n\n    .dataframe thead th {\n        text-align: right;\n    }\n</style>\n<table border=\"1\" class=\"dataframe\">\n  <thead>\n    <tr style=\"text-align: right;\">\n      <th></th>\n      <th>tweet_id</th>\n      <th>in_reply_to_status_id</th>\n      <th>in_reply_to_user_id</th>\n      <th>timestamp</th>\n      <th>source</th>\n      <th>text</th>\n      <th>retweeted_status_id</th>\n      <th>retweeted_status_user_id</th>\n      <th>retweeted_status_timestamp</th>\n      <th>expanded_urls</th>\n      <th>rating_numerator</th>\n      <th>rating_denominator</th>\n      <th>name</th>\n      <th>doggo</th>\n      <th>floofer</th>\n      <th>pupper</th>\n      <th>puppo</th>\n    </tr>\n  </thead>\n  <tbody>\n    <tr>\n      <th>2137</th>\n      <td>670046952931721218</td>\n      <td>NaN</td>\n      <td>NaN</td>\n      <td>2015-11-27 01:10:17 +0000</td>\n      <td>&lt;a href=\"http://twitter.com/download/iphone\" r...</td>\n      <td>This is Ben &amp;amp; Carson. It's impossible for ...</td>\n      <td>NaN</td>\n      <td>NaN</td>\n      <td>NaN</td>\n      <td>https://twitter.com/dog_rates/status/670046952...</td>\n      <td>11</td>\n      <td>10</td>\n      <td>Ben</td>\n      <td>None</td>\n      <td>None</td>\n      <td>None</td>\n      <td>None</td>\n    </tr>\n    <tr>\n      <th>1737</th>\n      <td>679530280114372609</td>\n      <td>NaN</td>\n      <td>NaN</td>\n      <td>2015-12-23 05:13:38 +0000</td>\n      <td>&lt;a href=\"http://twitter.com/download/iphone\" r...</td>\n      <td>Guys this really needs to stop. We've been ove...</td>\n      <td>NaN</td>\n      <td>NaN</td>\n      <td>NaN</td>\n      <td>https://twitter.com/dog_rates/status/679530280...</td>\n      <td>7</td>\n      <td>10</td>\n      <td>a</td>\n      <td>None</td>\n      <td>None</td>\n      <td>None</td>\n      <td>None</td>\n    </tr>\n    <tr>\n      <th>1020</th>\n      <td>746757706116112384</td>\n      <td>NaN</td>\n      <td>NaN</td>\n      <td>2016-06-25 17:31:25 +0000</td>\n      <td>&lt;a href=\"http://vine.co\" rel=\"nofollow\"&gt;Vine -...</td>\n      <td>This is Maddie. She gets some wicked air time....</td>\n      <td>NaN</td>\n      <td>NaN</td>\n      <td>NaN</td>\n      <td>https://vine.co/v/5BYq6hmrEI3</td>\n      <td>11</td>\n      <td>10</td>\n      <td>Maddie</td>\n      <td>None</td>\n      <td>None</td>\n      <td>None</td>\n      <td>None</td>\n    </tr>\n  </tbody>\n</table>\n</div>"
     },
     "metadata": {},
     "execution_count": 155
    }
   ],
   "source": [
    "df_raw[0].sample(3)  # visually assess file was read in correctly"
   ]
  },
  {
   "cell_type": "code",
   "execution_count": 156,
   "metadata": {},
   "outputs": [],
   "source": [
    "df_twitter = df_raw[0].copy()"
   ]
  },
  {
   "cell_type": "code",
   "execution_count": 157,
   "metadata": {},
   "outputs": [
    {
     "output_type": "execute_result",
     "data": {
      "text/plain": [
       "                tweet_id                                          jpg_url  \\\n",
       "945   704480331685040129  https://pbs.twimg.com/media/CcbRIAgXIAQaKHQ.jpg   \n",
       "1274  750041628174217216  https://pbs.twimg.com/media/CmfssOtXYAAKa_Z.jpg   \n",
       "1533  789986466051088384  https://pbs.twimg.com/media/CvaYgDOWgAEfjls.jpg   \n",
       "\n",
       "      img_num                  p1   p1_conf  p1_dog           p2   p2_conf  \\\n",
       "945         1             Samoyed  0.979206    True   Pomeranian  0.007185   \n",
       "1274        1  Labrador_retriever  0.252031    True  Maltese_dog  0.188090   \n",
       "1533        1                 tub  0.479477   False      bathtub  0.325106   \n",
       "\n",
       "      p2_dog                p3   p3_conf  p3_dog  \n",
       "945     True        Arctic_fox  0.006438   False  \n",
       "1274    True  golden_retriever  0.133017    True  \n",
       "1533   False  golden_retriever  0.078530    True  "
      ],
      "text/html": "<div>\n<style scoped>\n    .dataframe tbody tr th:only-of-type {\n        vertical-align: middle;\n    }\n\n    .dataframe tbody tr th {\n        vertical-align: top;\n    }\n\n    .dataframe thead th {\n        text-align: right;\n    }\n</style>\n<table border=\"1\" class=\"dataframe\">\n  <thead>\n    <tr style=\"text-align: right;\">\n      <th></th>\n      <th>tweet_id</th>\n      <th>jpg_url</th>\n      <th>img_num</th>\n      <th>p1</th>\n      <th>p1_conf</th>\n      <th>p1_dog</th>\n      <th>p2</th>\n      <th>p2_conf</th>\n      <th>p2_dog</th>\n      <th>p3</th>\n      <th>p3_conf</th>\n      <th>p3_dog</th>\n    </tr>\n  </thead>\n  <tbody>\n    <tr>\n      <th>945</th>\n      <td>704480331685040129</td>\n      <td>https://pbs.twimg.com/media/CcbRIAgXIAQaKHQ.jpg</td>\n      <td>1</td>\n      <td>Samoyed</td>\n      <td>0.979206</td>\n      <td>True</td>\n      <td>Pomeranian</td>\n      <td>0.007185</td>\n      <td>True</td>\n      <td>Arctic_fox</td>\n      <td>0.006438</td>\n      <td>False</td>\n    </tr>\n    <tr>\n      <th>1274</th>\n      <td>750041628174217216</td>\n      <td>https://pbs.twimg.com/media/CmfssOtXYAAKa_Z.jpg</td>\n      <td>1</td>\n      <td>Labrador_retriever</td>\n      <td>0.252031</td>\n      <td>True</td>\n      <td>Maltese_dog</td>\n      <td>0.188090</td>\n      <td>True</td>\n      <td>golden_retriever</td>\n      <td>0.133017</td>\n      <td>True</td>\n    </tr>\n    <tr>\n      <th>1533</th>\n      <td>789986466051088384</td>\n      <td>https://pbs.twimg.com/media/CvaYgDOWgAEfjls.jpg</td>\n      <td>1</td>\n      <td>tub</td>\n      <td>0.479477</td>\n      <td>False</td>\n      <td>bathtub</td>\n      <td>0.325106</td>\n      <td>False</td>\n      <td>golden_retriever</td>\n      <td>0.078530</td>\n      <td>True</td>\n    </tr>\n  </tbody>\n</table>\n</div>"
     },
     "metadata": {},
     "execution_count": 157
    }
   ],
   "source": [
    "df_raw[1].sample(3)  # visually assess file was read in correctly"
   ]
  },
  {
   "cell_type": "code",
   "execution_count": 158,
   "metadata": {},
   "outputs": [],
   "source": [
    "df_image_predictor = df_raw[1].copy() # create copy"
   ]
  },
  {
   "cell_type": "code",
   "execution_count": 159,
   "metadata": {},
   "outputs": [
    {
     "output_type": "execute_result",
     "data": {
      "text/plain": [
       "                tweet_id  rt_count  fav_count\n",
       "888   757597904299253760         0        294\n",
       "321   832645525019123713      2883        521\n",
       "1462  693109034023534592      1662        590"
      ],
      "text/html": "<div>\n<style scoped>\n    .dataframe tbody tr th:only-of-type {\n        vertical-align: middle;\n    }\n\n    .dataframe tbody tr th {\n        vertical-align: top;\n    }\n\n    .dataframe thead th {\n        text-align: right;\n    }\n</style>\n<table border=\"1\" class=\"dataframe\">\n  <thead>\n    <tr style=\"text-align: right;\">\n      <th></th>\n      <th>tweet_id</th>\n      <th>rt_count</th>\n      <th>fav_count</th>\n    </tr>\n  </thead>\n  <tbody>\n    <tr>\n      <th>888</th>\n      <td>757597904299253760</td>\n      <td>0</td>\n      <td>294</td>\n    </tr>\n    <tr>\n      <th>321</th>\n      <td>832645525019123713</td>\n      <td>2883</td>\n      <td>521</td>\n    </tr>\n    <tr>\n      <th>1462</th>\n      <td>693109034023534592</td>\n      <td>1662</td>\n      <td>590</td>\n    </tr>\n  </tbody>\n</table>\n</div>"
     },
     "metadata": {},
     "execution_count": 159
    }
   ],
   "source": [
    "df_raw[2].sample(3)  # visually assess file was read in correctly"
   ]
  },
  {
   "cell_type": "code",
   "execution_count": 160,
   "metadata": {},
   "outputs": [],
   "source": [
    "df_twitter_api = df_raw[2].copy()"
   ]
  },
  {
   "cell_type": "code",
   "execution_count": 161,
   "metadata": {},
   "outputs": [],
   "source": [
    "# DO - search Incoming Files directory, files not in list to be added."
   ]
  },
  {
   "source": [
    "## Assessing data\n",
    "### Assess 1 - Twitter Data Archive\n",
    "#### Define:<br>"
   ],
   "cell_type": "markdown",
   "metadata": {}
  },
  {
   "source": [
    "\n",
    "**Visual and programmatic summary**<br>\n",
    "Exceptions:\n",
    "1. ratings (numerator, denominator)\n",
    "\n",
    "_Tidiness_<br>\n",
    "1. Datatypes\n",
    "1.1 Time stamp contains date and time, the timestamp can be split further\n",
    "1.2 Columns 13-16 can be categorized into `Dog_Category`, values repeat the column name making it irrelevant\n",
    "\n",
    "_Cleanliness_<br>\n",
    "1 Missing information, Columns ordered by severity:<br>\n",
    "1.1 Index 1-2 only has 78 non null values, a significant amount<br>\n",
    "1.2 Index 6-8 contain 181 non null values<br>\n",
    "1.3 Index 9 contains 2297 non null values<br>\n",
    "2 Datatypes:<br>\n",
    "2.1 float required for column 1-2 as the order is +17 providing no need for the precision of decimals\n"
   ],
   "cell_type": "markdown",
   "metadata": {}
  },
  {
   "cell_type": "code",
   "execution_count": 162,
   "metadata": {},
   "outputs": [
    {
     "output_type": "stream",
     "name": "stdout",
     "text": [
      "<class 'pandas.core.frame.DataFrame'>\nRangeIndex: 2356 entries, 0 to 2355\nData columns (total 17 columns):\n #   Column                      Non-Null Count  Dtype  \n---  ------                      --------------  -----  \n 0   tweet_id                    2356 non-null   int64  \n 1   in_reply_to_status_id       78 non-null     float64\n 2   in_reply_to_user_id         78 non-null     float64\n 3   timestamp                   2356 non-null   object \n 4   source                      2356 non-null   object \n 5   text                        2356 non-null   object \n 6   retweeted_status_id         181 non-null    float64\n 7   retweeted_status_user_id    181 non-null    float64\n 8   retweeted_status_timestamp  181 non-null    object \n 9   expanded_urls               2297 non-null   object \n 10  rating_numerator            2356 non-null   int64  \n 11  rating_denominator          2356 non-null   int64  \n 12  name                        2356 non-null   object \n 13  doggo                       2356 non-null   object \n 14  floofer                     2356 non-null   object \n 15  pupper                      2356 non-null   object \n 16  puppo                       2356 non-null   object \ndtypes: float64(4), int64(3), object(10)\nmemory usage: 313.0+ KB\n"
     ]
    }
   ],
   "source": [
    "df_twitter.info()"
   ]
  },
  {
   "cell_type": "code",
   "execution_count": 163,
   "metadata": {},
   "outputs": [
    {
     "output_type": "execute_result",
     "data": {
      "text/plain": [
       "           tweet_id  in_reply_to_status_id  in_reply_to_user_id  \\\n",
       "count  2.356000e+03           7.800000e+01         7.800000e+01   \n",
       "mean   7.427716e+17           7.455079e+17         2.014171e+16   \n",
       "std    6.856705e+16           7.582492e+16         1.252797e+17   \n",
       "min    6.660209e+17           6.658147e+17         1.185634e+07   \n",
       "25%    6.783989e+17           6.757419e+17         3.086374e+08   \n",
       "50%    7.196279e+17           7.038708e+17         4.196984e+09   \n",
       "75%    7.993373e+17           8.257804e+17         4.196984e+09   \n",
       "max    8.924206e+17           8.862664e+17         8.405479e+17   \n",
       "\n",
       "       retweeted_status_id  retweeted_status_user_id  rating_numerator  \\\n",
       "count         1.810000e+02              1.810000e+02       2356.000000   \n",
       "mean          7.720400e+17              1.241698e+16         13.126486   \n",
       "std           6.236928e+16              9.599254e+16         45.876648   \n",
       "min           6.661041e+17              7.832140e+05          0.000000   \n",
       "25%           7.186315e+17              4.196984e+09         10.000000   \n",
       "50%           7.804657e+17              4.196984e+09         11.000000   \n",
       "75%           8.203146e+17              4.196984e+09         12.000000   \n",
       "max           8.874740e+17              7.874618e+17       1776.000000   \n",
       "\n",
       "       rating_denominator  \n",
       "count         2356.000000  \n",
       "mean            10.455433  \n",
       "std              6.745237  \n",
       "min              0.000000  \n",
       "25%             10.000000  \n",
       "50%             10.000000  \n",
       "75%             10.000000  \n",
       "max            170.000000  "
      ],
      "text/html": "<div>\n<style scoped>\n    .dataframe tbody tr th:only-of-type {\n        vertical-align: middle;\n    }\n\n    .dataframe tbody tr th {\n        vertical-align: top;\n    }\n\n    .dataframe thead th {\n        text-align: right;\n    }\n</style>\n<table border=\"1\" class=\"dataframe\">\n  <thead>\n    <tr style=\"text-align: right;\">\n      <th></th>\n      <th>tweet_id</th>\n      <th>in_reply_to_status_id</th>\n      <th>in_reply_to_user_id</th>\n      <th>retweeted_status_id</th>\n      <th>retweeted_status_user_id</th>\n      <th>rating_numerator</th>\n      <th>rating_denominator</th>\n    </tr>\n  </thead>\n  <tbody>\n    <tr>\n      <th>count</th>\n      <td>2.356000e+03</td>\n      <td>7.800000e+01</td>\n      <td>7.800000e+01</td>\n      <td>1.810000e+02</td>\n      <td>1.810000e+02</td>\n      <td>2356.000000</td>\n      <td>2356.000000</td>\n    </tr>\n    <tr>\n      <th>mean</th>\n      <td>7.427716e+17</td>\n      <td>7.455079e+17</td>\n      <td>2.014171e+16</td>\n      <td>7.720400e+17</td>\n      <td>1.241698e+16</td>\n      <td>13.126486</td>\n      <td>10.455433</td>\n    </tr>\n    <tr>\n      <th>std</th>\n      <td>6.856705e+16</td>\n      <td>7.582492e+16</td>\n      <td>1.252797e+17</td>\n      <td>6.236928e+16</td>\n      <td>9.599254e+16</td>\n      <td>45.876648</td>\n      <td>6.745237</td>\n    </tr>\n    <tr>\n      <th>min</th>\n      <td>6.660209e+17</td>\n      <td>6.658147e+17</td>\n      <td>1.185634e+07</td>\n      <td>6.661041e+17</td>\n      <td>7.832140e+05</td>\n      <td>0.000000</td>\n      <td>0.000000</td>\n    </tr>\n    <tr>\n      <th>25%</th>\n      <td>6.783989e+17</td>\n      <td>6.757419e+17</td>\n      <td>3.086374e+08</td>\n      <td>7.186315e+17</td>\n      <td>4.196984e+09</td>\n      <td>10.000000</td>\n      <td>10.000000</td>\n    </tr>\n    <tr>\n      <th>50%</th>\n      <td>7.196279e+17</td>\n      <td>7.038708e+17</td>\n      <td>4.196984e+09</td>\n      <td>7.804657e+17</td>\n      <td>4.196984e+09</td>\n      <td>11.000000</td>\n      <td>10.000000</td>\n    </tr>\n    <tr>\n      <th>75%</th>\n      <td>7.993373e+17</td>\n      <td>8.257804e+17</td>\n      <td>4.196984e+09</td>\n      <td>8.203146e+17</td>\n      <td>4.196984e+09</td>\n      <td>12.000000</td>\n      <td>10.000000</td>\n    </tr>\n    <tr>\n      <th>max</th>\n      <td>8.924206e+17</td>\n      <td>8.862664e+17</td>\n      <td>8.405479e+17</td>\n      <td>8.874740e+17</td>\n      <td>7.874618e+17</td>\n      <td>1776.000000</td>\n      <td>170.000000</td>\n    </tr>\n  </tbody>\n</table>\n</div>"
     },
     "metadata": {},
     "execution_count": 163
    }
   ],
   "source": [
    "df_twitter.describe()"
   ]
  },
  {
   "cell_type": "code",
   "execution_count": 164,
   "metadata": {},
   "outputs": [
    {
     "output_type": "stream",
     "name": "stdout",
     "text": [
      "Dataframe contains the following columns:\n",
      "Index(['tweet_id', 'in_reply_to_status_id', 'in_reply_to_user_id', 'timestamp',\n",
      "       'source', 'text', 'retweeted_status_id', 'retweeted_status_user_id',\n",
      "       'retweeted_status_timestamp', 'expanded_urls', 'rating_numerator',\n",
      "       'rating_denominator', 'name', 'doggo', 'floofer', 'pupper', 'puppo'],\n",
      "      dtype='object')\n",
      "\n",
      "Column 0 - 'tweet_id' has been assessed. Assessment saved in results[0] and summary[0]\n",
      "Column 1 - 'in_reply_to_status_id' has been assessed. Assessment saved in results[1] and summary[1]\n",
      "Column 2 - 'in_reply_to_user_id' has been assessed. Assessment saved in results[2] and summary[2]\n",
      "Column 3 - 'timestamp' has been assessed. Assessment saved in results[3] and summary[3]\n",
      "Column 4 - 'source' has been assessed. Assessment saved in results[4] and summary[4]\n",
      "Column 5 - 'text' has been assessed. Assessment saved in results[5] and summary[5]\n",
      "Column 6 - 'retweeted_status_id' has been assessed. Assessment saved in results[6] and summary[6]\n",
      "Column 7 - 'retweeted_status_user_id' has been assessed. Assessment saved in results[7] and summary[7]\n",
      "Column 8 - 'retweeted_status_timestamp' has been assessed. Assessment saved in results[8] and summary[8]\n",
      "Column 9 - 'expanded_urls' has been assessed. Assessment saved in results[9] and summary[9]\n",
      "Column 10 - 'rating_numerator' has been assessed. Assessment saved in results[10] and summary[10]\n",
      "Column 11 - 'rating_denominator' has been assessed. Assessment saved in results[11] and summary[11]\n",
      "Column 12 - 'name' has been assessed. Assessment saved in results[12] and summary[12]\n",
      "Column 13 - 'doggo' has been assessed. Assessment saved in results[13] and summary[13]\n",
      "Column 14 - 'floofer' has been assessed. Assessment saved in results[14] and summary[14]\n",
      "Column 15 - 'pupper' has been assessed. Assessment saved in results[15] and summary[15]\n",
      "Column 16 - 'puppo' has been assessed. Assessment saved in results[16] and summary[16]\n",
      "NOTE: To access variables, set a series name e.g below:\n",
      "series[0][x] to access summary details.\n",
      "series[1][x] to access the value_counts results.\n",
      "x represents column number\n"
     ]
    }
   ],
   "source": [
    "# call go_assess function\n",
    "archive_assessed = go_assess(df_twitter)"
   ]
  },
  {
   "source": [
    "### Column 0 - tweet_id"
   ],
   "cell_type": "markdown",
   "metadata": {}
  },
  {
   "cell_type": "code",
   "execution_count": 165,
   "metadata": {},
   "outputs": [
    {
     "output_type": "execute_result",
     "data": {
      "text/plain": [
       "(\"No duplicates found in column 'tweet_id'.\",\n",
       " 749075273010798592    1\n",
       " 741099773336379392    1\n",
       " 798644042770751489    1\n",
       " 825120256414846976    1\n",
       " 769212283578875904    1\n",
       "                      ..\n",
       " 715360349751484417    1\n",
       " 666817836334096384    1\n",
       " 794926597468000259    1\n",
       " 673705679337693185    1\n",
       " 700151421916807169    1\n",
       " Name: tweet_id, Length: 2356, dtype: int64)"
      ]
     },
     "metadata": {},
     "execution_count": 165
    }
   ],
   "source": [
    "### Column 0 - \n",
    "archive_assessed[0][0], archive_assessed[1][0]"
   ]
  },
  {
   "source": [
    "### Column 1 - in reply"
   ],
   "cell_type": "markdown",
   "metadata": {}
  },
  {
   "cell_type": "code",
   "execution_count": 166,
   "metadata": {},
   "outputs": [
    {
     "output_type": "execute_result",
     "data": {
      "text/plain": [
       "(\"Duplicates found in column 'in_reply_to_status_id', the max duplicate item repeats 2 times.\",\n",
       " 6.671522e+17    2\n",
       " 8.562860e+17    1\n",
       " 8.131273e+17    1\n",
       " 6.754971e+17    1\n",
       " 6.827884e+17    1\n",
       "                ..\n",
       " 8.482121e+17    1\n",
       " 6.715449e+17    1\n",
       " 6.936422e+17    1\n",
       " 6.849598e+17    1\n",
       " 7.331095e+17    1\n",
       " Name: in_reply_to_status_id, Length: 77, dtype: int64)"
      ]
     },
     "metadata": {},
     "execution_count": 166
    }
   ],
   "source": [
    "### Column 1 - \n",
    "archive_assessed[0][1], archive_assessed[1][1]"
   ]
  },
  {
   "cell_type": "code",
   "execution_count": 167,
   "metadata": {},
   "outputs": [
    {
     "output_type": "execute_result",
     "data": {
      "text/plain": [
       "565     7.331095e+17\n",
       "611     7.971238e+17\n",
       "1474    6.936422e+17\n",
       "291     8.380855e+17\n",
       "342     8.320875e+17\n",
       "Name: in_reply_to_status_id, dtype: float64"
      ]
     },
     "metadata": {},
     "execution_count": 167
    }
   ],
   "source": [
    "df_twitter[df_twitter.in_reply_to_status_id.notna()]['in_reply_to_status_id'].sample(5)"
   ]
  },
  {
   "cell_type": "code",
   "execution_count": 168,
   "metadata": {},
   "outputs": [
    {
     "output_type": "execute_result",
     "data": {
      "text/plain": [
       "(\"Duplicates found in column 'in_reply_to_user_id', the max duplicate item repeats 47 times.\",\n",
       " 4.196984e+09    47\n",
       " 2.195506e+07     2\n",
       " 7.305050e+17     1\n",
       " 2.916630e+07     1\n",
       " 3.105441e+09     1\n",
       " 2.918590e+08     1\n",
       " 2.792810e+08     1\n",
       " 2.319108e+09     1\n",
       " 1.806710e+08     1\n",
       " 3.058208e+07     1\n",
       " 2.625958e+07     1\n",
       " 1.943518e+08     1\n",
       " 3.589728e+08     1\n",
       " 8.405479e+17     1\n",
       " 2.894131e+09     1\n",
       " 2.143566e+07     1\n",
       " 2.281182e+09     1\n",
       " 1.648776e+07     1\n",
       " 4.717297e+09     1\n",
       " 2.878549e+07     1\n",
       " 1.582854e+09     1\n",
       " 4.670367e+08     1\n",
       " 4.738443e+07     1\n",
       " 1.361572e+07     1\n",
       " 1.584641e+07     1\n",
       " 2.068372e+07     1\n",
       " 1.637468e+07     1\n",
       " 1.185634e+07     1\n",
       " 1.198989e+09     1\n",
       " 1.132119e+08     1\n",
       " 7.759620e+07     1\n",
       " Name: in_reply_to_user_id, dtype: int64)"
      ]
     },
     "metadata": {},
     "execution_count": 168
    }
   ],
   "source": [
    "### Column 2 - \n",
    "archive_assessed[0][2], archive_assessed[1][2]"
   ]
  },
  {
   "cell_type": "code",
   "execution_count": 169,
   "metadata": {},
   "outputs": [],
   "source": [
    "### Column 3 - "
   ]
  },
  {
   "cell_type": "code",
   "execution_count": 170,
   "metadata": {},
   "outputs": [
    {
     "output_type": "execute_result",
     "data": {
      "text/plain": [
       "(\"No duplicates found in column 'timestamp'.\",\n",
       " 2016-07-28 01:00:57 +0000    1\n",
       " 2016-10-18 16:11:17 +0000    1\n",
       " 2017-06-10 00:35:19 +0000    1\n",
       " 2016-01-08 03:50:03 +0000    1\n",
       " 2016-07-04 15:00:45 +0000    1\n",
       "                             ..\n",
       " 2017-03-29 00:01:05 +0000    1\n",
       " 2016-11-29 16:33:36 +0000    1\n",
       " 2015-12-25 19:39:43 +0000    1\n",
       " 2016-10-11 00:34:48 +0000    1\n",
       " 2015-11-17 00:24:19 +0000    1\n",
       " Name: timestamp, Length: 2356, dtype: int64)"
      ]
     },
     "metadata": {},
     "execution_count": 170
    }
   ],
   "source": [
    "archive_assessed[0][3], archive_assessed[1][3]"
   ]
  },
  {
   "cell_type": "code",
   "execution_count": 171,
   "metadata": {},
   "outputs": [
    {
     "output_type": "execute_result",
     "data": {
      "text/plain": [
       "(\"Duplicates found in column 'source', the max duplicate item repeats 2221 times.\",\n",
       " <a href=\"http://twitter.com/download/iphone\" rel=\"nofollow\">Twitter for iPhone</a>     2221\n",
       " <a href=\"http://vine.co\" rel=\"nofollow\">Vine - Make a Scene</a>                          91\n",
       " <a href=\"http://twitter.com\" rel=\"nofollow\">Twitter Web Client</a>                       33\n",
       " <a href=\"https://about.twitter.com/products/tweetdeck\" rel=\"nofollow\">TweetDeck</a>      11\n",
       " Name: source, dtype: int64)"
      ]
     },
     "metadata": {},
     "execution_count": 171
    }
   ],
   "source": [
    "### Column 4 - \n",
    "archive_assessed[0][4], archive_assessed[1][4]"
   ]
  },
  {
   "cell_type": "code",
   "execution_count": 172,
   "metadata": {},
   "outputs": [
    {
     "output_type": "execute_result",
     "data": {
      "text/plain": [
       "(\"No duplicates found in column 'text'.\",\n",
       " Finally some constructive political change in this country. 11/10 https://t.co/mvQaETHVSb                                                                        1\n",
       " This is Bernie. He's taking his Halloween costume very seriously. Wants to be baked. 3/10 not a good idea Bernie smh https://t.co/1zBp1moFlX                     1\n",
       " This is Mia. She makes awful decisions. 8/10 https://t.co/G6TQVgTcZz                                                                                             1\n",
       " Here's a little more info on Dew, your favorite roaming doggo that went h*ckin viral. 13/10 \\nhttps://t.co/1httNYrCeW https://t.co/KvaM8j3jhX                    1\n",
       " This is Terry. He's a Toasty Western Sriracha. Doubles as a table. Great for parties. 10/10 would highly recommend https://t.co/1ui7a1ZLTT                       1\n",
       "                                                                                                                                                                 ..\n",
       " Let's hope this flight isn't Malaysian (lol). What a dog! Almost completely camouflaged. 10/10 I trust this pilot https://t.co/Yk6GHE9tOY                        1\n",
       " Meet Theodore. He's dapper as hell. Probably owns horses. Uses 'summer' as a verb. Often quotes philosophers. 11/10 https://t.co/J3Ld4fRbSy                      1\n",
       " This is Sugar. She's a Bolivian Superfloof. Spherical af. 12/10 would never let go of https://t.co/AhMfUu6Onm                                                    1\n",
       " This is Koko. Her owner, inspired by Barney, recently built a cart for her to use during walks if she got tired. 13/10 rest easy Koko https://t.co/zeDpnsKX7w    1\n",
       " This is Eriq. His friend just reminded him of last year's super bowl. Not cool friend\\n10/10 for Eriq\\n6/10 for friend https://t.co/PlEXTofdpf                   1\n",
       " Name: text, Length: 2356, dtype: int64)"
      ]
     },
     "metadata": {},
     "execution_count": 172
    }
   ],
   "source": [
    "### Column 5 - \n",
    "archive_assessed[0][5], archive_assessed[1][5]"
   ]
  },
  {
   "cell_type": "code",
   "execution_count": 173,
   "metadata": {},
   "outputs": [
    {
     "output_type": "execute_result",
     "data": {
      "text/plain": [
       "(\"No duplicates found in column 'retweeted_status_id'.\",\n",
       " 7.757333e+17    1\n",
       " 7.507196e+17    1\n",
       " 6.742918e+17    1\n",
       " 6.833919e+17    1\n",
       " 8.269587e+17    1\n",
       "                ..\n",
       " 7.848260e+17    1\n",
       " 7.806013e+17    1\n",
       " 8.305833e+17    1\n",
       " 7.047611e+17    1\n",
       " 7.331095e+17    1\n",
       " Name: retweeted_status_id, Length: 181, dtype: int64)"
      ]
     },
     "metadata": {},
     "execution_count": 173
    }
   ],
   "source": [
    "### Column 6 - \n",
    "archive_assessed[0][6], archive_assessed[1][6]"
   ]
  },
  {
   "cell_type": "code",
   "execution_count": 174,
   "metadata": {},
   "outputs": [
    {
     "output_type": "execute_result",
     "data": {
      "text/plain": [
       "(\"Duplicates found in column 'retweeted_status_user_id', the max duplicate item repeats 156 times.\",\n",
       " 4.196984e+09    156\n",
       " 4.296832e+09      2\n",
       " 5.870972e+07      1\n",
       " 6.669901e+07      1\n",
       " 4.119842e+07      1\n",
       " 7.475543e+17      1\n",
       " 7.832140e+05      1\n",
       " 7.266347e+08      1\n",
       " 4.871977e+08      1\n",
       " 5.970642e+08      1\n",
       " 4.466750e+07      1\n",
       " 1.228326e+09      1\n",
       " 7.992370e+07      1\n",
       " 2.488557e+07      1\n",
       " 7.874618e+17      1\n",
       " 3.638908e+08      1\n",
       " 5.128045e+08      1\n",
       " 8.117408e+08      1\n",
       " 1.732729e+09      1\n",
       " 1.960740e+07      1\n",
       " 1.547674e+08      1\n",
       " 3.410211e+08      1\n",
       " 7.124572e+17      1\n",
       " 2.804798e+08      1\n",
       " 1.950368e+08      1\n",
       " Name: retweeted_status_user_id, dtype: int64)"
      ]
     },
     "metadata": {},
     "execution_count": 174
    }
   ],
   "source": [
    "### Column 7 - \n",
    "archive_assessed[0][7], archive_assessed[1][7]"
   ]
  },
  {
   "cell_type": "code",
   "execution_count": 175,
   "metadata": {},
   "outputs": [
    {
     "output_type": "execute_result",
     "data": {
      "text/plain": [
       "(\"No duplicates found in column 'retweeted_status_timestamp'.\",\n",
       " 2016-10-27 16:06:04 +0000    1\n",
       " 2015-12-21 22:15:18 +0000    1\n",
       " 2017-06-19 17:14:49 +0000    1\n",
       " 2016-10-26 22:31:36 +0000    1\n",
       " 2015-11-19 01:27:25 +0000    1\n",
       "                             ..\n",
       " 2016-09-27 02:53:48 +0000    1\n",
       " 2016-06-25 17:31:25 +0000    1\n",
       " 2016-04-09 02:47:55 +0000    1\n",
       " 2016-10-19 15:37:03 +0000    1\n",
       " 2015-11-24 03:51:38 +0000    1\n",
       " Name: retweeted_status_timestamp, Length: 181, dtype: int64)"
      ]
     },
     "metadata": {},
     "execution_count": 175
    }
   ],
   "source": [
    "### Column 8 - \n",
    "archive_assessed[0][8], archive_assessed[1][8]"
   ]
  },
  {
   "cell_type": "code",
   "execution_count": 176,
   "metadata": {},
   "outputs": [
    {
     "output_type": "execute_result",
     "data": {
      "text/plain": [
       "(\"Duplicates found in column 'expanded_urls', the max duplicate item repeats 2 times.\",\n",
       " https://twitter.com/dog_rates/status/839549326359670784/photo/1                                                                    2\n",
       " https://twitter.com/dog_rates/status/753375668877008896/photo/1                                                                    2\n",
       " https://twitter.com/dog_rates/status/762699858130116608/photo/1                                                                    2\n",
       " https://twitter.com/dog_rates/status/837820167694528512/photo/1,https://twitter.com/dog_rates/status/837820167694528512/photo/1    2\n",
       " https://twitter.com/dog_rates/status/698195409219559425/photo/1                                                                    2\n",
       "                                                                                                                                   ..\n",
       " https://twitter.com/dog_rates/status/725729321944506368/photo/1                                                                    1\n",
       " https://twitter.com/dog_rates/status/775085132600442880/photo/1,https://twitter.com/dog_rates/status/775085132600442880/photo/1    1\n",
       " https://twitter.com/dog_rates/status/718454725339934721/photo/1                                                                    1\n",
       " https://twitter.com/dog_rates/status/675870721063669760/photo/1                                                                    1\n",
       " https://twitter.com/dog_rates/status/720059472081784833/photo/1                                                                    1\n",
       " Name: expanded_urls, Length: 2218, dtype: int64)"
      ]
     },
     "metadata": {},
     "execution_count": 176
    }
   ],
   "source": [
    "### Column 9 - \n",
    "archive_assessed[0][9], archive_assessed[1][9]"
   ]
  },
  {
   "cell_type": "code",
   "execution_count": 177,
   "metadata": {},
   "outputs": [
    {
     "output_type": "execute_result",
     "data": {
      "text/plain": [
       "(\"Duplicates found in column 'rating_numerator', the max duplicate item repeats 558 times.\",\n",
       " 12      558\n",
       " 11      464\n",
       " 10      461\n",
       " 13      351\n",
       " 9       158\n",
       " 8       102\n",
       " 7        55\n",
       " 14       54\n",
       " 5        37\n",
       " 6        32\n",
       " 3        19\n",
       " 4        17\n",
       " 1         9\n",
       " 2         9\n",
       " 420       2\n",
       " 0         2\n",
       " 15        2\n",
       " 75        2\n",
       " 80        1\n",
       " 20        1\n",
       " 24        1\n",
       " 26        1\n",
       " 44        1\n",
       " 50        1\n",
       " 60        1\n",
       " 165       1\n",
       " 84        1\n",
       " 88        1\n",
       " 144       1\n",
       " 182       1\n",
       " 143       1\n",
       " 666       1\n",
       " 960       1\n",
       " 1776      1\n",
       " 17        1\n",
       " 27        1\n",
       " 45        1\n",
       " 99        1\n",
       " 121       1\n",
       " 204       1\n",
       " Name: rating_numerator, dtype: int64)"
      ]
     },
     "metadata": {},
     "execution_count": 177
    }
   ],
   "source": [
    "### Column 10 - \n",
    "archive_assessed[0][10], archive_assessed[1][10]"
   ]
  },
  {
   "cell_type": "code",
   "execution_count": 178,
   "metadata": {},
   "outputs": [
    {
     "output_type": "execute_result",
     "data": {
      "text/plain": [
       "(\"Duplicates found in column 'rating_denominator', the max duplicate item repeats 2333 times.\",\n",
       " 10     2333\n",
       " 11        3\n",
       " 50        3\n",
       " 80        2\n",
       " 20        2\n",
       " 2         1\n",
       " 16        1\n",
       " 40        1\n",
       " 70        1\n",
       " 15        1\n",
       " 90        1\n",
       " 110       1\n",
       " 120       1\n",
       " 130       1\n",
       " 150       1\n",
       " 170       1\n",
       " 7         1\n",
       " 0         1\n",
       " Name: rating_denominator, dtype: int64)"
      ]
     },
     "metadata": {},
     "execution_count": 178
    }
   ],
   "source": [
    "### Column 11 - \n",
    "archive_assessed[0][11], archive_assessed[1][11]"
   ]
  },
  {
   "cell_type": "code",
   "execution_count": 179,
   "metadata": {},
   "outputs": [],
   "source": [
    "### Column 12 - name"
   ]
  },
  {
   "source": [
    "archive_assessed[0][12], archive_assessed[1][12]"
   ],
   "cell_type": "code",
   "metadata": {},
   "execution_count": 180,
   "outputs": [
    {
     "output_type": "execute_result",
     "data": {
      "text/plain": [
       "(\"Duplicates found in column 'name', the max duplicate item repeats 745 times.\",\n",
       " None       745\n",
       " a           55\n",
       " Charlie     12\n",
       " Oliver      11\n",
       " Lucy        11\n",
       "           ... \n",
       " Kial         1\n",
       " Joey         1\n",
       " Mollie       1\n",
       " Jazz         1\n",
       " Arlen        1\n",
       " Name: name, Length: 957, dtype: int64)"
      ]
     },
     "metadata": {},
     "execution_count": 180
    }
   ]
  },
  {
   "source": [
    "## Assess 2 - Twitter Image Predictions"
   ],
   "cell_type": "markdown",
   "metadata": {}
  },
  {
   "cell_type": "code",
   "execution_count": 181,
   "metadata": {},
   "outputs": [
    {
     "output_type": "execute_result",
     "data": {
      "text/plain": [
       "                tweet_id                                          jpg_url  \\\n",
       "371   672980819271634944  https://pbs.twimg.com/media/CVbodBOUsAAb7jZ.jpg   \n",
       "1501  784431430411685888  https://pbs.twimg.com/media/CuLcNkCXgAEIwK2.jpg   \n",
       "2005  877556246731214848  https://pbs.twimg.com/media/DC20wEcW0AAf59m.jpg   \n",
       "\n",
       "      img_num                p1   p1_conf  p1_dog                      p2  \\\n",
       "371         1        car_mirror  0.232754   False                  basset   \n",
       "1501        1  miniature_poodle  0.744819    True              toy_poodle   \n",
       "2005        1            basset  0.995368    True  Welsh_springer_spaniel   \n",
       "\n",
       "       p2_conf  p2_dog               p3   p3_conf  p3_dog  \n",
       "371   0.219461    True           beagle  0.112397    True  \n",
       "1501  0.243192    True  standard_poodle  0.010920    True  \n",
       "2005  0.001936    True          bathtub  0.000468   False  "
      ],
      "text/html": "<div>\n<style scoped>\n    .dataframe tbody tr th:only-of-type {\n        vertical-align: middle;\n    }\n\n    .dataframe tbody tr th {\n        vertical-align: top;\n    }\n\n    .dataframe thead th {\n        text-align: right;\n    }\n</style>\n<table border=\"1\" class=\"dataframe\">\n  <thead>\n    <tr style=\"text-align: right;\">\n      <th></th>\n      <th>tweet_id</th>\n      <th>jpg_url</th>\n      <th>img_num</th>\n      <th>p1</th>\n      <th>p1_conf</th>\n      <th>p1_dog</th>\n      <th>p2</th>\n      <th>p2_conf</th>\n      <th>p2_dog</th>\n      <th>p3</th>\n      <th>p3_conf</th>\n      <th>p3_dog</th>\n    </tr>\n  </thead>\n  <tbody>\n    <tr>\n      <th>371</th>\n      <td>672980819271634944</td>\n      <td>https://pbs.twimg.com/media/CVbodBOUsAAb7jZ.jpg</td>\n      <td>1</td>\n      <td>car_mirror</td>\n      <td>0.232754</td>\n      <td>False</td>\n      <td>basset</td>\n      <td>0.219461</td>\n      <td>True</td>\n      <td>beagle</td>\n      <td>0.112397</td>\n      <td>True</td>\n    </tr>\n    <tr>\n      <th>1501</th>\n      <td>784431430411685888</td>\n      <td>https://pbs.twimg.com/media/CuLcNkCXgAEIwK2.jpg</td>\n      <td>1</td>\n      <td>miniature_poodle</td>\n      <td>0.744819</td>\n      <td>True</td>\n      <td>toy_poodle</td>\n      <td>0.243192</td>\n      <td>True</td>\n      <td>standard_poodle</td>\n      <td>0.010920</td>\n      <td>True</td>\n    </tr>\n    <tr>\n      <th>2005</th>\n      <td>877556246731214848</td>\n      <td>https://pbs.twimg.com/media/DC20wEcW0AAf59m.jpg</td>\n      <td>1</td>\n      <td>basset</td>\n      <td>0.995368</td>\n      <td>True</td>\n      <td>Welsh_springer_spaniel</td>\n      <td>0.001936</td>\n      <td>True</td>\n      <td>bathtub</td>\n      <td>0.000468</td>\n      <td>False</td>\n    </tr>\n  </tbody>\n</table>\n</div>"
     },
     "metadata": {},
     "execution_count": 181
    }
   ],
   "source": [
    "df_image_predictor.sample(3)"
   ]
  },
  {
   "cell_type": "code",
   "execution_count": 182,
   "metadata": {},
   "outputs": [
    {
     "output_type": "stream",
     "name": "stdout",
     "text": [
      "<class 'pandas.core.frame.DataFrame'>\nRangeIndex: 2075 entries, 0 to 2074\nData columns (total 12 columns):\n #   Column    Non-Null Count  Dtype  \n---  ------    --------------  -----  \n 0   tweet_id  2075 non-null   int64  \n 1   jpg_url   2075 non-null   object \n 2   img_num   2075 non-null   int64  \n 3   p1        2075 non-null   object \n 4   p1_conf   2075 non-null   float64\n 5   p1_dog    2075 non-null   bool   \n 6   p2        2075 non-null   object \n 7   p2_conf   2075 non-null   float64\n 8   p2_dog    2075 non-null   bool   \n 9   p3        2075 non-null   object \n 10  p3_conf   2075 non-null   float64\n 11  p3_dog    2075 non-null   bool   \ndtypes: bool(3), float64(3), int64(2), object(4)\nmemory usage: 152.1+ KB\n"
     ]
    }
   ],
   "source": [
    "df_image_predictor.info()"
   ]
  },
  {
   "cell_type": "code",
   "execution_count": 183,
   "metadata": {},
   "outputs": [
    {
     "output_type": "execute_result",
     "data": {
      "text/plain": [
       "           tweet_id      img_num      p1_conf       p2_conf       p3_conf\n",
       "count  2.075000e+03  2075.000000  2075.000000  2.075000e+03  2.075000e+03\n",
       "mean   7.384514e+17     1.203855     0.594548  1.345886e-01  6.032417e-02\n",
       "std    6.785203e+16     0.561875     0.271174  1.006657e-01  5.090593e-02\n",
       "min    6.660209e+17     1.000000     0.044333  1.011300e-08  1.740170e-10\n",
       "25%    6.764835e+17     1.000000     0.364412  5.388625e-02  1.622240e-02\n",
       "50%    7.119988e+17     1.000000     0.588230  1.181810e-01  4.944380e-02\n",
       "75%    7.932034e+17     1.000000     0.843855  1.955655e-01  9.180755e-02\n",
       "max    8.924206e+17     4.000000     1.000000  4.880140e-01  2.734190e-01"
      ],
      "text/html": "<div>\n<style scoped>\n    .dataframe tbody tr th:only-of-type {\n        vertical-align: middle;\n    }\n\n    .dataframe tbody tr th {\n        vertical-align: top;\n    }\n\n    .dataframe thead th {\n        text-align: right;\n    }\n</style>\n<table border=\"1\" class=\"dataframe\">\n  <thead>\n    <tr style=\"text-align: right;\">\n      <th></th>\n      <th>tweet_id</th>\n      <th>img_num</th>\n      <th>p1_conf</th>\n      <th>p2_conf</th>\n      <th>p3_conf</th>\n    </tr>\n  </thead>\n  <tbody>\n    <tr>\n      <th>count</th>\n      <td>2.075000e+03</td>\n      <td>2075.000000</td>\n      <td>2075.000000</td>\n      <td>2.075000e+03</td>\n      <td>2.075000e+03</td>\n    </tr>\n    <tr>\n      <th>mean</th>\n      <td>7.384514e+17</td>\n      <td>1.203855</td>\n      <td>0.594548</td>\n      <td>1.345886e-01</td>\n      <td>6.032417e-02</td>\n    </tr>\n    <tr>\n      <th>std</th>\n      <td>6.785203e+16</td>\n      <td>0.561875</td>\n      <td>0.271174</td>\n      <td>1.006657e-01</td>\n      <td>5.090593e-02</td>\n    </tr>\n    <tr>\n      <th>min</th>\n      <td>6.660209e+17</td>\n      <td>1.000000</td>\n      <td>0.044333</td>\n      <td>1.011300e-08</td>\n      <td>1.740170e-10</td>\n    </tr>\n    <tr>\n      <th>25%</th>\n      <td>6.764835e+17</td>\n      <td>1.000000</td>\n      <td>0.364412</td>\n      <td>5.388625e-02</td>\n      <td>1.622240e-02</td>\n    </tr>\n    <tr>\n      <th>50%</th>\n      <td>7.119988e+17</td>\n      <td>1.000000</td>\n      <td>0.588230</td>\n      <td>1.181810e-01</td>\n      <td>4.944380e-02</td>\n    </tr>\n    <tr>\n      <th>75%</th>\n      <td>7.932034e+17</td>\n      <td>1.000000</td>\n      <td>0.843855</td>\n      <td>1.955655e-01</td>\n      <td>9.180755e-02</td>\n    </tr>\n    <tr>\n      <th>max</th>\n      <td>8.924206e+17</td>\n      <td>4.000000</td>\n      <td>1.000000</td>\n      <td>4.880140e-01</td>\n      <td>2.734190e-01</td>\n    </tr>\n  </tbody>\n</table>\n</div>"
     },
     "metadata": {},
     "execution_count": 183
    }
   ],
   "source": [
    "df_image_predictor.describe()"
   ]
  },
  {
   "cell_type": "code",
   "execution_count": 184,
   "metadata": {},
   "outputs": [
    {
     "output_type": "stream",
     "name": "stdout",
     "text": [
      "Dataframe contains the following columns:\nIndex(['tweet_id', 'jpg_url', 'img_num', 'p1', 'p1_conf', 'p1_dog', 'p2',\n       'p2_conf', 'p2_dog', 'p3', 'p3_conf', 'p3_dog'],\n      dtype='object')\n\nColumn 0 - 'tweet_id' has been assessed. Assessment saved in results[0] and summary[0]\nColumn 1 - 'jpg_url' has been assessed. Assessment saved in results[1] and summary[1]\nColumn 2 - 'img_num' has been assessed. Assessment saved in results[2] and summary[2]\nColumn 3 - 'p1' has been assessed. Assessment saved in results[3] and summary[3]\nColumn 4 - 'p1_conf' has been assessed. Assessment saved in results[4] and summary[4]\nColumn 5 - 'p1_dog' has been assessed. Assessment saved in results[5] and summary[5]\nColumn 6 - 'p2' has been assessed. Assessment saved in results[6] and summary[6]\nColumn 7 - 'p2_conf' has been assessed. Assessment saved in results[7] and summary[7]\nColumn 8 - 'p2_dog' has been assessed. Assessment saved in results[8] and summary[8]\nColumn 9 - 'p3' has been assessed. Assessment saved in results[9] and summary[9]\nColumn 10 - 'p3_conf' has been assessed. Assessment saved in results[10] and summary[10]\nColumn 11 - 'p3_dog' has been assessed. Assessment saved in results[11] and summary[11]\nNOTE: To access variables, set a series name e.g below:\nseries[0][x] to access summary details.\nseries[1][x] to access the value_counts results.\nx represents column number\n"
     ]
    }
   ],
   "source": [
    "img_assessed = go_assess(df_image_predictor)"
   ]
  },
  {
   "cell_type": "code",
   "execution_count": 185,
   "metadata": {},
   "outputs": [
    {
     "output_type": "execute_result",
     "data": {
      "text/plain": [
       "(\"No duplicates found in column 'tweet_id'.\",\n",
       " 685532292383666176    1\n",
       " 826598365270007810    1\n",
       " 692158366030913536    1\n",
       " 714606013974974464    1\n",
       " 715696743237730304    1\n",
       "                      ..\n",
       " 816829038950027264    1\n",
       " 847971574464610304    1\n",
       " 713175907180089344    1\n",
       " 670338931251150849    1\n",
       " 700151421916807169    1\n",
       " Name: tweet_id, Length: 2075, dtype: int64)"
      ]
     },
     "metadata": {},
     "execution_count": 185
    }
   ],
   "source": [
    "### Column 0\n",
    "img_assessed[0][0], img_assessed[1][0]"
   ]
  },
  {
   "source": [],
   "cell_type": "markdown",
   "metadata": {}
  },
  {
   "cell_type": "code",
   "execution_count": 186,
   "metadata": {},
   "outputs": [
    {
     "output_type": "execute_result",
     "data": {
      "text/plain": [
       "320    https://pbs.twimg.com/tweet_video_thumb/CVKtH-...\n",
       "815    https://pbs.twimg.com/tweet_video_thumb/CZ0mhd...\n",
       "Name: jpg_url, dtype: object"
      ]
     },
     "metadata": {},
     "execution_count": 186
    }
   ],
   "source": [
    "### Column 1\n",
    "# search for files other then .jpg, use .split and sift through values\n",
    "not_jpg = df_image_predictor[~df_image_predictor.jpg_url.str.contains('.jpg',)]\n",
    "not_jpg.jpg_url"
   ]
  },
  {
   "cell_type": "code",
   "execution_count": 187,
   "metadata": {},
   "outputs": [
    {
     "output_type": "execute_result",
     "data": {
      "text/plain": [
       "(\"Duplicates found in column 'jpg_url', the max duplicate item repeats 2 times.\",\n",
       " https://pbs.twimg.com/media/CpmyNumW8AAAJGj.jpg    2\n",
       " https://pbs.twimg.com/media/CV_cnjHWUAADc-c.jpg    2\n",
       " https://pbs.twimg.com/media/CdHwZd0VIAA4792.jpg    2\n",
       " https://pbs.twimg.com/media/Cwx99rpW8AMk_Ie.jpg    2\n",
       " https://pbs.twimg.com/media/Cs_DYr1XEAA54Pu.jpg    2\n",
       "                                                   ..\n",
       " https://pbs.twimg.com/media/CxlPnoSUcAEXf1i.jpg    1\n",
       " https://pbs.twimg.com/media/CUf7UIaWUAEuKFr.jpg    1\n",
       " https://pbs.twimg.com/media/CU3NE8EWUAEVdPD.jpg    1\n",
       " https://pbs.twimg.com/media/CYLAWFMWMAEcRzb.jpg    1\n",
       " https://pbs.twimg.com/media/CVBokRSWsAADuXx.jpg    1\n",
       " Name: jpg_url, Length: 2009, dtype: int64)"
      ]
     },
     "metadata": {},
     "execution_count": 187
    }
   ],
   "source": [
    "img_assessed[0][1], img_assessed[1][1]"
   ]
  },
  {
   "source": [
    "### Column 2\n",
    "img_assessed[0][2], img_assessed[1][2]"
   ],
   "cell_type": "code",
   "metadata": {},
   "execution_count": 188,
   "outputs": [
    {
     "output_type": "execute_result",
     "data": {
      "text/plain": [
       "(\"Duplicates found in column 'img_num', the max duplicate item repeats 1780 times.\",\n",
       " 1    1780\n",
       " 2     198\n",
       " 3      66\n",
       " 4      31\n",
       " Name: img_num, dtype: int64)"
      ]
     },
     "metadata": {},
     "execution_count": 188
    }
   ]
  },
  {
   "cell_type": "code",
   "execution_count": 189,
   "metadata": {},
   "outputs": [
    {
     "output_type": "execute_result",
     "data": {
      "text/plain": [
       "(\"Duplicates found in column 'p1', the max duplicate item repeats 150 times.\",\n",
       " golden_retriever      150\n",
       " Labrador_retriever    100\n",
       " Pembroke               89\n",
       " Chihuahua              83\n",
       " pug                    57\n",
       "                      ... \n",
       " bearskin                1\n",
       " scorpion                1\n",
       " china_cabinet           1\n",
       " coral_reef              1\n",
       " mortarboard             1\n",
       " Name: p1, Length: 378, dtype: int64)"
      ]
     },
     "metadata": {},
     "execution_count": 189
    }
   ],
   "source": [
    "### Column 3\n",
    "img_assessed[0][3], img_assessed[1][3]"
   ]
  },
  {
   "cell_type": "code",
   "execution_count": 190,
   "metadata": {},
   "outputs": [
    {
     "output_type": "execute_result",
     "data": {
      "text/plain": [
       "Empty DataFrame\n",
       "Columns: [tweet_id, jpg_url, img_num, p1, p1_conf, p1_dog, p2, p2_conf, p2_dog, p3, p3_conf, p3_dog]\n",
       "Index: []"
      ],
      "text/html": "<div>\n<style scoped>\n    .dataframe tbody tr th:only-of-type {\n        vertical-align: middle;\n    }\n\n    .dataframe tbody tr th {\n        vertical-align: top;\n    }\n\n    .dataframe thead th {\n        text-align: right;\n    }\n</style>\n<table border=\"1\" class=\"dataframe\">\n  <thead>\n    <tr style=\"text-align: right;\">\n      <th></th>\n      <th>tweet_id</th>\n      <th>jpg_url</th>\n      <th>img_num</th>\n      <th>p1</th>\n      <th>p1_conf</th>\n      <th>p1_dog</th>\n      <th>p2</th>\n      <th>p2_conf</th>\n      <th>p2_dog</th>\n      <th>p3</th>\n      <th>p3_conf</th>\n      <th>p3_dog</th>\n    </tr>\n  </thead>\n  <tbody>\n  </tbody>\n</table>\n</div>"
     },
     "metadata": {},
     "execution_count": 190
    }
   ],
   "source": [
    "is_ws = df_image_predictor[df_image_predictor.p1.str.contains(' ',)]\n",
    "is_ws"
   ]
  },
  {
   "cell_type": "code",
   "execution_count": 191,
   "metadata": {},
   "outputs": [
    {
     "output_type": "execute_result",
     "data": {
      "text/plain": [
       "espresso         1\n",
       "leaf_beetle      1\n",
       "walking_stick    1\n",
       "rapeseed         1\n",
       "slug             1\n",
       "                ..\n",
       "bearskin         1\n",
       "scorpion         1\n",
       "china_cabinet    1\n",
       "coral_reef       1\n",
       "mortarboard      1\n",
       "Name: p1, Length: 175, dtype: int64"
      ]
     },
     "metadata": {},
     "execution_count": 191
    }
   ],
   "source": [
    "mask = img_assessed[1][3] == 1\n",
    "img_assessed[1][3][mask]"
   ]
  },
  {
   "cell_type": "code",
   "execution_count": 192,
   "metadata": {},
   "outputs": [
    {
     "output_type": "execute_result",
     "data": {
      "text/plain": [
       "(\"Duplicates found in column 'p1_conf', the max duplicate item repeats 2 times.\",\n",
       " 0.366248    2\n",
       " 0.713293    2\n",
       " 0.375098    2\n",
       " 0.636169    2\n",
       " 0.611525    2\n",
       "            ..\n",
       " 0.713102    1\n",
       " 0.765266    1\n",
       " 0.491022    1\n",
       " 0.905334    1\n",
       " 1.000000    1\n",
       " Name: p1_conf, Length: 2006, dtype: int64)"
      ]
     },
     "metadata": {},
     "execution_count": 192
    }
   ],
   "source": [
    "### Column 4\n",
    "img_assessed[0][4], img_assessed[1][4]"
   ]
  },
  {
   "cell_type": "code",
   "execution_count": 193,
   "metadata": {},
   "outputs": [
    {
     "output_type": "execute_result",
     "data": {
      "text/plain": [
       "(\"Duplicates found in column 'p1_dog', the max duplicate item repeats 1532 times.\",\n",
       " True     1532\n",
       " False     543\n",
       " Name: p1_dog, dtype: int64)"
      ]
     },
     "metadata": {},
     "execution_count": 193
    }
   ],
   "source": [
    "### Column 5\n",
    "img_assessed[0][5], img_assessed[1][5]"
   ]
  },
  {
   "cell_type": "code",
   "execution_count": 194,
   "metadata": {},
   "outputs": [
    {
     "output_type": "execute_result",
     "data": {
      "text/plain": [
       "                tweet_id                                            jpg_url  \\\n",
       "6     666051853826850816    https://pbs.twimg.com/media/CT5KoJ1WoAAJash.jpg   \n",
       "8     666057090499244032    https://pbs.twimg.com/media/CT5PY90WoAAQGLo.jpg   \n",
       "17    666104133288665088    https://pbs.twimg.com/media/CT56LSZWoAAlJj2.jpg   \n",
       "18    666268910803644416    https://pbs.twimg.com/media/CT8QCd1WEAADXws.jpg   \n",
       "21    666293911632134144    https://pbs.twimg.com/media/CT8mx7KW4AEQu8N.jpg   \n",
       "...                  ...                                                ...   \n",
       "2026  882045870035918850    https://pbs.twimg.com/media/DD2oCl2WAAEI_4a.jpg   \n",
       "2046  886680336477933568    https://pbs.twimg.com/media/DE4fEDzWAAAyHMM.jpg   \n",
       "2052  887517139158093824  https://pbs.twimg.com/ext_tw_video_thumb/88751...   \n",
       "2071  891689557279858688    https://pbs.twimg.com/media/DF_q7IAWsAEuuN8.jpg   \n",
       "2074  892420643555336193    https://pbs.twimg.com/media/DGKD1-bXoAAIAUK.jpg   \n",
       "\n",
       "                    p1  p1_dog  \n",
       "6           box_turtle   False  \n",
       "8        shopping_cart   False  \n",
       "17                 hen   False  \n",
       "18    desktop_computer   False  \n",
       "21    three-toed_sloth   False  \n",
       "...                ...     ...  \n",
       "2026          web_site   False  \n",
       "2046       convertible   False  \n",
       "2052         limousine   False  \n",
       "2071       paper_towel   False  \n",
       "2074            orange   False  \n",
       "\n",
       "[543 rows x 4 columns]"
      ],
      "text/html": "<div>\n<style scoped>\n    .dataframe tbody tr th:only-of-type {\n        vertical-align: middle;\n    }\n\n    .dataframe tbody tr th {\n        vertical-align: top;\n    }\n\n    .dataframe thead th {\n        text-align: right;\n    }\n</style>\n<table border=\"1\" class=\"dataframe\">\n  <thead>\n    <tr style=\"text-align: right;\">\n      <th></th>\n      <th>tweet_id</th>\n      <th>jpg_url</th>\n      <th>p1</th>\n      <th>p1_dog</th>\n    </tr>\n  </thead>\n  <tbody>\n    <tr>\n      <th>6</th>\n      <td>666051853826850816</td>\n      <td>https://pbs.twimg.com/media/CT5KoJ1WoAAJash.jpg</td>\n      <td>box_turtle</td>\n      <td>False</td>\n    </tr>\n    <tr>\n      <th>8</th>\n      <td>666057090499244032</td>\n      <td>https://pbs.twimg.com/media/CT5PY90WoAAQGLo.jpg</td>\n      <td>shopping_cart</td>\n      <td>False</td>\n    </tr>\n    <tr>\n      <th>17</th>\n      <td>666104133288665088</td>\n      <td>https://pbs.twimg.com/media/CT56LSZWoAAlJj2.jpg</td>\n      <td>hen</td>\n      <td>False</td>\n    </tr>\n    <tr>\n      <th>18</th>\n      <td>666268910803644416</td>\n      <td>https://pbs.twimg.com/media/CT8QCd1WEAADXws.jpg</td>\n      <td>desktop_computer</td>\n      <td>False</td>\n    </tr>\n    <tr>\n      <th>21</th>\n      <td>666293911632134144</td>\n      <td>https://pbs.twimg.com/media/CT8mx7KW4AEQu8N.jpg</td>\n      <td>three-toed_sloth</td>\n      <td>False</td>\n    </tr>\n    <tr>\n      <th>...</th>\n      <td>...</td>\n      <td>...</td>\n      <td>...</td>\n      <td>...</td>\n    </tr>\n    <tr>\n      <th>2026</th>\n      <td>882045870035918850</td>\n      <td>https://pbs.twimg.com/media/DD2oCl2WAAEI_4a.jpg</td>\n      <td>web_site</td>\n      <td>False</td>\n    </tr>\n    <tr>\n      <th>2046</th>\n      <td>886680336477933568</td>\n      <td>https://pbs.twimg.com/media/DE4fEDzWAAAyHMM.jpg</td>\n      <td>convertible</td>\n      <td>False</td>\n    </tr>\n    <tr>\n      <th>2052</th>\n      <td>887517139158093824</td>\n      <td>https://pbs.twimg.com/ext_tw_video_thumb/88751...</td>\n      <td>limousine</td>\n      <td>False</td>\n    </tr>\n    <tr>\n      <th>2071</th>\n      <td>891689557279858688</td>\n      <td>https://pbs.twimg.com/media/DF_q7IAWsAEuuN8.jpg</td>\n      <td>paper_towel</td>\n      <td>False</td>\n    </tr>\n    <tr>\n      <th>2074</th>\n      <td>892420643555336193</td>\n      <td>https://pbs.twimg.com/media/DGKD1-bXoAAIAUK.jpg</td>\n      <td>orange</td>\n      <td>False</td>\n    </tr>\n  </tbody>\n</table>\n<p>543 rows × 4 columns</p>\n</div>"
     },
     "metadata": {},
     "execution_count": 194
    }
   ],
   "source": [
    "df_image_predictor.query('p1_dog == False').iloc[:, [0,1,3,5]]"
   ]
  },
  {
   "cell_type": "code",
   "execution_count": 195,
   "metadata": {},
   "outputs": [
    {
     "output_type": "execute_result",
     "data": {
      "text/plain": [
       "                tweet_id                                            jpg_url  \\\n",
       "6     666051853826850816    https://pbs.twimg.com/media/CT5KoJ1WoAAJash.jpg   \n",
       "8     666057090499244032    https://pbs.twimg.com/media/CT5PY90WoAAQGLo.jpg   \n",
       "17    666104133288665088    https://pbs.twimg.com/media/CT56LSZWoAAlJj2.jpg   \n",
       "18    666268910803644416    https://pbs.twimg.com/media/CT8QCd1WEAADXws.jpg   \n",
       "21    666293911632134144    https://pbs.twimg.com/media/CT8mx7KW4AEQu8N.jpg   \n",
       "...                  ...                                                ...   \n",
       "2026  882045870035918850    https://pbs.twimg.com/media/DD2oCl2WAAEI_4a.jpg   \n",
       "2046  886680336477933568    https://pbs.twimg.com/media/DE4fEDzWAAAyHMM.jpg   \n",
       "2052  887517139158093824  https://pbs.twimg.com/ext_tw_video_thumb/88751...   \n",
       "2071  891689557279858688    https://pbs.twimg.com/media/DF_q7IAWsAEuuN8.jpg   \n",
       "2074  892420643555336193    https://pbs.twimg.com/media/DGKD1-bXoAAIAUK.jpg   \n",
       "\n",
       "      img_num                p1   p1_conf  p1_dog  \n",
       "6           1        box_turtle  0.933012   False  \n",
       "8           1     shopping_cart  0.962465   False  \n",
       "17          1               hen  0.965932   False  \n",
       "18          1  desktop_computer  0.086502   False  \n",
       "21          1  three-toed_sloth  0.914671   False  \n",
       "...       ...               ...       ...     ...  \n",
       "2026        1          web_site  0.949591   False  \n",
       "2046        1       convertible  0.738995   False  \n",
       "2052        1         limousine  0.130432   False  \n",
       "2071        1       paper_towel  0.170278   False  \n",
       "2074        1            orange  0.097049   False  \n",
       "\n",
       "[543 rows x 6 columns]"
      ],
      "text/html": "<div>\n<style scoped>\n    .dataframe tbody tr th:only-of-type {\n        vertical-align: middle;\n    }\n\n    .dataframe tbody tr th {\n        vertical-align: top;\n    }\n\n    .dataframe thead th {\n        text-align: right;\n    }\n</style>\n<table border=\"1\" class=\"dataframe\">\n  <thead>\n    <tr style=\"text-align: right;\">\n      <th></th>\n      <th>tweet_id</th>\n      <th>jpg_url</th>\n      <th>img_num</th>\n      <th>p1</th>\n      <th>p1_conf</th>\n      <th>p1_dog</th>\n    </tr>\n  </thead>\n  <tbody>\n    <tr>\n      <th>6</th>\n      <td>666051853826850816</td>\n      <td>https://pbs.twimg.com/media/CT5KoJ1WoAAJash.jpg</td>\n      <td>1</td>\n      <td>box_turtle</td>\n      <td>0.933012</td>\n      <td>False</td>\n    </tr>\n    <tr>\n      <th>8</th>\n      <td>666057090499244032</td>\n      <td>https://pbs.twimg.com/media/CT5PY90WoAAQGLo.jpg</td>\n      <td>1</td>\n      <td>shopping_cart</td>\n      <td>0.962465</td>\n      <td>False</td>\n    </tr>\n    <tr>\n      <th>17</th>\n      <td>666104133288665088</td>\n      <td>https://pbs.twimg.com/media/CT56LSZWoAAlJj2.jpg</td>\n      <td>1</td>\n      <td>hen</td>\n      <td>0.965932</td>\n      <td>False</td>\n    </tr>\n    <tr>\n      <th>18</th>\n      <td>666268910803644416</td>\n      <td>https://pbs.twimg.com/media/CT8QCd1WEAADXws.jpg</td>\n      <td>1</td>\n      <td>desktop_computer</td>\n      <td>0.086502</td>\n      <td>False</td>\n    </tr>\n    <tr>\n      <th>21</th>\n      <td>666293911632134144</td>\n      <td>https://pbs.twimg.com/media/CT8mx7KW4AEQu8N.jpg</td>\n      <td>1</td>\n      <td>three-toed_sloth</td>\n      <td>0.914671</td>\n      <td>False</td>\n    </tr>\n    <tr>\n      <th>...</th>\n      <td>...</td>\n      <td>...</td>\n      <td>...</td>\n      <td>...</td>\n      <td>...</td>\n      <td>...</td>\n    </tr>\n    <tr>\n      <th>2026</th>\n      <td>882045870035918850</td>\n      <td>https://pbs.twimg.com/media/DD2oCl2WAAEI_4a.jpg</td>\n      <td>1</td>\n      <td>web_site</td>\n      <td>0.949591</td>\n      <td>False</td>\n    </tr>\n    <tr>\n      <th>2046</th>\n      <td>886680336477933568</td>\n      <td>https://pbs.twimg.com/media/DE4fEDzWAAAyHMM.jpg</td>\n      <td>1</td>\n      <td>convertible</td>\n      <td>0.738995</td>\n      <td>False</td>\n    </tr>\n    <tr>\n      <th>2052</th>\n      <td>887517139158093824</td>\n      <td>https://pbs.twimg.com/ext_tw_video_thumb/88751...</td>\n      <td>1</td>\n      <td>limousine</td>\n      <td>0.130432</td>\n      <td>False</td>\n    </tr>\n    <tr>\n      <th>2071</th>\n      <td>891689557279858688</td>\n      <td>https://pbs.twimg.com/media/DF_q7IAWsAEuuN8.jpg</td>\n      <td>1</td>\n      <td>paper_towel</td>\n      <td>0.170278</td>\n      <td>False</td>\n    </tr>\n    <tr>\n      <th>2074</th>\n      <td>892420643555336193</td>\n      <td>https://pbs.twimg.com/media/DGKD1-bXoAAIAUK.jpg</td>\n      <td>1</td>\n      <td>orange</td>\n      <td>0.097049</td>\n      <td>False</td>\n    </tr>\n  </tbody>\n</table>\n<p>543 rows × 6 columns</p>\n</div>"
     },
     "metadata": {},
     "execution_count": 195
    }
   ],
   "source": [
    "p1_false_results = df_image_predictor.query('p1_dog == False').iloc[:,:6]\n",
    "p1_false_results"
   ]
  },
  {
   "cell_type": "code",
   "execution_count": 196,
   "metadata": {},
   "outputs": [
    {
     "output_type": "execute_result",
     "data": {
      "text/plain": [
       "p1\n",
       "African_crocodile      1\n",
       "African_grey           1\n",
       "African_hunting_dog    1\n",
       "American_black_bear    1\n",
       "Angora                 2\n",
       "                      ..\n",
       "wombat                 4\n",
       "wood_rabbit            3\n",
       "wooden_spoon           1\n",
       "wool                   2\n",
       "zebra                  1\n",
       "Length: 267, dtype: int64"
      ]
     },
     "metadata": {},
     "execution_count": 196
    }
   ],
   "source": [
    "p1_false_results.groupby(['p1']).size()"
   ]
  },
  {
   "cell_type": "code",
   "execution_count": 197,
   "metadata": {},
   "outputs": [
    {
     "output_type": "execute_result",
     "data": {
      "text/plain": [
       "(\"Duplicates found in column 'p2', the max duplicate item repeats 104 times.\",\n",
       " Labrador_retriever    104\n",
       " golden_retriever       92\n",
       " Cardigan               73\n",
       " Chihuahua              44\n",
       " Pomeranian             42\n",
       "                      ... \n",
       " waffle_iron             1\n",
       " drake                   1\n",
       " jigsaw_puzzle           1\n",
       " water_bottle            1\n",
       " bucket                  1\n",
       " Name: p2, Length: 405, dtype: int64)"
      ]
     },
     "metadata": {},
     "execution_count": 197
    }
   ],
   "source": [
    "### Column 6\n",
    "img_assessed[0][6], img_assessed[1][6]"
   ]
  },
  {
   "cell_type": "code",
   "execution_count": 198,
   "metadata": {},
   "outputs": [
    {
     "output_type": "execute_result",
     "data": {
      "text/plain": [
       "(\"Duplicates found in column 'p2_conf', the max duplicate item repeats 3 times.\",\n",
       " 0.069362    3\n",
       " 0.027907    2\n",
       " 0.193654    2\n",
       " 0.271929    2\n",
       " 0.003143    2\n",
       "            ..\n",
       " 0.138331    1\n",
       " 0.254884    1\n",
       " 0.090644    1\n",
       " 0.219323    1\n",
       " 0.016301    1\n",
       " Name: p2_conf, Length: 2004, dtype: int64)"
      ]
     },
     "metadata": {},
     "execution_count": 198
    }
   ],
   "source": [
    "### Column 7\n",
    "img_assessed[0][7], img_assessed[1][7]"
   ]
  },
  {
   "cell_type": "code",
   "execution_count": 199,
   "metadata": {},
   "outputs": [
    {
     "output_type": "execute_result",
     "data": {
      "text/plain": [
       "(\"Duplicates found in column 'p2_dog', the max duplicate item repeats 1553 times.\",\n",
       " True     1553\n",
       " False     522\n",
       " Name: p2_dog, dtype: int64)"
      ]
     },
     "metadata": {},
     "execution_count": 199
    }
   ],
   "source": [
    "### Column 8\n",
    "img_assessed[0][8], img_assessed[1][8]"
   ]
  },
  {
   "cell_type": "code",
   "execution_count": 200,
   "metadata": {},
   "outputs": [
    {
     "output_type": "execute_result",
     "data": {
      "text/plain": [
       "(\"Duplicates found in column 'p3', the max duplicate item repeats 79 times.\",\n",
       " Labrador_retriever    79\n",
       " Chihuahua             58\n",
       " golden_retriever      48\n",
       " Eskimo_dog            38\n",
       " kelpie                35\n",
       "                       ..\n",
       " barbell                1\n",
       " go-kart                1\n",
       " croquet_ball           1\n",
       " ibex                   1\n",
       " rotisserie             1\n",
       " Name: p3, Length: 408, dtype: int64)"
      ]
     },
     "metadata": {},
     "execution_count": 200
    }
   ],
   "source": [
    "### Column 9\n",
    "img_assessed[0][9], img_assessed[1][9]"
   ]
  },
  {
   "cell_type": "code",
   "execution_count": 201,
   "metadata": {},
   "outputs": [
    {
     "output_type": "execute_result",
     "data": {
      "text/plain": [
       "(\"Duplicates found in column 'p3_conf', the max duplicate item repeats 2 times.\",\n",
       " 0.094759    2\n",
       " 0.035711    2\n",
       " 0.000428    2\n",
       " 0.044660    2\n",
       " 0.162084    2\n",
       "            ..\n",
       " 0.024007    1\n",
       " 0.132820    1\n",
       " 0.002099    1\n",
       " 0.083643    1\n",
       " 0.033835    1\n",
       " Name: p3_conf, Length: 2006, dtype: int64)"
      ]
     },
     "metadata": {},
     "execution_count": 201
    }
   ],
   "source": [
    "### Column 10\n",
    "img_assessed[0][10], img_assessed[1][10]"
   ]
  },
  {
   "cell_type": "code",
   "execution_count": 202,
   "metadata": {},
   "outputs": [
    {
     "output_type": "execute_result",
     "data": {
      "text/plain": [
       "(\"Duplicates found in column 'p3_dog', the max duplicate item repeats 1499 times.\",\n",
       " True     1499\n",
       " False     576\n",
       " Name: p3_dog, dtype: int64)"
      ]
     },
     "metadata": {},
     "execution_count": 202
    }
   ],
   "source": [
    "### Column 11\n",
    "img_assessed[0][11], img_assessed[1][11]"
   ]
  },
  {
   "source": [
    "## Assess 3 - Twitter API Raw Data"
   ],
   "cell_type": "markdown",
   "metadata": {}
  },
  {
   "cell_type": "code",
   "execution_count": 203,
   "metadata": {},
   "outputs": [
    {
     "output_type": "execute_result",
     "data": {
      "text/plain": [
       "                tweet_id  rt_count  fav_count\n",
       "1614  684188786104872960      3394       1127\n",
       "1232  710588934686908417      4394       1795\n",
       "1145  720785406564900865      3013        739"
      ],
      "text/html": "<div>\n<style scoped>\n    .dataframe tbody tr th:only-of-type {\n        vertical-align: middle;\n    }\n\n    .dataframe tbody tr th {\n        vertical-align: top;\n    }\n\n    .dataframe thead th {\n        text-align: right;\n    }\n</style>\n<table border=\"1\" class=\"dataframe\">\n  <thead>\n    <tr style=\"text-align: right;\">\n      <th></th>\n      <th>tweet_id</th>\n      <th>rt_count</th>\n      <th>fav_count</th>\n    </tr>\n  </thead>\n  <tbody>\n    <tr>\n      <th>1614</th>\n      <td>684188786104872960</td>\n      <td>3394</td>\n      <td>1127</td>\n    </tr>\n    <tr>\n      <th>1232</th>\n      <td>710588934686908417</td>\n      <td>4394</td>\n      <td>1795</td>\n    </tr>\n    <tr>\n      <th>1145</th>\n      <td>720785406564900865</td>\n      <td>3013</td>\n      <td>739</td>\n    </tr>\n  </tbody>\n</table>\n</div>"
     },
     "metadata": {},
     "execution_count": 203
    }
   ],
   "source": [
    "df_twitter_api.sample(3)"
   ]
  },
  {
   "cell_type": "code",
   "execution_count": 204,
   "metadata": {},
   "outputs": [
    {
     "output_type": "stream",
     "name": "stdout",
     "text": [
      "<class 'pandas.core.frame.DataFrame'>\nRangeIndex: 2331 entries, 0 to 2330\nData columns (total 3 columns):\n #   Column     Non-Null Count  Dtype \n---  ------     --------------  ----- \n 0   tweet_id   2331 non-null   object\n 1   rt_count   2331 non-null   int64 \n 2   fav_count  2331 non-null   int64 \ndtypes: int64(2), object(1)\nmemory usage: 54.8+ KB\n"
     ]
    }
   ],
   "source": [
    "df_twitter_api.info()"
   ]
  },
  {
   "cell_type": "code",
   "execution_count": 205,
   "metadata": {},
   "outputs": [
    {
     "output_type": "execute_result",
     "data": {
      "text/plain": [
       "            rt_count     fav_count\n",
       "count    2331.000000   2331.000000\n",
       "mean     7386.187473   2624.406692\n",
       "std     11471.427460   4439.587366\n",
       "min         0.000000      1.000000\n",
       "25%      1283.000000    532.000000\n",
       "50%      3207.000000   1225.000000\n",
       "75%      9036.500000   3044.500000\n",
       "max    152335.000000  75413.000000"
      ],
      "text/html": "<div>\n<style scoped>\n    .dataframe tbody tr th:only-of-type {\n        vertical-align: middle;\n    }\n\n    .dataframe tbody tr th {\n        vertical-align: top;\n    }\n\n    .dataframe thead th {\n        text-align: right;\n    }\n</style>\n<table border=\"1\" class=\"dataframe\">\n  <thead>\n    <tr style=\"text-align: right;\">\n      <th></th>\n      <th>rt_count</th>\n      <th>fav_count</th>\n    </tr>\n  </thead>\n  <tbody>\n    <tr>\n      <th>count</th>\n      <td>2331.000000</td>\n      <td>2331.000000</td>\n    </tr>\n    <tr>\n      <th>mean</th>\n      <td>7386.187473</td>\n      <td>2624.406692</td>\n    </tr>\n    <tr>\n      <th>std</th>\n      <td>11471.427460</td>\n      <td>4439.587366</td>\n    </tr>\n    <tr>\n      <th>min</th>\n      <td>0.000000</td>\n      <td>1.000000</td>\n    </tr>\n    <tr>\n      <th>25%</th>\n      <td>1283.000000</td>\n      <td>532.000000</td>\n    </tr>\n    <tr>\n      <th>50%</th>\n      <td>3207.000000</td>\n      <td>1225.000000</td>\n    </tr>\n    <tr>\n      <th>75%</th>\n      <td>9036.500000</td>\n      <td>3044.500000</td>\n    </tr>\n    <tr>\n      <th>max</th>\n      <td>152335.000000</td>\n      <td>75413.000000</td>\n    </tr>\n  </tbody>\n</table>\n</div>"
     },
     "metadata": {},
     "execution_count": 205
    }
   ],
   "source": [
    "df_twitter_api.describe()"
   ]
  },
  {
   "cell_type": "code",
   "execution_count": 206,
   "metadata": {},
   "outputs": [
    {
     "output_type": "stream",
     "name": "stdout",
     "text": [
      "Dataframe contains the following columns:\nIndex(['tweet_id', 'rt_count', 'fav_count'], dtype='object')\n\nColumn 0 - 'tweet_id' has been assessed. Assessment saved in results[0] and summary[0]\nColumn 1 - 'rt_count' has been assessed. Assessment saved in results[1] and summary[1]\nColumn 2 - 'fav_count' has been assessed. Assessment saved in results[2] and summary[2]\nNOTE: To access variables, set a series name e.g below:\nseries[0][x] to access summary details.\nseries[1][x] to access the value_counts results.\nx represents column number\n"
     ]
    }
   ],
   "source": [
    "#assess raw json api data\n",
    "api_assessed = go_assess(df_twitter_api)"
   ]
  },
  {
   "cell_type": "code",
   "execution_count": 207,
   "metadata": {},
   "outputs": [
    {
     "output_type": "stream",
     "name": "stdout",
     "text": [
      "Dataframe contains the following columns:\nIndex(['tweet_id', 'rt_count', 'fav_count'], dtype='object')\n\nColumn 0 - 'tweet_id' has been assessed. Assessment saved in results[0] and summary[0]\nColumn 1 - 'rt_count' has been assessed. Assessment saved in results[1] and summary[1]\nColumn 2 - 'fav_count' has been assessed. Assessment saved in results[2] and summary[2]\nNOTE: To access variables, set a series name e.g below:\nseries[0][x] to access summary details.\nseries[1][x] to access the value_counts results.\nx represents column number\n"
     ]
    }
   ],
   "source": [
    "api_assessed = go_assess(df_twitter_api)"
   ]
  },
  {
   "cell_type": "code",
   "execution_count": 208,
   "metadata": {},
   "outputs": [
    {
     "output_type": "execute_result",
     "data": {
      "text/plain": [
       "(\"No duplicates found in column 'tweet_id'.\",\n",
       " 743895849529389061    1\n",
       " 807059379405148160    1\n",
       " 711363825979756544    1\n",
       " 707021089608753152    1\n",
       " 858860390427611136    1\n",
       "                      ..\n",
       " 687460506001633280    1\n",
       " 822244816520155136    1\n",
       " 765371061932261376    1\n",
       " 813127251579564032    1\n",
       " 667915453470232577    1\n",
       " Name: tweet_id, Length: 2331, dtype: int64)"
      ]
     },
     "metadata": {},
     "execution_count": 208
    }
   ],
   "source": [
    "api_assessed[0][0], api_assessed[1][0]"
   ]
  },
  {
   "cell_type": "code",
   "execution_count": 209,
   "metadata": {},
   "outputs": [
    {
     "output_type": "execute_result",
     "data": {
      "text/plain": [
       "(\"Duplicates found in column 'rt_count', the max duplicate item repeats 163 times.\",\n",
       " 0        163\n",
       " 355        4\n",
       " 1974       4\n",
       " 2562       3\n",
       " 1253       3\n",
       "         ... \n",
       " 6544       1\n",
       " 401        1\n",
       " 403        1\n",
       " 405        1\n",
       " 22527      1\n",
       " Name: rt_count, Length: 1954, dtype: int64)"
      ]
     },
     "metadata": {},
     "execution_count": 209
    }
   ],
   "source": [
    "api_assessed[0][1], api_assessed[1][1]"
   ]
  },
  {
   "cell_type": "code",
   "execution_count": 210,
   "metadata": {},
   "outputs": [
    {
     "output_type": "execute_result",
     "data": {
      "text/plain": [
       "(\"Duplicates found in column 'fav_count', the max duplicate item repeats 5 times.\",\n",
       " 51       5\n",
       " 445      5\n",
       " 589      5\n",
       " 41       5\n",
       " 1161     4\n",
       "         ..\n",
       " 16705    1\n",
       " 329      1\n",
       " 4427     1\n",
       " 339      1\n",
       " 4096     1\n",
       " Name: fav_count, Length: 1676, dtype: int64)"
      ]
     },
     "metadata": {},
     "execution_count": 210
    }
   ],
   "source": [
    "api_assessed[0][2], api_assessed[1][2]"
   ]
  },
  {
   "cell_type": "code",
   "execution_count": 211,
   "metadata": {},
   "outputs": [],
   "source": [
    "### Assess Iteration 2"
   ]
  },
  {
   "cell_type": "code",
   "execution_count": 212,
   "metadata": {},
   "outputs": [],
   "source": [
    "# Improve\n",
    "df_clean = []\n",
    "df_clean.append(df_twitter)\n",
    "df_clean.append(df_image_predictor)\n",
    "df_clean.append(df_twitter_api)"
   ]
  },
  {
   "cell_type": "code",
   "execution_count": 213,
   "metadata": {},
   "outputs": [
    {
     "output_type": "stream",
     "name": "stdout",
     "text": [
      "(2356, 17)\n(2075, 12)\n(2331, 3)\n"
     ]
    }
   ],
   "source": [
    "for df in df_clean:\n",
    "    print(df.shape)"
   ]
  },
  {
   "cell_type": "code",
   "execution_count": null,
   "metadata": {},
   "outputs": [],
   "source": []
  },
  {
   "source": [
    "## Cleaning data\n",
    "### Quality Issue 1:\n",
    "#### Define:\n",
    "col0: tweet_id data type change to string, all dataframes\n",
    "\n",
    "#### Code:"
   ],
   "cell_type": "markdown",
   "metadata": {}
  },
  {
   "cell_type": "code",
   "execution_count": 214,
   "metadata": {},
   "outputs": [],
   "source": [
    "q1 = 'tweet_id'"
   ]
  },
  {
   "cell_type": "code",
   "execution_count": 215,
   "metadata": {},
   "outputs": [
    {
     "output_type": "stream",
     "name": "stdout",
     "text": [
      "0    892420643555336193\nName: tweet_id, dtype: int64\n0    666020888022790149\nName: tweet_id, dtype: int64\n0    892420643555336193\nName: tweet_id, dtype: object\n"
     ]
    }
   ],
   "source": [
    "# Print previous data types \n",
    "df_image_predictor[q1].head(1)\n",
    "for df in df_clean:\n",
    "    print(df[q1].head(1))"
   ]
  },
  {
   "cell_type": "code",
   "execution_count": 216,
   "metadata": {},
   "outputs": [],
   "source": [
    "# Convert to string\n",
    "for df in df_clean:\n",
    "    df[q1] = df[q1].astype(str)"
   ]
  },
  {
   "source": [
    "#### Test"
   ],
   "cell_type": "markdown",
   "metadata": {}
  },
  {
   "cell_type": "code",
   "execution_count": 217,
   "metadata": {},
   "outputs": [
    {
     "output_type": "stream",
     "name": "stdout",
     "text": [
      "0    892420643555336193\nName: tweet_id, dtype: object\n0    666020888022790149\nName: tweet_id, dtype: object\n0    892420643555336193\nName: tweet_id, dtype: object\n"
     ]
    }
   ],
   "source": [
    "df_image_predictor[q1].head(1)\n",
    "for i, df in enumerate(df_clean):\n",
    "    print(df[q1].head(1))"
   ]
  },
  {
   "source": [
    "### Quality issue 2:\n",
    "#### Define:\n",
    "col3: change timestamp datatype to datetime"
   ],
   "cell_type": "markdown",
   "metadata": {}
  },
  {
   "source": [
    "#### Code:"
   ],
   "cell_type": "markdown",
   "metadata": {}
  },
  {
   "cell_type": "code",
   "execution_count": 218,
   "metadata": {},
   "outputs": [],
   "source": [
    "df_clean[0].timestamp = pd.to_datetime(df_clean[0].timestamp)"
   ]
  },
  {
   "source": [
    "#### Test:"
   ],
   "cell_type": "markdown",
   "metadata": {}
  },
  {
   "cell_type": "code",
   "execution_count": 219,
   "metadata": {},
   "outputs": [
    {
     "output_type": "execute_result",
     "data": {
      "text/plain": [
       "0      2017-08-01 16:23:56+00:00\n",
       "1      2017-08-01 00:17:27+00:00\n",
       "2      2017-07-31 00:18:03+00:00\n",
       "3      2017-07-30 15:58:51+00:00\n",
       "4      2017-07-29 16:00:24+00:00\n",
       "                  ...           \n",
       "2351   2015-11-16 00:24:50+00:00\n",
       "2352   2015-11-16 00:04:52+00:00\n",
       "2353   2015-11-15 23:21:54+00:00\n",
       "2354   2015-11-15 23:05:30+00:00\n",
       "2355   2015-11-15 22:32:08+00:00\n",
       "Name: timestamp, Length: 2356, dtype: datetime64[ns, UTC]"
      ]
     },
     "metadata": {},
     "execution_count": 219
    }
   ],
   "source": [
    "df_clean[0].timestamp"
   ]
  },
  {
   "source": [
    "### Quality Issue 3:\n",
    "#### Define:\n",
    "col4: split string to remove html tag and extract content within"
   ],
   "cell_type": "markdown",
   "metadata": {}
  },
  {
   "cell_type": "code",
   "execution_count": 220,
   "metadata": {},
   "outputs": [
    {
     "output_type": "execute_result",
     "data": {
      "text/plain": [
       "<a href=\"http://twitter.com/download/iphone\" rel=\"nofollow\">Twitter for iPhone</a>     2221\n",
       "<a href=\"http://vine.co\" rel=\"nofollow\">Vine - Make a Scene</a>                          91\n",
       "<a href=\"http://twitter.com\" rel=\"nofollow\">Twitter Web Client</a>                       33\n",
       "<a href=\"https://about.twitter.com/products/tweetdeck\" rel=\"nofollow\">TweetDeck</a>      11\n",
       "Name: source, dtype: int64"
      ]
     },
     "metadata": {},
     "execution_count": 220
    }
   ],
   "source": [
    "archive_assessed[1][4]"
   ]
  },
  {
   "source": [
    "#### Code:\n",
    "strip string prior to splitting"
   ],
   "cell_type": "markdown",
   "metadata": {}
  },
  {
   "cell_type": "code",
   "execution_count": 221,
   "metadata": {},
   "outputs": [],
   "source": [
    "df_clean[0].iloc[:,4] = df_clean[0].iloc[:,4].str.strip()"
   ]
  },
  {
   "cell_type": "code",
   "execution_count": 222,
   "metadata": {},
   "outputs": [],
   "source": [
    "# RESET COLUMN if coded incorrectly\n",
    "df_clean[0].iloc[:,4] = df_raw[0].iloc[:,4]"
   ]
  },
  {
   "cell_type": "code",
   "execution_count": 223,
   "metadata": {},
   "outputs": [],
   "source": [
    "#1 \n",
    "df_clean[0].iloc[:,4] = df_clean[0].iloc[:,4].apply(lambda text: BeautifulSoup(text, 'html.parser').get_text())"
   ]
  },
  {
   "cell_type": "code",
   "execution_count": 224,
   "metadata": {},
   "outputs": [],
   "source": [
    "df_clean[0].rename(columns={'source':'source_app'}, inplace=True)"
   ]
  },
  {
   "source": [
    "#### Test:"
   ],
   "cell_type": "markdown",
   "metadata": {}
  },
  {
   "cell_type": "code",
   "execution_count": 225,
   "metadata": {},
   "outputs": [
    {
     "output_type": "execute_result",
     "data": {
      "text/plain": [
       "Twitter for iPhone     2221\n",
       "Vine - Make a Scene      91\n",
       "Twitter Web Client       33\n",
       "TweetDeck                11\n",
       "Name: source_app, dtype: int64"
      ]
     },
     "metadata": {},
     "execution_count": 225
    }
   ],
   "source": [
    "df_clean[0].iloc[:,4].value_counts()"
   ]
  },
  {
   "source": [
    "### Quality Issue 4:\n",
    "#### Define:\n",
    "col1,2,6,7: change datatype from float to int\n",
    "#### Code:"
   ],
   "cell_type": "markdown",
   "metadata": {}
  },
  {
   "cell_type": "code",
   "execution_count": 226,
   "metadata": {},
   "outputs": [
    {
     "output_type": "stream",
     "name": "stdout",
     "text": [
      "Series([], Name: in_reply_to_status_id, dtype: float64)\nSeries([], Name: in_reply_to_user_id, dtype: float64)\nSeries([], Name: retweeted_status_id, dtype: float64)\nSeries([], Name: retweeted_status_user_id, dtype: float64)\n"
     ]
    }
   ],
   "source": [
    "q4 = list(df_twitter.iloc[:0, [1,2,6,7]])\n",
    "# Print previous data types \n",
    "for column in q4:\n",
    "    print(df_twitter[column].head(0))"
   ]
  },
  {
   "cell_type": "code",
   "execution_count": 227,
   "metadata": {},
   "outputs": [],
   "source": [
    "# Convert to string\n",
    "for column in q4:\n",
    "    df_twitter[column] = df_twitter[column].astype(str)"
   ]
  },
  {
   "source": [
    "#### Test:"
   ],
   "cell_type": "markdown",
   "metadata": {}
  },
  {
   "cell_type": "code",
   "execution_count": 228,
   "metadata": {},
   "outputs": [
    {
     "output_type": "stream",
     "name": "stdout",
     "text": [
      "Series([], Name: in_reply_to_status_id, dtype: object)\nSeries([], Name: in_reply_to_user_id, dtype: object)\nSeries([], Name: retweeted_status_id, dtype: object)\nSeries([], Name: retweeted_status_user_id, dtype: object)\n"
     ]
    }
   ],
   "source": [
    "for column in q4:\n",
    "    print(df_twitter[column].head(0))"
   ]
  },
  {
   "source": [
    "### Quality Issue 5:\n",
    "#### Define:\n",
    "remove potential whitespaces across all string/objects, trim front and end as visual inspection appeared to show start of strings not inline when scrolling down."
   ],
   "cell_type": "markdown",
   "metadata": {}
  },
  {
   "cell_type": "code",
   "execution_count": 229,
   "metadata": {},
   "outputs": [
    {
     "output_type": "stream",
     "name": "stdout",
     "text": [
      "<class 'pandas.core.frame.DataFrame'>\nRangeIndex: 2356 entries, 0 to 2355\nData columns (total 17 columns):\n #   Column                      Non-Null Count  Dtype              \n---  ------                      --------------  -----              \n 0   tweet_id                    2356 non-null   object             \n 1   in_reply_to_status_id       2356 non-null   object             \n 2   in_reply_to_user_id         2356 non-null   object             \n 3   timestamp                   2356 non-null   datetime64[ns, UTC]\n 4   source_app                  2356 non-null   object             \n 5   text                        2356 non-null   object             \n 6   retweeted_status_id         2356 non-null   object             \n 7   retweeted_status_user_id    2356 non-null   object             \n 8   retweeted_status_timestamp  181 non-null    object             \n 9   expanded_urls               2297 non-null   object             \n 10  rating_numerator            2356 non-null   int64              \n 11  rating_denominator          2356 non-null   int64              \n 12  name                        2356 non-null   object             \n 13  doggo                       2356 non-null   object             \n 14  floofer                     2356 non-null   object             \n 15  pupper                      2356 non-null   object             \n 16  puppo                       2356 non-null   object             \ndtypes: datetime64[ns, UTC](1), int64(2), object(14)\nmemory usage: 313.0+ KB\n"
     ]
    }
   ],
   "source": [
    "df_clean[0].info()"
   ]
  },
  {
   "source": [
    "#### Code & Test:\n",
    "`Improvement opportunity. Scan for object/string dtype and return if true to easily filter`"
   ],
   "cell_type": "markdown",
   "metadata": {}
  },
  {
   "cell_type": "code",
   "execution_count": 230,
   "metadata": {},
   "outputs": [
    {
     "output_type": "stream",
     "name": "stdout",
     "text": [
      "No whitespaces in tweet_id.\nNo whitespaces in in_reply_to_status_id.\nNo whitespaces in in_reply_to_user_id.\nNo whitespaces in source_app.\nNo whitespaces in text.\nNo whitespaces in retweeted_status_id.\nNo whitespaces in retweeted_status_user_id.\nNo whitespaces in retweeted_status_timestamp.\nNo whitespaces in expanded_urls.\nNo whitespaces in name.\nNo whitespaces in doggo.\nNo whitespaces in floofer.\nNo whitespaces in pupper.\nNo whitespaces in puppo.\n"
     ]
    }
   ],
   "source": [
    "# call function\n",
    "trim_strings(df_clean[0])"
   ]
  },
  {
   "cell_type": "code",
   "execution_count": 231,
   "metadata": {},
   "outputs": [
    {
     "output_type": "stream",
     "name": "stdout",
     "text": [
      "No whitespaces in tweet_id.\nNo whitespaces in jpg_url.\nNo whitespaces in p1.\nNo whitespaces in p2.\nNo whitespaces in p3.\n"
     ]
    }
   ],
   "source": [
    "trim_strings(df_clean[1])"
   ]
  },
  {
   "cell_type": "code",
   "execution_count": 232,
   "metadata": {},
   "outputs": [
    {
     "output_type": "stream",
     "name": "stdout",
     "text": [
      "No whitespaces in tweet_id.\n"
     ]
    }
   ],
   "source": [
    "trim_strings(df_clean[2])"
   ]
  },
  {
   "cell_type": "code",
   "execution_count": null,
   "metadata": {},
   "outputs": [],
   "source": []
  },
  {
   "source": [
    "### Quality Issue 6:\n",
    "#### Define:\n",
    "df_image_predictor<br>\n",
    "col3,6,9: change to lower case"
   ],
   "cell_type": "markdown",
   "metadata": {}
  },
  {
   "cell_type": "code",
   "execution_count": 233,
   "metadata": {},
   "outputs": [],
   "source": [
    "q6 = list(df_image_predictor.iloc[:0, [3,6,9]])"
   ]
  },
  {
   "cell_type": "code",
   "execution_count": 234,
   "metadata": {},
   "outputs": [
    {
     "output_type": "stream",
     "name": "stdout",
     "text": [
      "0    Welsh_springer_spaniel\n1                   redbone\n2           German_shepherd\n3       Rhodesian_ridgeback\n4        miniature_pinscher\nName: p1, dtype: object\n0                collie\n1    miniature_pinscher\n2              malinois\n3               redbone\n4            Rottweiler\nName: p2, dtype: object\n0      Shetland_sheepdog\n1    Rhodesian_ridgeback\n2             bloodhound\n3     miniature_pinscher\n4               Doberman\nName: p3, dtype: object\n"
     ]
    }
   ],
   "source": [
    "#### Code:\n",
    "q6 = list(df_image_predictor.iloc[:0, [3,6,9]])\n",
    "# Print previous data types \n",
    "for column in q6:\n",
    "    print(df_image_predictor[column].head(5))"
   ]
  },
  {
   "cell_type": "code",
   "execution_count": 235,
   "metadata": {},
   "outputs": [],
   "source": [
    "# RESET COLUMN if coded incorrectly\n",
    "df_clean[1].iloc[:, [3,6,9]] = df_raw[1].iloc[:, [3,6,9]]"
   ]
  },
  {
   "cell_type": "code",
   "execution_count": 236,
   "metadata": {},
   "outputs": [],
   "source": [
    "for column in q6:\n",
    "    df_image_predictor[column] = df_image_predictor[column].str.lower()"
   ]
  },
  {
   "cell_type": "code",
   "execution_count": 237,
   "metadata": {},
   "outputs": [
    {
     "output_type": "stream",
     "name": "stdout",
     "text": [
      "0    welsh_springer_spaniel\n1                   redbone\n2           german_shepherd\n3       rhodesian_ridgeback\n4        miniature_pinscher\nName: p1, dtype: object\n0                collie\n1    miniature_pinscher\n2              malinois\n3               redbone\n4            rottweiler\nName: p2, dtype: object\n0      shetland_sheepdog\n1    rhodesian_ridgeback\n2             bloodhound\n3     miniature_pinscher\n4               doberman\nName: p3, dtype: object\n"
     ]
    }
   ],
   "source": [
    "#### Test:\n",
    "for column in q6:\n",
    "    print(df_image_predictor[column].head(5))"
   ]
  },
  {
   "source": [
    "### Quality Issue 7:\n",
    "#### Define:\n",
    "col1: rename from jpg_url to img_url"
   ],
   "cell_type": "markdown",
   "metadata": {}
  },
  {
   "cell_type": "code",
   "execution_count": 238,
   "metadata": {},
   "outputs": [
    {
     "output_type": "execute_result",
     "data": {
      "text/plain": [
       "Series([], Name: jpg_url, dtype: object)"
      ]
     },
     "metadata": {},
     "execution_count": 238
    }
   ],
   "source": [
    "df_clean[1].iloc[:0, 1]"
   ]
  },
  {
   "source": [
    "#### Code:"
   ],
   "cell_type": "markdown",
   "metadata": {}
  },
  {
   "cell_type": "code",
   "execution_count": 239,
   "metadata": {},
   "outputs": [],
   "source": [
    "df_clean[1].rename(columns={'jpg_url':'img_url'}, inplace=True)"
   ]
  },
  {
   "source": [
    "#### Test:"
   ],
   "cell_type": "markdown",
   "metadata": {}
  },
  {
   "cell_type": "code",
   "execution_count": 240,
   "metadata": {},
   "outputs": [
    {
     "output_type": "execute_result",
     "data": {
      "text/plain": [
       "Series([], Name: img_url, dtype: object)"
      ]
     },
     "metadata": {},
     "execution_count": 240
    }
   ],
   "source": [
    "df_clean[1].iloc[:0, 1]"
   ]
  },
  {
   "source": [
    "### Quality Issue 8:\n",
    "#### Define:\n",
    "col2: rename from img_num to conf_tweet_img"
   ],
   "cell_type": "markdown",
   "metadata": {}
  },
  {
   "cell_type": "code",
   "execution_count": 241,
   "metadata": {},
   "outputs": [
    {
     "output_type": "execute_result",
     "data": {
      "text/plain": [
       "Series([], Name: img_num, dtype: int64)"
      ]
     },
     "metadata": {},
     "execution_count": 241
    }
   ],
   "source": [
    "#### Code: - improve with def function\n",
    "df_clean[1].iloc[:0, 2]"
   ]
  },
  {
   "cell_type": "code",
   "execution_count": 242,
   "metadata": {},
   "outputs": [],
   "source": [
    "### Quality Issue 8:\n",
    "df_clean[1].rename(columns={'img_num':'conf_tweet_img'}, inplace=True)"
   ]
  },
  {
   "cell_type": "code",
   "execution_count": 243,
   "metadata": {},
   "outputs": [
    {
     "output_type": "execute_result",
     "data": {
      "text/plain": [
       "Series([], Name: conf_tweet_img, dtype: int64)"
      ]
     },
     "metadata": {},
     "execution_count": 243
    }
   ],
   "source": [
    "#### Test:\n",
    "df_clean[1].iloc[:0, 2]"
   ]
  },
  {
   "source": [
    "### Quality Issue 9:\n",
    "#### Define:\n",
    "<br>check col12 to remove/replace incorrect names with None"
   ],
   "cell_type": "markdown",
   "metadata": {}
  },
  {
   "source": [
    "#### Code:"
   ],
   "cell_type": "markdown",
   "metadata": {}
  },
  {
   "cell_type": "code",
   "execution_count": 244,
   "metadata": {},
   "outputs": [
    {
     "output_type": "execute_result",
     "data": {
      "text/plain": [
       "Index(['None', 'a', 'Charlie', 'Oliver', 'Lucy', 'Cooper', 'Tucker', 'Lola',\n",
       "       'Penny', 'Winston',\n",
       "       ...\n",
       "       'Tyrus', 'Jarod', 'Carll', 'Eleanor', 'Acro', 'Kial', 'Joey', 'Mollie',\n",
       "       'Jazz', 'Arlen'],\n",
       "      dtype='object', length=957)"
      ]
     },
     "metadata": {},
     "execution_count": 244
    }
   ],
   "source": [
    "names_list = df_clean[0].name.value_counts().index\n",
    "names_list"
   ]
  },
  {
   "cell_type": "code",
   "execution_count": 245,
   "metadata": {},
   "outputs": [
    {
     "output_type": "execute_result",
     "data": {
      "text/plain": [
       "False    2247\n",
       "True      109\n",
       "Name: name, dtype: int64"
      ]
     },
     "metadata": {},
     "execution_count": 245
    }
   ],
   "source": [
    "# extract names - regex test\n",
    "name_mask = df_clean[0].name.str.match('[^A-Z]')\n",
    "name_mask.value_counts()"
   ]
  },
  {
   "cell_type": "code",
   "execution_count": 246,
   "metadata": {},
   "outputs": [
    {
     "output_type": "execute_result",
     "data": {
      "text/plain": [
       "a               55\n",
       "the              8\n",
       "an               7\n",
       "very             5\n",
       "quite            4\n",
       "just             4\n",
       "one              4\n",
       "getting          2\n",
       "not              2\n",
       "mad              2\n",
       "actually         2\n",
       "space            1\n",
       "all              1\n",
       "officially       1\n",
       "infuriating      1\n",
       "such             1\n",
       "incredibly       1\n",
       "by               1\n",
       "his              1\n",
       "this             1\n",
       "old              1\n",
       "unacceptable     1\n",
       "life             1\n",
       "my               1\n",
       "light            1\n",
       "Name: name, dtype: int64"
      ]
     },
     "metadata": {},
     "execution_count": 246
    }
   ],
   "source": [
    "df_clean[0].name[name_mask].value_counts()"
   ]
  },
  {
   "cell_type": "code",
   "execution_count": 247,
   "metadata": {},
   "outputs": [
    {
     "output_type": "execute_result",
     "data": {
      "text/plain": [
       "0        Phineas\n",
       "1          Tilly\n",
       "2         Archie\n",
       "3          Darla\n",
       "4       Franklin\n",
       "          ...   \n",
       "2351        None\n",
       "2352         NaN\n",
       "2353         NaN\n",
       "2354         NaN\n",
       "2355        None\n",
       "Name: name, Length: 2356, dtype: object"
      ]
     },
     "metadata": {},
     "execution_count": 247
    }
   ],
   "source": [
    "df_clean[0].name.where(~name_mask)"
   ]
  },
  {
   "cell_type": "code",
   "execution_count": 248,
   "metadata": {},
   "outputs": [],
   "source": [
    "df_clean[0].name = df_clean[0].name.where(~name_mask,None)"
   ]
  },
  {
   "source": [
    "#### Test:"
   ],
   "cell_type": "markdown",
   "metadata": {}
  },
  {
   "cell_type": "code",
   "execution_count": 249,
   "metadata": {},
   "outputs": [
    {
     "output_type": "execute_result",
     "data": {
      "text/plain": [
       "0        Phineas\n",
       "1          Tilly\n",
       "2         Archie\n",
       "3          Darla\n",
       "4       Franklin\n",
       "          ...   \n",
       "2351        None\n",
       "2352        None\n",
       "2353        None\n",
       "2354        None\n",
       "2355        None\n",
       "Name: name, Length: 2356, dtype: object"
      ]
     },
     "metadata": {},
     "execution_count": 249
    }
   ],
   "source": [
    "df_clean[0].name"
   ]
  },
  {
   "source": [
    "### Quality Issue 10:\n",
    "#### Define:\n",
    "<br>check numerator rating value is correct."
   ],
   "cell_type": "markdown",
   "metadata": {}
  },
  {
   "cell_type": "code",
   "execution_count": 250,
   "metadata": {},
   "outputs": [
    {
     "output_type": "execute_result",
     "data": {
      "text/plain": [
       "[\"Can't do better than this lol. 10/10 for the owner https://t.co/yrqGyMZhW6\",\n",
       " 'Doggo will persevere. 13/10\\nhttps://t.co/yOVzAomJ6k',\n",
       " \"This is Charles. He's camera shy. Tail longer than average. Doesn't look overwhelmingly fluffy. 6/10 would still pet https://t.co/rXvcElhoog\",\n",
       " \"Here's a pupper that's very hungry but too lazy to get up and eat. 12/10 (vid by @RealDavidCortes) https://t.co/lsVAMBq6ex\",\n",
       " \"We usually don't rate marshmallows but this one's having so much fun in the snow. 10/10 (vid by @kylejk24) https://t.co/NL2KwOioBh\"]"
      ]
     },
     "metadata": {},
     "execution_count": 250
    }
   ],
   "source": [
    "# preview of strings in text column\n",
    "list(df_clean[0].text.sample(5) )"
   ]
  },
  {
   "source": [
    "#### Code:"
   ],
   "cell_type": "markdown",
   "metadata": {}
  },
  {
   "cell_type": "code",
   "execution_count": 251,
   "metadata": {},
   "outputs": [],
   "source": [
    "# regex filter to extract 123.34/123 found visually and programmatically\n",
    "df_clean[0]['rating'] = df_clean[0].text.str.extract(r'(\\b\\d{0,3}\\.?\\d{1,2}\\/\\d{2,3})', expand=True)"
   ]
  },
  {
   "cell_type": "code",
   "execution_count": 252,
   "metadata": {},
   "outputs": [
    {
     "output_type": "execute_result",
     "data": {
      "text/plain": [
       "12/10       558\n",
       "11/10       463\n",
       "10/10       460\n",
       "13/10       350\n",
       "9/10        157\n",
       "8/10        102\n",
       "14/10        54\n",
       "7/10         53\n",
       "5/10         35\n",
       "6/10         32\n",
       "3/10         19\n",
       "4/10         15\n",
       "2/10          9\n",
       "1/10          8\n",
       "9/11          2\n",
       "15/10         2\n",
       "420/10        2\n",
       "9.75/10       2\n",
       "4/20          2\n",
       "0/10          2\n",
       "1776/10       1\n",
       "143/130       1\n",
       "7/11          1\n",
       "13.5/10       1\n",
       "007/10        1\n",
       "20/16         1\n",
       "11.26/10      1\n",
       "960/00        1\n",
       "50/50         1\n",
       "144/120       1\n",
       "165/150       1\n",
       "182/10        1\n",
       "84/70         1\n",
       "88/80         1\n",
       "99/90         1\n",
       "204/170       1\n",
       "11.27/10      1\n",
       "9.5/10        1\n",
       "11/15         1\n",
       "666/10        1\n",
       ".13/10        1\n",
       "44/40         1\n",
       "80/80         1\n",
       "60/50         1\n",
       "121/110       1\n",
       ".10/10        1\n",
       "17/10         1\n",
       "45/50         1\n",
       "NaN           1\n",
       "Name: rating, dtype: int64"
      ]
     },
     "metadata": {},
     "execution_count": 252
    }
   ],
   "source": [
    "df_clean[0]['rating'].value_counts(dropna=False)"
   ]
  },
  {
   "cell_type": "code",
   "execution_count": 253,
   "metadata": {},
   "outputs": [
    {
     "output_type": "execute_result",
     "data": {
      "text/plain": [
       "'13/10'"
      ]
     },
     "metadata": {},
     "execution_count": 253
    }
   ],
   "source": [
    "#remove .13 and .10 manually\n",
    "# remove .13\n",
    "x = df_clean[0].query('rating==\".13/10\"').rating.index[0]\n",
    "df_clean[0]['rating'].iloc[x] = df_clean[0]['rating'].iloc[x].split('.')[1]\n",
    "df_clean[0]['rating'].iloc[x]"
   ]
  },
  {
   "cell_type": "code",
   "execution_count": 254,
   "metadata": {},
   "outputs": [
    {
     "output_type": "execute_result",
     "data": {
      "text/plain": [
       "'10/10'"
      ]
     },
     "metadata": {},
     "execution_count": 254
    }
   ],
   "source": [
    "# remove .10\n",
    "x = df_clean[0].query('rating==\".10/10\"').rating.index[0]\n",
    "df_clean[0]['rating'].iloc[x] = df_clean[0]['rating'].iloc[x].split('.')[1]\n",
    "df_clean[0]['rating'].iloc[x]"
   ]
  },
  {
   "cell_type": "code",
   "execution_count": 255,
   "metadata": {},
   "outputs": [
    {
     "output_type": "execute_result",
     "data": {
      "text/plain": [
       "(12/10       558\n",
       " 11/10       463\n",
       " 10/10       461\n",
       " 13/10       351\n",
       " 9/10        157\n",
       " 8/10        102\n",
       " 14/10        54\n",
       " 7/10         53\n",
       " 5/10         35\n",
       " 6/10         32\n",
       " 3/10         19\n",
       " 4/10         15\n",
       " 2/10          9\n",
       " 1/10          8\n",
       " 420/10        2\n",
       " 9.75/10       2\n",
       " 4/20          2\n",
       " 9/11          2\n",
       " 0/10          2\n",
       " 15/10         2\n",
       " 1776/10       1\n",
       " 7/11          1\n",
       " 13.5/10       1\n",
       " 007/10        1\n",
       " 50/50         1\n",
       " 20/16         1\n",
       " 960/00        1\n",
       " 143/130       1\n",
       " 144/120       1\n",
       " 11.26/10      1\n",
       " 165/150       1\n",
       " 88/80         1\n",
       " 99/90         1\n",
       " 204/170       1\n",
       " 11.27/10      1\n",
       " 9.5/10        1\n",
       " 11/15         1\n",
       " 182/10        1\n",
       " 666/10        1\n",
       " 44/40         1\n",
       " 80/80         1\n",
       " 60/50         1\n",
       " 121/110       1\n",
       " 84/70         1\n",
       " 17/10         1\n",
       " 45/50         1\n",
       " NaN           1\n",
       " Name: rating, dtype: int64,\n",
       " (2356,))"
      ]
     },
     "metadata": {},
     "execution_count": 255
    }
   ],
   "source": [
    "df_clean[0].rating.value_counts(dropna=False), df_clean[0].rating.shape"
   ]
  },
  {
   "cell_type": "code",
   "execution_count": 256,
   "metadata": {},
   "outputs": [],
   "source": [
    "# check for non regex matches\n",
    "checknull = df_clean[0].rating.isnull()"
   ]
  },
  {
   "cell_type": "code",
   "execution_count": 257,
   "metadata": {},
   "outputs": [
    {
     "output_type": "execute_result",
     "data": {
      "text/plain": [
       "(['Meet Sam. She smiles 24/7 &amp; secretly aspires to be a reindeer. \\nKeep Sam smiling by clicking and sharing this link:\\nhttps://t.co/98tB8y7y7t https://t.co/LouL5vdvxx'],\n",
       " [nan])"
      ]
     },
     "metadata": {},
     "execution_count": 257
    }
   ],
   "source": [
    "list(df_clean[0][checknull].text), list(df_clean[0][checknull].rating)"
   ]
  },
  {
   "cell_type": "code",
   "execution_count": 258,
   "metadata": {},
   "outputs": [],
   "source": [
    "df_clean[0].rating = df_clean[0].rating.where(~checknull,0/10)"
   ]
  },
  {
   "cell_type": "code",
   "execution_count": 259,
   "metadata": {},
   "outputs": [
    {
     "output_type": "execute_result",
     "data": {
      "text/plain": [
       "0       13/10\n",
       "1       13/10\n",
       "2       12/10\n",
       "3       13/10\n",
       "4       12/10\n",
       "        ...  \n",
       "2351     5/10\n",
       "2352     6/10\n",
       "2353     9/10\n",
       "2354     7/10\n",
       "2355     8/10\n",
       "Name: rating, Length: 2356, dtype: object"
      ]
     },
     "metadata": {},
     "execution_count": 259
    }
   ],
   "source": [
    "df_clean[0].rating"
   ]
  },
  {
   "cell_type": "code",
   "execution_count": 266,
   "metadata": {},
   "outputs": [
    {
     "output_type": "execute_result",
     "data": {
      "text/plain": [
       "0      1  \n",
       "12     10     558\n",
       "11     10     463\n",
       "10     10     461\n",
       "13     10     351\n",
       "9      10     157\n",
       "8      10     102\n",
       "14     10      54\n",
       "7      10      53\n",
       "5      10      35\n",
       "6      10      32\n",
       "3      10      19\n",
       "4      10      15\n",
       "2      10       9\n",
       "1      10       8\n",
       "4      20       2\n",
       "420    10       2\n",
       "0      10       2\n",
       "9      11       2\n",
       "9.75   10       2\n",
       "15     10       2\n",
       "121    110      1\n",
       "165    150      1\n",
       "11.27  10       1\n",
       "11.26  10       1\n",
       "11     15       1\n",
       "13.5   10       1\n",
       "007    10       1\n",
       "143    130      1\n",
       "144    120      1\n",
       "99     90       1\n",
       "17     10       1\n",
       "1776   10       1\n",
       "182    10       1\n",
       "20     16       1\n",
       "960    00       1\n",
       "44     40       1\n",
       "45     50       1\n",
       "50     50       1\n",
       "60     50       1\n",
       "666    10       1\n",
       "7      11       1\n",
       "80     80       1\n",
       "84     70       1\n",
       "88     80       1\n",
       "9.5    10       1\n",
       "204    170      1\n",
       "dtype: int64"
      ]
     },
     "metadata": {},
     "execution_count": 266
    }
   ],
   "source": [
    "df_clean[0].rating.str.split('/', n=2, expand=True).value_counts()"
   ]
  },
  {
   "cell_type": "code",
   "execution_count": null,
   "metadata": {},
   "outputs": [],
   "source": [
    "df_clean[0].info()"
   ]
  },
  {
   "cell_type": "code",
   "execution_count": null,
   "metadata": {},
   "outputs": [],
   "source": [
    "#### Test:\n",
    "df_clean[0].rating.isnull().values.any()"
   ]
  },
  {
   "source": [
    "### Tidiness Issue 1:\n",
    "#### Define:\n",
    "timestamp split into three columns, date, time, timezone"
   ],
   "cell_type": "markdown",
   "metadata": {}
  },
  {
   "source": [
    "#### Code:\n"
   ],
   "cell_type": "markdown",
   "metadata": {}
  },
  {
   "cell_type": "code",
   "execution_count": null,
   "metadata": {},
   "outputs": [],
   "source": [
    "df_twitter.timestamp.sample(5)"
   ]
  },
  {
   "cell_type": "code",
   "execution_count": null,
   "metadata": {},
   "outputs": [],
   "source": [
    "df_twitter['date'] = df_twitter['timestamp'].dt.date \n",
    "df_twitter['time'] = df_twitter['timestamp'].dt.time \n",
    "df_twitter['timezone'] = df_twitter['timestamp'].astype(str).str[-6:]\n",
    "df_twitter.drop(labels='timestamp', axis=1, inplace = True)"
   ]
  },
  {
   "source": [
    "#### Test:\n"
   ],
   "cell_type": "markdown",
   "metadata": {}
  },
  {
   "cell_type": "code",
   "execution_count": null,
   "metadata": {},
   "outputs": [],
   "source": [
    "df_clean[0].iloc[:,16:]"
   ]
  },
  {
   "source": [
    "### Tidiness Issue 2:\n",
    "#### Define:\n",
    "categorize dog type into one column, and drop redundant columns.\n",
    "### Quality Issue #:\n",
    "#### Define:\n",
    "change datatype into categorical"
   ],
   "cell_type": "markdown",
   "metadata": {}
  },
  {
   "cell_type": "code",
   "execution_count": null,
   "metadata": {},
   "outputs": [],
   "source": [
    "df_twitter.iloc[:,11:16].sample(10)"
   ]
  },
  {
   "cell_type": "code",
   "execution_count": null,
   "metadata": {},
   "outputs": [],
   "source": [
    "df_twitter['dog_type'] = df_twitter.text.str.extract('(doggo|floofer|pupper|puppo)', expand=False)\n",
    "df_twitter['dog_type'] = df_twitter['dog_type'].astype('category')"
   ]
  },
  {
   "cell_type": "code",
   "execution_count": null,
   "metadata": {},
   "outputs": [],
   "source": [
    "drop_cols = list(df_twitter.iloc[:1,12:16])\n",
    "drop_cols"
   ]
  },
  {
   "cell_type": "code",
   "execution_count": null,
   "metadata": {},
   "outputs": [],
   "source": [
    "df_twitter.drop(drop_cols, axis=1, inplace=True)"
   ]
  },
  {
   "cell_type": "code",
   "execution_count": null,
   "metadata": {},
   "outputs": [],
   "source": [
    "#### Test:\n",
    "df_twitter['dog_type'].value_counts(dropna=False)"
   ]
  },
  {
   "cell_type": "code",
   "execution_count": null,
   "metadata": {},
   "outputs": [],
   "source": [
    "list(df_twitter.iloc[:0,:])"
   ]
  },
  {
   "source": [
    "### Tidiness Issue 3:\n",
    "#### Define:\n",
    "merge dataframes to contain the relevant columns required for analysis ensuring each is relevant to the information it pertains."
   ],
   "cell_type": "markdown",
   "metadata": {}
  },
  {
   "source": [
    "#### Code:\n"
   ],
   "cell_type": "markdown",
   "metadata": {}
  },
  {
   "cell_type": "code",
   "execution_count": null,
   "metadata": {},
   "outputs": [],
   "source": [
    "df_twitter.shape"
   ]
  },
  {
   "cell_type": "code",
   "execution_count": null,
   "metadata": {},
   "outputs": [],
   "source": [
    "df_twitter_clean = pd.merge(df_clean[0], df_clean[2], on='tweet_id', how='inner')"
   ]
  },
  {
   "source": [
    "#### Test:"
   ],
   "cell_type": "markdown",
   "metadata": {}
  },
  {
   "cell_type": "code",
   "execution_count": null,
   "metadata": {},
   "outputs": [],
   "source": [
    "df_twitter_clean.shape"
   ]
  },
  {
   "cell_type": "code",
   "execution_count": null,
   "metadata": {},
   "outputs": [],
   "source": [
    "df_twitter_clean.info()"
   ]
  },
  {
   "cell_type": "code",
   "execution_count": null,
   "metadata": {},
   "outputs": [],
   "source": [
    "df_clea"
   ]
  },
  {
   "source": [
    "## Save clean data"
   ],
   "cell_type": "markdown",
   "metadata": {}
  },
  {
   "cell_type": "code",
   "execution_count": null,
   "metadata": {},
   "outputs": [],
   "source": []
  }
 ],
 "metadata": {
  "kernelspec": {
   "name": "python3",
   "display_name": "Python 3"
  },
  "language_info": {
   "codemirror_mode": {
    "name": "ipython",
    "version": 3
   },
   "file_extension": ".py",
   "mimetype": "text/x-python",
   "name": "python",
   "nbconvert_exporter": "python",
   "pygments_lexer": "ipython3",
   "version": "3.8.5-final"
  }
 },
 "nbformat": 4,
 "nbformat_minor": 2
}