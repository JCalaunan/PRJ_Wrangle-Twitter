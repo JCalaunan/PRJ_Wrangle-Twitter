{
 "cells": [
  {
   "cell_type": "code",
   "execution_count": 39,
   "metadata": {},
   "outputs": [],
   "source": [
    "# PROJECT 4 - Wrangle Twitter data via API"
   ]
  },
  {
   "source": [
    "## Table of Contents\n",
    "* [Introduction](#intro)\n",
    "* [Initial Brief](#1.1-initial-brief)\n",
    "* [General Outline](#general_outline)\n",
    "* [Import Libraries](#)\n",
    "* [](#)\n",
    "* [](#)\n",
    "\n",
    "`Note: Fill at the end. Automate with python library/extension.`"
   ],
   "cell_type": "markdown",
   "metadata": {}
  },
  {
   "source": [
    "# Introduction\n",
    "Gather readily available data from an existing source on the web to allow first hand experience of wrangling data.<br>\n",
    "It is a significant task as data will not always be provided and if it is: <br>\n",
    " - Best case: Spelling mistakes and/or equivalent,\n",
    " - Worst case: No schema/format, duplicates, incomplete and/or incorrect values recorded."
   ],
   "cell_type": "markdown",
   "metadata": {}
  },
  {
   "source": [
    "## Initial Brief\n",
    "- User has provided archived twitter data for analysis\n",
    " - [ ] Twitter archive export in CSV\n",
    " - [ ] URL to Machine Learning image predictions\n",
    "<br>\n",
    "- Identify minimum:\n",
    " - [ ] 8 quality issues\n",
    " - [ ] 2 tidiness issues\n",
    "<br>\n",
    "- Out of scope:\n",
    " - [ ] Unique rating system\n",
    " - [ ] No gathering required past 01 Aug 2017"
   ],
   "cell_type": "markdown",
   "metadata": {}
  },
  {
   "source": [
    "## General outline\n",
    "- [ ] Read-in CSV data\n",
    "- [ ] Access URL data (_over manually downloading file_)"
   ],
   "cell_type": "markdown",
   "metadata": {}
  },
  {
   "source": [
    "## install modules via terminal\n",
    "#pip install pandas # also downloads numpy\n",
    "#pip install requests\n",
    "#pip install tweepy\n",
    "\n",
    "## Optional - provides TOC\n",
    "#pip install jupyter_contrib_nbextensions"
   ],
   "cell_type": "code",
   "metadata": {},
   "execution_count": 40,
   "outputs": []
  },
  {
   "source": [
    "## Import Libraries"
   ],
   "cell_type": "markdown",
   "metadata": {}
  },
  {
   "cell_type": "code",
   "execution_count": 41,
   "metadata": {},
   "outputs": [],
   "source": [
    "import pandas as pd\n",
    "import numpy as np\n",
    "\n",
    "import requests\n",
    "import os\n",
    "\n",
    "import json # json encoder and decoder"
   ]
  },
  {
   "source": [
    "## Defined Functions\n",
    "\n",
    "- addFiles(filename)    `Created for the ability to scale`\n",
    "- go_assess(df)         `Created to reiterate through assessment steps`"
   ],
   "cell_type": "markdown",
   "metadata": {}
  },
  {
   "cell_type": "code",
   "execution_count": 42,
   "metadata": {},
   "outputs": [
    {
     "output_type": "stream",
     "name": "stdout",
     "text": [
      "0 Files in list\n"
     ]
    }
   ],
   "source": [
    "filelist = [] # declare\n",
    "print('{} Files in list'.format(len(filelist)) ) # initial print\n",
    "\n",
    "# Adds and tracks files\n",
    "def add_files(*filename): # PARAMETER: <string>\n",
    "    for file in filename:\n",
    "        filelist.append(file)\n",
    "        print('{} added to file list.'.format(file) )\n",
    "\n",
    "    if len(filelist) > 1:\n",
    "        print('{} files now in list.'.format( len(filelist)) )\n",
    "    else:\n",
    "        print('{} file now in list.'.format( len(filelist)) )\n",
    "    return file"
   ]
  },
  {
   "cell_type": "code",
   "execution_count": 43,
   "metadata": {},
   "outputs": [],
   "source": [
    "def get_values(df, col, name): # \n",
    "    export = []\n",
    "    value_cnt = col.value_counts()\n",
    "    value = value_cnt.values\n",
    "# test for duplicates, no duplicates should be equal to .series size\n",
    "    if value.sum() > value.shape[0]: # there are duplicates\n",
    "        txt_result = ('Duplicates found in column \\'{}\\', the max duplicate item repeats {} times.'.format(name, value.max()) ) # print results, return indexes\n",
    "    else: # no duplicates\n",
    "        txt_result = ('No duplicates found in column \\'{}\\'.'.format(name) )\n",
    "        #print('{}: No duplicates found.'.format(col) )\n",
    "    # pack variables into list\n",
    "    export.append(value_cnt)\n",
    "    export.append(txt_result)\n",
    "    \n",
    "    return export"
   ]
  },
  {
   "cell_type": "code",
   "execution_count": 44,
   "metadata": {},
   "outputs": [],
   "source": [
    "#assessment = [] # create global\n",
    "def go_assess(df):\n",
    "    # empty every function call, to prevent list from accumulating over time\n",
    "    results = [] #\n",
    "    summary = [] #\n",
    "    val_sum = [] # \n",
    "    assessment = []\n",
    "    print('Dataframe contains the following columns:')\n",
    "    print('{}\\n'.format(df.columns) )\n",
    "\n",
    "    for i, col in enumerate(df.columns):\n",
    "        # copy into message\n",
    "        print('Column {} - \\'{}\\' has been assessed. Assessment saved in results[{}] and summary[{}]'.format(i, col, i, i))\n",
    "        \n",
    "        # call and get results\n",
    "        val_sum = get_values(df, df[col], col)\n",
    "\n",
    "        # append results\n",
    "        summary.append(val_sum[1])\n",
    "        results.append(val_sum[0])\n",
    "\n",
    "    assessment.append(summary)\n",
    "    assessment.append(results)\n",
    "    print('NOTE: To access variables, set a series name e.g below:\\nseries[0][x] to access summary details.\\nseries[1][x] to access the value_counts results.\\nx represents column number')\n",
    "    return assessment #"
   ]
  },
  {
   "cell_type": "code",
   "execution_count": null,
   "metadata": {},
   "outputs": [],
   "source": []
  },
  {
   "cell_type": "code",
   "execution_count": 45,
   "metadata": {},
   "outputs": [],
   "source": [
    "## BLANK"
   ]
  },
  {
   "source": [
    "## Data Wrangling"
   ],
   "cell_type": "markdown",
   "metadata": {}
  },
  {
   "source": [
    "## Iteration 1\n",
    "Import data from a twitter user archive provided by the end-user\n",
    "\n",
    "`Note: Add edit# upon addition of new issue.`"
   ],
   "cell_type": "markdown",
   "metadata": {}
  },
  {
   "source": [
    "### Gathering 1\n",
    "#### Initialize\n",
    "Enter Known Input Info\n",
    "Format: file name inside ''"
   ],
   "cell_type": "markdown",
   "metadata": {}
  },
  {
   "cell_type": "code",
   "execution_count": 46,
   "metadata": {},
   "outputs": [
    {
     "output_type": "stream",
     "name": "stdout",
     "text": [
      "twitter-archive-enhanced-2.csv added to file list.\n1 file now in list.\n"
     ]
    },
    {
     "output_type": "execute_result",
     "data": {
      "text/plain": [
       "'twitter-archive-enhanced-2.csv'"
      ]
     },
     "metadata": {},
     "execution_count": 46
    }
   ],
   "source": [
    "# FILE 1 - TWITTER ARCHIVE DATA\n",
    "folder = 'Incoming Files/'\n",
    "twitter_file = 'twitter-archive-enhanced-2.csv'\n",
    "add_files(twitter_file)"
   ]
  },
  {
   "cell_type": "code",
   "execution_count": 47,
   "metadata": {},
   "outputs": [
    {
     "output_type": "stream",
     "name": "stdout",
     "text": [
      "image-predictions.tsv has been saved in: \"/Incoming Files/\"\nimage-predictions.tsv added to file list.\n2 files now in list.\n"
     ]
    },
    {
     "output_type": "execute_result",
     "data": {
      "text/plain": [
       "'image-predictions.tsv'"
      ]
     },
     "metadata": {},
     "execution_count": 47
    }
   ],
   "source": [
    "# FILE 2 - TWITTER ML IMAGE PREDICTIONS\n",
    "url = 'https://d17h27t6h515a5.cloudfront.net/topher/2017/August/599fd2ad_image-predictions/image-predictions.tsv'\n",
    "\n",
    "# assign to a response object\n",
    "response = requests.get(url)\n",
    "\n",
    "image_predictions = url.split('/')[-1] # extract file name\n",
    "\n",
    "# with open, allows for the auto close file when complete\n",
    "# split after last delimiter /, indicating file name\n",
    "with open(os.path.join(folder, image_predictions), mode='wb') as file:\n",
    "    # read file \n",
    "    file.write(response.content)\n",
    "    print('{} has been saved in: \"/{}\"'.format(image_predictions, folder) )\n",
    "\n",
    "# call function and add name to end of list\n",
    "add_files(image_predictions)"
   ]
  },
  {
   "source": [
    "#### Import into dataframes"
   ],
   "cell_type": "markdown",
   "metadata": {}
  },
  {
   "cell_type": "code",
   "execution_count": 48,
   "metadata": {},
   "outputs": [],
   "source": [
    " # create empty list\n",
    "df_raw = []\n",
    "file_extensions = []\n",
    "\n",
    "# dataframe to contain original imports\n",
    "for num, file in enumerate(filelist):\n",
    "    ext = file.split('.')[-1]\n",
    "    file_extensions.append(ext)\n",
    "    # read extension type\n",
    "    ## catch CSV, TSV, JSON, no Switch/Case in Python\n",
    "    if ext == 'csv':\n",
    "        df_raw.append(pd.read_csv(folder + file) )\n",
    "    elif ext == 'tsv':\n",
    "        df_raw.append(pd.read_csv(folder + file, sep='\\t') )\n",
    "    else:\n",
    "        print('filelist({}) - \"{}\", could not be read into a dataframe.'.format(num, filelist[num]) )"
   ]
  },
  {
   "cell_type": "code",
   "execution_count": 49,
   "metadata": {},
   "outputs": [
    {
     "output_type": "stream",
     "name": "stdout",
     "text": [
      "['twitter-archive-enhanced-2.csv', 'image-predictions.tsv']\n"
     ]
    }
   ],
   "source": [
    "print(filelist)"
   ]
  },
  {
   "cell_type": "code",
   "execution_count": 50,
   "metadata": {},
   "outputs": [
    {
     "output_type": "execute_result",
     "data": {
      "text/plain": [
       "                tweet_id  in_reply_to_status_id  in_reply_to_user_id  \\\n",
       "2186  668981893510119424                    NaN                  NaN   \n",
       "1899  674670581682434048                    NaN                  NaN   \n",
       "461   817536400337801217                    NaN                  NaN   \n",
       "\n",
       "                      timestamp  \\\n",
       "2186  2015-11-24 02:38:07 +0000   \n",
       "1899  2015-12-09 19:22:56 +0000   \n",
       "461   2017-01-07 01:00:41 +0000   \n",
       "\n",
       "                                                 source  \\\n",
       "2186  <a href=\"http://twitter.com/download/iphone\" r...   \n",
       "1899  <a href=\"http://twitter.com/download/iphone\" r...   \n",
       "461   <a href=\"http://twitter.com/download/iphone\" r...   \n",
       "\n",
       "                                                   text  retweeted_status_id  \\\n",
       "2186  Unique dog here. Oddly shaped tail. Long pink ...                  NaN   \n",
       "1899  Meet Jeb &amp; Bush. Jeb is somehow stuck in t...                  NaN   \n",
       "461   Say hello to Eugene &amp; Patti Melt. No matte...                  NaN   \n",
       "\n",
       "      retweeted_status_user_id retweeted_status_timestamp  \\\n",
       "2186                       NaN                        NaN   \n",
       "1899                       NaN                        NaN   \n",
       "461                        NaN                        NaN   \n",
       "\n",
       "                                          expanded_urls  rating_numerator  \\\n",
       "2186  https://twitter.com/dog_rates/status/668981893...                 4   \n",
       "1899  https://twitter.com/dog_rates/status/674670581...                 9   \n",
       "461   https://twitter.com/dog_rates/status/817536400...                12   \n",
       "\n",
       "      rating_denominator    name doggo floofer pupper puppo  \n",
       "2186                  10    None  None    None   None  None  \n",
       "1899                  10     Jeb  None    None   None  None  \n",
       "461                   10  Eugene  None    None   None  None  "
      ],
      "text/html": "<div>\n<style scoped>\n    .dataframe tbody tr th:only-of-type {\n        vertical-align: middle;\n    }\n\n    .dataframe tbody tr th {\n        vertical-align: top;\n    }\n\n    .dataframe thead th {\n        text-align: right;\n    }\n</style>\n<table border=\"1\" class=\"dataframe\">\n  <thead>\n    <tr style=\"text-align: right;\">\n      <th></th>\n      <th>tweet_id</th>\n      <th>in_reply_to_status_id</th>\n      <th>in_reply_to_user_id</th>\n      <th>timestamp</th>\n      <th>source</th>\n      <th>text</th>\n      <th>retweeted_status_id</th>\n      <th>retweeted_status_user_id</th>\n      <th>retweeted_status_timestamp</th>\n      <th>expanded_urls</th>\n      <th>rating_numerator</th>\n      <th>rating_denominator</th>\n      <th>name</th>\n      <th>doggo</th>\n      <th>floofer</th>\n      <th>pupper</th>\n      <th>puppo</th>\n    </tr>\n  </thead>\n  <tbody>\n    <tr>\n      <th>2186</th>\n      <td>668981893510119424</td>\n      <td>NaN</td>\n      <td>NaN</td>\n      <td>2015-11-24 02:38:07 +0000</td>\n      <td>&lt;a href=\"http://twitter.com/download/iphone\" r...</td>\n      <td>Unique dog here. Oddly shaped tail. Long pink ...</td>\n      <td>NaN</td>\n      <td>NaN</td>\n      <td>NaN</td>\n      <td>https://twitter.com/dog_rates/status/668981893...</td>\n      <td>4</td>\n      <td>10</td>\n      <td>None</td>\n      <td>None</td>\n      <td>None</td>\n      <td>None</td>\n      <td>None</td>\n    </tr>\n    <tr>\n      <th>1899</th>\n      <td>674670581682434048</td>\n      <td>NaN</td>\n      <td>NaN</td>\n      <td>2015-12-09 19:22:56 +0000</td>\n      <td>&lt;a href=\"http://twitter.com/download/iphone\" r...</td>\n      <td>Meet Jeb &amp;amp; Bush. Jeb is somehow stuck in t...</td>\n      <td>NaN</td>\n      <td>NaN</td>\n      <td>NaN</td>\n      <td>https://twitter.com/dog_rates/status/674670581...</td>\n      <td>9</td>\n      <td>10</td>\n      <td>Jeb</td>\n      <td>None</td>\n      <td>None</td>\n      <td>None</td>\n      <td>None</td>\n    </tr>\n    <tr>\n      <th>461</th>\n      <td>817536400337801217</td>\n      <td>NaN</td>\n      <td>NaN</td>\n      <td>2017-01-07 01:00:41 +0000</td>\n      <td>&lt;a href=\"http://twitter.com/download/iphone\" r...</td>\n      <td>Say hello to Eugene &amp;amp; Patti Melt. No matte...</td>\n      <td>NaN</td>\n      <td>NaN</td>\n      <td>NaN</td>\n      <td>https://twitter.com/dog_rates/status/817536400...</td>\n      <td>12</td>\n      <td>10</td>\n      <td>Eugene</td>\n      <td>None</td>\n      <td>None</td>\n      <td>None</td>\n      <td>None</td>\n    </tr>\n  </tbody>\n</table>\n</div>"
     },
     "metadata": {},
     "execution_count": 50
    }
   ],
   "source": [
    "df_raw[0].sample(3)  # visually assess file was read in correctly"
   ]
  },
  {
   "cell_type": "code",
   "execution_count": 51,
   "metadata": {},
   "outputs": [],
   "source": [
    "df_twitter = df_raw[0].copy()"
   ]
  },
  {
   "cell_type": "code",
   "execution_count": 52,
   "metadata": {},
   "outputs": [
    {
     "output_type": "execute_result",
     "data": {
      "text/plain": [
       "                tweet_id                                          jpg_url  \\\n",
       "783   690015576308211712  https://pbs.twimg.com/media/CZNtgWhWkAAbq3W.jpg   \n",
       "1728  820690176645140481  https://pbs.twimg.com/media/C2OtWr0VQAEnS9r.jpg   \n",
       "328   672068090318987265  https://pbs.twimg.com/media/CVOqW8eUkAESTHj.jpg   \n",
       "\n",
       "      img_num                           p1   p1_conf  p1_dog              p2  \\\n",
       "783         2                     malamute  0.949609    True  Siberian_husky   \n",
       "1728        2  West_Highland_white_terrier  0.872064    True          kuvasz   \n",
       "328         1                          pug  0.863385    True   shopping_cart   \n",
       "\n",
       "       p2_conf  p2_dog              p3   p3_conf  p3_dog  \n",
       "783   0.033084    True      Eskimo_dog  0.016663    True  \n",
       "1728  0.059526    True         Samoyed  0.037400    True  \n",
       "328   0.125746   False  Border_terrier  0.002972    True  "
      ],
      "text/html": "<div>\n<style scoped>\n    .dataframe tbody tr th:only-of-type {\n        vertical-align: middle;\n    }\n\n    .dataframe tbody tr th {\n        vertical-align: top;\n    }\n\n    .dataframe thead th {\n        text-align: right;\n    }\n</style>\n<table border=\"1\" class=\"dataframe\">\n  <thead>\n    <tr style=\"text-align: right;\">\n      <th></th>\n      <th>tweet_id</th>\n      <th>jpg_url</th>\n      <th>img_num</th>\n      <th>p1</th>\n      <th>p1_conf</th>\n      <th>p1_dog</th>\n      <th>p2</th>\n      <th>p2_conf</th>\n      <th>p2_dog</th>\n      <th>p3</th>\n      <th>p3_conf</th>\n      <th>p3_dog</th>\n    </tr>\n  </thead>\n  <tbody>\n    <tr>\n      <th>783</th>\n      <td>690015576308211712</td>\n      <td>https://pbs.twimg.com/media/CZNtgWhWkAAbq3W.jpg</td>\n      <td>2</td>\n      <td>malamute</td>\n      <td>0.949609</td>\n      <td>True</td>\n      <td>Siberian_husky</td>\n      <td>0.033084</td>\n      <td>True</td>\n      <td>Eskimo_dog</td>\n      <td>0.016663</td>\n      <td>True</td>\n    </tr>\n    <tr>\n      <th>1728</th>\n      <td>820690176645140481</td>\n      <td>https://pbs.twimg.com/media/C2OtWr0VQAEnS9r.jpg</td>\n      <td>2</td>\n      <td>West_Highland_white_terrier</td>\n      <td>0.872064</td>\n      <td>True</td>\n      <td>kuvasz</td>\n      <td>0.059526</td>\n      <td>True</td>\n      <td>Samoyed</td>\n      <td>0.037400</td>\n      <td>True</td>\n    </tr>\n    <tr>\n      <th>328</th>\n      <td>672068090318987265</td>\n      <td>https://pbs.twimg.com/media/CVOqW8eUkAESTHj.jpg</td>\n      <td>1</td>\n      <td>pug</td>\n      <td>0.863385</td>\n      <td>True</td>\n      <td>shopping_cart</td>\n      <td>0.125746</td>\n      <td>False</td>\n      <td>Border_terrier</td>\n      <td>0.002972</td>\n      <td>True</td>\n    </tr>\n  </tbody>\n</table>\n</div>"
     },
     "metadata": {},
     "execution_count": 52
    }
   ],
   "source": [
    "df_raw[1].sample(3)  # visually assess file was read in correctly"
   ]
  },
  {
   "cell_type": "code",
   "execution_count": 53,
   "metadata": {},
   "outputs": [],
   "source": [
    "df_image_predictor = df_raw[1].copy() # create copy"
   ]
  },
  {
   "source": [
    "## Assessing data\n",
    "### Assess 1 - Twitter Data Archive\n",
    "#### Define:<br>"
   ],
   "cell_type": "markdown",
   "metadata": {}
  },
  {
   "source": [
    "\n",
    "**Visual and programmatic summary**<br>\n",
    "Exceptions:\n",
    "1. ratings (numerator, denominator)\n",
    "\n",
    "_Tidiness_<br>\n",
    "1. Datatypes\n",
    "1.1 Time stamp contains date and time, the timestamp can be split further\n",
    "1.2 Columns 13-16 can be categorized into `Dog_Category`, values repeat the column name making it irrelevant\n",
    "\n",
    "_Cleanliness_<br>\n",
    "1 Missing information, Columns ordered by severity:<br>\n",
    "1.1 Index 1-2 only has 78 non null values, a significant amount<br>\n",
    "1.2 Index 6-8 contain 181 non null values<br>\n",
    "1.3 Index 9 contains 2297 non null values<br>\n",
    "2 Datatypes:<br>\n",
    "2.1 float required for column 1-2 as the order is +17 providing no need for the precision of decimals\n"
   ],
   "cell_type": "markdown",
   "metadata": {}
  },
  {
   "cell_type": "code",
   "execution_count": 54,
   "metadata": {},
   "outputs": [
    {
     "output_type": "stream",
     "name": "stdout",
     "text": [
      "<class 'pandas.core.frame.DataFrame'>\nRangeIndex: 2356 entries, 0 to 2355\nData columns (total 17 columns):\n #   Column                      Non-Null Count  Dtype  \n---  ------                      --------------  -----  \n 0   tweet_id                    2356 non-null   int64  \n 1   in_reply_to_status_id       78 non-null     float64\n 2   in_reply_to_user_id         78 non-null     float64\n 3   timestamp                   2356 non-null   object \n 4   source                      2356 non-null   object \n 5   text                        2356 non-null   object \n 6   retweeted_status_id         181 non-null    float64\n 7   retweeted_status_user_id    181 non-null    float64\n 8   retweeted_status_timestamp  181 non-null    object \n 9   expanded_urls               2297 non-null   object \n 10  rating_numerator            2356 non-null   int64  \n 11  rating_denominator          2356 non-null   int64  \n 12  name                        2356 non-null   object \n 13  doggo                       2356 non-null   object \n 14  floofer                     2356 non-null   object \n 15  pupper                      2356 non-null   object \n 16  puppo                       2356 non-null   object \ndtypes: float64(4), int64(3), object(10)\nmemory usage: 313.0+ KB\n"
     ]
    }
   ],
   "source": [
    "df_twitter.info()"
   ]
  },
  {
   "cell_type": "code",
   "execution_count": 55,
   "metadata": {},
   "outputs": [
    {
     "output_type": "execute_result",
     "data": {
      "text/plain": [
       "           tweet_id  in_reply_to_status_id  in_reply_to_user_id  \\\n",
       "count  2.356000e+03           7.800000e+01         7.800000e+01   \n",
       "mean   7.427716e+17           7.455079e+17         2.014171e+16   \n",
       "std    6.856705e+16           7.582492e+16         1.252797e+17   \n",
       "min    6.660209e+17           6.658147e+17         1.185634e+07   \n",
       "25%    6.783989e+17           6.757419e+17         3.086374e+08   \n",
       "50%    7.196279e+17           7.038708e+17         4.196984e+09   \n",
       "75%    7.993373e+17           8.257804e+17         4.196984e+09   \n",
       "max    8.924206e+17           8.862664e+17         8.405479e+17   \n",
       "\n",
       "       retweeted_status_id  retweeted_status_user_id  rating_numerator  \\\n",
       "count         1.810000e+02              1.810000e+02       2356.000000   \n",
       "mean          7.720400e+17              1.241698e+16         13.126486   \n",
       "std           6.236928e+16              9.599254e+16         45.876648   \n",
       "min           6.661041e+17              7.832140e+05          0.000000   \n",
       "25%           7.186315e+17              4.196984e+09         10.000000   \n",
       "50%           7.804657e+17              4.196984e+09         11.000000   \n",
       "75%           8.203146e+17              4.196984e+09         12.000000   \n",
       "max           8.874740e+17              7.874618e+17       1776.000000   \n",
       "\n",
       "       rating_denominator  \n",
       "count         2356.000000  \n",
       "mean            10.455433  \n",
       "std              6.745237  \n",
       "min              0.000000  \n",
       "25%             10.000000  \n",
       "50%             10.000000  \n",
       "75%             10.000000  \n",
       "max            170.000000  "
      ],
      "text/html": "<div>\n<style scoped>\n    .dataframe tbody tr th:only-of-type {\n        vertical-align: middle;\n    }\n\n    .dataframe tbody tr th {\n        vertical-align: top;\n    }\n\n    .dataframe thead th {\n        text-align: right;\n    }\n</style>\n<table border=\"1\" class=\"dataframe\">\n  <thead>\n    <tr style=\"text-align: right;\">\n      <th></th>\n      <th>tweet_id</th>\n      <th>in_reply_to_status_id</th>\n      <th>in_reply_to_user_id</th>\n      <th>retweeted_status_id</th>\n      <th>retweeted_status_user_id</th>\n      <th>rating_numerator</th>\n      <th>rating_denominator</th>\n    </tr>\n  </thead>\n  <tbody>\n    <tr>\n      <th>count</th>\n      <td>2.356000e+03</td>\n      <td>7.800000e+01</td>\n      <td>7.800000e+01</td>\n      <td>1.810000e+02</td>\n      <td>1.810000e+02</td>\n      <td>2356.000000</td>\n      <td>2356.000000</td>\n    </tr>\n    <tr>\n      <th>mean</th>\n      <td>7.427716e+17</td>\n      <td>7.455079e+17</td>\n      <td>2.014171e+16</td>\n      <td>7.720400e+17</td>\n      <td>1.241698e+16</td>\n      <td>13.126486</td>\n      <td>10.455433</td>\n    </tr>\n    <tr>\n      <th>std</th>\n      <td>6.856705e+16</td>\n      <td>7.582492e+16</td>\n      <td>1.252797e+17</td>\n      <td>6.236928e+16</td>\n      <td>9.599254e+16</td>\n      <td>45.876648</td>\n      <td>6.745237</td>\n    </tr>\n    <tr>\n      <th>min</th>\n      <td>6.660209e+17</td>\n      <td>6.658147e+17</td>\n      <td>1.185634e+07</td>\n      <td>6.661041e+17</td>\n      <td>7.832140e+05</td>\n      <td>0.000000</td>\n      <td>0.000000</td>\n    </tr>\n    <tr>\n      <th>25%</th>\n      <td>6.783989e+17</td>\n      <td>6.757419e+17</td>\n      <td>3.086374e+08</td>\n      <td>7.186315e+17</td>\n      <td>4.196984e+09</td>\n      <td>10.000000</td>\n      <td>10.000000</td>\n    </tr>\n    <tr>\n      <th>50%</th>\n      <td>7.196279e+17</td>\n      <td>7.038708e+17</td>\n      <td>4.196984e+09</td>\n      <td>7.804657e+17</td>\n      <td>4.196984e+09</td>\n      <td>11.000000</td>\n      <td>10.000000</td>\n    </tr>\n    <tr>\n      <th>75%</th>\n      <td>7.993373e+17</td>\n      <td>8.257804e+17</td>\n      <td>4.196984e+09</td>\n      <td>8.203146e+17</td>\n      <td>4.196984e+09</td>\n      <td>12.000000</td>\n      <td>10.000000</td>\n    </tr>\n    <tr>\n      <th>max</th>\n      <td>8.924206e+17</td>\n      <td>8.862664e+17</td>\n      <td>8.405479e+17</td>\n      <td>8.874740e+17</td>\n      <td>7.874618e+17</td>\n      <td>1776.000000</td>\n      <td>170.000000</td>\n    </tr>\n  </tbody>\n</table>\n</div>"
     },
     "metadata": {},
     "execution_count": 55
    }
   ],
   "source": [
    "df_twitter.describe()"
   ]
  },
  {
   "cell_type": "code",
   "execution_count": 56,
   "metadata": {},
   "outputs": [
    {
     "output_type": "stream",
     "name": "stdout",
     "text": [
      "Dataframe contains the following columns:\n",
      "Index(['tweet_id', 'in_reply_to_status_id', 'in_reply_to_user_id', 'timestamp',\n",
      "       'source', 'text', 'retweeted_status_id', 'retweeted_status_user_id',\n",
      "       'retweeted_status_timestamp', 'expanded_urls', 'rating_numerator',\n",
      "       'rating_denominator', 'name', 'doggo', 'floofer', 'pupper', 'puppo'],\n",
      "      dtype='object')\n",
      "\n",
      "Column 0 - 'tweet_id' has been assessed. Assessment saved in results[0] and summary[0]\n",
      "Column 1 - 'in_reply_to_status_id' has been assessed. Assessment saved in results[1] and summary[1]\n",
      "Column 2 - 'in_reply_to_user_id' has been assessed. Assessment saved in results[2] and summary[2]\n",
      "Column 3 - 'timestamp' has been assessed. Assessment saved in results[3] and summary[3]\n",
      "Column 4 - 'source' has been assessed. Assessment saved in results[4] and summary[4]\n",
      "Column 5 - 'text' has been assessed. Assessment saved in results[5] and summary[5]\n",
      "Column 6 - 'retweeted_status_id' has been assessed. Assessment saved in results[6] and summary[6]\n",
      "Column 7 - 'retweeted_status_user_id' has been assessed. Assessment saved in results[7] and summary[7]\n",
      "Column 8 - 'retweeted_status_timestamp' has been assessed. Assessment saved in results[8] and summary[8]\n",
      "Column 9 - 'expanded_urls' has been assessed. Assessment saved in results[9] and summary[9]\n",
      "Column 10 - 'rating_numerator' has been assessed. Assessment saved in results[10] and summary[10]\n",
      "Column 11 - 'rating_denominator' has been assessed. Assessment saved in results[11] and summary[11]\n",
      "Column 12 - 'name' has been assessed. Assessment saved in results[12] and summary[12]\n",
      "Column 13 - 'doggo' has been assessed. Assessment saved in results[13] and summary[13]\n",
      "Column 14 - 'floofer' has been assessed. Assessment saved in results[14] and summary[14]\n",
      "Column 15 - 'pupper' has been assessed. Assessment saved in results[15] and summary[15]\n",
      "Column 16 - 'puppo' has been assessed. Assessment saved in results[16] and summary[16]\n",
      "NOTE: To access variables, set a series name e.g below:\n",
      "series[0][x] to access summary details.\n",
      "series[1][x] to access the value_counts results.\n",
      "x represents column number\n"
     ]
    }
   ],
   "source": [
    "# call go_assess\n",
    "archive_assessed = go_assess(df_twitter)"
   ]
  },
  {
   "source": [
    "### Column 0 - tweet_id"
   ],
   "cell_type": "markdown",
   "metadata": {}
  },
  {
   "cell_type": "code",
   "execution_count": 57,
   "metadata": {},
   "outputs": [
    {
     "output_type": "execute_result",
     "data": {
      "text/plain": [
       "(\"No duplicates found in column 'tweet_id'.\",\n",
       " 749075273010798592    1\n",
       " 741099773336379392    1\n",
       " 798644042770751489    1\n",
       " 825120256414846976    1\n",
       " 769212283578875904    1\n",
       "                      ..\n",
       " 715360349751484417    1\n",
       " 666817836334096384    1\n",
       " 794926597468000259    1\n",
       " 673705679337693185    1\n",
       " 700151421916807169    1\n",
       " Name: tweet_id, Length: 2356, dtype: int64)"
      ]
     },
     "metadata": {},
     "execution_count": 57
    }
   ],
   "source": [
    "### Column 0 - \n",
    "archive_assessed[0][0], archive_assessed[1][0]"
   ]
  },
  {
   "source": [
    "### Column 1 - in reply"
   ],
   "cell_type": "markdown",
   "metadata": {}
  },
  {
   "cell_type": "code",
   "execution_count": 58,
   "metadata": {},
   "outputs": [
    {
     "output_type": "execute_result",
     "data": {
      "text/plain": [
       "(\"Duplicates found in column 'in_reply_to_status_id', the max duplicate item repeats 2 times.\",\n",
       " 6.671522e+17    2\n",
       " 8.562860e+17    1\n",
       " 8.131273e+17    1\n",
       " 6.754971e+17    1\n",
       " 6.827884e+17    1\n",
       "                ..\n",
       " 8.482121e+17    1\n",
       " 6.715449e+17    1\n",
       " 6.936422e+17    1\n",
       " 6.849598e+17    1\n",
       " 7.331095e+17    1\n",
       " Name: in_reply_to_status_id, Length: 77, dtype: int64)"
      ]
     },
     "metadata": {},
     "execution_count": 58
    }
   ],
   "source": [
    "### Column 1 - \n",
    "archive_assessed[0][1], archive_assessed[1][1]"
   ]
  },
  {
   "cell_type": "code",
   "execution_count": 59,
   "metadata": {},
   "outputs": [
    {
     "output_type": "execute_result",
     "data": {
      "text/plain": [
       "576     8.008580e+17\n",
       "274     8.406983e+17\n",
       "967     7.501805e+17\n",
       "2298    6.670655e+17\n",
       "1005    7.476487e+17\n",
       "Name: in_reply_to_status_id, dtype: float64"
      ]
     },
     "metadata": {},
     "execution_count": 59
    }
   ],
   "source": [
    "df_twitter[df_twitter.in_reply_to_status_id.notna()]['in_reply_to_status_id'].sample(5)"
   ]
  },
  {
   "cell_type": "code",
   "execution_count": 60,
   "metadata": {},
   "outputs": [
    {
     "output_type": "execute_result",
     "data": {
      "text/plain": [
       "(\"Duplicates found in column 'in_reply_to_user_id', the max duplicate item repeats 47 times.\",\n",
       " 4.196984e+09    47\n",
       " 2.195506e+07     2\n",
       " 7.305050e+17     1\n",
       " 2.916630e+07     1\n",
       " 3.105441e+09     1\n",
       " 2.918590e+08     1\n",
       " 2.792810e+08     1\n",
       " 2.319108e+09     1\n",
       " 1.806710e+08     1\n",
       " 3.058208e+07     1\n",
       " 2.625958e+07     1\n",
       " 1.943518e+08     1\n",
       " 3.589728e+08     1\n",
       " 8.405479e+17     1\n",
       " 2.894131e+09     1\n",
       " 2.143566e+07     1\n",
       " 2.281182e+09     1\n",
       " 1.648776e+07     1\n",
       " 4.717297e+09     1\n",
       " 2.878549e+07     1\n",
       " 1.582854e+09     1\n",
       " 4.670367e+08     1\n",
       " 4.738443e+07     1\n",
       " 1.361572e+07     1\n",
       " 1.584641e+07     1\n",
       " 2.068372e+07     1\n",
       " 1.637468e+07     1\n",
       " 1.185634e+07     1\n",
       " 1.198989e+09     1\n",
       " 1.132119e+08     1\n",
       " 7.759620e+07     1\n",
       " Name: in_reply_to_user_id, dtype: int64)"
      ]
     },
     "metadata": {},
     "execution_count": 60
    }
   ],
   "source": [
    "### Column 2 - \n",
    "archive_assessed[0][2], archive_assessed[1][2]"
   ]
  },
  {
   "cell_type": "code",
   "execution_count": 61,
   "metadata": {},
   "outputs": [],
   "source": [
    "### Column 3 - "
   ]
  },
  {
   "cell_type": "code",
   "execution_count": 62,
   "metadata": {},
   "outputs": [
    {
     "output_type": "execute_result",
     "data": {
      "text/plain": [
       "(\"No duplicates found in column 'timestamp'.\",\n",
       " 2015-11-23 02:19:29 +0000    1\n",
       " 2015-11-16 01:52:02 +0000    1\n",
       " 2016-01-30 03:52:58 +0000    1\n",
       " 2016-07-25 23:54:05 +0000    1\n",
       " 2015-11-16 20:32:58 +0000    1\n",
       "                             ..\n",
       " 2015-11-17 02:46:43 +0000    1\n",
       " 2015-12-26 17:25:59 +0000    1\n",
       " 2015-12-01 19:10:13 +0000    1\n",
       " 2016-09-01 00:04:38 +0000    1\n",
       " 2016-08-25 00:43:02 +0000    1\n",
       " Name: timestamp, Length: 2356, dtype: int64)"
      ]
     },
     "metadata": {},
     "execution_count": 62
    }
   ],
   "source": [
    "archive_assessed[0][3], archive_assessed[1][3]"
   ]
  },
  {
   "cell_type": "code",
   "execution_count": 63,
   "metadata": {},
   "outputs": [
    {
     "output_type": "execute_result",
     "data": {
      "text/plain": [
       "(\"Duplicates found in column 'source', the max duplicate item repeats 2221 times.\",\n",
       " <a href=\"http://twitter.com/download/iphone\" rel=\"nofollow\">Twitter for iPhone</a>     2221\n",
       " <a href=\"http://vine.co\" rel=\"nofollow\">Vine - Make a Scene</a>                          91\n",
       " <a href=\"http://twitter.com\" rel=\"nofollow\">Twitter Web Client</a>                       33\n",
       " <a href=\"https://about.twitter.com/products/tweetdeck\" rel=\"nofollow\">TweetDeck</a>      11\n",
       " Name: source, dtype: int64)"
      ]
     },
     "metadata": {},
     "execution_count": 63
    }
   ],
   "source": [
    "### Column 4 - \n",
    "archive_assessed[0][4], archive_assessed[1][4]"
   ]
  },
  {
   "cell_type": "code",
   "execution_count": 64,
   "metadata": {},
   "outputs": [
    {
     "output_type": "execute_result",
     "data": {
      "text/plain": [
       "(\"No duplicates found in column 'text'.\",\n",
       " Was just informed about this hero pupper and others like her. Another 14/10, would be an absolute honor to pet https://t.co/hBTzPmj36Z                      1\n",
       " This is Huck. He's addicted to caffeine. Hope it's not too latte to seek help. 11/10 stay strong pupper https://t.co/iJE3F0VozW                             1\n",
       " This is Oliver. Bath time is upon him. His fear of the wetness postpones his ultimate pupper destiny. 11/10 https://t.co/AFzzKqR4tT                         1\n",
       " RT @dog_rates: Not familiar with this breed. No tail (weird). Only 2 legs. Doesn't bark. Surprisingly quick. Shits eggs. 1/10 https://t.co/…                1\n",
       " This is an Albanian 3 1/2 legged  Episcopalian. Loves well-polished hardwood flooring. Penis on the collar. 9/10 https://t.co/d9NcXFKwLv                    1\n",
       "                                                                                                                                                            ..\n",
       " Unbelievable... We. Only. Rate. Dogs. Please stop sending in other things like this Blossoming Flop Kangaroo. Thank you... 11/10 https://t.co/EeeErAbso0    1\n",
       " This is Jerry. He's a Timbuk Slytherin. Eats his pizza from the side first. Crushed that cup with his bare paws 9/10 https://t.co/fvxHL6cRRs                1\n",
       " Nothing better than a doggo and a sunset. 10/10 majestic af https://t.co/xVSodF19PS                                                                         1\n",
       " This is my dog. Her name is Zoey. She knows I've been rating other dogs. She's not happy. 13/10 no bias at all https://t.co/ep1NkYoiwB                      1\n",
       " @HistoryInPics 13/10                                                                                                                                        1\n",
       " Name: text, Length: 2356, dtype: int64)"
      ]
     },
     "metadata": {},
     "execution_count": 64
    }
   ],
   "source": [
    "### Column 5 - \n",
    "archive_assessed[0][5], archive_assessed[1][5]"
   ]
  },
  {
   "cell_type": "code",
   "execution_count": 65,
   "metadata": {},
   "outputs": [
    {
     "output_type": "execute_result",
     "data": {
      "text/plain": [
       "(\"No duplicates found in column 'retweeted_status_id'.\",\n",
       " 7.757333e+17    1\n",
       " 7.507196e+17    1\n",
       " 6.742918e+17    1\n",
       " 6.833919e+17    1\n",
       " 8.269587e+17    1\n",
       "                ..\n",
       " 7.848260e+17    1\n",
       " 7.806013e+17    1\n",
       " 8.305833e+17    1\n",
       " 7.047611e+17    1\n",
       " 7.331095e+17    1\n",
       " Name: retweeted_status_id, Length: 181, dtype: int64)"
      ]
     },
     "metadata": {},
     "execution_count": 65
    }
   ],
   "source": [
    "### Column 6 - \n",
    "archive_assessed[0][6], archive_assessed[1][6]"
   ]
  },
  {
   "cell_type": "code",
   "execution_count": 66,
   "metadata": {},
   "outputs": [
    {
     "output_type": "execute_result",
     "data": {
      "text/plain": [
       "(\"Duplicates found in column 'retweeted_status_user_id', the max duplicate item repeats 156 times.\",\n",
       " 4.196984e+09    156\n",
       " 4.296832e+09      2\n",
       " 5.870972e+07      1\n",
       " 6.669901e+07      1\n",
       " 4.119842e+07      1\n",
       " 7.475543e+17      1\n",
       " 7.832140e+05      1\n",
       " 7.266347e+08      1\n",
       " 4.871977e+08      1\n",
       " 5.970642e+08      1\n",
       " 4.466750e+07      1\n",
       " 1.228326e+09      1\n",
       " 7.992370e+07      1\n",
       " 2.488557e+07      1\n",
       " 7.874618e+17      1\n",
       " 3.638908e+08      1\n",
       " 5.128045e+08      1\n",
       " 8.117408e+08      1\n",
       " 1.732729e+09      1\n",
       " 1.960740e+07      1\n",
       " 1.547674e+08      1\n",
       " 3.410211e+08      1\n",
       " 7.124572e+17      1\n",
       " 2.804798e+08      1\n",
       " 1.950368e+08      1\n",
       " Name: retweeted_status_user_id, dtype: int64)"
      ]
     },
     "metadata": {},
     "execution_count": 66
    }
   ],
   "source": [
    "### Column 7 - \n",
    "archive_assessed[0][7], archive_assessed[1][7]"
   ]
  },
  {
   "cell_type": "code",
   "execution_count": 67,
   "metadata": {},
   "outputs": [],
   "source": [
    "### Column 12 - name"
   ]
  },
  {
   "source": [
    "archive_assessed[0][12], archive_assessed[1][12]"
   ],
   "cell_type": "code",
   "metadata": {},
   "execution_count": 68,
   "outputs": [
    {
     "output_type": "execute_result",
     "data": {
      "text/plain": [
       "(\"Duplicates found in column 'name', the max duplicate item repeats 745 times.\",\n",
       " None        745\n",
       " a            55\n",
       " Charlie      12\n",
       " Cooper       11\n",
       " Lucy         11\n",
       "            ... \n",
       " Brutus        1\n",
       " Gilbert       1\n",
       " Amélie        1\n",
       " Winifred      1\n",
       " Andru         1\n",
       " Name: name, Length: 957, dtype: int64)"
      ]
     },
     "metadata": {},
     "execution_count": 68
    }
   ]
  },
  {
   "source": [
    "## Assess 2 - Twitter Image Predictions\n",
    "### Define:"
   ],
   "cell_type": "markdown",
   "metadata": {}
  },
  {
   "cell_type": "code",
   "execution_count": 69,
   "metadata": {},
   "outputs": [
    {
     "output_type": "execute_result",
     "data": {
      "text/plain": [
       "                tweet_id                                          jpg_url  \\\n",
       "47    666817836334096384  https://pbs.twimg.com/media/CUEDSMEWEAAuXVZ.jpg   \n",
       "2002  876838120628539392  https://pbs.twimg.com/media/DCsnnZsVwAEfkyi.jpg   \n",
       "1352  759923798737051648  https://pbs.twimg.com/media/CovKqSYVIAAUbUW.jpg   \n",
       "\n",
       "      img_num                   p1   p1_conf  p1_dog                  p2  \\\n",
       "47          1  miniature_schnauzer  0.496953    True  standard_schnauzer   \n",
       "2002        1           bloodhound  0.575751    True             redbone   \n",
       "1352        1   Labrador_retriever  0.324579    True           seat_belt   \n",
       "\n",
       "       p2_conf  p2_dog               p3   p3_conf  p3_dog  \n",
       "47    0.285276    True  giant_schnauzer  0.073764    True  \n",
       "2002  0.240970    True  Tibetan_mastiff  0.088935    True  \n",
       "1352  0.109168   False              pug  0.102466    True  "
      ],
      "text/html": "<div>\n<style scoped>\n    .dataframe tbody tr th:only-of-type {\n        vertical-align: middle;\n    }\n\n    .dataframe tbody tr th {\n        vertical-align: top;\n    }\n\n    .dataframe thead th {\n        text-align: right;\n    }\n</style>\n<table border=\"1\" class=\"dataframe\">\n  <thead>\n    <tr style=\"text-align: right;\">\n      <th></th>\n      <th>tweet_id</th>\n      <th>jpg_url</th>\n      <th>img_num</th>\n      <th>p1</th>\n      <th>p1_conf</th>\n      <th>p1_dog</th>\n      <th>p2</th>\n      <th>p2_conf</th>\n      <th>p2_dog</th>\n      <th>p3</th>\n      <th>p3_conf</th>\n      <th>p3_dog</th>\n    </tr>\n  </thead>\n  <tbody>\n    <tr>\n      <th>47</th>\n      <td>666817836334096384</td>\n      <td>https://pbs.twimg.com/media/CUEDSMEWEAAuXVZ.jpg</td>\n      <td>1</td>\n      <td>miniature_schnauzer</td>\n      <td>0.496953</td>\n      <td>True</td>\n      <td>standard_schnauzer</td>\n      <td>0.285276</td>\n      <td>True</td>\n      <td>giant_schnauzer</td>\n      <td>0.073764</td>\n      <td>True</td>\n    </tr>\n    <tr>\n      <th>2002</th>\n      <td>876838120628539392</td>\n      <td>https://pbs.twimg.com/media/DCsnnZsVwAEfkyi.jpg</td>\n      <td>1</td>\n      <td>bloodhound</td>\n      <td>0.575751</td>\n      <td>True</td>\n      <td>redbone</td>\n      <td>0.240970</td>\n      <td>True</td>\n      <td>Tibetan_mastiff</td>\n      <td>0.088935</td>\n      <td>True</td>\n    </tr>\n    <tr>\n      <th>1352</th>\n      <td>759923798737051648</td>\n      <td>https://pbs.twimg.com/media/CovKqSYVIAAUbUW.jpg</td>\n      <td>1</td>\n      <td>Labrador_retriever</td>\n      <td>0.324579</td>\n      <td>True</td>\n      <td>seat_belt</td>\n      <td>0.109168</td>\n      <td>False</td>\n      <td>pug</td>\n      <td>0.102466</td>\n      <td>True</td>\n    </tr>\n  </tbody>\n</table>\n</div>"
     },
     "metadata": {},
     "execution_count": 69
    }
   ],
   "source": [
    "df_image_predictor.sample(3)"
   ]
  },
  {
   "cell_type": "code",
   "execution_count": 70,
   "metadata": {},
   "outputs": [
    {
     "output_type": "stream",
     "name": "stdout",
     "text": [
      "<class 'pandas.core.frame.DataFrame'>\nRangeIndex: 2075 entries, 0 to 2074\nData columns (total 12 columns):\n #   Column    Non-Null Count  Dtype  \n---  ------    --------------  -----  \n 0   tweet_id  2075 non-null   int64  \n 1   jpg_url   2075 non-null   object \n 2   img_num   2075 non-null   int64  \n 3   p1        2075 non-null   object \n 4   p1_conf   2075 non-null   float64\n 5   p1_dog    2075 non-null   bool   \n 6   p2        2075 non-null   object \n 7   p2_conf   2075 non-null   float64\n 8   p2_dog    2075 non-null   bool   \n 9   p3        2075 non-null   object \n 10  p3_conf   2075 non-null   float64\n 11  p3_dog    2075 non-null   bool   \ndtypes: bool(3), float64(3), int64(2), object(4)\nmemory usage: 152.1+ KB\n"
     ]
    }
   ],
   "source": [
    "df_image_predictor.info()"
   ]
  },
  {
   "cell_type": "code",
   "execution_count": 71,
   "metadata": {},
   "outputs": [
    {
     "output_type": "execute_result",
     "data": {
      "text/plain": [
       "           tweet_id      img_num      p1_conf       p2_conf       p3_conf\n",
       "count  2.075000e+03  2075.000000  2075.000000  2.075000e+03  2.075000e+03\n",
       "mean   7.384514e+17     1.203855     0.594548  1.345886e-01  6.032417e-02\n",
       "std    6.785203e+16     0.561875     0.271174  1.006657e-01  5.090593e-02\n",
       "min    6.660209e+17     1.000000     0.044333  1.011300e-08  1.740170e-10\n",
       "25%    6.764835e+17     1.000000     0.364412  5.388625e-02  1.622240e-02\n",
       "50%    7.119988e+17     1.000000     0.588230  1.181810e-01  4.944380e-02\n",
       "75%    7.932034e+17     1.000000     0.843855  1.955655e-01  9.180755e-02\n",
       "max    8.924206e+17     4.000000     1.000000  4.880140e-01  2.734190e-01"
      ],
      "text/html": "<div>\n<style scoped>\n    .dataframe tbody tr th:only-of-type {\n        vertical-align: middle;\n    }\n\n    .dataframe tbody tr th {\n        vertical-align: top;\n    }\n\n    .dataframe thead th {\n        text-align: right;\n    }\n</style>\n<table border=\"1\" class=\"dataframe\">\n  <thead>\n    <tr style=\"text-align: right;\">\n      <th></th>\n      <th>tweet_id</th>\n      <th>img_num</th>\n      <th>p1_conf</th>\n      <th>p2_conf</th>\n      <th>p3_conf</th>\n    </tr>\n  </thead>\n  <tbody>\n    <tr>\n      <th>count</th>\n      <td>2.075000e+03</td>\n      <td>2075.000000</td>\n      <td>2075.000000</td>\n      <td>2.075000e+03</td>\n      <td>2.075000e+03</td>\n    </tr>\n    <tr>\n      <th>mean</th>\n      <td>7.384514e+17</td>\n      <td>1.203855</td>\n      <td>0.594548</td>\n      <td>1.345886e-01</td>\n      <td>6.032417e-02</td>\n    </tr>\n    <tr>\n      <th>std</th>\n      <td>6.785203e+16</td>\n      <td>0.561875</td>\n      <td>0.271174</td>\n      <td>1.006657e-01</td>\n      <td>5.090593e-02</td>\n    </tr>\n    <tr>\n      <th>min</th>\n      <td>6.660209e+17</td>\n      <td>1.000000</td>\n      <td>0.044333</td>\n      <td>1.011300e-08</td>\n      <td>1.740170e-10</td>\n    </tr>\n    <tr>\n      <th>25%</th>\n      <td>6.764835e+17</td>\n      <td>1.000000</td>\n      <td>0.364412</td>\n      <td>5.388625e-02</td>\n      <td>1.622240e-02</td>\n    </tr>\n    <tr>\n      <th>50%</th>\n      <td>7.119988e+17</td>\n      <td>1.000000</td>\n      <td>0.588230</td>\n      <td>1.181810e-01</td>\n      <td>4.944380e-02</td>\n    </tr>\n    <tr>\n      <th>75%</th>\n      <td>7.932034e+17</td>\n      <td>1.000000</td>\n      <td>0.843855</td>\n      <td>1.955655e-01</td>\n      <td>9.180755e-02</td>\n    </tr>\n    <tr>\n      <th>max</th>\n      <td>8.924206e+17</td>\n      <td>4.000000</td>\n      <td>1.000000</td>\n      <td>4.880140e-01</td>\n      <td>2.734190e-01</td>\n    </tr>\n  </tbody>\n</table>\n</div>"
     },
     "metadata": {},
     "execution_count": 71
    }
   ],
   "source": [
    "df_image_predictor.describe()"
   ]
  },
  {
   "cell_type": "code",
   "execution_count": 72,
   "metadata": {},
   "outputs": [
    {
     "output_type": "stream",
     "name": "stdout",
     "text": [
      "Dataframe contains the following columns:\nIndex(['tweet_id', 'jpg_url', 'img_num', 'p1', 'p1_conf', 'p1_dog', 'p2',\n       'p2_conf', 'p2_dog', 'p3', 'p3_conf', 'p3_dog'],\n      dtype='object')\n\nColumn 0 - 'tweet_id' has been assessed. Assessment saved in results[0] and summary[0]\nColumn 1 - 'jpg_url' has been assessed. Assessment saved in results[1] and summary[1]\nColumn 2 - 'img_num' has been assessed. Assessment saved in results[2] and summary[2]\nColumn 3 - 'p1' has been assessed. Assessment saved in results[3] and summary[3]\nColumn 4 - 'p1_conf' has been assessed. Assessment saved in results[4] and summary[4]\nColumn 5 - 'p1_dog' has been assessed. Assessment saved in results[5] and summary[5]\nColumn 6 - 'p2' has been assessed. Assessment saved in results[6] and summary[6]\nColumn 7 - 'p2_conf' has been assessed. Assessment saved in results[7] and summary[7]\nColumn 8 - 'p2_dog' has been assessed. Assessment saved in results[8] and summary[8]\nColumn 9 - 'p3' has been assessed. Assessment saved in results[9] and summary[9]\nColumn 10 - 'p3_conf' has been assessed. Assessment saved in results[10] and summary[10]\nColumn 11 - 'p3_dog' has been assessed. Assessment saved in results[11] and summary[11]\nNOTE: To access variables, set a series name e.g below:\nseries[0][x] to access summary details.\nseries[1][x] to access the value_counts results.\nx represents column number\n"
     ]
    }
   ],
   "source": [
    "img_assessed = go_assess(df_image_predictor)"
   ]
  },
  {
   "cell_type": "code",
   "execution_count": 77,
   "metadata": {},
   "outputs": [
    {
     "output_type": "execute_result",
     "data": {
      "text/plain": [
       "(\"No duplicates found in column 'tweet_id'.\",\n",
       " 685532292383666176    1\n",
       " 826598365270007810    1\n",
       " 692158366030913536    1\n",
       " 714606013974974464    1\n",
       " 715696743237730304    1\n",
       "                      ..\n",
       " 816829038950027264    1\n",
       " 847971574464610304    1\n",
       " 713175907180089344    1\n",
       " 670338931251150849    1\n",
       " 700151421916807169    1\n",
       " Name: tweet_id, Length: 2075, dtype: int64)"
      ]
     },
     "metadata": {},
     "execution_count": 77
    }
   ],
   "source": [
    "### Column 0\n",
    "img_assessed[0][0], img_assessed[1][0]"
   ]
  },
  {
   "source": [],
   "cell_type": "markdown",
   "metadata": {}
  },
  {
   "cell_type": "code",
   "execution_count": 74,
   "metadata": {},
   "outputs": [
    {
     "output_type": "execute_result",
     "data": {
      "text/plain": [
       "320    https://pbs.twimg.com/tweet_video_thumb/CVKtH-...\n",
       "815    https://pbs.twimg.com/tweet_video_thumb/CZ0mhd...\n",
       "Name: jpg_url, dtype: object"
      ]
     },
     "metadata": {},
     "execution_count": 74
    }
   ],
   "source": [
    "### Column 1\n",
    "# search for files other then .jpg, use .split and sift through values\n",
    "not_jpg = df_image_predictor[~df_image_predictor.jpg_url.str.contains('.jpg',)]\n",
    "not_jpg.jpg_url"
   ]
  },
  {
   "cell_type": "code",
   "execution_count": 78,
   "metadata": {},
   "outputs": [
    {
     "output_type": "execute_result",
     "data": {
      "text/plain": [
       "(\"Duplicates found in column 'jpg_url', the max duplicate item repeats 2 times.\",\n",
       " https://pbs.twimg.com/media/CkNjahBXAAQ2kWo.jpg    2\n",
       " https://pbs.twimg.com/media/CU1zsMSUAAAS0qW.jpg    2\n",
       " https://pbs.twimg.com/media/CdHwZd0VIAA4792.jpg    2\n",
       " https://pbs.twimg.com/media/CVgdFjNWEAAxmbq.jpg    2\n",
       " https://pbs.twimg.com/media/Cx5R8wPVEAALa9r.jpg    2\n",
       "                                                   ..\n",
       " https://pbs.twimg.com/media/DBAePiVXcAAqHSR.jpg    1\n",
       " https://pbs.twimg.com/media/DFrEyVuW0AAO3t9.jpg    1\n",
       " https://pbs.twimg.com/media/ClCQzFUUYAA5vAu.jpg    1\n",
       " https://pbs.twimg.com/media/CZIr5gFUsAAvnif.jpg    1\n",
       " https://pbs.twimg.com/media/CfznaXuUsAAH-py.jpg    1\n",
       " Name: jpg_url, Length: 2009, dtype: int64)"
      ]
     },
     "metadata": {},
     "execution_count": 78
    }
   ],
   "source": [
    "img_assessed[0][1], img_assessed[1][1]"
   ]
  },
  {
   "source": [
    "### Column 2\n",
    "img_assessed[0][2], img_assessed[1][2]"
   ],
   "cell_type": "code",
   "metadata": {},
   "execution_count": 79,
   "outputs": [
    {
     "output_type": "execute_result",
     "data": {
      "text/plain": [
       "(\"Duplicates found in column 'img_num', the max duplicate item repeats 1780 times.\",\n",
       " 1    1780\n",
       " 2     198\n",
       " 3      66\n",
       " 4      31\n",
       " Name: img_num, dtype: int64)"
      ]
     },
     "metadata": {},
     "execution_count": 79
    }
   ]
  },
  {
   "cell_type": "code",
   "execution_count": 80,
   "metadata": {},
   "outputs": [
    {
     "output_type": "execute_result",
     "data": {
      "text/plain": [
       "(\"Duplicates found in column 'p1', the max duplicate item repeats 150 times.\",\n",
       " golden_retriever      150\n",
       " Labrador_retriever    100\n",
       " Pembroke               89\n",
       " Chihuahua              83\n",
       " pug                    57\n",
       "                      ... \n",
       " candle                  1\n",
       " binoculars              1\n",
       " prayer_rug              1\n",
       " suit                    1\n",
       " canoe                   1\n",
       " Name: p1, Length: 378, dtype: int64)"
      ]
     },
     "metadata": {},
     "execution_count": 80
    }
   ],
   "source": [
    "### Column 3\n",
    "img_assessed[0][3], img_assessed[1][3]"
   ]
  },
  {
   "cell_type": "code",
   "execution_count": 82,
   "metadata": {},
   "outputs": [
    {
     "output_type": "execute_result",
     "data": {
      "text/plain": [
       "Empty DataFrame\n",
       "Columns: [tweet_id, jpg_url, img_num, p1, p1_conf, p1_dog, p2, p2_conf, p2_dog, p3, p3_conf, p3_dog]\n",
       "Index: []"
      ],
      "text/html": "<div>\n<style scoped>\n    .dataframe tbody tr th:only-of-type {\n        vertical-align: middle;\n    }\n\n    .dataframe tbody tr th {\n        vertical-align: top;\n    }\n\n    .dataframe thead th {\n        text-align: right;\n    }\n</style>\n<table border=\"1\" class=\"dataframe\">\n  <thead>\n    <tr style=\"text-align: right;\">\n      <th></th>\n      <th>tweet_id</th>\n      <th>jpg_url</th>\n      <th>img_num</th>\n      <th>p1</th>\n      <th>p1_conf</th>\n      <th>p1_dog</th>\n      <th>p2</th>\n      <th>p2_conf</th>\n      <th>p2_dog</th>\n      <th>p3</th>\n      <th>p3_conf</th>\n      <th>p3_dog</th>\n    </tr>\n  </thead>\n  <tbody>\n  </tbody>\n</table>\n</div>"
     },
     "metadata": {},
     "execution_count": 82
    }
   ],
   "source": [
    "is_ws = df_image_predictor[df_image_predictor.p1.str.contains(' ',)]\n",
    "is_ws"
   ]
  },
  {
   "cell_type": "code",
   "execution_count": 130,
   "metadata": {},
   "outputs": [
    {
     "output_type": "execute_result",
     "data": {
      "text/plain": [
       "espresso        1\n",
       "book_jacket     1\n",
       "ocarina         1\n",
       "picket_fence    1\n",
       "teapot          1\n",
       "               ..\n",
       "candle          1\n",
       "binoculars      1\n",
       "prayer_rug      1\n",
       "suit            1\n",
       "canoe           1\n",
       "Name: p1, Length: 175, dtype: int64"
      ]
     },
     "metadata": {},
     "execution_count": 130
    }
   ],
   "source": [
    "mask = img_assessed[1][3] == 1\n",
    "img_assessed[1][3][mask]"
   ]
  },
  {
   "cell_type": "code",
   "execution_count": 132,
   "metadata": {},
   "outputs": [
    {
     "output_type": "execute_result",
     "data": {
      "text/plain": [
       "(\"Duplicates found in column 'p1_conf', the max duplicate item repeats 2 times.\",\n",
       " 0.366248    2\n",
       " 0.713293    2\n",
       " 0.375098    2\n",
       " 0.636169    2\n",
       " 0.611525    2\n",
       "            ..\n",
       " 0.713102    1\n",
       " 0.765266    1\n",
       " 0.491022    1\n",
       " 0.905334    1\n",
       " 1.000000    1\n",
       " Name: p1_conf, Length: 2006, dtype: int64)"
      ]
     },
     "metadata": {},
     "execution_count": 132
    }
   ],
   "source": [
    "### Column 4\n",
    "img_assessed[0][4], img_assessed[1][4]"
   ]
  },
  {
   "cell_type": "code",
   "execution_count": 133,
   "metadata": {},
   "outputs": [
    {
     "output_type": "execute_result",
     "data": {
      "text/plain": [
       "(\"Duplicates found in column 'p1_dog', the max duplicate item repeats 1532 times.\",\n",
       " True     1532\n",
       " False     543\n",
       " Name: p1_dog, dtype: int64)"
      ]
     },
     "metadata": {},
     "execution_count": 133
    }
   ],
   "source": [
    "### Column 5\n",
    "img_assessed[0][5], img_assessed[1][5]"
   ]
  },
  {
   "cell_type": "code",
   "execution_count": 149,
   "metadata": {},
   "outputs": [
    {
     "output_type": "execute_result",
     "data": {
      "text/plain": [
       "                tweet_id                                            jpg_url  \\\n",
       "6     666051853826850816    https://pbs.twimg.com/media/CT5KoJ1WoAAJash.jpg   \n",
       "8     666057090499244032    https://pbs.twimg.com/media/CT5PY90WoAAQGLo.jpg   \n",
       "17    666104133288665088    https://pbs.twimg.com/media/CT56LSZWoAAlJj2.jpg   \n",
       "18    666268910803644416    https://pbs.twimg.com/media/CT8QCd1WEAADXws.jpg   \n",
       "21    666293911632134144    https://pbs.twimg.com/media/CT8mx7KW4AEQu8N.jpg   \n",
       "...                  ...                                                ...   \n",
       "2026  882045870035918850    https://pbs.twimg.com/media/DD2oCl2WAAEI_4a.jpg   \n",
       "2046  886680336477933568    https://pbs.twimg.com/media/DE4fEDzWAAAyHMM.jpg   \n",
       "2052  887517139158093824  https://pbs.twimg.com/ext_tw_video_thumb/88751...   \n",
       "2071  891689557279858688    https://pbs.twimg.com/media/DF_q7IAWsAEuuN8.jpg   \n",
       "2074  892420643555336193    https://pbs.twimg.com/media/DGKD1-bXoAAIAUK.jpg   \n",
       "\n",
       "                    p1  p1_dog  \n",
       "6           box_turtle   False  \n",
       "8        shopping_cart   False  \n",
       "17                 hen   False  \n",
       "18    desktop_computer   False  \n",
       "21    three-toed_sloth   False  \n",
       "...                ...     ...  \n",
       "2026          web_site   False  \n",
       "2046       convertible   False  \n",
       "2052         limousine   False  \n",
       "2071       paper_towel   False  \n",
       "2074            orange   False  \n",
       "\n",
       "[543 rows x 4 columns]"
      ],
      "text/html": "<div>\n<style scoped>\n    .dataframe tbody tr th:only-of-type {\n        vertical-align: middle;\n    }\n\n    .dataframe tbody tr th {\n        vertical-align: top;\n    }\n\n    .dataframe thead th {\n        text-align: right;\n    }\n</style>\n<table border=\"1\" class=\"dataframe\">\n  <thead>\n    <tr style=\"text-align: right;\">\n      <th></th>\n      <th>tweet_id</th>\n      <th>jpg_url</th>\n      <th>p1</th>\n      <th>p1_dog</th>\n    </tr>\n  </thead>\n  <tbody>\n    <tr>\n      <th>6</th>\n      <td>666051853826850816</td>\n      <td>https://pbs.twimg.com/media/CT5KoJ1WoAAJash.jpg</td>\n      <td>box_turtle</td>\n      <td>False</td>\n    </tr>\n    <tr>\n      <th>8</th>\n      <td>666057090499244032</td>\n      <td>https://pbs.twimg.com/media/CT5PY90WoAAQGLo.jpg</td>\n      <td>shopping_cart</td>\n      <td>False</td>\n    </tr>\n    <tr>\n      <th>17</th>\n      <td>666104133288665088</td>\n      <td>https://pbs.twimg.com/media/CT56LSZWoAAlJj2.jpg</td>\n      <td>hen</td>\n      <td>False</td>\n    </tr>\n    <tr>\n      <th>18</th>\n      <td>666268910803644416</td>\n      <td>https://pbs.twimg.com/media/CT8QCd1WEAADXws.jpg</td>\n      <td>desktop_computer</td>\n      <td>False</td>\n    </tr>\n    <tr>\n      <th>21</th>\n      <td>666293911632134144</td>\n      <td>https://pbs.twimg.com/media/CT8mx7KW4AEQu8N.jpg</td>\n      <td>three-toed_sloth</td>\n      <td>False</td>\n    </tr>\n    <tr>\n      <th>...</th>\n      <td>...</td>\n      <td>...</td>\n      <td>...</td>\n      <td>...</td>\n    </tr>\n    <tr>\n      <th>2026</th>\n      <td>882045870035918850</td>\n      <td>https://pbs.twimg.com/media/DD2oCl2WAAEI_4a.jpg</td>\n      <td>web_site</td>\n      <td>False</td>\n    </tr>\n    <tr>\n      <th>2046</th>\n      <td>886680336477933568</td>\n      <td>https://pbs.twimg.com/media/DE4fEDzWAAAyHMM.jpg</td>\n      <td>convertible</td>\n      <td>False</td>\n    </tr>\n    <tr>\n      <th>2052</th>\n      <td>887517139158093824</td>\n      <td>https://pbs.twimg.com/ext_tw_video_thumb/88751...</td>\n      <td>limousine</td>\n      <td>False</td>\n    </tr>\n    <tr>\n      <th>2071</th>\n      <td>891689557279858688</td>\n      <td>https://pbs.twimg.com/media/DF_q7IAWsAEuuN8.jpg</td>\n      <td>paper_towel</td>\n      <td>False</td>\n    </tr>\n    <tr>\n      <th>2074</th>\n      <td>892420643555336193</td>\n      <td>https://pbs.twimg.com/media/DGKD1-bXoAAIAUK.jpg</td>\n      <td>orange</td>\n      <td>False</td>\n    </tr>\n  </tbody>\n</table>\n<p>543 rows × 4 columns</p>\n</div>"
     },
     "metadata": {},
     "execution_count": 149
    }
   ],
   "source": [
    "df_image_predictor.query('p1_dog == False').iloc[:, [0,1,3,5]]"
   ]
  },
  {
   "cell_type": "code",
   "execution_count": 161,
   "metadata": {},
   "outputs": [
    {
     "output_type": "execute_result",
     "data": {
      "text/plain": [
       "                tweet_id                                            jpg_url  \\\n",
       "6     666051853826850816    https://pbs.twimg.com/media/CT5KoJ1WoAAJash.jpg   \n",
       "8     666057090499244032    https://pbs.twimg.com/media/CT5PY90WoAAQGLo.jpg   \n",
       "17    666104133288665088    https://pbs.twimg.com/media/CT56LSZWoAAlJj2.jpg   \n",
       "18    666268910803644416    https://pbs.twimg.com/media/CT8QCd1WEAADXws.jpg   \n",
       "21    666293911632134144    https://pbs.twimg.com/media/CT8mx7KW4AEQu8N.jpg   \n",
       "...                  ...                                                ...   \n",
       "2026  882045870035918850    https://pbs.twimg.com/media/DD2oCl2WAAEI_4a.jpg   \n",
       "2046  886680336477933568    https://pbs.twimg.com/media/DE4fEDzWAAAyHMM.jpg   \n",
       "2052  887517139158093824  https://pbs.twimg.com/ext_tw_video_thumb/88751...   \n",
       "2071  891689557279858688    https://pbs.twimg.com/media/DF_q7IAWsAEuuN8.jpg   \n",
       "2074  892420643555336193    https://pbs.twimg.com/media/DGKD1-bXoAAIAUK.jpg   \n",
       "\n",
       "      img_num                p1   p1_conf  p1_dog  \n",
       "6           1        box_turtle  0.933012   False  \n",
       "8           1     shopping_cart  0.962465   False  \n",
       "17          1               hen  0.965932   False  \n",
       "18          1  desktop_computer  0.086502   False  \n",
       "21          1  three-toed_sloth  0.914671   False  \n",
       "...       ...               ...       ...     ...  \n",
       "2026        1          web_site  0.949591   False  \n",
       "2046        1       convertible  0.738995   False  \n",
       "2052        1         limousine  0.130432   False  \n",
       "2071        1       paper_towel  0.170278   False  \n",
       "2074        1            orange  0.097049   False  \n",
       "\n",
       "[543 rows x 6 columns]"
      ],
      "text/html": "<div>\n<style scoped>\n    .dataframe tbody tr th:only-of-type {\n        vertical-align: middle;\n    }\n\n    .dataframe tbody tr th {\n        vertical-align: top;\n    }\n\n    .dataframe thead th {\n        text-align: right;\n    }\n</style>\n<table border=\"1\" class=\"dataframe\">\n  <thead>\n    <tr style=\"text-align: right;\">\n      <th></th>\n      <th>tweet_id</th>\n      <th>jpg_url</th>\n      <th>img_num</th>\n      <th>p1</th>\n      <th>p1_conf</th>\n      <th>p1_dog</th>\n    </tr>\n  </thead>\n  <tbody>\n    <tr>\n      <th>6</th>\n      <td>666051853826850816</td>\n      <td>https://pbs.twimg.com/media/CT5KoJ1WoAAJash.jpg</td>\n      <td>1</td>\n      <td>box_turtle</td>\n      <td>0.933012</td>\n      <td>False</td>\n    </tr>\n    <tr>\n      <th>8</th>\n      <td>666057090499244032</td>\n      <td>https://pbs.twimg.com/media/CT5PY90WoAAQGLo.jpg</td>\n      <td>1</td>\n      <td>shopping_cart</td>\n      <td>0.962465</td>\n      <td>False</td>\n    </tr>\n    <tr>\n      <th>17</th>\n      <td>666104133288665088</td>\n      <td>https://pbs.twimg.com/media/CT56LSZWoAAlJj2.jpg</td>\n      <td>1</td>\n      <td>hen</td>\n      <td>0.965932</td>\n      <td>False</td>\n    </tr>\n    <tr>\n      <th>18</th>\n      <td>666268910803644416</td>\n      <td>https://pbs.twimg.com/media/CT8QCd1WEAADXws.jpg</td>\n      <td>1</td>\n      <td>desktop_computer</td>\n      <td>0.086502</td>\n      <td>False</td>\n    </tr>\n    <tr>\n      <th>21</th>\n      <td>666293911632134144</td>\n      <td>https://pbs.twimg.com/media/CT8mx7KW4AEQu8N.jpg</td>\n      <td>1</td>\n      <td>three-toed_sloth</td>\n      <td>0.914671</td>\n      <td>False</td>\n    </tr>\n    <tr>\n      <th>...</th>\n      <td>...</td>\n      <td>...</td>\n      <td>...</td>\n      <td>...</td>\n      <td>...</td>\n      <td>...</td>\n    </tr>\n    <tr>\n      <th>2026</th>\n      <td>882045870035918850</td>\n      <td>https://pbs.twimg.com/media/DD2oCl2WAAEI_4a.jpg</td>\n      <td>1</td>\n      <td>web_site</td>\n      <td>0.949591</td>\n      <td>False</td>\n    </tr>\n    <tr>\n      <th>2046</th>\n      <td>886680336477933568</td>\n      <td>https://pbs.twimg.com/media/DE4fEDzWAAAyHMM.jpg</td>\n      <td>1</td>\n      <td>convertible</td>\n      <td>0.738995</td>\n      <td>False</td>\n    </tr>\n    <tr>\n      <th>2052</th>\n      <td>887517139158093824</td>\n      <td>https://pbs.twimg.com/ext_tw_video_thumb/88751...</td>\n      <td>1</td>\n      <td>limousine</td>\n      <td>0.130432</td>\n      <td>False</td>\n    </tr>\n    <tr>\n      <th>2071</th>\n      <td>891689557279858688</td>\n      <td>https://pbs.twimg.com/media/DF_q7IAWsAEuuN8.jpg</td>\n      <td>1</td>\n      <td>paper_towel</td>\n      <td>0.170278</td>\n      <td>False</td>\n    </tr>\n    <tr>\n      <th>2074</th>\n      <td>892420643555336193</td>\n      <td>https://pbs.twimg.com/media/DGKD1-bXoAAIAUK.jpg</td>\n      <td>1</td>\n      <td>orange</td>\n      <td>0.097049</td>\n      <td>False</td>\n    </tr>\n  </tbody>\n</table>\n<p>543 rows × 6 columns</p>\n</div>"
     },
     "metadata": {},
     "execution_count": 161
    }
   ],
   "source": [
    "p1_df = df_image_predictor.query('p1_dog == False').iloc[:,:6]\n",
    "p1_df"
   ]
  },
  {
   "cell_type": "code",
   "execution_count": 178,
   "metadata": {},
   "outputs": [
    {
     "output_type": "execute_result",
     "data": {
      "text/plain": [
       "p1\n",
       "African_crocodile      1\n",
       "African_grey           1\n",
       "African_hunting_dog    1\n",
       "American_black_bear    1\n",
       "Angora                 2\n",
       "                      ..\n",
       "wombat                 4\n",
       "wood_rabbit            3\n",
       "wooden_spoon           1\n",
       "wool                   2\n",
       "zebra                  1\n",
       "Length: 267, dtype: int64"
      ]
     },
     "metadata": {},
     "execution_count": 178
    }
   ],
   "source": [
    "p1_df.groupby(['p1']).size()"
   ]
  },
  {
   "cell_type": "code",
   "execution_count": 179,
   "metadata": {},
   "outputs": [
    {
     "output_type": "execute_result",
     "data": {
      "text/plain": [
       "(\"Duplicates found in column 'p2', the max duplicate item repeats 104 times.\",\n",
       " Labrador_retriever    104\n",
       " golden_retriever       92\n",
       " Cardigan               73\n",
       " Chihuahua              44\n",
       " Pomeranian             42\n",
       "                      ... \n",
       " ice_lolly               1\n",
       " wombat                  1\n",
       " spotlight               1\n",
       " cardigan                1\n",
       " spotted_salamander      1\n",
       " Name: p2, Length: 405, dtype: int64)"
      ]
     },
     "metadata": {},
     "execution_count": 179
    }
   ],
   "source": [
    "### Column 6\n",
    "img_assessed[0][6], img_assessed[1][6]"
   ]
  },
  {
   "cell_type": "code",
   "execution_count": 180,
   "metadata": {},
   "outputs": [
    {
     "output_type": "execute_result",
     "data": {
      "text/plain": [
       "(\"Duplicates found in column 'p2_conf', the max duplicate item repeats 3 times.\",\n",
       " 0.069362    3\n",
       " 0.027907    2\n",
       " 0.193654    2\n",
       " 0.271929    2\n",
       " 0.003143    2\n",
       "            ..\n",
       " 0.138331    1\n",
       " 0.254884    1\n",
       " 0.090644    1\n",
       " 0.219323    1\n",
       " 0.016301    1\n",
       " Name: p2_conf, Length: 2004, dtype: int64)"
      ]
     },
     "metadata": {},
     "execution_count": 180
    }
   ],
   "source": [
    "### Column 7\n",
    "img_assessed[0][7], img_assessed[1][7]"
   ]
  },
  {
   "cell_type": "code",
   "execution_count": 183,
   "metadata": {},
   "outputs": [
    {
     "output_type": "execute_result",
     "data": {
      "text/plain": [
       "(\"Duplicates found in column 'p2_dog', the max duplicate item repeats 1553 times.\",\n",
       " True     1553\n",
       " False     522\n",
       " Name: p2_dog, dtype: int64)"
      ]
     },
     "metadata": {},
     "execution_count": 183
    }
   ],
   "source": [
    "### Column 8\n",
    "img_assessed[0][8], img_assessed[1][8]"
   ]
  },
  {
   "cell_type": "code",
   "execution_count": 182,
   "metadata": {},
   "outputs": [
    {
     "output_type": "execute_result",
     "data": {
      "text/plain": [
       "(\"Duplicates found in column 'p3', the max duplicate item repeats 79 times.\",\n",
       " Labrador_retriever    79\n",
       " Chihuahua             58\n",
       " golden_retriever      48\n",
       " Eskimo_dog            38\n",
       " kelpie                35\n",
       "                       ..\n",
       " rhinoceros_beetle      1\n",
       " notebook               1\n",
       " eel                    1\n",
       " park_bench             1\n",
       " toyshop                1\n",
       " Name: p3, Length: 408, dtype: int64)"
      ]
     },
     "metadata": {},
     "execution_count": 182
    }
   ],
   "source": [
    "### Column 9\n",
    "img_assessed[0][9], img_assessed[1][9]"
   ]
  },
  {
   "cell_type": "code",
   "execution_count": 184,
   "metadata": {},
   "outputs": [
    {
     "output_type": "execute_result",
     "data": {
      "text/plain": [
       "(\"Duplicates found in column 'p3_conf', the max duplicate item repeats 2 times.\",\n",
       " 0.094759    2\n",
       " 0.035711    2\n",
       " 0.000428    2\n",
       " 0.044660    2\n",
       " 0.162084    2\n",
       "            ..\n",
       " 0.024007    1\n",
       " 0.132820    1\n",
       " 0.002099    1\n",
       " 0.083643    1\n",
       " 0.033835    1\n",
       " Name: p3_conf, Length: 2006, dtype: int64)"
      ]
     },
     "metadata": {},
     "execution_count": 184
    }
   ],
   "source": [
    "### Column 10\n",
    "img_assessed[0][10], img_assessed[1][10]"
   ]
  },
  {
   "cell_type": "code",
   "execution_count": 185,
   "metadata": {},
   "outputs": [
    {
     "output_type": "execute_result",
     "data": {
      "text/plain": [
       "(\"Duplicates found in column 'p3_dog', the max duplicate item repeats 1499 times.\",\n",
       " True     1499\n",
       " False     576\n",
       " Name: p3_dog, dtype: int64)"
      ]
     },
     "metadata": {},
     "execution_count": 185
    }
   ],
   "source": [
    "### Column 11\n",
    "img_assessed[0][11], img_assessed[1][11]"
   ]
  },
  {
   "source": [
    "## Cleaning data\n"
   ],
   "cell_type": "markdown",
   "metadata": {}
  },
  {
   "cell_type": "code",
   "execution_count": 190,
   "metadata": {},
   "outputs": [
    {
     "output_type": "execute_result",
     "data": {
      "text/plain": [
       "      in_reply_to_status_id  in_reply_to_user_id\n",
       "0                       NaN                  NaN\n",
       "1                       NaN                  NaN\n",
       "2                       NaN                  NaN\n",
       "3                       NaN                  NaN\n",
       "4                       NaN                  NaN\n",
       "...                     ...                  ...\n",
       "2351                    NaN                  NaN\n",
       "2352                    NaN                  NaN\n",
       "2353                    NaN                  NaN\n",
       "2354                    NaN                  NaN\n",
       "2355                    NaN                  NaN\n",
       "\n",
       "[2356 rows x 2 columns]"
      ],
      "text/html": "<div>\n<style scoped>\n    .dataframe tbody tr th:only-of-type {\n        vertical-align: middle;\n    }\n\n    .dataframe tbody tr th {\n        vertical-align: top;\n    }\n\n    .dataframe thead th {\n        text-align: right;\n    }\n</style>\n<table border=\"1\" class=\"dataframe\">\n  <thead>\n    <tr style=\"text-align: right;\">\n      <th></th>\n      <th>in_reply_to_status_id</th>\n      <th>in_reply_to_user_id</th>\n    </tr>\n  </thead>\n  <tbody>\n    <tr>\n      <th>0</th>\n      <td>NaN</td>\n      <td>NaN</td>\n    </tr>\n    <tr>\n      <th>1</th>\n      <td>NaN</td>\n      <td>NaN</td>\n    </tr>\n    <tr>\n      <th>2</th>\n      <td>NaN</td>\n      <td>NaN</td>\n    </tr>\n    <tr>\n      <th>3</th>\n      <td>NaN</td>\n      <td>NaN</td>\n    </tr>\n    <tr>\n      <th>4</th>\n      <td>NaN</td>\n      <td>NaN</td>\n    </tr>\n    <tr>\n      <th>...</th>\n      <td>...</td>\n      <td>...</td>\n    </tr>\n    <tr>\n      <th>2351</th>\n      <td>NaN</td>\n      <td>NaN</td>\n    </tr>\n    <tr>\n      <th>2352</th>\n      <td>NaN</td>\n      <td>NaN</td>\n    </tr>\n    <tr>\n      <th>2353</th>\n      <td>NaN</td>\n      <td>NaN</td>\n    </tr>\n    <tr>\n      <th>2354</th>\n      <td>NaN</td>\n      <td>NaN</td>\n    </tr>\n    <tr>\n      <th>2355</th>\n      <td>NaN</td>\n      <td>NaN</td>\n    </tr>\n  </tbody>\n</table>\n<p>2356 rows × 2 columns</p>\n</div>"
     },
     "metadata": {},
     "execution_count": 190
    }
   ],
   "source": [
    "# change\n",
    "df_twitter.iloc[:,1:3]"
   ]
  },
  {
   "cell_type": "code",
   "execution_count": null,
   "metadata": {},
   "outputs": [],
   "source": []
  },
  {
   "cell_type": "code",
   "execution_count": null,
   "metadata": {},
   "outputs": [],
   "source": []
  },
  {
   "cell_type": "code",
   "execution_count": 75,
   "metadata": {},
   "outputs": [],
   "source": [
    "# Misc: Workspace"
   ]
  },
  {
   "source": [
    "## Save clean data"
   ],
   "cell_type": "markdown",
   "metadata": {}
  }
 ],
 "metadata": {
  "kernelspec": {
   "name": "python3",
   "display_name": "Python 3"
  },
  "language_info": {
   "codemirror_mode": {
    "name": "ipython",
    "version": 3
   },
   "file_extension": ".py",
   "mimetype": "text/x-python",
   "name": "python",
   "nbconvert_exporter": "python",
   "pygments_lexer": "ipython3",
   "version": "3.8.5-final"
  }
 },
 "nbformat": 4,
 "nbformat_minor": 2
}