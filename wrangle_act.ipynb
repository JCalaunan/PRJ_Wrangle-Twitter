{
 "cells": [
  {
   "cell_type": "code",
   "execution_count": null,
   "metadata": {},
   "outputs": [],
   "source": [
    "# PROJECT 4 - Wrangle Twitter data via API"
   ]
  },
  {
   "source": [
    "## Table of Contents\n",
    "* [Introduction](#intro)\n",
    "* [Initial Brief](#1.1-initial-brief)\n",
    "* [General Outline](#general_outline)\n",
    "* [Import Libraries](#)\n",
    "* [](#)\n",
    "* [](#)\n",
    "\n",
    "`Note: Fill at the end. Automate with python library/extension.`"
   ],
   "cell_type": "markdown",
   "metadata": {}
  },
  {
   "source": [
    "# Introduction\n",
    "Gather readily available data from an existing source on the web to allow first hand experience of wrangling data.<br>\n",
    "It is a significant task as data will not always be provided and if it is: <br>\n",
    " - Best case: Spelling mistakes and/or equivalent,\n",
    " - Worst case: No schema/format, duplicates, incomplete and/or incorrect values recorded."
   ],
   "cell_type": "markdown",
   "metadata": {}
  },
  {
   "source": [
    "## Initial Brief\n",
    "- User has provided archived twitter data for analysis\n",
    " - [ ] Twitter archive export in CSV\n",
    " - [ ] URL to Machine Learning image predictions\n",
    "<br>\n",
    "- Identify minimum:\n",
    " - [ ] 8 quality issues\n",
    " - [ ] 2 tidiness issues\n",
    "<br>\n",
    "- Out of scope:\n",
    " - [ ] Unique rating system\n",
    " - [ ] No gathering required past 01 Aug 2017"
   ],
   "cell_type": "markdown",
   "metadata": {}
  },
  {
   "source": [
    "## General outline\n",
    "- [ ] Read-in CSV data\n",
    "- [ ] Access URL data (_over manually downloading file_)"
   ],
   "cell_type": "markdown",
   "metadata": {}
  },
  {
   "cell_type": "code",
   "execution_count": null,
   "metadata": {},
   "outputs": [],
   "source": [
    "## install modules via terminal\n",
    "#pip install pandas # also downloads numpy\n",
    "#pip install requests\n",
    "#pip install tweepy\n",
    "\n",
    "## Optional - provides TOC\n",
    "#pip install jupyter_contrib_nbextensions"
   ]
  },
  {
   "source": [
    "## Import Libraries"
   ],
   "cell_type": "markdown",
   "metadata": {}
  },
  {
   "cell_type": "code",
   "execution_count": 2,
   "metadata": {},
   "outputs": [],
   "source": [
    "import pandas as pd\n",
    "import numpy as np\n",
    "\n",
    "import json # json encoder and decoder"
   ]
  },
  {
   "source": [
    "## Data Wrangling"
   ],
   "cell_type": "markdown",
   "metadata": {}
  },
  {
   "source": [
    "## Iteration 1\n",
    "Import data from a twitter user archive provided by the end-user\n",
    "\n",
    "`Note: Add edit# upon addition of new issue.`"
   ],
   "cell_type": "markdown",
   "metadata": {}
  },
  {
   "source": [
    "### Gathering 1"
   ],
   "cell_type": "markdown",
   "metadata": {}
  },
  {
   "cell_type": "code",
   "execution_count": 3,
   "metadata": {},
   "outputs": [],
   "source": [
    "df_twitter_raw = pd.read_csv('twitter-archive-enhanced-2.csv')"
   ]
  },
  {
   "cell_type": "code",
   "execution_count": 5,
   "metadata": {},
   "outputs": [
    {
     "output_type": "execute_result",
     "data": {
      "text/plain": [
       "             tweet_id  in_reply_to_status_id  in_reply_to_user_id  \\\n",
       "0  892420643555336193                    NaN                  NaN   \n",
       "1  892177421306343426                    NaN                  NaN   \n",
       "2  891815181378084864                    NaN                  NaN   \n",
       "3  891689557279858688                    NaN                  NaN   \n",
       "4  891327558926688256                    NaN                  NaN   \n",
       "\n",
       "                   timestamp  \\\n",
       "0  2017-08-01 16:23:56 +0000   \n",
       "1  2017-08-01 00:17:27 +0000   \n",
       "2  2017-07-31 00:18:03 +0000   \n",
       "3  2017-07-30 15:58:51 +0000   \n",
       "4  2017-07-29 16:00:24 +0000   \n",
       "\n",
       "                                              source  \\\n",
       "0  <a href=\"http://twitter.com/download/iphone\" r...   \n",
       "1  <a href=\"http://twitter.com/download/iphone\" r...   \n",
       "2  <a href=\"http://twitter.com/download/iphone\" r...   \n",
       "3  <a href=\"http://twitter.com/download/iphone\" r...   \n",
       "4  <a href=\"http://twitter.com/download/iphone\" r...   \n",
       "\n",
       "                                                text  retweeted_status_id  \\\n",
       "0  This is Phineas. He's a mystical boy. Only eve...                  NaN   \n",
       "1  This is Tilly. She's just checking pup on you....                  NaN   \n",
       "2  This is Archie. He is a rare Norwegian Pouncin...                  NaN   \n",
       "3  This is Darla. She commenced a snooze mid meal...                  NaN   \n",
       "4  This is Franklin. He would like you to stop ca...                  NaN   \n",
       "\n",
       "   retweeted_status_user_id retweeted_status_timestamp  \\\n",
       "0                       NaN                        NaN   \n",
       "1                       NaN                        NaN   \n",
       "2                       NaN                        NaN   \n",
       "3                       NaN                        NaN   \n",
       "4                       NaN                        NaN   \n",
       "\n",
       "                                       expanded_urls  rating_numerator  \\\n",
       "0  https://twitter.com/dog_rates/status/892420643...                13   \n",
       "1  https://twitter.com/dog_rates/status/892177421...                13   \n",
       "2  https://twitter.com/dog_rates/status/891815181...                12   \n",
       "3  https://twitter.com/dog_rates/status/891689557...                13   \n",
       "4  https://twitter.com/dog_rates/status/891327558...                12   \n",
       "\n",
       "   rating_denominator      name doggo floofer pupper puppo  \n",
       "0                  10   Phineas  None    None   None  None  \n",
       "1                  10     Tilly  None    None   None  None  \n",
       "2                  10    Archie  None    None   None  None  \n",
       "3                  10     Darla  None    None   None  None  \n",
       "4                  10  Franklin  None    None   None  None  "
      ],
      "text/html": "<div>\n<style scoped>\n    .dataframe tbody tr th:only-of-type {\n        vertical-align: middle;\n    }\n\n    .dataframe tbody tr th {\n        vertical-align: top;\n    }\n\n    .dataframe thead th {\n        text-align: right;\n    }\n</style>\n<table border=\"1\" class=\"dataframe\">\n  <thead>\n    <tr style=\"text-align: right;\">\n      <th></th>\n      <th>tweet_id</th>\n      <th>in_reply_to_status_id</th>\n      <th>in_reply_to_user_id</th>\n      <th>timestamp</th>\n      <th>source</th>\n      <th>text</th>\n      <th>retweeted_status_id</th>\n      <th>retweeted_status_user_id</th>\n      <th>retweeted_status_timestamp</th>\n      <th>expanded_urls</th>\n      <th>rating_numerator</th>\n      <th>rating_denominator</th>\n      <th>name</th>\n      <th>doggo</th>\n      <th>floofer</th>\n      <th>pupper</th>\n      <th>puppo</th>\n    </tr>\n  </thead>\n  <tbody>\n    <tr>\n      <th>0</th>\n      <td>892420643555336193</td>\n      <td>NaN</td>\n      <td>NaN</td>\n      <td>2017-08-01 16:23:56 +0000</td>\n      <td>&lt;a href=\"http://twitter.com/download/iphone\" r...</td>\n      <td>This is Phineas. He's a mystical boy. Only eve...</td>\n      <td>NaN</td>\n      <td>NaN</td>\n      <td>NaN</td>\n      <td>https://twitter.com/dog_rates/status/892420643...</td>\n      <td>13</td>\n      <td>10</td>\n      <td>Phineas</td>\n      <td>None</td>\n      <td>None</td>\n      <td>None</td>\n      <td>None</td>\n    </tr>\n    <tr>\n      <th>1</th>\n      <td>892177421306343426</td>\n      <td>NaN</td>\n      <td>NaN</td>\n      <td>2017-08-01 00:17:27 +0000</td>\n      <td>&lt;a href=\"http://twitter.com/download/iphone\" r...</td>\n      <td>This is Tilly. She's just checking pup on you....</td>\n      <td>NaN</td>\n      <td>NaN</td>\n      <td>NaN</td>\n      <td>https://twitter.com/dog_rates/status/892177421...</td>\n      <td>13</td>\n      <td>10</td>\n      <td>Tilly</td>\n      <td>None</td>\n      <td>None</td>\n      <td>None</td>\n      <td>None</td>\n    </tr>\n    <tr>\n      <th>2</th>\n      <td>891815181378084864</td>\n      <td>NaN</td>\n      <td>NaN</td>\n      <td>2017-07-31 00:18:03 +0000</td>\n      <td>&lt;a href=\"http://twitter.com/download/iphone\" r...</td>\n      <td>This is Archie. He is a rare Norwegian Pouncin...</td>\n      <td>NaN</td>\n      <td>NaN</td>\n      <td>NaN</td>\n      <td>https://twitter.com/dog_rates/status/891815181...</td>\n      <td>12</td>\n      <td>10</td>\n      <td>Archie</td>\n      <td>None</td>\n      <td>None</td>\n      <td>None</td>\n      <td>None</td>\n    </tr>\n    <tr>\n      <th>3</th>\n      <td>891689557279858688</td>\n      <td>NaN</td>\n      <td>NaN</td>\n      <td>2017-07-30 15:58:51 +0000</td>\n      <td>&lt;a href=\"http://twitter.com/download/iphone\" r...</td>\n      <td>This is Darla. She commenced a snooze mid meal...</td>\n      <td>NaN</td>\n      <td>NaN</td>\n      <td>NaN</td>\n      <td>https://twitter.com/dog_rates/status/891689557...</td>\n      <td>13</td>\n      <td>10</td>\n      <td>Darla</td>\n      <td>None</td>\n      <td>None</td>\n      <td>None</td>\n      <td>None</td>\n    </tr>\n    <tr>\n      <th>4</th>\n      <td>891327558926688256</td>\n      <td>NaN</td>\n      <td>NaN</td>\n      <td>2017-07-29 16:00:24 +0000</td>\n      <td>&lt;a href=\"http://twitter.com/download/iphone\" r...</td>\n      <td>This is Franklin. He would like you to stop ca...</td>\n      <td>NaN</td>\n      <td>NaN</td>\n      <td>NaN</td>\n      <td>https://twitter.com/dog_rates/status/891327558...</td>\n      <td>12</td>\n      <td>10</td>\n      <td>Franklin</td>\n      <td>None</td>\n      <td>None</td>\n      <td>None</td>\n      <td>None</td>\n    </tr>\n  </tbody>\n</table>\n</div>"
     },
     "metadata": {},
     "execution_count": 5
    }
   ],
   "source": [
    "df_twitter = df_twitter_raw.copy()"
   ]
  },
  {
   "source": [
    "### Assess 1"
   ],
   "cell_type": "markdown",
   "metadata": {}
  },
  {
   "cell_type": "code",
   "execution_count": 7,
   "metadata": {},
   "outputs": [
    {
     "output_type": "stream",
     "name": "stdout",
     "text": [
      "<class 'pandas.core.frame.DataFrame'>\nRangeIndex: 2356 entries, 0 to 2355\nData columns (total 17 columns):\n #   Column                      Non-Null Count  Dtype  \n---  ------                      --------------  -----  \n 0   tweet_id                    2356 non-null   int64  \n 1   in_reply_to_status_id       78 non-null     float64\n 2   in_reply_to_user_id         78 non-null     float64\n 3   timestamp                   2356 non-null   object \n 4   source                      2356 non-null   object \n 5   text                        2356 non-null   object \n 6   retweeted_status_id         181 non-null    float64\n 7   retweeted_status_user_id    181 non-null    float64\n 8   retweeted_status_timestamp  181 non-null    object \n 9   expanded_urls               2297 non-null   object \n 10  rating_numerator            2356 non-null   int64  \n 11  rating_denominator          2356 non-null   int64  \n 12  name                        2356 non-null   object \n 13  doggo                       2356 non-null   object \n 14  floofer                     2356 non-null   object \n 15  pupper                      2356 non-null   object \n 16  puppo                       2356 non-null   object \ndtypes: float64(4), int64(3), object(10)\nmemory usage: 313.0+ KB\n"
     ]
    }
   ],
   "source": [
    "df_twitter.info()"
   ]
  },
  {
   "cell_type": "code",
   "execution_count": 8,
   "metadata": {},
   "outputs": [
    {
     "output_type": "execute_result",
     "data": {
      "text/plain": [
       "           tweet_id  in_reply_to_status_id  in_reply_to_user_id  \\\n",
       "count  2.356000e+03           7.800000e+01         7.800000e+01   \n",
       "mean   7.427716e+17           7.455079e+17         2.014171e+16   \n",
       "std    6.856705e+16           7.582492e+16         1.252797e+17   \n",
       "min    6.660209e+17           6.658147e+17         1.185634e+07   \n",
       "25%    6.783989e+17           6.757419e+17         3.086374e+08   \n",
       "50%    7.196279e+17           7.038708e+17         4.196984e+09   \n",
       "75%    7.993373e+17           8.257804e+17         4.196984e+09   \n",
       "max    8.924206e+17           8.862664e+17         8.405479e+17   \n",
       "\n",
       "       retweeted_status_id  retweeted_status_user_id  rating_numerator  \\\n",
       "count         1.810000e+02              1.810000e+02       2356.000000   \n",
       "mean          7.720400e+17              1.241698e+16         13.126486   \n",
       "std           6.236928e+16              9.599254e+16         45.876648   \n",
       "min           6.661041e+17              7.832140e+05          0.000000   \n",
       "25%           7.186315e+17              4.196984e+09         10.000000   \n",
       "50%           7.804657e+17              4.196984e+09         11.000000   \n",
       "75%           8.203146e+17              4.196984e+09         12.000000   \n",
       "max           8.874740e+17              7.874618e+17       1776.000000   \n",
       "\n",
       "       rating_denominator  \n",
       "count         2356.000000  \n",
       "mean            10.455433  \n",
       "std              6.745237  \n",
       "min              0.000000  \n",
       "25%             10.000000  \n",
       "50%             10.000000  \n",
       "75%             10.000000  \n",
       "max            170.000000  "
      ],
      "text/html": "<div>\n<style scoped>\n    .dataframe tbody tr th:only-of-type {\n        vertical-align: middle;\n    }\n\n    .dataframe tbody tr th {\n        vertical-align: top;\n    }\n\n    .dataframe thead th {\n        text-align: right;\n    }\n</style>\n<table border=\"1\" class=\"dataframe\">\n  <thead>\n    <tr style=\"text-align: right;\">\n      <th></th>\n      <th>tweet_id</th>\n      <th>in_reply_to_status_id</th>\n      <th>in_reply_to_user_id</th>\n      <th>retweeted_status_id</th>\n      <th>retweeted_status_user_id</th>\n      <th>rating_numerator</th>\n      <th>rating_denominator</th>\n    </tr>\n  </thead>\n  <tbody>\n    <tr>\n      <th>count</th>\n      <td>2.356000e+03</td>\n      <td>7.800000e+01</td>\n      <td>7.800000e+01</td>\n      <td>1.810000e+02</td>\n      <td>1.810000e+02</td>\n      <td>2356.000000</td>\n      <td>2356.000000</td>\n    </tr>\n    <tr>\n      <th>mean</th>\n      <td>7.427716e+17</td>\n      <td>7.455079e+17</td>\n      <td>2.014171e+16</td>\n      <td>7.720400e+17</td>\n      <td>1.241698e+16</td>\n      <td>13.126486</td>\n      <td>10.455433</td>\n    </tr>\n    <tr>\n      <th>std</th>\n      <td>6.856705e+16</td>\n      <td>7.582492e+16</td>\n      <td>1.252797e+17</td>\n      <td>6.236928e+16</td>\n      <td>9.599254e+16</td>\n      <td>45.876648</td>\n      <td>6.745237</td>\n    </tr>\n    <tr>\n      <th>min</th>\n      <td>6.660209e+17</td>\n      <td>6.658147e+17</td>\n      <td>1.185634e+07</td>\n      <td>6.661041e+17</td>\n      <td>7.832140e+05</td>\n      <td>0.000000</td>\n      <td>0.000000</td>\n    </tr>\n    <tr>\n      <th>25%</th>\n      <td>6.783989e+17</td>\n      <td>6.757419e+17</td>\n      <td>3.086374e+08</td>\n      <td>7.186315e+17</td>\n      <td>4.196984e+09</td>\n      <td>10.000000</td>\n      <td>10.000000</td>\n    </tr>\n    <tr>\n      <th>50%</th>\n      <td>7.196279e+17</td>\n      <td>7.038708e+17</td>\n      <td>4.196984e+09</td>\n      <td>7.804657e+17</td>\n      <td>4.196984e+09</td>\n      <td>11.000000</td>\n      <td>10.000000</td>\n    </tr>\n    <tr>\n      <th>75%</th>\n      <td>7.993373e+17</td>\n      <td>8.257804e+17</td>\n      <td>4.196984e+09</td>\n      <td>8.203146e+17</td>\n      <td>4.196984e+09</td>\n      <td>12.000000</td>\n      <td>10.000000</td>\n    </tr>\n    <tr>\n      <th>max</th>\n      <td>8.924206e+17</td>\n      <td>8.862664e+17</td>\n      <td>8.405479e+17</td>\n      <td>8.874740e+17</td>\n      <td>7.874618e+17</td>\n      <td>1776.000000</td>\n      <td>170.000000</td>\n    </tr>\n  </tbody>\n</table>\n</div>"
     },
     "metadata": {},
     "execution_count": 8
    }
   ],
   "source": [
    "df_twitter.describe()"
   ]
  },
  {
   "cell_type": "code",
   "execution_count": 10,
   "metadata": {},
   "outputs": [
    {
     "output_type": "execute_result",
     "data": {
      "text/plain": [
       "                tweet_id  in_reply_to_status_id  in_reply_to_user_id  \\\n",
       "335   832645525019123713                    NaN                  NaN   \n",
       "445   819227688460238848                    NaN                  NaN   \n",
       "194   855245323840757760                    NaN                  NaN   \n",
       "1235  712668654853337088                    NaN                  NaN   \n",
       "707   785515384317313025                    NaN                  NaN   \n",
       "\n",
       "                      timestamp  \\\n",
       "335   2017-02-17 17:38:57 +0000   \n",
       "445   2017-01-11 17:01:16 +0000   \n",
       "194   2017-04-21 02:22:29 +0000   \n",
       "1235  2016-03-23 15:53:42 +0000   \n",
       "707   2016-10-10 16:20:36 +0000   \n",
       "\n",
       "                                                 source  \\\n",
       "335   <a href=\"http://twitter.com\" rel=\"nofollow\">Tw...   \n",
       "445   <a href=\"http://twitter.com/download/iphone\" r...   \n",
       "194   <a href=\"http://twitter.com/download/iphone\" r...   \n",
       "1235  <a href=\"http://twitter.com/download/iphone\" r...   \n",
       "707   <a href=\"http://twitter.com/download/iphone\" r...   \n",
       "\n",
       "                                                   text  retweeted_status_id  \\\n",
       "335   There's going to be a dog terminal at JFK Airp...                  NaN   \n",
       "445   This is Finn. He's wondering if you come here ...                  NaN   \n",
       "194   RT @dog_rates: Meet George. He looks slightly ...         8.421635e+17   \n",
       "1235  Say hello to Sunny and Roxy. They pull things ...                  NaN   \n",
       "707      Today, 10/10, should be National Dog Rates Day                  NaN   \n",
       "\n",
       "      retweeted_status_user_id retweeted_status_timestamp  \\\n",
       "335                        NaN                        NaN   \n",
       "445                        NaN                        NaN   \n",
       "194               4.196984e+09  2017-03-16 00:00:07 +0000   \n",
       "1235                       NaN                        NaN   \n",
       "707                        NaN                        NaN   \n",
       "\n",
       "                                          expanded_urls  rating_numerator  \\\n",
       "335   http://us.blastingnews.com/news/2017/02/jfk-an...                10   \n",
       "445   https://twitter.com/dog_rates/status/819227688...                12   \n",
       "194   https://twitter.com/dog_rates/status/842163532...                12   \n",
       "1235  https://twitter.com/dog_rates/status/712668654...                10   \n",
       "707                                                 NaN                10   \n",
       "\n",
       "      rating_denominator    name doggo floofer pupper puppo  \n",
       "335                   10     not  None    None   None  None  \n",
       "445                   10    Finn  None    None   None  None  \n",
       "194                   10  George  None    None   None  None  \n",
       "1235                  10   Sunny  None    None   None  None  \n",
       "707                   10    None  None    None   None  None  "
      ],
      "text/html": "<div>\n<style scoped>\n    .dataframe tbody tr th:only-of-type {\n        vertical-align: middle;\n    }\n\n    .dataframe tbody tr th {\n        vertical-align: top;\n    }\n\n    .dataframe thead th {\n        text-align: right;\n    }\n</style>\n<table border=\"1\" class=\"dataframe\">\n  <thead>\n    <tr style=\"text-align: right;\">\n      <th></th>\n      <th>tweet_id</th>\n      <th>in_reply_to_status_id</th>\n      <th>in_reply_to_user_id</th>\n      <th>timestamp</th>\n      <th>source</th>\n      <th>text</th>\n      <th>retweeted_status_id</th>\n      <th>retweeted_status_user_id</th>\n      <th>retweeted_status_timestamp</th>\n      <th>expanded_urls</th>\n      <th>rating_numerator</th>\n      <th>rating_denominator</th>\n      <th>name</th>\n      <th>doggo</th>\n      <th>floofer</th>\n      <th>pupper</th>\n      <th>puppo</th>\n    </tr>\n  </thead>\n  <tbody>\n    <tr>\n      <th>335</th>\n      <td>832645525019123713</td>\n      <td>NaN</td>\n      <td>NaN</td>\n      <td>2017-02-17 17:38:57 +0000</td>\n      <td>&lt;a href=\"http://twitter.com\" rel=\"nofollow\"&gt;Tw...</td>\n      <td>There's going to be a dog terminal at JFK Airp...</td>\n      <td>NaN</td>\n      <td>NaN</td>\n      <td>NaN</td>\n      <td>http://us.blastingnews.com/news/2017/02/jfk-an...</td>\n      <td>10</td>\n      <td>10</td>\n      <td>not</td>\n      <td>None</td>\n      <td>None</td>\n      <td>None</td>\n      <td>None</td>\n    </tr>\n    <tr>\n      <th>445</th>\n      <td>819227688460238848</td>\n      <td>NaN</td>\n      <td>NaN</td>\n      <td>2017-01-11 17:01:16 +0000</td>\n      <td>&lt;a href=\"http://twitter.com/download/iphone\" r...</td>\n      <td>This is Finn. He's wondering if you come here ...</td>\n      <td>NaN</td>\n      <td>NaN</td>\n      <td>NaN</td>\n      <td>https://twitter.com/dog_rates/status/819227688...</td>\n      <td>12</td>\n      <td>10</td>\n      <td>Finn</td>\n      <td>None</td>\n      <td>None</td>\n      <td>None</td>\n      <td>None</td>\n    </tr>\n    <tr>\n      <th>194</th>\n      <td>855245323840757760</td>\n      <td>NaN</td>\n      <td>NaN</td>\n      <td>2017-04-21 02:22:29 +0000</td>\n      <td>&lt;a href=\"http://twitter.com/download/iphone\" r...</td>\n      <td>RT @dog_rates: Meet George. He looks slightly ...</td>\n      <td>8.421635e+17</td>\n      <td>4.196984e+09</td>\n      <td>2017-03-16 00:00:07 +0000</td>\n      <td>https://twitter.com/dog_rates/status/842163532...</td>\n      <td>12</td>\n      <td>10</td>\n      <td>George</td>\n      <td>None</td>\n      <td>None</td>\n      <td>None</td>\n      <td>None</td>\n    </tr>\n    <tr>\n      <th>1235</th>\n      <td>712668654853337088</td>\n      <td>NaN</td>\n      <td>NaN</td>\n      <td>2016-03-23 15:53:42 +0000</td>\n      <td>&lt;a href=\"http://twitter.com/download/iphone\" r...</td>\n      <td>Say hello to Sunny and Roxy. They pull things ...</td>\n      <td>NaN</td>\n      <td>NaN</td>\n      <td>NaN</td>\n      <td>https://twitter.com/dog_rates/status/712668654...</td>\n      <td>10</td>\n      <td>10</td>\n      <td>Sunny</td>\n      <td>None</td>\n      <td>None</td>\n      <td>None</td>\n      <td>None</td>\n    </tr>\n    <tr>\n      <th>707</th>\n      <td>785515384317313025</td>\n      <td>NaN</td>\n      <td>NaN</td>\n      <td>2016-10-10 16:20:36 +0000</td>\n      <td>&lt;a href=\"http://twitter.com/download/iphone\" r...</td>\n      <td>Today, 10/10, should be National Dog Rates Day</td>\n      <td>NaN</td>\n      <td>NaN</td>\n      <td>NaN</td>\n      <td>NaN</td>\n      <td>10</td>\n      <td>10</td>\n      <td>None</td>\n      <td>None</td>\n      <td>None</td>\n      <td>None</td>\n      <td>None</td>\n    </tr>\n  </tbody>\n</table>\n</div>"
     },
     "metadata": {},
     "execution_count": 10
    }
   ],
   "source": [
    "df_twitter.sample(5)"
   ]
  },
  {
   "source": [
    "#### Define:<br>\n",
    "1 Missing information, Columns ordered by severity:<br>\n",
    "1.1 Index 1-2 only has 78 non null values, a significant amount<br>\n",
    "1.2 Index 6-8 contain 181 non null values<br>\n",
    "1.3 Index 9 contains 2297 non null values<br>\n",
    "\n",
    "2 Datatypes:<br>\n",
    "2.1 "
   ],
   "cell_type": "markdown",
   "metadata": {}
  },
  {
   "cell_type": "code",
   "execution_count": null,
   "metadata": {},
   "outputs": [],
   "source": []
  },
  {
   "cell_type": "code",
   "execution_count": null,
   "metadata": {},
   "outputs": [],
   "source": []
  },
  {
   "cell_type": "code",
   "execution_count": null,
   "metadata": {},
   "outputs": [],
   "source": []
  },
  {
   "cell_type": "code",
   "execution_count": null,
   "metadata": {},
   "outputs": [],
   "source": [
    "#\n",
    "import tweepy\n",
    "from tweepy import OAuthHandler # API required steps"
   ]
  },
  {
   "source": [
    "## Assessing data"
   ],
   "cell_type": "markdown",
   "metadata": {}
  },
  {
   "source": [],
   "cell_type": "code",
   "metadata": {},
   "execution_count": null,
   "outputs": []
  },
  {
   "cell_type": "code",
   "execution_count": null,
   "metadata": {},
   "outputs": [],
   "source": []
  },
  {
   "cell_type": "code",
   "execution_count": null,
   "metadata": {},
   "outputs": [],
   "source": []
  },
  {
   "source": [
    "## Cleaning data\n"
   ],
   "cell_type": "markdown",
   "metadata": {}
  },
  {
   "cell_type": "code",
   "execution_count": null,
   "metadata": {},
   "outputs": [],
   "source": []
  },
  {
   "cell_type": "code",
   "execution_count": null,
   "metadata": {},
   "outputs": [],
   "source": []
  },
  {
   "cell_type": "code",
   "execution_count": null,
   "metadata": {},
   "outputs": [],
   "source": []
  }
 ],
 "metadata": {
  "kernelspec": {
   "name": "python3",
   "display_name": "Python 3.8.6 64-bit",
   "metadata": {
    "interpreter": {
     "hash": "092be12fe46acec16a89a20a9144297dd1787ffdf68dbaeaa6dfc7e5abf9ae2f"
    }
   }
  },
  "language_info": {
   "codemirror_mode": {
    "name": "ipython",
    "version": 3
   },
   "file_extension": ".py",
   "mimetype": "text/x-python",
   "name": "python",
   "nbconvert_exporter": "python",
   "pygments_lexer": "ipython3",
   "version": "3.8.6-final"
  }
 },
 "nbformat": 4,
 "nbformat_minor": 2
}