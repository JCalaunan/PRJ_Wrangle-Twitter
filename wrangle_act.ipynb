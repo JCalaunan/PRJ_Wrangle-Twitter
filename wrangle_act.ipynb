{
 "cells": [
  {
   "cell_type": "code",
   "execution_count": null,
   "metadata": {},
   "outputs": [],
   "source": [
    "# PROJECT 4 - Wrangle Twitter data via API (made in Vscode)"
   ]
  },
  {
   "source": [
    "## Table of Contents\n",
    "* [Introduction](#intro)\n",
    "* [Initial Brief](#1.1-initial-brief)\n",
    "* [General Outline](#general_outline)\n",
    "* [Import Libraries](#)\n",
    "* [](#)\n",
    "\n",
    "`Note: Fill at the end. Automate with python library/extension.`"
   ],
   "cell_type": "markdown",
   "metadata": {}
  },
  {
   "source": [
    "# Introduction\n",
    "Gather readily available data from an existing source on the web to allow first hand experience of wrangling data.<br>\n",
    "It is a significant task as data will not always be provided and if it is: <br>\n",
    " - Best case: Spelling mistakes and/or equivalent,\n",
    " - Worst case: No schema/format, duplicates, incomplete and/or incorrect values recorded."
   ],
   "cell_type": "markdown",
   "metadata": {}
  },
  {
   "source": [
    "## Initial Brief\n",
    "- User has provided archived twitter data for analysis\n",
    " - [ ] Twitter archive export in CSV\n",
    " - [ ] URL to Machine Learning image predictions\n",
    "<br>\n",
    "- Identify minimum:\n",
    " - [ ] 8 quality issues\n",
    " - [ ] 2 tidiness issues\n",
    "<br>\n",
    "- Out of scope:\n",
    " - [ ] Unique rating system\n",
    " - [ ] No gathering required past 01 Aug 2017"
   ],
   "cell_type": "markdown",
   "metadata": {}
  },
  {
   "source": [
    "## General outline\n",
    "- [ ] Read-in CSV data\n",
    "- [ ] Access URL data (_over manually downloading file_)"
   ],
   "cell_type": "markdown",
   "metadata": {}
  },
  {
   "source": [
    "## install modules via terminal\n",
    "#pip install pandas # also downloads numpy\n",
    "#pip install requests\n",
    "#pip install tweepy\n",
    "#pip install pandasgui\n",
    "#pip install autoviz\n",
    "#pip install pandas-profiling\n",
    "#pip install sweetviz\n",
    "#pip install bs4\n",
    "\n",
    "## Optional - provides Table of Contents and minimizes lines (only on Jupyter)\n",
    "#pip install jupyter_contrib_nbextensions && jupyter contrib nbextension install"
   ],
   "cell_type": "code",
   "metadata": {},
   "execution_count": 2,
   "outputs": []
  },
  {
   "source": [
    "## Import Libraries"
   ],
   "cell_type": "markdown",
   "metadata": {}
  },
  {
   "cell_type": "code",
   "execution_count": 3,
   "metadata": {},
   "outputs": [],
   "source": [
    "import pandas as pd\n",
    "import numpy as np\n",
    "\n",
    "import requests\n",
    "import os\n",
    "\n",
    "import msvcrt\n",
    "import sys\n",
    "\n",
    "from pandasgui import show\n",
    "\n",
    "from bs4 import BeautifulSoup\n",
    "\n",
    "import tweepy\n",
    "\n",
    "import json\n",
    "\n",
    "from pathlib import Path"
   ]
  },
  {
   "source": [
    "## Defined Functions\n",
    "\n",
    "- addFiles(filename)    `Created for the ability to scale`\n",
    "- go_assess(df)         `Created to reiterate through assessment steps`"
   ],
   "cell_type": "markdown",
   "metadata": {}
  },
  {
   "cell_type": "code",
   "execution_count": 4,
   "metadata": {},
   "outputs": [
    {
     "output_type": "stream",
     "name": "stdout",
     "text": [
      "0 Files in list\n"
     ]
    }
   ],
   "source": [
    "filelist = [] # declare\n",
    "print('{} Files in list'.format(len(filelist)) ) # initial print\n",
    "\n",
    "# Adds and tracks files\n",
    "def add_files(*filename): # PARAMETER: <string>\n",
    "    for file in filename:\n",
    "        filelist.append(file)\n",
    "        print('{} added to file list.'.format(file) )\n",
    "\n",
    "    if len(filelist) > 1:\n",
    "        print('{} files now in list.'.format( len(filelist)) )\n",
    "    else:\n",
    "        print('{} file now in list.'.format( len(filelist)) )\n",
    "    return file"
   ]
  },
  {
   "cell_type": "code",
   "execution_count": 5,
   "metadata": {},
   "outputs": [],
   "source": [
    "def get_values(df, col, name): # \n",
    "    export = []\n",
    "    value_cnt = col.value_counts()\n",
    "    value = value_cnt.values\n",
    "# test for duplicates, no duplicates should be equal to .series size\n",
    "    if value.sum() > value.shape[0]: # there are duplicates\n",
    "        txt_result = ('Duplicates found in column \\'{}\\', the max duplicate item repeats {} times.'.format(name, value.max()) ) # print results, return indexes\n",
    "    else: # no duplicates\n",
    "        txt_result = ('No duplicates found in column \\'{}\\'.'.format(name) )\n",
    "        #print('{}: No duplicates found.'.format(col) )\n",
    "    # pack variables into list\n",
    "    export.append(value_cnt)\n",
    "    export.append(txt_result)\n",
    "    \n",
    "    return export"
   ]
  },
  {
   "cell_type": "code",
   "execution_count": 6,
   "metadata": {},
   "outputs": [],
   "source": [
    "def go_assess(df):\n",
    "    # empty every function call, to prevent list from accumulating over time\n",
    "    results = [] #\n",
    "    summary = [] #\n",
    "    val_sum = [] # \n",
    "    assessment = []\n",
    "    print('Dataframe contains the following columns:')\n",
    "    print('{}\\n'.format(df.columns) )\n",
    "\n",
    "    for i, col in enumerate(df.columns):\n",
    "        # copy into message\n",
    "        print('Column {} - \\'{}\\' has been assessed. Assessment saved in results[{}] and summary[{}]'.format(i, col, i, i))\n",
    "        \n",
    "        # call and get results\n",
    "        val_sum = get_values(df, df[col], col)\n",
    "\n",
    "        # append results\n",
    "        summary.append(val_sum[1])\n",
    "        results.append(val_sum[0])\n",
    "\n",
    "    assessment.append(summary)\n",
    "    assessment.append(results)\n",
    "    print('NOTE: To access variables, set a series name e.g below:\\nseries[0][x] to access summary details.\\nseries[1][x] to access the value_counts results.\\nx represents column number')\n",
    "    return assessment #"
   ]
  },
  {
   "cell_type": "code",
   "execution_count": 7,
   "metadata": {},
   "outputs": [],
   "source": [
    "def trim_strings(df):\n",
    "    for col in df:\n",
    "        if df[col].dtype == 'object':\n",
    "            startcount = df[col].str.len()\n",
    "            df[col].str.strip()\n",
    "            endcount = df[col].str.len()\n",
    "            print\n",
    "\n",
    "            if (startcount.sum() - endcount.sum()) > 0:\n",
    "                print('Whitespaces were present in {}.'.format(col) )\n",
    "            else:\n",
    "                print('No whitespaces in {}.'.format(col) )"
   ]
  },
  {
   "source": [
    "## Data Wrangling"
   ],
   "cell_type": "markdown",
   "metadata": {}
  },
  {
   "source": [
    "## Iteration 1\n",
    "Import data from a twitter user archive provided by the end-user\n",
    "\n",
    "`Note: Add edit# upon addition of new issue.`"
   ],
   "cell_type": "markdown",
   "metadata": {}
  },
  {
   "source": [
    "### Gathering 1\n",
    "#### Initialize\n",
    "Enter Known Input Info\n",
    "Format: file name inside ''"
   ],
   "cell_type": "markdown",
   "metadata": {}
  },
  {
   "cell_type": "code",
   "execution_count": 8,
   "metadata": {},
   "outputs": [
    {
     "output_type": "stream",
     "name": "stdout",
     "text": [
      "twitter-archive-enhanced-2.csv added to file list.\n1 file now in list.\n"
     ]
    },
    {
     "output_type": "execute_result",
     "data": {
      "text/plain": [
       "'twitter-archive-enhanced-2.csv'"
      ]
     },
     "metadata": {},
     "execution_count": 8
    }
   ],
   "source": [
    "# FILE 1 - TWITTER ARCHIVE DATA\n",
    "folder = 'Incoming_Files/'\n",
    "twitter_file = 'twitter-archive-enhanced-2.csv'\n",
    "add_files(twitter_file)"
   ]
  },
  {
   "cell_type": "code",
   "execution_count": 9,
   "metadata": {},
   "outputs": [
    {
     "output_type": "stream",
     "name": "stdout",
     "text": [
      "image-predictions.tsv has been saved in: \"/Incoming_Files/\"\nimage-predictions.tsv added to file list.\n2 files now in list.\n"
     ]
    },
    {
     "output_type": "execute_result",
     "data": {
      "text/plain": [
       "'image-predictions.tsv'"
      ]
     },
     "metadata": {},
     "execution_count": 9
    }
   ],
   "source": [
    "# FILE 2 - TWITTER ML IMAGE PREDICTIONS\n",
    "url = 'https://d17h27t6h515a5.cloudfront.net/topher/2017/August/599fd2ad_image-predictions/image-predictions.tsv'\n",
    "\n",
    "# assign to a response object\n",
    "response = requests.get(url)\n",
    "\n",
    "image_predictions = url.split('/')[-1] # extract file name\n",
    "\n",
    "# with open, allows for the auto close file when complete\n",
    "# split after last delimiter /, indicating file name\n",
    "with open(os.path.join(folder, image_predictions), mode='wb') as file:\n",
    "    # read file \n",
    "    file.write(response.content)\n",
    "    print('{} has been saved in: \"/{}\"'.format(image_predictions, folder) )\n",
    "\n",
    "# call function and add name to end of list\n",
    "add_files(image_predictions)"
   ]
  },
  {
   "cell_type": "code",
   "execution_count": 10,
   "metadata": {},
   "outputs": [],
   "source": [
    "run_script = str(input('Run script to Access Twitter API (Y/N)?'))\n",
    "valid_input = ['n', 'N', 'y', 'Y']\n",
    "yes_list = ['y','Y']\n",
    "no_list = ['n','N']"
   ]
  },
  {
   "cell_type": "code",
   "execution_count": 11,
   "metadata": {
    "tags": []
   },
   "outputs": [
    {
     "output_type": "stream",
     "name": "stdout",
     "text": [
      "Script not running.\n"
     ]
    }
   ],
   "source": [
    "# FILE 3 - TWITTER API JSON\n",
    "# run python script, pass dataframe name (dataframe could not be passed)\n",
    "while run_script not in valid_input:\n",
    "    run_script = input('Wrong input. Run script to Access Twitter API (Y/N)?')\n",
    "\n",
    "if run_script in yes_list:\n",
    "    folderarg = folder.replace(' ', '_')\n",
    "    print('Running. Will indicate when complete.\\n')\n",
    "    %run twitter-api.py $folderarg $filelist[0]\n",
    "elif run_script in no_list:\n",
    "    print('Script not running.')"
   ]
  },
  {
   "cell_type": "code",
   "execution_count": 12,
   "metadata": {},
   "outputs": [
    {
     "output_type": "stream",
     "name": "stdout",
     "text": [
      "tweet_json.txt added to file list.\n3 files now in list.\n"
     ]
    }
   ],
   "source": [
    "## Twitter API data\n",
    "API_cols = ['tweet_id', 'retweet_count', 'fav_count']\n",
    "\n",
    "# read in txt and convert to json\n",
    "API_export = 'tweet_json.txt'\n",
    "# call function and add name to end of list\n",
    "add_files(API_export)\n",
    "\n",
    "json_keys, json_id, json_fav_count, json_retweet_cnt = [], [],[],[]\n",
    "\n",
    "with open(API_export) as txt_file:\n",
    "    for line in txt_file:\n",
    "        #print(line)\n",
    "        json_obj = json.loads(line)\n",
    "        #append to list then combine lists \n",
    "        json_keys.append(json_obj)\n",
    "        json_id.append(json_obj['id_str'])\n",
    "        json_fav_count.append(json_obj['favorite_count'])\n",
    "        json_retweet_cnt.append(json_obj['retweet_count'])\n",
    "        "
   ]
  },
  {
   "cell_type": "code",
   "execution_count": 13,
   "metadata": {},
   "outputs": [
    {
     "output_type": "execute_result",
     "data": {
      "text/plain": [
       "{'created_at': 'Sun Nov 15 22:32:08 +0000 2015',\n",
       " 'id': 666020888022790149,\n",
       " 'id_str': '666020888022790149',\n",
       " 'full_text': 'Here we have a Japanese Irish Setter. Lost eye in Vietnam (?). Big fan of relaxing on stair. 8/10 would pet https://t.co/BLDqew2Ijj',\n",
       " 'truncated': False,\n",
       " 'display_text_range': [0, 131],\n",
       " 'entities': {'hashtags': [],\n",
       "  'symbols': [],\n",
       "  'user_mentions': [],\n",
       "  'urls': [],\n",
       "  'media': [{'id': 666020881337073664,\n",
       "    'id_str': '666020881337073664',\n",
       "    'indices': [108, 131],\n",
       "    'media_url': 'http://pbs.twimg.com/media/CT4udn0WwAA0aMy.jpg',\n",
       "    'media_url_https': 'https://pbs.twimg.com/media/CT4udn0WwAA0aMy.jpg',\n",
       "    'url': 'https://t.co/BLDqew2Ijj',\n",
       "    'display_url': 'pic.twitter.com/BLDqew2Ijj',\n",
       "    'expanded_url': 'https://twitter.com/dog_rates/status/666020888022790149/photo/1',\n",
       "    'type': 'photo',\n",
       "    'sizes': {'medium': {'w': 960, 'h': 720, 'resize': 'fit'},\n",
       "     'thumb': {'w': 150, 'h': 150, 'resize': 'crop'},\n",
       "     'large': {'w': 960, 'h': 720, 'resize': 'fit'},\n",
       "     'small': {'w': 680, 'h': 510, 'resize': 'fit'}}}]},\n",
       " 'extended_entities': {'media': [{'id': 666020881337073664,\n",
       "    'id_str': '666020881337073664',\n",
       "    'indices': [108, 131],\n",
       "    'media_url': 'http://pbs.twimg.com/media/CT4udn0WwAA0aMy.jpg',\n",
       "    'media_url_https': 'https://pbs.twimg.com/media/CT4udn0WwAA0aMy.jpg',\n",
       "    'url': 'https://t.co/BLDqew2Ijj',\n",
       "    'display_url': 'pic.twitter.com/BLDqew2Ijj',\n",
       "    'expanded_url': 'https://twitter.com/dog_rates/status/666020888022790149/photo/1',\n",
       "    'type': 'photo',\n",
       "    'sizes': {'medium': {'w': 960, 'h': 720, 'resize': 'fit'},\n",
       "     'thumb': {'w': 150, 'h': 150, 'resize': 'crop'},\n",
       "     'large': {'w': 960, 'h': 720, 'resize': 'fit'},\n",
       "     'small': {'w': 680, 'h': 510, 'resize': 'fit'}}}]},\n",
       " 'source': '<a href=\"http://twitter.com/download/iphone\" rel=\"nofollow\">Twitter for iPhone</a>',\n",
       " 'in_reply_to_status_id': None,\n",
       " 'in_reply_to_status_id_str': None,\n",
       " 'in_reply_to_user_id': None,\n",
       " 'in_reply_to_user_id_str': None,\n",
       " 'in_reply_to_screen_name': None,\n",
       " 'user': {'id': 4196983835,\n",
       "  'id_str': '4196983835',\n",
       "  'name': 'WeRateDogs®',\n",
       "  'screen_name': 'dog_rates',\n",
       "  'location': '',\n",
       "  'description': 'Your Only Source For Professional Dog Ratings Instagram and Facebook ➜ WeRateDogs partnerships@weratedogs.com ⠀⠀⠀⠀⠀⠀⠀⠀⠀⠀⠀⠀',\n",
       "  'url': 'https://t.co/6ytGi24QCk',\n",
       "  'entities': {'url': {'urls': [{'url': 'https://t.co/6ytGi24QCk',\n",
       "      'expanded_url': 'http://campsite.bio/weratedogs',\n",
       "      'display_url': 'campsite.bio/weratedogs',\n",
       "      'indices': [0, 23]}]},\n",
       "   'description': {'urls': []}},\n",
       "  'protected': False,\n",
       "  'followers_count': 8904984,\n",
       "  'friends_count': 18,\n",
       "  'listed_count': 6087,\n",
       "  'created_at': 'Sun Nov 15 21:41:29 +0000 2015',\n",
       "  'favourites_count': 145994,\n",
       "  'utc_offset': None,\n",
       "  'time_zone': None,\n",
       "  'geo_enabled': True,\n",
       "  'verified': True,\n",
       "  'statuses_count': 13110,\n",
       "  'lang': None,\n",
       "  'contributors_enabled': False,\n",
       "  'is_translator': False,\n",
       "  'is_translation_enabled': False,\n",
       "  'profile_background_color': '000000',\n",
       "  'profile_background_image_url': 'http://abs.twimg.com/images/themes/theme1/bg.png',\n",
       "  'profile_background_image_url_https': 'https://abs.twimg.com/images/themes/theme1/bg.png',\n",
       "  'profile_background_tile': False,\n",
       "  'profile_image_url': 'http://pbs.twimg.com/profile_images/1322993722691211264/vyjR1ftm_normal.jpg',\n",
       "  'profile_image_url_https': 'https://pbs.twimg.com/profile_images/1322993722691211264/vyjR1ftm_normal.jpg',\n",
       "  'profile_banner_url': 'https://pbs.twimg.com/profile_banners/4196983835/1591077312',\n",
       "  'profile_link_color': 'F5ABB5',\n",
       "  'profile_sidebar_border_color': '000000',\n",
       "  'profile_sidebar_fill_color': '000000',\n",
       "  'profile_text_color': '000000',\n",
       "  'profile_use_background_image': False,\n",
       "  'has_extended_profile': False,\n",
       "  'default_profile': False,\n",
       "  'default_profile_image': False,\n",
       "  'following': False,\n",
       "  'follow_request_sent': False,\n",
       "  'notifications': False,\n",
       "  'translator_type': 'none'},\n",
       " 'geo': None,\n",
       " 'coordinates': None,\n",
       " 'place': None,\n",
       " 'contributors': None,\n",
       " 'is_quote_status': False,\n",
       " 'retweet_count': 448,\n",
       " 'favorite_count': 2354,\n",
       " 'favorited': False,\n",
       " 'retweeted': False,\n",
       " 'possibly_sensitive': False,\n",
       " 'possibly_sensitive_appealable': False,\n",
       " 'lang': 'en'}"
      ]
     },
     "metadata": {},
     "execution_count": 13
    }
   ],
   "source": [
    "json_obj"
   ]
  },
  {
   "source": [
    "#### Import into dataframes"
   ],
   "cell_type": "markdown",
   "metadata": {}
  },
  {
   "cell_type": "code",
   "execution_count": 14,
   "metadata": {},
   "outputs": [],
   "source": [
    " # IMPROVE\n",
    " # create empty list\n",
    "df_raw = []\n",
    "file_extensions = []\n",
    "\n",
    "# dataframe to contain original imports\n",
    "for num, file in enumerate(filelist):\n",
    "    ext = file.split('.')[-1]\n",
    "    file_extensions.append(ext)\n",
    "    # read extension type\n",
    "    ## catch CSV, TSV, JSON, no Switch/Case in Python\n",
    "    if ext == 'csv':\n",
    "        df_raw.append(pd.read_csv(folder + file) )\n",
    "    elif ext == 'tsv':\n",
    "        df_raw.append(pd.read_csv(folder + file, sep='\\t') )\n",
    "    elif file == 'tweet_json.txt': # improve for general twitter api scrap import\n",
    "        df_raw.append(pd.DataFrame(zip(json_id, json_fav_count, json_retweet_cnt), columns=API_cols))\n",
    "    else:\n",
    "        print('filelist({}) - \"{}\", could not be read into a dataframe.'.format(num, filelist[num]) )"
   ]
  },
  {
   "cell_type": "code",
   "execution_count": 15,
   "metadata": {},
   "outputs": [
    {
     "output_type": "stream",
     "name": "stdout",
     "text": [
      "['twitter-archive-enhanced-2.csv', 'image-predictions.tsv', 'tweet_json.txt']\n"
     ]
    }
   ],
   "source": [
    "print(filelist)"
   ]
  },
  {
   "cell_type": "code",
   "execution_count": 16,
   "metadata": {},
   "outputs": [
    {
     "output_type": "execute_result",
     "data": {
      "text/plain": [
       "                tweet_id  in_reply_to_status_id  in_reply_to_user_id  \\\n",
       "755   778748913645780993                    NaN                  NaN   \n",
       "2060  671182547775299584                    NaN                  NaN   \n",
       "408   823581115634085888                    NaN                  NaN   \n",
       "\n",
       "                      timestamp  \\\n",
       "755   2016-09-22 00:13:04 +0000   \n",
       "2060  2015-11-30 04:22:44 +0000   \n",
       "408   2017-01-23 17:20:14 +0000   \n",
       "\n",
       "                                                 source  \\\n",
       "755   <a href=\"http://twitter.com/download/iphone\" r...   \n",
       "2060  <a href=\"http://twitter.com/download/iphone\" r...   \n",
       "408   <a href=\"http://twitter.com/download/iphone\" r...   \n",
       "\n",
       "                                                   text  retweeted_status_id  \\\n",
       "755   This is Mya (pronounced \"mmmyah?\"). Her head i...                  NaN   \n",
       "2060  This pup holds the secrets of the universe in ...                  NaN   \n",
       "408   This is Crawford. He's quite h*ckin good at th...                  NaN   \n",
       "\n",
       "      retweeted_status_user_id retweeted_status_timestamp  \\\n",
       "755                        NaN                        NaN   \n",
       "2060                       NaN                        NaN   \n",
       "408                        NaN                        NaN   \n",
       "\n",
       "                                          expanded_urls  rating_numerator  \\\n",
       "755   https://twitter.com/dog_rates/status/778748913...                11   \n",
       "2060  https://twitter.com/dog_rates/status/671182547...                12   \n",
       "408   https://twitter.com/dog_rates/status/823581115...                11   \n",
       "\n",
       "      rating_denominator      name doggo floofer pupper puppo  \n",
       "755                   10       Mya  None    None   None  None  \n",
       "2060                  10      None  None    None   None  None  \n",
       "408                   10  Crawford  None    None   None  None  "
      ],
      "text/html": "<div>\n<style scoped>\n    .dataframe tbody tr th:only-of-type {\n        vertical-align: middle;\n    }\n\n    .dataframe tbody tr th {\n        vertical-align: top;\n    }\n\n    .dataframe thead th {\n        text-align: right;\n    }\n</style>\n<table border=\"1\" class=\"dataframe\">\n  <thead>\n    <tr style=\"text-align: right;\">\n      <th></th>\n      <th>tweet_id</th>\n      <th>in_reply_to_status_id</th>\n      <th>in_reply_to_user_id</th>\n      <th>timestamp</th>\n      <th>source</th>\n      <th>text</th>\n      <th>retweeted_status_id</th>\n      <th>retweeted_status_user_id</th>\n      <th>retweeted_status_timestamp</th>\n      <th>expanded_urls</th>\n      <th>rating_numerator</th>\n      <th>rating_denominator</th>\n      <th>name</th>\n      <th>doggo</th>\n      <th>floofer</th>\n      <th>pupper</th>\n      <th>puppo</th>\n    </tr>\n  </thead>\n  <tbody>\n    <tr>\n      <th>755</th>\n      <td>778748913645780993</td>\n      <td>NaN</td>\n      <td>NaN</td>\n      <td>2016-09-22 00:13:04 +0000</td>\n      <td>&lt;a href=\"http://twitter.com/download/iphone\" r...</td>\n      <td>This is Mya (pronounced \"mmmyah?\"). Her head i...</td>\n      <td>NaN</td>\n      <td>NaN</td>\n      <td>NaN</td>\n      <td>https://twitter.com/dog_rates/status/778748913...</td>\n      <td>11</td>\n      <td>10</td>\n      <td>Mya</td>\n      <td>None</td>\n      <td>None</td>\n      <td>None</td>\n      <td>None</td>\n    </tr>\n    <tr>\n      <th>2060</th>\n      <td>671182547775299584</td>\n      <td>NaN</td>\n      <td>NaN</td>\n      <td>2015-11-30 04:22:44 +0000</td>\n      <td>&lt;a href=\"http://twitter.com/download/iphone\" r...</td>\n      <td>This pup holds the secrets of the universe in ...</td>\n      <td>NaN</td>\n      <td>NaN</td>\n      <td>NaN</td>\n      <td>https://twitter.com/dog_rates/status/671182547...</td>\n      <td>12</td>\n      <td>10</td>\n      <td>None</td>\n      <td>None</td>\n      <td>None</td>\n      <td>None</td>\n      <td>None</td>\n    </tr>\n    <tr>\n      <th>408</th>\n      <td>823581115634085888</td>\n      <td>NaN</td>\n      <td>NaN</td>\n      <td>2017-01-23 17:20:14 +0000</td>\n      <td>&lt;a href=\"http://twitter.com/download/iphone\" r...</td>\n      <td>This is Crawford. He's quite h*ckin good at th...</td>\n      <td>NaN</td>\n      <td>NaN</td>\n      <td>NaN</td>\n      <td>https://twitter.com/dog_rates/status/823581115...</td>\n      <td>11</td>\n      <td>10</td>\n      <td>Crawford</td>\n      <td>None</td>\n      <td>None</td>\n      <td>None</td>\n      <td>None</td>\n    </tr>\n  </tbody>\n</table>\n</div>"
     },
     "metadata": {},
     "execution_count": 16
    }
   ],
   "source": [
    "df_raw[0].sample(3)  # visually assess file was read in correctly"
   ]
  },
  {
   "cell_type": "code",
   "execution_count": 17,
   "metadata": {},
   "outputs": [],
   "source": [
    "df_twitter = df_raw[0].copy()"
   ]
  },
  {
   "cell_type": "code",
   "execution_count": 18,
   "metadata": {},
   "outputs": [
    {
     "output_type": "execute_result",
     "data": {
      "text/plain": [
       "                tweet_id                                          jpg_url  \\\n",
       "1153  732726085725589504  https://pbs.twimg.com/media/CisqdVcXEAE3iW7.jpg   \n",
       "1160  734776360183431168  https://pbs.twimg.com/media/CjJzMlBUoAADMLx.jpg   \n",
       "2035  884162670584377345  https://pbs.twimg.com/media/DEUtQbzW0AUTv_o.jpg   \n",
       "\n",
       "      img_num               p1   p1_conf  p1_dog          p2   p2_conf  \\\n",
       "1153        1       Pomeranian  0.961902    True     Samoyed  0.024289   \n",
       "1160        1   Siberian_husky  0.304902    True  Eskimo_dog  0.155147   \n",
       "2035        1  German_shepherd  0.707046    True    malinois  0.199396   \n",
       "\n",
       "      p2_dog                  p3   p3_conf  p3_dog  \n",
       "1153    True                chow  0.005772    True  \n",
       "1160    True            malamute  0.050942    True  \n",
       "2035    True  Norwegian_elkhound  0.049148    True  "
      ],
      "text/html": "<div>\n<style scoped>\n    .dataframe tbody tr th:only-of-type {\n        vertical-align: middle;\n    }\n\n    .dataframe tbody tr th {\n        vertical-align: top;\n    }\n\n    .dataframe thead th {\n        text-align: right;\n    }\n</style>\n<table border=\"1\" class=\"dataframe\">\n  <thead>\n    <tr style=\"text-align: right;\">\n      <th></th>\n      <th>tweet_id</th>\n      <th>jpg_url</th>\n      <th>img_num</th>\n      <th>p1</th>\n      <th>p1_conf</th>\n      <th>p1_dog</th>\n      <th>p2</th>\n      <th>p2_conf</th>\n      <th>p2_dog</th>\n      <th>p3</th>\n      <th>p3_conf</th>\n      <th>p3_dog</th>\n    </tr>\n  </thead>\n  <tbody>\n    <tr>\n      <th>1153</th>\n      <td>732726085725589504</td>\n      <td>https://pbs.twimg.com/media/CisqdVcXEAE3iW7.jpg</td>\n      <td>1</td>\n      <td>Pomeranian</td>\n      <td>0.961902</td>\n      <td>True</td>\n      <td>Samoyed</td>\n      <td>0.024289</td>\n      <td>True</td>\n      <td>chow</td>\n      <td>0.005772</td>\n      <td>True</td>\n    </tr>\n    <tr>\n      <th>1160</th>\n      <td>734776360183431168</td>\n      <td>https://pbs.twimg.com/media/CjJzMlBUoAADMLx.jpg</td>\n      <td>1</td>\n      <td>Siberian_husky</td>\n      <td>0.304902</td>\n      <td>True</td>\n      <td>Eskimo_dog</td>\n      <td>0.155147</td>\n      <td>True</td>\n      <td>malamute</td>\n      <td>0.050942</td>\n      <td>True</td>\n    </tr>\n    <tr>\n      <th>2035</th>\n      <td>884162670584377345</td>\n      <td>https://pbs.twimg.com/media/DEUtQbzW0AUTv_o.jpg</td>\n      <td>1</td>\n      <td>German_shepherd</td>\n      <td>0.707046</td>\n      <td>True</td>\n      <td>malinois</td>\n      <td>0.199396</td>\n      <td>True</td>\n      <td>Norwegian_elkhound</td>\n      <td>0.049148</td>\n      <td>True</td>\n    </tr>\n  </tbody>\n</table>\n</div>"
     },
     "metadata": {},
     "execution_count": 18
    }
   ],
   "source": [
    "df_raw[1].sample(3)  # visually assess file was read in correctly"
   ]
  },
  {
   "cell_type": "code",
   "execution_count": 19,
   "metadata": {},
   "outputs": [],
   "source": [
    "df_image_predictor = df_raw[1].copy() # create copy"
   ]
  },
  {
   "cell_type": "code",
   "execution_count": 20,
   "metadata": {},
   "outputs": [
    {
     "output_type": "execute_result",
     "data": {
      "text/plain": [
       "                tweet_id  retweet_count  fav_count\n",
       "659   789280767834746880              0       4890\n",
       "1975  672488522314567680           1047        404\n",
       "2302  666407126856765440             98         31"
      ],
      "text/html": "<div>\n<style scoped>\n    .dataframe tbody tr th:only-of-type {\n        vertical-align: middle;\n    }\n\n    .dataframe tbody tr th {\n        vertical-align: top;\n    }\n\n    .dataframe thead th {\n        text-align: right;\n    }\n</style>\n<table border=\"1\" class=\"dataframe\">\n  <thead>\n    <tr style=\"text-align: right;\">\n      <th></th>\n      <th>tweet_id</th>\n      <th>retweet_count</th>\n      <th>fav_count</th>\n    </tr>\n  </thead>\n  <tbody>\n    <tr>\n      <th>659</th>\n      <td>789280767834746880</td>\n      <td>0</td>\n      <td>4890</td>\n    </tr>\n    <tr>\n      <th>1975</th>\n      <td>672488522314567680</td>\n      <td>1047</td>\n      <td>404</td>\n    </tr>\n    <tr>\n      <th>2302</th>\n      <td>666407126856765440</td>\n      <td>98</td>\n      <td>31</td>\n    </tr>\n  </tbody>\n</table>\n</div>"
     },
     "metadata": {},
     "execution_count": 20
    }
   ],
   "source": [
    "df_raw[2].sample(3)  # visually assess file was read in correctly"
   ]
  },
  {
   "cell_type": "code",
   "execution_count": 21,
   "metadata": {},
   "outputs": [],
   "source": [
    "df_twitter_api = df_raw[2].copy()"
   ]
  },
  {
   "cell_type": "code",
   "execution_count": 22,
   "metadata": {},
   "outputs": [
    {
     "output_type": "execute_result",
     "data": {
      "text/plain": [
       "                tweet_id  retweet_count  fav_count\n",
       "334   831670449226514432          10261       1771\n",
       "688   785533386513321988           9050       1975\n",
       "1350  701952816642965504           3738        993"
      ],
      "text/html": "<div>\n<style scoped>\n    .dataframe tbody tr th:only-of-type {\n        vertical-align: middle;\n    }\n\n    .dataframe tbody tr th {\n        vertical-align: top;\n    }\n\n    .dataframe thead th {\n        text-align: right;\n    }\n</style>\n<table border=\"1\" class=\"dataframe\">\n  <thead>\n    <tr style=\"text-align: right;\">\n      <th></th>\n      <th>tweet_id</th>\n      <th>retweet_count</th>\n      <th>fav_count</th>\n    </tr>\n  </thead>\n  <tbody>\n    <tr>\n      <th>334</th>\n      <td>831670449226514432</td>\n      <td>10261</td>\n      <td>1771</td>\n    </tr>\n    <tr>\n      <th>688</th>\n      <td>785533386513321988</td>\n      <td>9050</td>\n      <td>1975</td>\n    </tr>\n    <tr>\n      <th>1350</th>\n      <td>701952816642965504</td>\n      <td>3738</td>\n      <td>993</td>\n    </tr>\n  </tbody>\n</table>\n</div>"
     },
     "metadata": {},
     "execution_count": 22
    }
   ],
   "source": [
    "df_twitter_api.sample(3)"
   ]
  },
  {
   "cell_type": "code",
   "execution_count": 23,
   "metadata": {},
   "outputs": [],
   "source": [
    "# DO - search Incoming Files directory, files not in list to be added."
   ]
  },
  {
   "cell_type": "code",
   "execution_count": null,
   "metadata": {},
   "outputs": [],
   "source": []
  },
  {
   "source": [
    "## Assessing data\n",
    "### Assess 1 - Twitter Data Archive\n",
    "#### Define:<br>"
   ],
   "cell_type": "markdown",
   "metadata": {}
  },
  {
   "cell_type": "code",
   "execution_count": 24,
   "metadata": {},
   "outputs": [],
   "source": [
    "# external windows open\n",
    "twitter_gui = show(df_raw[0])"
   ]
  },
  {
   "cell_type": "code",
   "execution_count": 25,
   "metadata": {},
   "outputs": [
    {
     "output_type": "stream",
     "name": "stdout",
     "text": [
      "<class 'pandas.core.frame.DataFrame'>\nRangeIndex: 2356 entries, 0 to 2355\nData columns (total 17 columns):\n #   Column                      Non-Null Count  Dtype  \n---  ------                      --------------  -----  \n 0   tweet_id                    2356 non-null   int64  \n 1   in_reply_to_status_id       78 non-null     float64\n 2   in_reply_to_user_id         78 non-null     float64\n 3   timestamp                   2356 non-null   object \n 4   source                      2356 non-null   object \n 5   text                        2356 non-null   object \n 6   retweeted_status_id         181 non-null    float64\n 7   retweeted_status_user_id    181 non-null    float64\n 8   retweeted_status_timestamp  181 non-null    object \n 9   expanded_urls               2297 non-null   object \n 10  rating_numerator            2356 non-null   int64  \n 11  rating_denominator          2356 non-null   int64  \n 12  name                        2356 non-null   object \n 13  doggo                       2356 non-null   object \n 14  floofer                     2356 non-null   object \n 15  pupper                      2356 non-null   object \n 16  puppo                       2356 non-null   object \ndtypes: float64(4), int64(3), object(10)\nmemory usage: 313.0+ KB\n"
     ]
    }
   ],
   "source": [
    "df_twitter.info()"
   ]
  },
  {
   "cell_type": "code",
   "execution_count": 26,
   "metadata": {},
   "outputs": [
    {
     "output_type": "execute_result",
     "data": {
      "text/plain": [
       "           tweet_id  in_reply_to_status_id  in_reply_to_user_id  \\\n",
       "count  2.356000e+03           7.800000e+01         7.800000e+01   \n",
       "mean   7.427716e+17           7.455079e+17         2.014171e+16   \n",
       "std    6.856705e+16           7.582492e+16         1.252797e+17   \n",
       "min    6.660209e+17           6.658147e+17         1.185634e+07   \n",
       "25%    6.783989e+17           6.757419e+17         3.086374e+08   \n",
       "50%    7.196279e+17           7.038708e+17         4.196984e+09   \n",
       "75%    7.993373e+17           8.257804e+17         4.196984e+09   \n",
       "max    8.924206e+17           8.862664e+17         8.405479e+17   \n",
       "\n",
       "       retweeted_status_id  retweeted_status_user_id  rating_numerator  \\\n",
       "count         1.810000e+02              1.810000e+02       2356.000000   \n",
       "mean          7.720400e+17              1.241698e+16         13.126486   \n",
       "std           6.236928e+16              9.599254e+16         45.876648   \n",
       "min           6.661041e+17              7.832140e+05          0.000000   \n",
       "25%           7.186315e+17              4.196984e+09         10.000000   \n",
       "50%           7.804657e+17              4.196984e+09         11.000000   \n",
       "75%           8.203146e+17              4.196984e+09         12.000000   \n",
       "max           8.874740e+17              7.874618e+17       1776.000000   \n",
       "\n",
       "       rating_denominator  \n",
       "count         2356.000000  \n",
       "mean            10.455433  \n",
       "std              6.745237  \n",
       "min              0.000000  \n",
       "25%             10.000000  \n",
       "50%             10.000000  \n",
       "75%             10.000000  \n",
       "max            170.000000  "
      ],
      "text/html": "<div>\n<style scoped>\n    .dataframe tbody tr th:only-of-type {\n        vertical-align: middle;\n    }\n\n    .dataframe tbody tr th {\n        vertical-align: top;\n    }\n\n    .dataframe thead th {\n        text-align: right;\n    }\n</style>\n<table border=\"1\" class=\"dataframe\">\n  <thead>\n    <tr style=\"text-align: right;\">\n      <th></th>\n      <th>tweet_id</th>\n      <th>in_reply_to_status_id</th>\n      <th>in_reply_to_user_id</th>\n      <th>retweeted_status_id</th>\n      <th>retweeted_status_user_id</th>\n      <th>rating_numerator</th>\n      <th>rating_denominator</th>\n    </tr>\n  </thead>\n  <tbody>\n    <tr>\n      <th>count</th>\n      <td>2.356000e+03</td>\n      <td>7.800000e+01</td>\n      <td>7.800000e+01</td>\n      <td>1.810000e+02</td>\n      <td>1.810000e+02</td>\n      <td>2356.000000</td>\n      <td>2356.000000</td>\n    </tr>\n    <tr>\n      <th>mean</th>\n      <td>7.427716e+17</td>\n      <td>7.455079e+17</td>\n      <td>2.014171e+16</td>\n      <td>7.720400e+17</td>\n      <td>1.241698e+16</td>\n      <td>13.126486</td>\n      <td>10.455433</td>\n    </tr>\n    <tr>\n      <th>std</th>\n      <td>6.856705e+16</td>\n      <td>7.582492e+16</td>\n      <td>1.252797e+17</td>\n      <td>6.236928e+16</td>\n      <td>9.599254e+16</td>\n      <td>45.876648</td>\n      <td>6.745237</td>\n    </tr>\n    <tr>\n      <th>min</th>\n      <td>6.660209e+17</td>\n      <td>6.658147e+17</td>\n      <td>1.185634e+07</td>\n      <td>6.661041e+17</td>\n      <td>7.832140e+05</td>\n      <td>0.000000</td>\n      <td>0.000000</td>\n    </tr>\n    <tr>\n      <th>25%</th>\n      <td>6.783989e+17</td>\n      <td>6.757419e+17</td>\n      <td>3.086374e+08</td>\n      <td>7.186315e+17</td>\n      <td>4.196984e+09</td>\n      <td>10.000000</td>\n      <td>10.000000</td>\n    </tr>\n    <tr>\n      <th>50%</th>\n      <td>7.196279e+17</td>\n      <td>7.038708e+17</td>\n      <td>4.196984e+09</td>\n      <td>7.804657e+17</td>\n      <td>4.196984e+09</td>\n      <td>11.000000</td>\n      <td>10.000000</td>\n    </tr>\n    <tr>\n      <th>75%</th>\n      <td>7.993373e+17</td>\n      <td>8.257804e+17</td>\n      <td>4.196984e+09</td>\n      <td>8.203146e+17</td>\n      <td>4.196984e+09</td>\n      <td>12.000000</td>\n      <td>10.000000</td>\n    </tr>\n    <tr>\n      <th>max</th>\n      <td>8.924206e+17</td>\n      <td>8.862664e+17</td>\n      <td>8.405479e+17</td>\n      <td>8.874740e+17</td>\n      <td>7.874618e+17</td>\n      <td>1776.000000</td>\n      <td>170.000000</td>\n    </tr>\n  </tbody>\n</table>\n</div>"
     },
     "metadata": {},
     "execution_count": 26
    }
   ],
   "source": [
    "df_twitter.describe()"
   ]
  },
  {
   "cell_type": "code",
   "execution_count": 27,
   "metadata": {},
   "outputs": [
    {
     "output_type": "stream",
     "name": "stdout",
     "text": [
      "Dataframe contains the following columns:\nIndex(['tweet_id', 'in_reply_to_status_id', 'in_reply_to_user_id', 'timestamp',\n       'source', 'text', 'retweeted_status_id', 'retweeted_status_user_id',\n       'retweeted_status_timestamp', 'expanded_urls', 'rating_numerator',\n       'rating_denominator', 'name', 'doggo', 'floofer', 'pupper', 'puppo'],\n      dtype='object')\n\nColumn 0 - 'tweet_id' has been assessed. Assessment saved in results[0] and summary[0]\nColumn 1 - 'in_reply_to_status_id' has been assessed. Assessment saved in results[1] and summary[1]\nColumn 2 - 'in_reply_to_user_id' has been assessed. Assessment saved in results[2] and summary[2]\nColumn 3 - 'timestamp' has been assessed. Assessment saved in results[3] and summary[3]\nColumn 4 - 'source' has been assessed. Assessment saved in results[4] and summary[4]\nColumn 5 - 'text' has been assessed. Assessment saved in results[5] and summary[5]\nColumn 6 - 'retweeted_status_id' has been assessed. Assessment saved in results[6] and summary[6]\nColumn 7 - 'retweeted_status_user_id' has been assessed. Assessment saved in results[7] and summary[7]\nColumn 8 - 'retweeted_status_timestamp' has been assessed. Assessment saved in results[8] and summary[8]\nColumn 9 - 'expanded_urls' has been assessed. Assessment saved in results[9] and summary[9]\nColumn 10 - 'rating_numerator' has been assessed. Assessment saved in results[10] and summary[10]\nColumn 11 - 'rating_denominator' has been assessed. Assessment saved in results[11] and summary[11]\nColumn 12 - 'name' has been assessed. Assessment saved in results[12] and summary[12]\nColumn 13 - 'doggo' has been assessed. Assessment saved in results[13] and summary[13]\nColumn 14 - 'floofer' has been assessed. Assessment saved in results[14] and summary[14]\nColumn 15 - 'pupper' has been assessed. Assessment saved in results[15] and summary[15]\nColumn 16 - 'puppo' has been assessed. Assessment saved in results[16] and summary[16]\nNOTE: To access variables, set a series name e.g below:\nseries[0][x] to access summary details.\nseries[1][x] to access the value_counts results.\nx represents column number\n"
     ]
    }
   ],
   "source": [
    "# call go_assess function\n",
    "archive_assessed = go_assess(df_twitter)"
   ]
  },
  {
   "source": [
    "### Column 0 - tweet_id"
   ],
   "cell_type": "markdown",
   "metadata": {}
  },
  {
   "cell_type": "code",
   "execution_count": 28,
   "metadata": {},
   "outputs": [
    {
     "output_type": "execute_result",
     "data": {
      "text/plain": [
       "(\"No duplicates found in column 'tweet_id'.\",\n",
       " 749075273010798592    1\n",
       " 741099773336379392    1\n",
       " 798644042770751489    1\n",
       " 825120256414846976    1\n",
       " 769212283578875904    1\n",
       "                      ..\n",
       " 715360349751484417    1\n",
       " 666817836334096384    1\n",
       " 794926597468000259    1\n",
       " 673705679337693185    1\n",
       " 700151421916807169    1\n",
       " Name: tweet_id, Length: 2356, dtype: int64)"
      ]
     },
     "metadata": {},
     "execution_count": 28
    }
   ],
   "source": [
    "### Column 0 - \n",
    "archive_assessed[0][0], archive_assessed[1][0]"
   ]
  },
  {
   "source": [
    "### Column 1 - in reply"
   ],
   "cell_type": "markdown",
   "metadata": {}
  },
  {
   "cell_type": "code",
   "execution_count": 29,
   "metadata": {},
   "outputs": [
    {
     "output_type": "execute_result",
     "data": {
      "text/plain": [
       "(\"Duplicates found in column 'in_reply_to_status_id', the max duplicate item repeats 2 times.\",\n",
       " 6.671522e+17    2\n",
       " 8.562860e+17    1\n",
       " 8.131273e+17    1\n",
       " 6.754971e+17    1\n",
       " 6.827884e+17    1\n",
       "                ..\n",
       " 8.482121e+17    1\n",
       " 6.715449e+17    1\n",
       " 6.936422e+17    1\n",
       " 6.849598e+17    1\n",
       " 7.331095e+17    1\n",
       " Name: in_reply_to_status_id, Length: 77, dtype: int64)"
      ]
     },
     "metadata": {},
     "execution_count": 29
    }
   ],
   "source": [
    "### Column 1 - \n",
    "archive_assessed[0][1], archive_assessed[1][1]"
   ]
  },
  {
   "cell_type": "code",
   "execution_count": 30,
   "metadata": {},
   "outputs": [
    {
     "output_type": "execute_result",
     "data": {
      "text/plain": [
       "189     8.558585e+17\n",
       "234     8.476062e+17\n",
       "1339    6.671522e+17\n",
       "611     7.971238e+17\n",
       "30      8.862664e+17\n",
       "Name: in_reply_to_status_id, dtype: float64"
      ]
     },
     "metadata": {},
     "execution_count": 30
    }
   ],
   "source": [
    "df_twitter[df_twitter.in_reply_to_status_id.notna()]['in_reply_to_status_id'].sample(5)"
   ]
  },
  {
   "cell_type": "code",
   "execution_count": 31,
   "metadata": {},
   "outputs": [
    {
     "output_type": "execute_result",
     "data": {
      "text/plain": [
       "(\"Duplicates found in column 'in_reply_to_user_id', the max duplicate item repeats 47 times.\",\n",
       " 4.196984e+09    47\n",
       " 2.195506e+07     2\n",
       " 7.305050e+17     1\n",
       " 2.916630e+07     1\n",
       " 3.105441e+09     1\n",
       " 2.918590e+08     1\n",
       " 2.792810e+08     1\n",
       " 2.319108e+09     1\n",
       " 1.806710e+08     1\n",
       " 3.058208e+07     1\n",
       " 2.625958e+07     1\n",
       " 1.943518e+08     1\n",
       " 3.589728e+08     1\n",
       " 8.405479e+17     1\n",
       " 2.894131e+09     1\n",
       " 2.143566e+07     1\n",
       " 2.281182e+09     1\n",
       " 1.648776e+07     1\n",
       " 4.717297e+09     1\n",
       " 2.878549e+07     1\n",
       " 1.582854e+09     1\n",
       " 4.670367e+08     1\n",
       " 4.738443e+07     1\n",
       " 1.361572e+07     1\n",
       " 1.584641e+07     1\n",
       " 2.068372e+07     1\n",
       " 1.637468e+07     1\n",
       " 1.185634e+07     1\n",
       " 1.198989e+09     1\n",
       " 1.132119e+08     1\n",
       " 7.759620e+07     1\n",
       " Name: in_reply_to_user_id, dtype: int64)"
      ]
     },
     "metadata": {},
     "execution_count": 31
    }
   ],
   "source": [
    "### Column 2 - \n",
    "archive_assessed[0][2], archive_assessed[1][2]"
   ]
  },
  {
   "cell_type": "code",
   "execution_count": 32,
   "metadata": {},
   "outputs": [],
   "source": [
    "### Column 3 - "
   ]
  },
  {
   "cell_type": "code",
   "execution_count": 33,
   "metadata": {},
   "outputs": [
    {
     "output_type": "execute_result",
     "data": {
      "text/plain": [
       "(\"No duplicates found in column 'timestamp'.\",\n",
       " 2015-12-21 00:53:29 +0000    1\n",
       " 2017-03-07 01:17:48 +0000    1\n",
       " 2016-11-20 04:06:37 +0000    1\n",
       " 2016-11-08 22:25:27 +0000    1\n",
       " 2015-12-31 22:57:47 +0000    1\n",
       "                             ..\n",
       " 2016-03-02 16:23:36 +0000    1\n",
       " 2016-07-28 19:06:01 +0000    1\n",
       " 2016-08-26 16:37:54 +0000    1\n",
       " 2015-12-23 03:26:43 +0000    1\n",
       " 2015-12-09 02:56:22 +0000    1\n",
       " Name: timestamp, Length: 2356, dtype: int64)"
      ]
     },
     "metadata": {},
     "execution_count": 33
    }
   ],
   "source": [
    "archive_assessed[0][3], archive_assessed[1][3]"
   ]
  },
  {
   "cell_type": "code",
   "execution_count": 34,
   "metadata": {},
   "outputs": [
    {
     "output_type": "execute_result",
     "data": {
      "text/plain": [
       "(\"Duplicates found in column 'source', the max duplicate item repeats 2221 times.\",\n",
       " <a href=\"http://twitter.com/download/iphone\" rel=\"nofollow\">Twitter for iPhone</a>     2221\n",
       " <a href=\"http://vine.co\" rel=\"nofollow\">Vine - Make a Scene</a>                          91\n",
       " <a href=\"http://twitter.com\" rel=\"nofollow\">Twitter Web Client</a>                       33\n",
       " <a href=\"https://about.twitter.com/products/tweetdeck\" rel=\"nofollow\">TweetDeck</a>      11\n",
       " Name: source, dtype: int64)"
      ]
     },
     "metadata": {},
     "execution_count": 34
    }
   ],
   "source": [
    "### Column 4 - \n",
    "archive_assessed[0][4], archive_assessed[1][4]"
   ]
  },
  {
   "cell_type": "code",
   "execution_count": 35,
   "metadata": {},
   "outputs": [
    {
     "output_type": "execute_result",
     "data": {
      "text/plain": [
       "(\"No duplicates found in column 'text'.\",\n",
       " Please don't send in photos without dogs in them. We're not @porch_rates. Insubordinate and churlish. Pretty good porch tho 11/10 https://t.co/HauE8M3Bu4    1\n",
       " This is Duchess. She uses dark doggo forces to levitate her toys. 13/10 magical af https://t.co/maDNMETA52                                                   1\n",
       " Meet Saydee. She's a Rochester  Ecclesiastical. Jumped off cliff and caught stick on way down. 11/10 1st round pick https://t.co/Eh2v0AyJbi                  1\n",
       " Meet Lucky. He was showing his friends an extreme pogo stick trick when he completely lost control. 10/10 still rad https://t.co/K55XrIoePl                  1\n",
       " This is all I want in my life. 12/10 for super sleepy pupper https://t.co/4RlLA5ObMh                                                                         1\n",
       "                                                                                                                                                             ..\n",
       " This is Orion. He just got back from the dentist. Cavity free af. 12/10 would give extra pats https://t.co/Y4DZx2UWsr                                        1\n",
       " Unfamiliar with this breed. Ears pointy af. Won't let go of seashell. Won't eat kibble. Not very fast. Bad dog 2/10 https://t.co/EIn5kElY1S                  1\n",
       " After reading the comments I may have overestimated this pup. Downgraded to a 1/10. Please forgive me                                                        1\n",
       " This guy's dog broke. So sad. 9/10 would still pet https://t.co/BYiXJDEzv7                                                                                   1\n",
       " After much debate this dog is being upgraded to 10/10. I repeat 10/10                                                                                        1\n",
       " Name: text, Length: 2356, dtype: int64)"
      ]
     },
     "metadata": {},
     "execution_count": 35
    }
   ],
   "source": [
    "### Column 5 - \n",
    "archive_assessed[0][5], archive_assessed[1][5]"
   ]
  },
  {
   "cell_type": "code",
   "execution_count": 36,
   "metadata": {},
   "outputs": [
    {
     "output_type": "execute_result",
     "data": {
      "text/plain": [
       "(\"No duplicates found in column 'retweeted_status_id'.\",\n",
       " 7.757333e+17    1\n",
       " 7.507196e+17    1\n",
       " 6.742918e+17    1\n",
       " 6.833919e+17    1\n",
       " 8.269587e+17    1\n",
       "                ..\n",
       " 7.848260e+17    1\n",
       " 7.806013e+17    1\n",
       " 8.305833e+17    1\n",
       " 7.047611e+17    1\n",
       " 7.331095e+17    1\n",
       " Name: retweeted_status_id, Length: 181, dtype: int64)"
      ]
     },
     "metadata": {},
     "execution_count": 36
    }
   ],
   "source": [
    "### Column 6 - \n",
    "archive_assessed[0][6], archive_assessed[1][6]"
   ]
  },
  {
   "cell_type": "code",
   "execution_count": 37,
   "metadata": {},
   "outputs": [
    {
     "output_type": "execute_result",
     "data": {
      "text/plain": [
       "(\"Duplicates found in column 'retweeted_status_user_id', the max duplicate item repeats 156 times.\",\n",
       " 4.196984e+09    156\n",
       " 4.296832e+09      2\n",
       " 5.870972e+07      1\n",
       " 6.669901e+07      1\n",
       " 4.119842e+07      1\n",
       " 7.475543e+17      1\n",
       " 7.832140e+05      1\n",
       " 7.266347e+08      1\n",
       " 4.871977e+08      1\n",
       " 5.970642e+08      1\n",
       " 4.466750e+07      1\n",
       " 1.228326e+09      1\n",
       " 7.992370e+07      1\n",
       " 2.488557e+07      1\n",
       " 7.874618e+17      1\n",
       " 3.638908e+08      1\n",
       " 5.128045e+08      1\n",
       " 8.117408e+08      1\n",
       " 1.732729e+09      1\n",
       " 1.960740e+07      1\n",
       " 1.547674e+08      1\n",
       " 3.410211e+08      1\n",
       " 7.124572e+17      1\n",
       " 2.804798e+08      1\n",
       " 1.950368e+08      1\n",
       " Name: retweeted_status_user_id, dtype: int64)"
      ]
     },
     "metadata": {},
     "execution_count": 37
    }
   ],
   "source": [
    "### Column 7 - \n",
    "archive_assessed[0][7], archive_assessed[1][7]"
   ]
  },
  {
   "cell_type": "code",
   "execution_count": 38,
   "metadata": {},
   "outputs": [
    {
     "output_type": "execute_result",
     "data": {
      "text/plain": [
       "(\"No duplicates found in column 'retweeted_status_timestamp'.\",\n",
       " 2016-08-08 17:19:51 +0000    1\n",
       " 2016-01-25 00:26:41 +0000    1\n",
       " 2017-01-11 02:15:36 +0000    1\n",
       " 2017-02-24 23:04:14 +0000    1\n",
       " 2017-02-16 23:23:38 +0000    1\n",
       "                             ..\n",
       " 2016-03-01 20:11:59 +0000    1\n",
       " 2017-01-06 17:33:29 +0000    1\n",
       " 2016-08-28 16:51:16 +0000    1\n",
       " 2016-10-13 23:23:56 +0000    1\n",
       " 2015-12-28 17:12:42 +0000    1\n",
       " Name: retweeted_status_timestamp, Length: 181, dtype: int64)"
      ]
     },
     "metadata": {},
     "execution_count": 38
    }
   ],
   "source": [
    "### Column 8 - \n",
    "archive_assessed[0][8], archive_assessed[1][8]"
   ]
  },
  {
   "cell_type": "code",
   "execution_count": 39,
   "metadata": {},
   "outputs": [
    {
     "output_type": "execute_result",
     "data": {
      "text/plain": [
       "(\"Duplicates found in column 'expanded_urls', the max duplicate item repeats 2 times.\",\n",
       " https://twitter.com/dog_rates/status/786233965241827333/photo/1                                                                                                                                    2\n",
       " https://twitter.com/dog_rates/status/816450570814898180/photo/1,https://twitter.com/dog_rates/status/816450570814898180/photo/1                                                                    2\n",
       " https://twitter.com/dog_rates/status/667138269671505920/photo/1                                                                                                                                    2\n",
       " https://twitter.com/dog_rates/status/679462823135686656/photo/1                                                                                                                                    2\n",
       " https://twitter.com/dog_rates/status/866334964761202691/photo/1,https://twitter.com/dog_rates/status/866334964761202691/photo/1                                                                    2\n",
       "                                                                                                                                                                                                   ..\n",
       " https://twitter.com/dog_rates/status/672248013293752320/photo/1                                                                                                                                    1\n",
       " https://twitter.com/dog_rates/status/826115272272650244/photo/1                                                                                                                                    1\n",
       " https://twitter.com/dog_rates/status/828046555563323392/photo/1,https://twitter.com/dog_rates/status/828046555563323392/photo/1,https://twitter.com/dog_rates/status/828046555563323392/photo/1    1\n",
       " https://twitter.com/dog_rates/status/672169685991993344/photo/1                                                                                                                                    1\n",
       " https://twitter.com/dog_rates/status/674767892831932416/photo/1                                                                                                                                    1\n",
       " Name: expanded_urls, Length: 2218, dtype: int64)"
      ]
     },
     "metadata": {},
     "execution_count": 39
    }
   ],
   "source": [
    "### Column 9 - \n",
    "archive_assessed[0][9], archive_assessed[1][9]"
   ]
  },
  {
   "cell_type": "code",
   "execution_count": 40,
   "metadata": {},
   "outputs": [
    {
     "output_type": "execute_result",
     "data": {
      "text/plain": [
       "(\"Duplicates found in column 'rating_numerator', the max duplicate item repeats 558 times.\",\n",
       " 12      558\n",
       " 11      464\n",
       " 10      461\n",
       " 13      351\n",
       " 9       158\n",
       " 8       102\n",
       " 7        55\n",
       " 14       54\n",
       " 5        37\n",
       " 6        32\n",
       " 3        19\n",
       " 4        17\n",
       " 1         9\n",
       " 2         9\n",
       " 420       2\n",
       " 0         2\n",
       " 15        2\n",
       " 75        2\n",
       " 80        1\n",
       " 20        1\n",
       " 24        1\n",
       " 26        1\n",
       " 44        1\n",
       " 50        1\n",
       " 60        1\n",
       " 165       1\n",
       " 84        1\n",
       " 88        1\n",
       " 144       1\n",
       " 182       1\n",
       " 143       1\n",
       " 666       1\n",
       " 960       1\n",
       " 1776      1\n",
       " 17        1\n",
       " 27        1\n",
       " 45        1\n",
       " 99        1\n",
       " 121       1\n",
       " 204       1\n",
       " Name: rating_numerator, dtype: int64)"
      ]
     },
     "metadata": {},
     "execution_count": 40
    }
   ],
   "source": [
    "### Column 10 - \n",
    "archive_assessed[0][10], archive_assessed[1][10]"
   ]
  },
  {
   "cell_type": "code",
   "execution_count": 41,
   "metadata": {},
   "outputs": [
    {
     "output_type": "execute_result",
     "data": {
      "text/plain": [
       "(\"Duplicates found in column 'rating_denominator', the max duplicate item repeats 2333 times.\",\n",
       " 10     2333\n",
       " 11        3\n",
       " 50        3\n",
       " 80        2\n",
       " 20        2\n",
       " 2         1\n",
       " 16        1\n",
       " 40        1\n",
       " 70        1\n",
       " 15        1\n",
       " 90        1\n",
       " 110       1\n",
       " 120       1\n",
       " 130       1\n",
       " 150       1\n",
       " 170       1\n",
       " 7         1\n",
       " 0         1\n",
       " Name: rating_denominator, dtype: int64)"
      ]
     },
     "metadata": {},
     "execution_count": 41
    }
   ],
   "source": [
    "### Column 11 - \n",
    "archive_assessed[0][11], archive_assessed[1][11]"
   ]
  },
  {
   "cell_type": "code",
   "execution_count": 42,
   "metadata": {},
   "outputs": [],
   "source": [
    "### Column 12 - name"
   ]
  },
  {
   "source": [
    "archive_assessed[0][12], archive_assessed[1][12]"
   ],
   "cell_type": "code",
   "metadata": {},
   "execution_count": 43,
   "outputs": [
    {
     "output_type": "execute_result",
     "data": {
      "text/plain": [
       "(\"Duplicates found in column 'name', the max duplicate item repeats 745 times.\",\n",
       " None        745\n",
       " a            55\n",
       " Charlie      12\n",
       " Oliver       11\n",
       " Cooper       11\n",
       "            ... \n",
       " Ralf          1\n",
       " Pumpkin       1\n",
       " Carll         1\n",
       " Ralphson      1\n",
       " Lilah         1\n",
       " Name: name, Length: 957, dtype: int64)"
      ]
     },
     "metadata": {},
     "execution_count": 43
    }
   ]
  },
  {
   "source": [
    "## Assess 2 - Twitter Image Predictions"
   ],
   "cell_type": "markdown",
   "metadata": {}
  },
  {
   "cell_type": "code",
   "execution_count": 44,
   "metadata": {},
   "outputs": [],
   "source": [
    "# external windows open\n",
    "predictions_gui = show(df_raw[1])"
   ]
  },
  {
   "cell_type": "code",
   "execution_count": 45,
   "metadata": {},
   "outputs": [
    {
     "output_type": "execute_result",
     "data": {
      "text/plain": [
       "                tweet_id                                          jpg_url  \\\n",
       "36    666447344410484738  https://pbs.twimg.com/media/CT-yU5QWwAEjLX5.jpg   \n",
       "1842  838476387338051585  https://pbs.twimg.com/media/C6Ld0wYWgAQQqMC.jpg   \n",
       "1542  791312159183634433  https://pbs.twimg.com/media/CvtONV4WAAAQ3Rn.jpg   \n",
       "\n",
       "      img_num                      p1   p1_conf  p1_dog               p2  \\\n",
       "36          1  curly-coated_retriever  0.322084    True  giant_schnauzer   \n",
       "1842        3          Great_Pyrenees  0.997692    True           kuvasz   \n",
       "1542        4      miniature_pinscher  0.892925    True      toy_terrier   \n",
       "\n",
       "       p2_conf  p2_dog                  p3   p3_conf  p3_dog  \n",
       "36    0.287955    True  Labrador_retriever  0.166331    True  \n",
       "1842  0.001001    True        Newfoundland  0.000405    True  \n",
       "1542  0.095524    True            Doberman  0.003544    True  "
      ],
      "text/html": "<div>\n<style scoped>\n    .dataframe tbody tr th:only-of-type {\n        vertical-align: middle;\n    }\n\n    .dataframe tbody tr th {\n        vertical-align: top;\n    }\n\n    .dataframe thead th {\n        text-align: right;\n    }\n</style>\n<table border=\"1\" class=\"dataframe\">\n  <thead>\n    <tr style=\"text-align: right;\">\n      <th></th>\n      <th>tweet_id</th>\n      <th>jpg_url</th>\n      <th>img_num</th>\n      <th>p1</th>\n      <th>p1_conf</th>\n      <th>p1_dog</th>\n      <th>p2</th>\n      <th>p2_conf</th>\n      <th>p2_dog</th>\n      <th>p3</th>\n      <th>p3_conf</th>\n      <th>p3_dog</th>\n    </tr>\n  </thead>\n  <tbody>\n    <tr>\n      <th>36</th>\n      <td>666447344410484738</td>\n      <td>https://pbs.twimg.com/media/CT-yU5QWwAEjLX5.jpg</td>\n      <td>1</td>\n      <td>curly-coated_retriever</td>\n      <td>0.322084</td>\n      <td>True</td>\n      <td>giant_schnauzer</td>\n      <td>0.287955</td>\n      <td>True</td>\n      <td>Labrador_retriever</td>\n      <td>0.166331</td>\n      <td>True</td>\n    </tr>\n    <tr>\n      <th>1842</th>\n      <td>838476387338051585</td>\n      <td>https://pbs.twimg.com/media/C6Ld0wYWgAQQqMC.jpg</td>\n      <td>3</td>\n      <td>Great_Pyrenees</td>\n      <td>0.997692</td>\n      <td>True</td>\n      <td>kuvasz</td>\n      <td>0.001001</td>\n      <td>True</td>\n      <td>Newfoundland</td>\n      <td>0.000405</td>\n      <td>True</td>\n    </tr>\n    <tr>\n      <th>1542</th>\n      <td>791312159183634433</td>\n      <td>https://pbs.twimg.com/media/CvtONV4WAAAQ3Rn.jpg</td>\n      <td>4</td>\n      <td>miniature_pinscher</td>\n      <td>0.892925</td>\n      <td>True</td>\n      <td>toy_terrier</td>\n      <td>0.095524</td>\n      <td>True</td>\n      <td>Doberman</td>\n      <td>0.003544</td>\n      <td>True</td>\n    </tr>\n  </tbody>\n</table>\n</div>"
     },
     "metadata": {},
     "execution_count": 45
    }
   ],
   "source": [
    "df_image_predictor.sample(3)"
   ]
  },
  {
   "cell_type": "code",
   "execution_count": 46,
   "metadata": {},
   "outputs": [
    {
     "output_type": "stream",
     "name": "stdout",
     "text": [
      "<class 'pandas.core.frame.DataFrame'>\nRangeIndex: 2075 entries, 0 to 2074\nData columns (total 12 columns):\n #   Column    Non-Null Count  Dtype  \n---  ------    --------------  -----  \n 0   tweet_id  2075 non-null   int64  \n 1   jpg_url   2075 non-null   object \n 2   img_num   2075 non-null   int64  \n 3   p1        2075 non-null   object \n 4   p1_conf   2075 non-null   float64\n 5   p1_dog    2075 non-null   bool   \n 6   p2        2075 non-null   object \n 7   p2_conf   2075 non-null   float64\n 8   p2_dog    2075 non-null   bool   \n 9   p3        2075 non-null   object \n 10  p3_conf   2075 non-null   float64\n 11  p3_dog    2075 non-null   bool   \ndtypes: bool(3), float64(3), int64(2), object(4)\nmemory usage: 152.1+ KB\n"
     ]
    }
   ],
   "source": [
    "df_image_predictor.info()"
   ]
  },
  {
   "cell_type": "code",
   "execution_count": 47,
   "metadata": {},
   "outputs": [
    {
     "output_type": "execute_result",
     "data": {
      "text/plain": [
       "           tweet_id      img_num      p1_conf       p2_conf       p3_conf\n",
       "count  2.075000e+03  2075.000000  2075.000000  2.075000e+03  2.075000e+03\n",
       "mean   7.384514e+17     1.203855     0.594548  1.345886e-01  6.032417e-02\n",
       "std    6.785203e+16     0.561875     0.271174  1.006657e-01  5.090593e-02\n",
       "min    6.660209e+17     1.000000     0.044333  1.011300e-08  1.740170e-10\n",
       "25%    6.764835e+17     1.000000     0.364412  5.388625e-02  1.622240e-02\n",
       "50%    7.119988e+17     1.000000     0.588230  1.181810e-01  4.944380e-02\n",
       "75%    7.932034e+17     1.000000     0.843855  1.955655e-01  9.180755e-02\n",
       "max    8.924206e+17     4.000000     1.000000  4.880140e-01  2.734190e-01"
      ],
      "text/html": "<div>\n<style scoped>\n    .dataframe tbody tr th:only-of-type {\n        vertical-align: middle;\n    }\n\n    .dataframe tbody tr th {\n        vertical-align: top;\n    }\n\n    .dataframe thead th {\n        text-align: right;\n    }\n</style>\n<table border=\"1\" class=\"dataframe\">\n  <thead>\n    <tr style=\"text-align: right;\">\n      <th></th>\n      <th>tweet_id</th>\n      <th>img_num</th>\n      <th>p1_conf</th>\n      <th>p2_conf</th>\n      <th>p3_conf</th>\n    </tr>\n  </thead>\n  <tbody>\n    <tr>\n      <th>count</th>\n      <td>2.075000e+03</td>\n      <td>2075.000000</td>\n      <td>2075.000000</td>\n      <td>2.075000e+03</td>\n      <td>2.075000e+03</td>\n    </tr>\n    <tr>\n      <th>mean</th>\n      <td>7.384514e+17</td>\n      <td>1.203855</td>\n      <td>0.594548</td>\n      <td>1.345886e-01</td>\n      <td>6.032417e-02</td>\n    </tr>\n    <tr>\n      <th>std</th>\n      <td>6.785203e+16</td>\n      <td>0.561875</td>\n      <td>0.271174</td>\n      <td>1.006657e-01</td>\n      <td>5.090593e-02</td>\n    </tr>\n    <tr>\n      <th>min</th>\n      <td>6.660209e+17</td>\n      <td>1.000000</td>\n      <td>0.044333</td>\n      <td>1.011300e-08</td>\n      <td>1.740170e-10</td>\n    </tr>\n    <tr>\n      <th>25%</th>\n      <td>6.764835e+17</td>\n      <td>1.000000</td>\n      <td>0.364412</td>\n      <td>5.388625e-02</td>\n      <td>1.622240e-02</td>\n    </tr>\n    <tr>\n      <th>50%</th>\n      <td>7.119988e+17</td>\n      <td>1.000000</td>\n      <td>0.588230</td>\n      <td>1.181810e-01</td>\n      <td>4.944380e-02</td>\n    </tr>\n    <tr>\n      <th>75%</th>\n      <td>7.932034e+17</td>\n      <td>1.000000</td>\n      <td>0.843855</td>\n      <td>1.955655e-01</td>\n      <td>9.180755e-02</td>\n    </tr>\n    <tr>\n      <th>max</th>\n      <td>8.924206e+17</td>\n      <td>4.000000</td>\n      <td>1.000000</td>\n      <td>4.880140e-01</td>\n      <td>2.734190e-01</td>\n    </tr>\n  </tbody>\n</table>\n</div>"
     },
     "metadata": {},
     "execution_count": 47
    }
   ],
   "source": [
    "df_image_predictor.describe()"
   ]
  },
  {
   "cell_type": "code",
   "execution_count": 48,
   "metadata": {},
   "outputs": [
    {
     "output_type": "stream",
     "name": "stdout",
     "text": [
      "Dataframe contains the following columns:\nIndex(['tweet_id', 'jpg_url', 'img_num', 'p1', 'p1_conf', 'p1_dog', 'p2',\n       'p2_conf', 'p2_dog', 'p3', 'p3_conf', 'p3_dog'],\n      dtype='object')\n\nColumn 0 - 'tweet_id' has been assessed. Assessment saved in results[0] and summary[0]\nColumn 1 - 'jpg_url' has been assessed. Assessment saved in results[1] and summary[1]\nColumn 2 - 'img_num' has been assessed. Assessment saved in results[2] and summary[2]\nColumn 3 - 'p1' has been assessed. Assessment saved in results[3] and summary[3]\nColumn 4 - 'p1_conf' has been assessed. Assessment saved in results[4] and summary[4]\nColumn 5 - 'p1_dog' has been assessed. Assessment saved in results[5] and summary[5]\nColumn 6 - 'p2' has been assessed. Assessment saved in results[6] and summary[6]\nColumn 7 - 'p2_conf' has been assessed. Assessment saved in results[7] and summary[7]\nColumn 8 - 'p2_dog' has been assessed. Assessment saved in results[8] and summary[8]\nColumn 9 - 'p3' has been assessed. Assessment saved in results[9] and summary[9]\nColumn 10 - 'p3_conf' has been assessed. Assessment saved in results[10] and summary[10]\nColumn 11 - 'p3_dog' has been assessed. Assessment saved in results[11] and summary[11]\nNOTE: To access variables, set a series name e.g below:\nseries[0][x] to access summary details.\nseries[1][x] to access the value_counts results.\nx represents column number\n"
     ]
    }
   ],
   "source": [
    "img_assessed = go_assess(df_image_predictor)"
   ]
  },
  {
   "cell_type": "code",
   "execution_count": 50,
   "metadata": {},
   "outputs": [
    {
     "output_type": "execute_result",
     "data": {
      "text/plain": [
       "(\"No duplicates found in column 'tweet_id'.\",\n",
       " 685532292383666176    1\n",
       " 826598365270007810    1\n",
       " 692158366030913536    1\n",
       " 714606013974974464    1\n",
       " 715696743237730304    1\n",
       "                      ..\n",
       " 816829038950027264    1\n",
       " 847971574464610304    1\n",
       " 713175907180089344    1\n",
       " 670338931251150849    1\n",
       " 700151421916807169    1\n",
       " Name: tweet_id, Length: 2075, dtype: int64)"
      ]
     },
     "metadata": {},
     "execution_count": 50
    }
   ],
   "source": [
    "### Column 0\n",
    "img_assessed[0][0], img_assessed[1][0]"
   ]
  },
  {
   "source": [],
   "cell_type": "markdown",
   "metadata": {}
  },
  {
   "cell_type": "code",
   "execution_count": 51,
   "metadata": {},
   "outputs": [
    {
     "output_type": "execute_result",
     "data": {
      "text/plain": [
       "320    https://pbs.twimg.com/tweet_video_thumb/CVKtH-...\n",
       "815    https://pbs.twimg.com/tweet_video_thumb/CZ0mhd...\n",
       "Name: jpg_url, dtype: object"
      ]
     },
     "metadata": {},
     "execution_count": 51
    }
   ],
   "source": [
    "### Column 1\n",
    "# search for files other then .jpg, use .split and sift through values\n",
    "not_jpg = df_image_predictor[~df_image_predictor.jpg_url.str.contains('.jpg',)]\n",
    "not_jpg.jpg_url"
   ]
  },
  {
   "cell_type": "code",
   "execution_count": 52,
   "metadata": {},
   "outputs": [
    {
     "output_type": "execute_result",
     "data": {
      "text/plain": [
       "(\"Duplicates found in column 'jpg_url', the max duplicate item repeats 2 times.\",\n",
       " https://pbs.twimg.com/ext_tw_video_thumb/815965888126062592/pu/img/JleSw4wRhgKDWQj5.jpg    2\n",
       " https://pbs.twimg.com/media/CrXhIqBW8AA6Bse.jpg                                            2\n",
       " https://pbs.twimg.com/media/Cp6db4-XYAAMmqL.jpg                                            2\n",
       " https://pbs.twimg.com/media/CV_cnjHWUAADc-c.jpg                                            2\n",
       " https://pbs.twimg.com/media/CvaYgDOWgAEfjls.jpg                                            2\n",
       "                                                                                           ..\n",
       " https://pbs.twimg.com/media/CXAiiHUWkAIN_28.jpg                                            1\n",
       " https://pbs.twimg.com/media/C8m3-iQVoAAETnF.jpg                                            1\n",
       " https://pbs.twimg.com/ext_tw_video_thumb/744234667679821824/pu/img/1GaWmtJtdqzZV7jy.jpg    1\n",
       " https://pbs.twimg.com/media/CrHqwjWXgAAgJSe.jpg                                            1\n",
       " https://pbs.twimg.com/media/C3mOnZ_XUAAjr2V.jpg                                            1\n",
       " Name: jpg_url, Length: 2009, dtype: int64)"
      ]
     },
     "metadata": {},
     "execution_count": 52
    }
   ],
   "source": [
    "img_assessed[0][1], img_assessed[1][1]"
   ]
  },
  {
   "source": [
    "### Column 2\n",
    "img_assessed[0][2], img_assessed[1][2]"
   ],
   "cell_type": "code",
   "metadata": {},
   "execution_count": 53,
   "outputs": [
    {
     "output_type": "execute_result",
     "data": {
      "text/plain": [
       "(\"Duplicates found in column 'img_num', the max duplicate item repeats 1780 times.\",\n",
       " 1    1780\n",
       " 2     198\n",
       " 3      66\n",
       " 4      31\n",
       " Name: img_num, dtype: int64)"
      ]
     },
     "metadata": {},
     "execution_count": 53
    }
   ]
  },
  {
   "cell_type": "code",
   "execution_count": 54,
   "metadata": {},
   "outputs": [
    {
     "output_type": "execute_result",
     "data": {
      "text/plain": [
       "(\"Duplicates found in column 'p1', the max duplicate item repeats 150 times.\",\n",
       " golden_retriever      150\n",
       " Labrador_retriever    100\n",
       " Pembroke               89\n",
       " Chihuahua              83\n",
       " pug                    57\n",
       "                      ... \n",
       " canoe                   1\n",
       " lawn_mower              1\n",
       " fountain                1\n",
       " tricycle                1\n",
       " shopping_basket         1\n",
       " Name: p1, Length: 378, dtype: int64)"
      ]
     },
     "metadata": {},
     "execution_count": 54
    }
   ],
   "source": [
    "### Column 3\n",
    "img_assessed[0][3], img_assessed[1][3]"
   ]
  },
  {
   "cell_type": "code",
   "execution_count": 55,
   "metadata": {},
   "outputs": [
    {
     "output_type": "execute_result",
     "data": {
      "text/plain": [
       "Empty DataFrame\n",
       "Columns: [tweet_id, jpg_url, img_num, p1, p1_conf, p1_dog, p2, p2_conf, p2_dog, p3, p3_conf, p3_dog]\n",
       "Index: []"
      ],
      "text/html": "<div>\n<style scoped>\n    .dataframe tbody tr th:only-of-type {\n        vertical-align: middle;\n    }\n\n    .dataframe tbody tr th {\n        vertical-align: top;\n    }\n\n    .dataframe thead th {\n        text-align: right;\n    }\n</style>\n<table border=\"1\" class=\"dataframe\">\n  <thead>\n    <tr style=\"text-align: right;\">\n      <th></th>\n      <th>tweet_id</th>\n      <th>jpg_url</th>\n      <th>img_num</th>\n      <th>p1</th>\n      <th>p1_conf</th>\n      <th>p1_dog</th>\n      <th>p2</th>\n      <th>p2_conf</th>\n      <th>p2_dog</th>\n      <th>p3</th>\n      <th>p3_conf</th>\n      <th>p3_dog</th>\n    </tr>\n  </thead>\n  <tbody>\n  </tbody>\n</table>\n</div>"
     },
     "metadata": {},
     "execution_count": 55
    }
   ],
   "source": [
    "is_ws = df_image_predictor[df_image_predictor.p1.str.contains(' ',)]\n",
    "is_ws"
   ]
  },
  {
   "cell_type": "code",
   "execution_count": 56,
   "metadata": {},
   "outputs": [
    {
     "output_type": "stream",
     "name": "stderr",
     "text": [
      "PandasGUI INFO — numexpr.utils — Note: NumExpr detected 12 cores but \"NUMEXPR_MAX_THREADS\" not set, so enforcing safe limit of 8.\n",
      "PandasGUI INFO — numexpr.utils — NumExpr defaulting to 8 threads.\n"
     ]
    },
    {
     "output_type": "execute_result",
     "data": {
      "text/plain": [
       "cup                1\n",
       "cuirass            1\n",
       "clumber            1\n",
       "soccer_ball        1\n",
       "loupe              1\n",
       "                  ..\n",
       "canoe              1\n",
       "lawn_mower         1\n",
       "fountain           1\n",
       "tricycle           1\n",
       "shopping_basket    1\n",
       "Name: p1, Length: 175, dtype: int64"
      ]
     },
     "metadata": {},
     "execution_count": 56
    }
   ],
   "source": [
    "mask = img_assessed[1][3] == 1\n",
    "img_assessed[1][3][mask]"
   ]
  },
  {
   "cell_type": "code",
   "execution_count": 57,
   "metadata": {},
   "outputs": [
    {
     "output_type": "execute_result",
     "data": {
      "text/plain": [
       "(\"Duplicates found in column 'p1_conf', the max duplicate item repeats 2 times.\",\n",
       " 0.366248    2\n",
       " 0.713293    2\n",
       " 0.375098    2\n",
       " 0.636169    2\n",
       " 0.611525    2\n",
       "            ..\n",
       " 0.713102    1\n",
       " 0.765266    1\n",
       " 0.491022    1\n",
       " 0.905334    1\n",
       " 1.000000    1\n",
       " Name: p1_conf, Length: 2006, dtype: int64)"
      ]
     },
     "metadata": {},
     "execution_count": 57
    }
   ],
   "source": [
    "### Column 4\n",
    "img_assessed[0][4], img_assessed[1][4]"
   ]
  },
  {
   "cell_type": "code",
   "execution_count": 58,
   "metadata": {},
   "outputs": [
    {
     "output_type": "execute_result",
     "data": {
      "text/plain": [
       "(\"Duplicates found in column 'p1_dog', the max duplicate item repeats 1532 times.\",\n",
       " True     1532\n",
       " False     543\n",
       " Name: p1_dog, dtype: int64)"
      ]
     },
     "metadata": {},
     "execution_count": 58
    }
   ],
   "source": [
    "### Column 5\n",
    "img_assessed[0][5], img_assessed[1][5]"
   ]
  },
  {
   "cell_type": "code",
   "execution_count": 59,
   "metadata": {},
   "outputs": [
    {
     "output_type": "execute_result",
     "data": {
      "text/plain": [
       "                tweet_id                                            jpg_url  \\\n",
       "6     666051853826850816    https://pbs.twimg.com/media/CT5KoJ1WoAAJash.jpg   \n",
       "8     666057090499244032    https://pbs.twimg.com/media/CT5PY90WoAAQGLo.jpg   \n",
       "17    666104133288665088    https://pbs.twimg.com/media/CT56LSZWoAAlJj2.jpg   \n",
       "18    666268910803644416    https://pbs.twimg.com/media/CT8QCd1WEAADXws.jpg   \n",
       "21    666293911632134144    https://pbs.twimg.com/media/CT8mx7KW4AEQu8N.jpg   \n",
       "...                  ...                                                ...   \n",
       "2026  882045870035918850    https://pbs.twimg.com/media/DD2oCl2WAAEI_4a.jpg   \n",
       "2046  886680336477933568    https://pbs.twimg.com/media/DE4fEDzWAAAyHMM.jpg   \n",
       "2052  887517139158093824  https://pbs.twimg.com/ext_tw_video_thumb/88751...   \n",
       "2071  891689557279858688    https://pbs.twimg.com/media/DF_q7IAWsAEuuN8.jpg   \n",
       "2074  892420643555336193    https://pbs.twimg.com/media/DGKD1-bXoAAIAUK.jpg   \n",
       "\n",
       "                    p1  p1_dog  \n",
       "6           box_turtle   False  \n",
       "8        shopping_cart   False  \n",
       "17                 hen   False  \n",
       "18    desktop_computer   False  \n",
       "21    three-toed_sloth   False  \n",
       "...                ...     ...  \n",
       "2026          web_site   False  \n",
       "2046       convertible   False  \n",
       "2052         limousine   False  \n",
       "2071       paper_towel   False  \n",
       "2074            orange   False  \n",
       "\n",
       "[543 rows x 4 columns]"
      ],
      "text/html": "<div>\n<style scoped>\n    .dataframe tbody tr th:only-of-type {\n        vertical-align: middle;\n    }\n\n    .dataframe tbody tr th {\n        vertical-align: top;\n    }\n\n    .dataframe thead th {\n        text-align: right;\n    }\n</style>\n<table border=\"1\" class=\"dataframe\">\n  <thead>\n    <tr style=\"text-align: right;\">\n      <th></th>\n      <th>tweet_id</th>\n      <th>jpg_url</th>\n      <th>p1</th>\n      <th>p1_dog</th>\n    </tr>\n  </thead>\n  <tbody>\n    <tr>\n      <th>6</th>\n      <td>666051853826850816</td>\n      <td>https://pbs.twimg.com/media/CT5KoJ1WoAAJash.jpg</td>\n      <td>box_turtle</td>\n      <td>False</td>\n    </tr>\n    <tr>\n      <th>8</th>\n      <td>666057090499244032</td>\n      <td>https://pbs.twimg.com/media/CT5PY90WoAAQGLo.jpg</td>\n      <td>shopping_cart</td>\n      <td>False</td>\n    </tr>\n    <tr>\n      <th>17</th>\n      <td>666104133288665088</td>\n      <td>https://pbs.twimg.com/media/CT56LSZWoAAlJj2.jpg</td>\n      <td>hen</td>\n      <td>False</td>\n    </tr>\n    <tr>\n      <th>18</th>\n      <td>666268910803644416</td>\n      <td>https://pbs.twimg.com/media/CT8QCd1WEAADXws.jpg</td>\n      <td>desktop_computer</td>\n      <td>False</td>\n    </tr>\n    <tr>\n      <th>21</th>\n      <td>666293911632134144</td>\n      <td>https://pbs.twimg.com/media/CT8mx7KW4AEQu8N.jpg</td>\n      <td>three-toed_sloth</td>\n      <td>False</td>\n    </tr>\n    <tr>\n      <th>...</th>\n      <td>...</td>\n      <td>...</td>\n      <td>...</td>\n      <td>...</td>\n    </tr>\n    <tr>\n      <th>2026</th>\n      <td>882045870035918850</td>\n      <td>https://pbs.twimg.com/media/DD2oCl2WAAEI_4a.jpg</td>\n      <td>web_site</td>\n      <td>False</td>\n    </tr>\n    <tr>\n      <th>2046</th>\n      <td>886680336477933568</td>\n      <td>https://pbs.twimg.com/media/DE4fEDzWAAAyHMM.jpg</td>\n      <td>convertible</td>\n      <td>False</td>\n    </tr>\n    <tr>\n      <th>2052</th>\n      <td>887517139158093824</td>\n      <td>https://pbs.twimg.com/ext_tw_video_thumb/88751...</td>\n      <td>limousine</td>\n      <td>False</td>\n    </tr>\n    <tr>\n      <th>2071</th>\n      <td>891689557279858688</td>\n      <td>https://pbs.twimg.com/media/DF_q7IAWsAEuuN8.jpg</td>\n      <td>paper_towel</td>\n      <td>False</td>\n    </tr>\n    <tr>\n      <th>2074</th>\n      <td>892420643555336193</td>\n      <td>https://pbs.twimg.com/media/DGKD1-bXoAAIAUK.jpg</td>\n      <td>orange</td>\n      <td>False</td>\n    </tr>\n  </tbody>\n</table>\n<p>543 rows × 4 columns</p>\n</div>"
     },
     "metadata": {},
     "execution_count": 59
    }
   ],
   "source": [
    "df_image_predictor.query('p1_dog == False').iloc[:, [0,1,3,5]]"
   ]
  },
  {
   "cell_type": "code",
   "execution_count": 60,
   "metadata": {},
   "outputs": [
    {
     "output_type": "execute_result",
     "data": {
      "text/plain": [
       "                tweet_id                                            jpg_url  \\\n",
       "6     666051853826850816    https://pbs.twimg.com/media/CT5KoJ1WoAAJash.jpg   \n",
       "8     666057090499244032    https://pbs.twimg.com/media/CT5PY90WoAAQGLo.jpg   \n",
       "17    666104133288665088    https://pbs.twimg.com/media/CT56LSZWoAAlJj2.jpg   \n",
       "18    666268910803644416    https://pbs.twimg.com/media/CT8QCd1WEAADXws.jpg   \n",
       "21    666293911632134144    https://pbs.twimg.com/media/CT8mx7KW4AEQu8N.jpg   \n",
       "...                  ...                                                ...   \n",
       "2026  882045870035918850    https://pbs.twimg.com/media/DD2oCl2WAAEI_4a.jpg   \n",
       "2046  886680336477933568    https://pbs.twimg.com/media/DE4fEDzWAAAyHMM.jpg   \n",
       "2052  887517139158093824  https://pbs.twimg.com/ext_tw_video_thumb/88751...   \n",
       "2071  891689557279858688    https://pbs.twimg.com/media/DF_q7IAWsAEuuN8.jpg   \n",
       "2074  892420643555336193    https://pbs.twimg.com/media/DGKD1-bXoAAIAUK.jpg   \n",
       "\n",
       "      img_num                p1   p1_conf  p1_dog  \n",
       "6           1        box_turtle  0.933012   False  \n",
       "8           1     shopping_cart  0.962465   False  \n",
       "17          1               hen  0.965932   False  \n",
       "18          1  desktop_computer  0.086502   False  \n",
       "21          1  three-toed_sloth  0.914671   False  \n",
       "...       ...               ...       ...     ...  \n",
       "2026        1          web_site  0.949591   False  \n",
       "2046        1       convertible  0.738995   False  \n",
       "2052        1         limousine  0.130432   False  \n",
       "2071        1       paper_towel  0.170278   False  \n",
       "2074        1            orange  0.097049   False  \n",
       "\n",
       "[543 rows x 6 columns]"
      ],
      "text/html": "<div>\n<style scoped>\n    .dataframe tbody tr th:only-of-type {\n        vertical-align: middle;\n    }\n\n    .dataframe tbody tr th {\n        vertical-align: top;\n    }\n\n    .dataframe thead th {\n        text-align: right;\n    }\n</style>\n<table border=\"1\" class=\"dataframe\">\n  <thead>\n    <tr style=\"text-align: right;\">\n      <th></th>\n      <th>tweet_id</th>\n      <th>jpg_url</th>\n      <th>img_num</th>\n      <th>p1</th>\n      <th>p1_conf</th>\n      <th>p1_dog</th>\n    </tr>\n  </thead>\n  <tbody>\n    <tr>\n      <th>6</th>\n      <td>666051853826850816</td>\n      <td>https://pbs.twimg.com/media/CT5KoJ1WoAAJash.jpg</td>\n      <td>1</td>\n      <td>box_turtle</td>\n      <td>0.933012</td>\n      <td>False</td>\n    </tr>\n    <tr>\n      <th>8</th>\n      <td>666057090499244032</td>\n      <td>https://pbs.twimg.com/media/CT5PY90WoAAQGLo.jpg</td>\n      <td>1</td>\n      <td>shopping_cart</td>\n      <td>0.962465</td>\n      <td>False</td>\n    </tr>\n    <tr>\n      <th>17</th>\n      <td>666104133288665088</td>\n      <td>https://pbs.twimg.com/media/CT56LSZWoAAlJj2.jpg</td>\n      <td>1</td>\n      <td>hen</td>\n      <td>0.965932</td>\n      <td>False</td>\n    </tr>\n    <tr>\n      <th>18</th>\n      <td>666268910803644416</td>\n      <td>https://pbs.twimg.com/media/CT8QCd1WEAADXws.jpg</td>\n      <td>1</td>\n      <td>desktop_computer</td>\n      <td>0.086502</td>\n      <td>False</td>\n    </tr>\n    <tr>\n      <th>21</th>\n      <td>666293911632134144</td>\n      <td>https://pbs.twimg.com/media/CT8mx7KW4AEQu8N.jpg</td>\n      <td>1</td>\n      <td>three-toed_sloth</td>\n      <td>0.914671</td>\n      <td>False</td>\n    </tr>\n    <tr>\n      <th>...</th>\n      <td>...</td>\n      <td>...</td>\n      <td>...</td>\n      <td>...</td>\n      <td>...</td>\n      <td>...</td>\n    </tr>\n    <tr>\n      <th>2026</th>\n      <td>882045870035918850</td>\n      <td>https://pbs.twimg.com/media/DD2oCl2WAAEI_4a.jpg</td>\n      <td>1</td>\n      <td>web_site</td>\n      <td>0.949591</td>\n      <td>False</td>\n    </tr>\n    <tr>\n      <th>2046</th>\n      <td>886680336477933568</td>\n      <td>https://pbs.twimg.com/media/DE4fEDzWAAAyHMM.jpg</td>\n      <td>1</td>\n      <td>convertible</td>\n      <td>0.738995</td>\n      <td>False</td>\n    </tr>\n    <tr>\n      <th>2052</th>\n      <td>887517139158093824</td>\n      <td>https://pbs.twimg.com/ext_tw_video_thumb/88751...</td>\n      <td>1</td>\n      <td>limousine</td>\n      <td>0.130432</td>\n      <td>False</td>\n    </tr>\n    <tr>\n      <th>2071</th>\n      <td>891689557279858688</td>\n      <td>https://pbs.twimg.com/media/DF_q7IAWsAEuuN8.jpg</td>\n      <td>1</td>\n      <td>paper_towel</td>\n      <td>0.170278</td>\n      <td>False</td>\n    </tr>\n    <tr>\n      <th>2074</th>\n      <td>892420643555336193</td>\n      <td>https://pbs.twimg.com/media/DGKD1-bXoAAIAUK.jpg</td>\n      <td>1</td>\n      <td>orange</td>\n      <td>0.097049</td>\n      <td>False</td>\n    </tr>\n  </tbody>\n</table>\n<p>543 rows × 6 columns</p>\n</div>"
     },
     "metadata": {},
     "execution_count": 60
    }
   ],
   "source": [
    "p1_false_results = df_image_predictor.query('p1_dog == False').iloc[:,:6]\n",
    "p1_false_results"
   ]
  },
  {
   "cell_type": "code",
   "execution_count": 61,
   "metadata": {},
   "outputs": [
    {
     "output_type": "execute_result",
     "data": {
      "text/plain": [
       "p1\n",
       "African_crocodile      1\n",
       "African_grey           1\n",
       "African_hunting_dog    1\n",
       "American_black_bear    1\n",
       "Angora                 2\n",
       "                      ..\n",
       "wombat                 4\n",
       "wood_rabbit            3\n",
       "wooden_spoon           1\n",
       "wool                   2\n",
       "zebra                  1\n",
       "Length: 267, dtype: int64"
      ]
     },
     "metadata": {},
     "execution_count": 61
    }
   ],
   "source": [
    "p1_false_results.groupby(['p1']).size()"
   ]
  },
  {
   "cell_type": "code",
   "execution_count": 62,
   "metadata": {},
   "outputs": [
    {
     "output_type": "execute_result",
     "data": {
      "text/plain": [
       "(\"Duplicates found in column 'p2', the max duplicate item repeats 104 times.\",\n",
       " Labrador_retriever    104\n",
       " golden_retriever       92\n",
       " Cardigan               73\n",
       " Chihuahua              44\n",
       " Pomeranian             42\n",
       "                      ... \n",
       " sulphur_butterfly       1\n",
       " affenpinscher           1\n",
       " basketball              1\n",
       " television              1\n",
       " hair_slide              1\n",
       " Name: p2, Length: 405, dtype: int64)"
      ]
     },
     "metadata": {},
     "execution_count": 62
    }
   ],
   "source": [
    "### Column 6\n",
    "img_assessed[0][6], img_assessed[1][6]"
   ]
  },
  {
   "cell_type": "code",
   "execution_count": 63,
   "metadata": {},
   "outputs": [
    {
     "output_type": "execute_result",
     "data": {
      "text/plain": [
       "(\"Duplicates found in column 'p2_conf', the max duplicate item repeats 3 times.\",\n",
       " 0.069362    3\n",
       " 0.027907    2\n",
       " 0.193654    2\n",
       " 0.271929    2\n",
       " 0.003143    2\n",
       "            ..\n",
       " 0.138331    1\n",
       " 0.254884    1\n",
       " 0.090644    1\n",
       " 0.219323    1\n",
       " 0.016301    1\n",
       " Name: p2_conf, Length: 2004, dtype: int64)"
      ]
     },
     "metadata": {},
     "execution_count": 63
    }
   ],
   "source": [
    "### Column 7\n",
    "img_assessed[0][7], img_assessed[1][7]"
   ]
  },
  {
   "cell_type": "code",
   "execution_count": 64,
   "metadata": {},
   "outputs": [
    {
     "output_type": "execute_result",
     "data": {
      "text/plain": [
       "(\"Duplicates found in column 'p2_dog', the max duplicate item repeats 1553 times.\",\n",
       " True     1553\n",
       " False     522\n",
       " Name: p2_dog, dtype: int64)"
      ]
     },
     "metadata": {},
     "execution_count": 64
    }
   ],
   "source": [
    "### Column 8\n",
    "img_assessed[0][8], img_assessed[1][8]"
   ]
  },
  {
   "cell_type": "code",
   "execution_count": 65,
   "metadata": {},
   "outputs": [
    {
     "output_type": "execute_result",
     "data": {
      "text/plain": [
       "(\"Duplicates found in column 'p3', the max duplicate item repeats 79 times.\",\n",
       " Labrador_retriever    79\n",
       " Chihuahua             58\n",
       " golden_retriever      48\n",
       " Eskimo_dog            38\n",
       " kelpie                35\n",
       "                       ..\n",
       " shoji                  1\n",
       " can_opener             1\n",
       " guillotine             1\n",
       " cowboy_boot            1\n",
       " plastic_bag            1\n",
       " Name: p3, Length: 408, dtype: int64)"
      ]
     },
     "metadata": {},
     "execution_count": 65
    }
   ],
   "source": [
    "### Column 9\n",
    "img_assessed[0][9], img_assessed[1][9]"
   ]
  },
  {
   "cell_type": "code",
   "execution_count": 66,
   "metadata": {},
   "outputs": [
    {
     "output_type": "execute_result",
     "data": {
      "text/plain": [
       "(\"Duplicates found in column 'p3_conf', the max duplicate item repeats 2 times.\",\n",
       " 0.094759    2\n",
       " 0.035711    2\n",
       " 0.000428    2\n",
       " 0.044660    2\n",
       " 0.162084    2\n",
       "            ..\n",
       " 0.024007    1\n",
       " 0.132820    1\n",
       " 0.002099    1\n",
       " 0.083643    1\n",
       " 0.033835    1\n",
       " Name: p3_conf, Length: 2006, dtype: int64)"
      ]
     },
     "metadata": {},
     "execution_count": 66
    }
   ],
   "source": [
    "### Column 10\n",
    "img_assessed[0][10], img_assessed[1][10]"
   ]
  },
  {
   "cell_type": "code",
   "execution_count": 67,
   "metadata": {},
   "outputs": [
    {
     "output_type": "execute_result",
     "data": {
      "text/plain": [
       "(\"Duplicates found in column 'p3_dog', the max duplicate item repeats 1499 times.\",\n",
       " True     1499\n",
       " False     576\n",
       " Name: p3_dog, dtype: int64)"
      ]
     },
     "metadata": {},
     "execution_count": 67
    }
   ],
   "source": [
    "### Column 11\n",
    "img_assessed[0][11], img_assessed[1][11]"
   ]
  },
  {
   "source": [
    "## Assess 3 - Twitter API Raw Data"
   ],
   "cell_type": "markdown",
   "metadata": {}
  },
  {
   "cell_type": "code",
   "execution_count": 68,
   "metadata": {},
   "outputs": [],
   "source": [
    "# external windows open\n",
    "api_gui = show(df_raw[2])"
   ]
  },
  {
   "cell_type": "code",
   "execution_count": 69,
   "metadata": {},
   "outputs": [
    {
     "output_type": "execute_result",
     "data": {
      "text/plain": [
       "                tweet_id  retweet_count  fav_count\n",
       "2204  668248472370458624            894        437\n",
       "1306  705786532653883392           1877        499\n",
       "300   835172783151792128          25684       5611"
      ],
      "text/html": "<div>\n<style scoped>\n    .dataframe tbody tr th:only-of-type {\n        vertical-align: middle;\n    }\n\n    .dataframe tbody tr th {\n        vertical-align: top;\n    }\n\n    .dataframe thead th {\n        text-align: right;\n    }\n</style>\n<table border=\"1\" class=\"dataframe\">\n  <thead>\n    <tr style=\"text-align: right;\">\n      <th></th>\n      <th>tweet_id</th>\n      <th>retweet_count</th>\n      <th>fav_count</th>\n    </tr>\n  </thead>\n  <tbody>\n    <tr>\n      <th>2204</th>\n      <td>668248472370458624</td>\n      <td>894</td>\n      <td>437</td>\n    </tr>\n    <tr>\n      <th>1306</th>\n      <td>705786532653883392</td>\n      <td>1877</td>\n      <td>499</td>\n    </tr>\n    <tr>\n      <th>300</th>\n      <td>835172783151792128</td>\n      <td>25684</td>\n      <td>5611</td>\n    </tr>\n  </tbody>\n</table>\n</div>"
     },
     "metadata": {},
     "execution_count": 69
    }
   ],
   "source": [
    "df_twitter_api.sample(3)"
   ]
  },
  {
   "cell_type": "code",
   "execution_count": 70,
   "metadata": {},
   "outputs": [
    {
     "output_type": "stream",
     "name": "stdout",
     "text": [
      "<class 'pandas.core.frame.DataFrame'>\nRangeIndex: 2331 entries, 0 to 2330\nData columns (total 3 columns):\n #   Column         Non-Null Count  Dtype \n---  ------         --------------  ----- \n 0   tweet_id       2331 non-null   object\n 1   retweet_count  2331 non-null   int64 \n 2   fav_count      2331 non-null   int64 \ndtypes: int64(2), object(1)\nmemory usage: 54.8+ KB\n"
     ]
    }
   ],
   "source": [
    "df_twitter_api.info()"
   ]
  },
  {
   "cell_type": "code",
   "execution_count": 71,
   "metadata": {},
   "outputs": [
    {
     "output_type": "execute_result",
     "data": {
      "text/plain": [
       "       retweet_count     fav_count\n",
       "count    2331.000000   2331.000000\n",
       "mean     7386.187473   2624.406692\n",
       "std     11471.427460   4439.587366\n",
       "min         0.000000      1.000000\n",
       "25%      1283.000000    532.000000\n",
       "50%      3207.000000   1225.000000\n",
       "75%      9036.500000   3044.500000\n",
       "max    152335.000000  75413.000000"
      ],
      "text/html": "<div>\n<style scoped>\n    .dataframe tbody tr th:only-of-type {\n        vertical-align: middle;\n    }\n\n    .dataframe tbody tr th {\n        vertical-align: top;\n    }\n\n    .dataframe thead th {\n        text-align: right;\n    }\n</style>\n<table border=\"1\" class=\"dataframe\">\n  <thead>\n    <tr style=\"text-align: right;\">\n      <th></th>\n      <th>retweet_count</th>\n      <th>fav_count</th>\n    </tr>\n  </thead>\n  <tbody>\n    <tr>\n      <th>count</th>\n      <td>2331.000000</td>\n      <td>2331.000000</td>\n    </tr>\n    <tr>\n      <th>mean</th>\n      <td>7386.187473</td>\n      <td>2624.406692</td>\n    </tr>\n    <tr>\n      <th>std</th>\n      <td>11471.427460</td>\n      <td>4439.587366</td>\n    </tr>\n    <tr>\n      <th>min</th>\n      <td>0.000000</td>\n      <td>1.000000</td>\n    </tr>\n    <tr>\n      <th>25%</th>\n      <td>1283.000000</td>\n      <td>532.000000</td>\n    </tr>\n    <tr>\n      <th>50%</th>\n      <td>3207.000000</td>\n      <td>1225.000000</td>\n    </tr>\n    <tr>\n      <th>75%</th>\n      <td>9036.500000</td>\n      <td>3044.500000</td>\n    </tr>\n    <tr>\n      <th>max</th>\n      <td>152335.000000</td>\n      <td>75413.000000</td>\n    </tr>\n  </tbody>\n</table>\n</div>"
     },
     "metadata": {},
     "execution_count": 71
    }
   ],
   "source": [
    "df_twitter_api.describe()"
   ]
  },
  {
   "cell_type": "code",
   "execution_count": 72,
   "metadata": {},
   "outputs": [
    {
     "output_type": "stream",
     "name": "stdout",
     "text": [
      "Dataframe contains the following columns:\nIndex(['tweet_id', 'retweet_count', 'fav_count'], dtype='object')\n\nColumn 0 - 'tweet_id' has been assessed. Assessment saved in results[0] and summary[0]\nColumn 1 - 'retweet_count' has been assessed. Assessment saved in results[1] and summary[1]\nColumn 2 - 'fav_count' has been assessed. Assessment saved in results[2] and summary[2]\nNOTE: To access variables, set a series name e.g below:\nseries[0][x] to access summary details.\nseries[1][x] to access the value_counts results.\nx represents column number\n"
     ]
    }
   ],
   "source": [
    "#assess raw json api data\n",
    "api_assessed = go_assess(df_twitter_api)"
   ]
  },
  {
   "cell_type": "code",
   "execution_count": 73,
   "metadata": {},
   "outputs": [
    {
     "output_type": "stream",
     "name": "stdout",
     "text": [
      "Dataframe contains the following columns:\nIndex(['tweet_id', 'retweet_count', 'fav_count'], dtype='object')\n\nColumn 0 - 'tweet_id' has been assessed. Assessment saved in results[0] and summary[0]\nColumn 1 - 'retweet_count' has been assessed. Assessment saved in results[1] and summary[1]\nColumn 2 - 'fav_count' has been assessed. Assessment saved in results[2] and summary[2]\nNOTE: To access variables, set a series name e.g below:\nseries[0][x] to access summary details.\nseries[1][x] to access the value_counts results.\nx represents column number\n"
     ]
    }
   ],
   "source": [
    "api_assessed = go_assess(df_twitter_api)"
   ]
  },
  {
   "cell_type": "code",
   "execution_count": 74,
   "metadata": {},
   "outputs": [
    {
     "output_type": "execute_result",
     "data": {
      "text/plain": [
       "(\"No duplicates found in column 'tweet_id'.\",\n",
       " 771171053431250945    1\n",
       " 674737130913071104    1\n",
       " 669603084620980224    1\n",
       " 708853462201716736    1\n",
       " 798697898615730177    1\n",
       "                      ..\n",
       " 669375718304980992    1\n",
       " 704364645503647744    1\n",
       " 671729906628341761    1\n",
       " 767191397493538821    1\n",
       " 701981390485725185    1\n",
       " Name: tweet_id, Length: 2331, dtype: int64)"
      ]
     },
     "metadata": {},
     "execution_count": 74
    }
   ],
   "source": [
    "api_assessed[0][0], api_assessed[1][0]"
   ]
  },
  {
   "cell_type": "code",
   "execution_count": 75,
   "metadata": {},
   "outputs": [
    {
     "output_type": "execute_result",
     "data": {
      "text/plain": [
       "(\"Duplicates found in column 'retweet_count', the max duplicate item repeats 163 times.\",\n",
       " 0        163\n",
       " 355        4\n",
       " 1974       4\n",
       " 2562       3\n",
       " 1253       3\n",
       "         ... \n",
       " 6544       1\n",
       " 401        1\n",
       " 403        1\n",
       " 405        1\n",
       " 22527      1\n",
       " Name: retweet_count, Length: 1954, dtype: int64)"
      ]
     },
     "metadata": {},
     "execution_count": 75
    }
   ],
   "source": [
    "api_assessed[0][1], api_assessed[1][1]"
   ]
  },
  {
   "cell_type": "code",
   "execution_count": 76,
   "metadata": {},
   "outputs": [
    {
     "output_type": "execute_result",
     "data": {
      "text/plain": [
       "(\"Duplicates found in column 'fav_count', the max duplicate item repeats 5 times.\",\n",
       " 51       5\n",
       " 445      5\n",
       " 589      5\n",
       " 41       5\n",
       " 1161     4\n",
       "         ..\n",
       " 16705    1\n",
       " 329      1\n",
       " 4427     1\n",
       " 339      1\n",
       " 4096     1\n",
       " Name: fav_count, Length: 1676, dtype: int64)"
      ]
     },
     "metadata": {},
     "execution_count": 76
    }
   ],
   "source": [
    "api_assessed[0][2], api_assessed[1][2]"
   ]
  },
  {
   "source": [
    "### Assess Iteration 2"
   ],
   "cell_type": "markdown",
   "metadata": {}
  },
  {
   "cell_type": "code",
   "execution_count": 77,
   "metadata": {},
   "outputs": [],
   "source": [
    "df_clean = []\n",
    "df_clean.append(df_twitter)\n",
    "df_clean.append(df_image_predictor)\n",
    "df_clean.append(df_twitter_api)"
   ]
  },
  {
   "cell_type": "code",
   "execution_count": 78,
   "metadata": {},
   "outputs": [
    {
     "output_type": "stream",
     "name": "stdout",
     "text": [
      "(2356, 17)\n(2075, 12)\n(2331, 3)\n"
     ]
    }
   ],
   "source": [
    "for df in df_clean:\n",
    "    print(df.shape)"
   ]
  },
  {
   "source": [
    "## Cleaning data\n",
    "### Quality Issue 1:\n",
    "#### Define:\n",
    "col0: tweet_id data type change to string, all dataframes\n",
    "\n",
    "#### Code:"
   ],
   "cell_type": "markdown",
   "metadata": {}
  },
  {
   "cell_type": "code",
   "execution_count": 79,
   "metadata": {},
   "outputs": [],
   "source": [
    "q1 = 'tweet_id'"
   ]
  },
  {
   "cell_type": "code",
   "execution_count": 80,
   "metadata": {},
   "outputs": [
    {
     "output_type": "stream",
     "name": "stdout",
     "text": [
      "0    892420643555336193\nName: tweet_id, dtype: int64\n0    666020888022790149\nName: tweet_id, dtype: int64\n0    892420643555336193\nName: tweet_id, dtype: object\n"
     ]
    }
   ],
   "source": [
    "# Print previous data types \n",
    "df_image_predictor[q1].head(1)\n",
    "for df in df_clean:\n",
    "    print(df[q1].head(1))"
   ]
  },
  {
   "cell_type": "code",
   "execution_count": 81,
   "metadata": {},
   "outputs": [],
   "source": [
    "# Convert to string\n",
    "for df in df_clean:\n",
    "    df[q1] = df[q1].astype(str)"
   ]
  },
  {
   "source": [
    "#### Test"
   ],
   "cell_type": "markdown",
   "metadata": {}
  },
  {
   "cell_type": "code",
   "execution_count": 82,
   "metadata": {},
   "outputs": [
    {
     "output_type": "stream",
     "name": "stdout",
     "text": [
      "0    892420643555336193\nName: tweet_id, dtype: object\n0    666020888022790149\nName: tweet_id, dtype: object\n0    892420643555336193\nName: tweet_id, dtype: object\n"
     ]
    }
   ],
   "source": [
    "df_image_predictor[q1].head(1)\n",
    "for i, df in enumerate(df_clean):\n",
    "    print(df[q1].head(1))"
   ]
  },
  {
   "source": [
    "### Quality issue 2:\n",
    "#### Define:\n",
    "col3: change timestamp datatype to datetime"
   ],
   "cell_type": "markdown",
   "metadata": {}
  },
  {
   "source": [
    "#### Code:"
   ],
   "cell_type": "markdown",
   "metadata": {}
  },
  {
   "cell_type": "code",
   "execution_count": 83,
   "metadata": {},
   "outputs": [],
   "source": [
    "df_clean[0].timestamp = pd.to_datetime(df_clean[0].timestamp)"
   ]
  },
  {
   "source": [
    "#### Test:"
   ],
   "cell_type": "markdown",
   "metadata": {}
  },
  {
   "cell_type": "code",
   "execution_count": 84,
   "metadata": {},
   "outputs": [
    {
     "output_type": "execute_result",
     "data": {
      "text/plain": [
       "0      2017-08-01 16:23:56+00:00\n",
       "1      2017-08-01 00:17:27+00:00\n",
       "2      2017-07-31 00:18:03+00:00\n",
       "3      2017-07-30 15:58:51+00:00\n",
       "4      2017-07-29 16:00:24+00:00\n",
       "                  ...           \n",
       "2351   2015-11-16 00:24:50+00:00\n",
       "2352   2015-11-16 00:04:52+00:00\n",
       "2353   2015-11-15 23:21:54+00:00\n",
       "2354   2015-11-15 23:05:30+00:00\n",
       "2355   2015-11-15 22:32:08+00:00\n",
       "Name: timestamp, Length: 2356, dtype: datetime64[ns, UTC]"
      ]
     },
     "metadata": {},
     "execution_count": 84
    }
   ],
   "source": [
    "df_clean[0].timestamp"
   ]
  },
  {
   "source": [
    "### Quality Issue 3:\n",
    "#### Define:\n",
    "col4: split string to remove html tag and extract content within"
   ],
   "cell_type": "markdown",
   "metadata": {}
  },
  {
   "cell_type": "code",
   "execution_count": 85,
   "metadata": {},
   "outputs": [
    {
     "output_type": "execute_result",
     "data": {
      "text/plain": [
       "<a href=\"http://twitter.com/download/iphone\" rel=\"nofollow\">Twitter for iPhone</a>     2221\n",
       "<a href=\"http://vine.co\" rel=\"nofollow\">Vine - Make a Scene</a>                          91\n",
       "<a href=\"http://twitter.com\" rel=\"nofollow\">Twitter Web Client</a>                       33\n",
       "<a href=\"https://about.twitter.com/products/tweetdeck\" rel=\"nofollow\">TweetDeck</a>      11\n",
       "Name: source, dtype: int64"
      ]
     },
     "metadata": {},
     "execution_count": 85
    }
   ],
   "source": [
    "archive_assessed[1][4]"
   ]
  },
  {
   "source": [
    "#### Code:\n",
    "strip string prior to splitting"
   ],
   "cell_type": "markdown",
   "metadata": {}
  },
  {
   "cell_type": "code",
   "execution_count": 86,
   "metadata": {},
   "outputs": [],
   "source": [
    "df_clean[0].iloc[:,4] = df_clean[0].iloc[:,4].str.strip()"
   ]
  },
  {
   "cell_type": "code",
   "execution_count": 87,
   "metadata": {},
   "outputs": [],
   "source": [
    "# RESET COLUMN if coded incorrectly\n",
    "df_clean[0].iloc[:,4] = df_raw[0].iloc[:,4]"
   ]
  },
  {
   "cell_type": "code",
   "execution_count": 88,
   "metadata": {},
   "outputs": [],
   "source": [
    "df_clean[0].iloc[:,4] = df_clean[0].iloc[:,4].apply(lambda text: BeautifulSoup(text, 'html.parser').get_text())"
   ]
  },
  {
   "cell_type": "code",
   "execution_count": 89,
   "metadata": {},
   "outputs": [],
   "source": [
    "df_clean[0].rename(columns={'source':'source_app'}, inplace=True)"
   ]
  },
  {
   "source": [
    "#### Test:"
   ],
   "cell_type": "markdown",
   "metadata": {}
  },
  {
   "cell_type": "code",
   "execution_count": 90,
   "metadata": {},
   "outputs": [
    {
     "output_type": "execute_result",
     "data": {
      "text/plain": [
       "Twitter for iPhone     2221\n",
       "Vine - Make a Scene      91\n",
       "Twitter Web Client       33\n",
       "TweetDeck                11\n",
       "Name: source_app, dtype: int64"
      ]
     },
     "metadata": {},
     "execution_count": 90
    }
   ],
   "source": [
    "df_clean[0].iloc[:,4].value_counts()"
   ]
  },
  {
   "source": [
    "### Quality Issue 4:\n",
    "#### Define:\n",
    "col1,2,6,7: change datatype from float to int\n",
    "#### Code:"
   ],
   "cell_type": "markdown",
   "metadata": {}
  },
  {
   "cell_type": "code",
   "execution_count": 91,
   "metadata": {},
   "outputs": [
    {
     "output_type": "stream",
     "name": "stdout",
     "text": [
      "Series([], Name: in_reply_to_status_id, dtype: float64)\nSeries([], Name: in_reply_to_user_id, dtype: float64)\nSeries([], Name: retweeted_status_id, dtype: float64)\nSeries([], Name: retweeted_status_user_id, dtype: float64)\n"
     ]
    }
   ],
   "source": [
    "q4 = list(df_twitter.iloc[:0, [1,2,6,7]])\n",
    "# Print previous data types \n",
    "for column in q4:\n",
    "    print(df_twitter[column].head(0))"
   ]
  },
  {
   "cell_type": "code",
   "execution_count": 92,
   "metadata": {},
   "outputs": [],
   "source": [
    "# Convert to string\n",
    "for column in q4:\n",
    "    df_twitter[column] = df_twitter[column].astype(str)"
   ]
  },
  {
   "source": [
    "#### Test:"
   ],
   "cell_type": "markdown",
   "metadata": {}
  },
  {
   "cell_type": "code",
   "execution_count": 93,
   "metadata": {},
   "outputs": [
    {
     "output_type": "stream",
     "name": "stdout",
     "text": [
      "Series([], Name: in_reply_to_status_id, dtype: object)\nSeries([], Name: in_reply_to_user_id, dtype: object)\nSeries([], Name: retweeted_status_id, dtype: object)\nSeries([], Name: retweeted_status_user_id, dtype: object)\n"
     ]
    }
   ],
   "source": [
    "for column in q4:\n",
    "    print(df_twitter[column].head(0))"
   ]
  },
  {
   "source": [
    "### Quality Issue 5:\n",
    "#### Define:\n",
    "remove potential whitespaces across all string/objects, trim front and end as visual inspection appeared to show start of strings not inline when scrolling down."
   ],
   "cell_type": "markdown",
   "metadata": {}
  },
  {
   "cell_type": "code",
   "execution_count": 94,
   "metadata": {},
   "outputs": [
    {
     "output_type": "stream",
     "name": "stdout",
     "text": [
      "<class 'pandas.core.frame.DataFrame'>\nRangeIndex: 2356 entries, 0 to 2355\nData columns (total 17 columns):\n #   Column                      Non-Null Count  Dtype              \n---  ------                      --------------  -----              \n 0   tweet_id                    2356 non-null   object             \n 1   in_reply_to_status_id       2356 non-null   object             \n 2   in_reply_to_user_id         2356 non-null   object             \n 3   timestamp                   2356 non-null   datetime64[ns, UTC]\n 4   source_app                  2356 non-null   object             \n 5   text                        2356 non-null   object             \n 6   retweeted_status_id         2356 non-null   object             \n 7   retweeted_status_user_id    2356 non-null   object             \n 8   retweeted_status_timestamp  181 non-null    object             \n 9   expanded_urls               2297 non-null   object             \n 10  rating_numerator            2356 non-null   int64              \n 11  rating_denominator          2356 non-null   int64              \n 12  name                        2356 non-null   object             \n 13  doggo                       2356 non-null   object             \n 14  floofer                     2356 non-null   object             \n 15  pupper                      2356 non-null   object             \n 16  puppo                       2356 non-null   object             \ndtypes: datetime64[ns, UTC](1), int64(2), object(14)\nmemory usage: 313.0+ KB\n"
     ]
    }
   ],
   "source": [
    "df_clean[0].info()"
   ]
  },
  {
   "source": [
    "#### Code & Test:\n",
    "`Improvement opportunity. Scan for object/string dtype and return if true to easily filter`"
   ],
   "cell_type": "markdown",
   "metadata": {}
  },
  {
   "cell_type": "code",
   "execution_count": 95,
   "metadata": {},
   "outputs": [
    {
     "output_type": "stream",
     "name": "stdout",
     "text": [
      "No whitespaces in tweet_id.\n",
      "No whitespaces in in_reply_to_status_id.\n",
      "No whitespaces in in_reply_to_user_id.\n",
      "No whitespaces in source_app.\n",
      "No whitespaces in text.\n",
      "No whitespaces in retweeted_status_id.\n",
      "No whitespaces in retweeted_status_user_id.\n",
      "No whitespaces in retweeted_status_timestamp.\n",
      "No whitespaces in expanded_urls.\n",
      "No whitespaces in name.\n",
      "No whitespaces in doggo.\n",
      "No whitespaces in floofer.\n",
      "No whitespaces in pupper.\n",
      "No whitespaces in puppo.\n"
     ]
    }
   ],
   "source": [
    "# call function\n",
    "trim_strings(df_clean[0])"
   ]
  },
  {
   "cell_type": "code",
   "execution_count": 96,
   "metadata": {},
   "outputs": [
    {
     "output_type": "stream",
     "name": "stdout",
     "text": [
      "No whitespaces in tweet_id.\nNo whitespaces in jpg_url.\nNo whitespaces in p1.\nNo whitespaces in p2.\nNo whitespaces in p3.\n"
     ]
    }
   ],
   "source": [
    "trim_strings(df_clean[1])"
   ]
  },
  {
   "cell_type": "code",
   "execution_count": 97,
   "metadata": {},
   "outputs": [
    {
     "output_type": "stream",
     "name": "stdout",
     "text": [
      "No whitespaces in tweet_id.\n"
     ]
    }
   ],
   "source": [
    "trim_strings(df_clean[2])"
   ]
  },
  {
   "source": [
    "### Quality Issue 6:\n",
    "#### Define:\n",
    "df_image_predictor<br>\n",
    "col3,6,9: change to lower case"
   ],
   "cell_type": "markdown",
   "metadata": {}
  },
  {
   "cell_type": "code",
   "execution_count": 98,
   "metadata": {},
   "outputs": [],
   "source": [
    "q6 = list(df_clean[1].iloc[:0, [3,6,9]])"
   ]
  },
  {
   "source": [
    "#### Code:"
   ],
   "cell_type": "markdown",
   "metadata": {}
  },
  {
   "cell_type": "code",
   "execution_count": 99,
   "metadata": {},
   "outputs": [
    {
     "output_type": "stream",
     "name": "stdout",
     "text": [
      "0    Welsh_springer_spaniel\n1                   redbone\n2           German_shepherd\n3       Rhodesian_ridgeback\n4        miniature_pinscher\nName: p1, dtype: object\n0                collie\n1    miniature_pinscher\n2              malinois\n3               redbone\n4            Rottweiler\nName: p2, dtype: object\n0      Shetland_sheepdog\n1    Rhodesian_ridgeback\n2             bloodhound\n3     miniature_pinscher\n4               Doberman\nName: p3, dtype: object\n"
     ]
    }
   ],
   "source": [
    "q6 = list(df_clean[1].iloc[:0, [3,6,9]])\n",
    "# Print previous data types \n",
    "for column in q6:\n",
    "    print(df_clean[1][column].head(5))"
   ]
  },
  {
   "cell_type": "code",
   "execution_count": 100,
   "metadata": {},
   "outputs": [],
   "source": [
    "# RESET COLUMN if coded incorrectly\n",
    "df_clean[1].iloc[:, [3,6,9]] = df_raw[1].iloc[:, [3,6,9]]"
   ]
  },
  {
   "cell_type": "code",
   "execution_count": 101,
   "metadata": {},
   "outputs": [],
   "source": [
    "for column in q6:\n",
    "    df_clean[1][column] = df_clean[1][column].str.lower()"
   ]
  },
  {
   "source": [
    "#### Test:"
   ],
   "cell_type": "markdown",
   "metadata": {}
  },
  {
   "cell_type": "code",
   "execution_count": null,
   "metadata": {},
   "outputs": [],
   "source": []
  },
  {
   "cell_type": "code",
   "execution_count": 102,
   "metadata": {},
   "outputs": [
    {
     "output_type": "stream",
     "name": "stdout",
     "text": [
      "0    welsh_springer_spaniel\n1                   redbone\n2           german_shepherd\n3       rhodesian_ridgeback\n4        miniature_pinscher\nName: p1, dtype: object\n0                collie\n1    miniature_pinscher\n2              malinois\n3               redbone\n4            rottweiler\nName: p2, dtype: object\n0      shetland_sheepdog\n1    rhodesian_ridgeback\n2             bloodhound\n3     miniature_pinscher\n4               doberman\nName: p3, dtype: object\n"
     ]
    }
   ],
   "source": [
    "for column in q6:\n",
    "    print(df_clean[1][column].head(5))"
   ]
  },
  {
   "source": [
    "### Quality Issue 7:\n",
    "#### Define:\n",
    "col1: rename from jpg_url to img_url"
   ],
   "cell_type": "markdown",
   "metadata": {}
  },
  {
   "cell_type": "code",
   "execution_count": 103,
   "metadata": {},
   "outputs": [
    {
     "output_type": "execute_result",
     "data": {
      "text/plain": [
       "Series([], Name: jpg_url, dtype: object)"
      ]
     },
     "metadata": {},
     "execution_count": 103
    }
   ],
   "source": [
    "df_clean[1].iloc[:0, 1]"
   ]
  },
  {
   "source": [
    "#### Code:"
   ],
   "cell_type": "markdown",
   "metadata": {}
  },
  {
   "cell_type": "code",
   "execution_count": 104,
   "metadata": {},
   "outputs": [],
   "source": [
    "df_clean[1].rename(columns={'jpg_url':'img_url'}, inplace=True)"
   ]
  },
  {
   "source": [
    "#### Test:"
   ],
   "cell_type": "markdown",
   "metadata": {}
  },
  {
   "cell_type": "code",
   "execution_count": 105,
   "metadata": {},
   "outputs": [
    {
     "output_type": "execute_result",
     "data": {
      "text/plain": [
       "Series([], Name: img_url, dtype: object)"
      ]
     },
     "metadata": {},
     "execution_count": 105
    }
   ],
   "source": [
    "df_clean[1].iloc[:0, 1]"
   ]
  },
  {
   "source": [
    "### Quality Issue 8:\n",
    "#### Define:\n",
    "col2: rename from img_num to conf_tweet_img"
   ],
   "cell_type": "markdown",
   "metadata": {}
  },
  {
   "source": [
    "#### Code:"
   ],
   "cell_type": "markdown",
   "metadata": {}
  },
  {
   "cell_type": "code",
   "execution_count": 106,
   "metadata": {},
   "outputs": [
    {
     "output_type": "execute_result",
     "data": {
      "text/plain": [
       "Series([], Name: img_num, dtype: int64)"
      ]
     },
     "metadata": {},
     "execution_count": 106
    }
   ],
   "source": [
    "df_clean[1].iloc[:0, 2]"
   ]
  },
  {
   "cell_type": "code",
   "execution_count": 107,
   "metadata": {},
   "outputs": [],
   "source": [
    "### Quality Issue 8:\n",
    "df_clean[1].rename(columns={'img_num':'conf_tweet_img'}, inplace=True)"
   ]
  },
  {
   "source": [
    "#### Test:"
   ],
   "cell_type": "markdown",
   "metadata": {}
  },
  {
   "cell_type": "code",
   "execution_count": 108,
   "metadata": {},
   "outputs": [
    {
     "output_type": "execute_result",
     "data": {
      "text/plain": [
       "Series([], Name: conf_tweet_img, dtype: int64)"
      ]
     },
     "metadata": {},
     "execution_count": 108
    }
   ],
   "source": [
    "df_clean[1].iloc[:0, 2]"
   ]
  },
  {
   "source": [
    "### Quality Issue 9:\n",
    "#### Define:\n",
    "<br>check col12 to remove/replace incorrect names with None"
   ],
   "cell_type": "markdown",
   "metadata": {}
  },
  {
   "source": [
    "#### Code:"
   ],
   "cell_type": "markdown",
   "metadata": {}
  },
  {
   "cell_type": "code",
   "execution_count": 109,
   "metadata": {},
   "outputs": [
    {
     "output_type": "execute_result",
     "data": {
      "text/plain": [
       "Index(['None', 'a', 'Charlie', 'Oliver', 'Cooper', 'Lucy', 'Lola', 'Tucker',\n",
       "       'Penny', 'Winston',\n",
       "       ...\n",
       "       'Stefan', 'Alfy', 'Crumpet', 'Callie', 'Todo', 'Ralf', 'Pumpkin',\n",
       "       'Carll', 'Ralphson', 'Lilah'],\n",
       "      dtype='object', length=957)"
      ]
     },
     "metadata": {},
     "execution_count": 109
    }
   ],
   "source": [
    "names_list = df_clean[0].name.value_counts().index\n",
    "names_list"
   ]
  },
  {
   "cell_type": "code",
   "execution_count": 110,
   "metadata": {},
   "outputs": [
    {
     "output_type": "execute_result",
     "data": {
      "text/plain": [
       "False    2247\n",
       "True      109\n",
       "Name: name, dtype: int64"
      ]
     },
     "metadata": {},
     "execution_count": 110
    }
   ],
   "source": [
    "# extract names - regex test\n",
    "name_mask = df_clean[0].name.str.match('[^A-Z]')\n",
    "name_mask.value_counts()"
   ]
  },
  {
   "cell_type": "code",
   "execution_count": 112,
   "metadata": {},
   "outputs": [
    {
     "output_type": "execute_result",
     "data": {
      "text/plain": [
       "a               55\n",
       "the              8\n",
       "an               7\n",
       "very             5\n",
       "quite            4\n",
       "just             4\n",
       "one              4\n",
       "actually         2\n",
       "not              2\n",
       "getting          2\n",
       "mad              2\n",
       "incredibly       1\n",
       "all              1\n",
       "light            1\n",
       "such             1\n",
       "officially       1\n",
       "old              1\n",
       "this             1\n",
       "his              1\n",
       "my               1\n",
       "space            1\n",
       "unacceptable     1\n",
       "infuriating      1\n",
       "life             1\n",
       "by               1\n",
       "Name: name, dtype: int64"
      ]
     },
     "metadata": {},
     "execution_count": 112
    }
   ],
   "source": [
    "df_clean[0].name[name_mask].value_counts()"
   ]
  },
  {
   "cell_type": "code",
   "execution_count": 113,
   "metadata": {},
   "outputs": [
    {
     "output_type": "execute_result",
     "data": {
      "text/plain": [
       "0        Phineas\n",
       "1          Tilly\n",
       "2         Archie\n",
       "3          Darla\n",
       "4       Franklin\n",
       "          ...   \n",
       "2351        None\n",
       "2352         NaN\n",
       "2353         NaN\n",
       "2354         NaN\n",
       "2355        None\n",
       "Name: name, Length: 2356, dtype: object"
      ]
     },
     "metadata": {},
     "execution_count": 113
    }
   ],
   "source": [
    "df_clean[0].name.where(~name_mask)"
   ]
  },
  {
   "cell_type": "code",
   "execution_count": 114,
   "metadata": {},
   "outputs": [],
   "source": [
    "df_clean[0].name = df_clean[0].name.where(~name_mask,None)"
   ]
  },
  {
   "source": [
    "#### Test:"
   ],
   "cell_type": "markdown",
   "metadata": {}
  },
  {
   "cell_type": "code",
   "execution_count": 115,
   "metadata": {},
   "outputs": [
    {
     "output_type": "execute_result",
     "data": {
      "text/plain": [
       "0        Phineas\n",
       "1          Tilly\n",
       "2         Archie\n",
       "3          Darla\n",
       "4       Franklin\n",
       "          ...   \n",
       "2351        None\n",
       "2352        None\n",
       "2353        None\n",
       "2354        None\n",
       "2355        None\n",
       "Name: name, Length: 2356, dtype: object"
      ]
     },
     "metadata": {},
     "execution_count": 115
    }
   ],
   "source": [
    "df_clean[0].name"
   ]
  },
  {
   "source": [
    "### Quality Issue 10:\n",
    "#### Define:\n",
    "<br>check numerator rating value is correct."
   ],
   "cell_type": "markdown",
   "metadata": {}
  },
  {
   "cell_type": "code",
   "execution_count": 116,
   "metadata": {},
   "outputs": [
    {
     "output_type": "execute_result",
     "data": {
      "text/plain": [
       "['Please stop sending in non-canines like this Very Pettable Dozing Bath Tortoise. We only rate dogs. Only send dogs... 12/10 https://t.co/mcagPeENIh',\n",
       " 'Say hello to Oliver. He thought what was inside the pillow should be outside the pillow. Blurry since birth. 8/10 https://t.co/lFU9W31Fg9',\n",
       " 'This is Linda. She fucking hates trees. 7/10 https://t.co/blaY85FIxR',\n",
       " 'Finally some constructive political change in this country. 11/10 https://t.co/mvQaETHVSb',\n",
       " 'RT @dog_rates: Ohboyohboyohboyohboyohboyohboyohboyohboyohboyohboyohboyohboyohboyohboyohboy. 10/10 for all (by happytailsresort) https://t.c…']"
      ]
     },
     "metadata": {},
     "execution_count": 116
    }
   ],
   "source": [
    "# preview of strings in text column\n",
    "list(df_clean[0].text.sample(5) )"
   ]
  },
  {
   "source": [
    "#### Code:"
   ],
   "cell_type": "markdown",
   "metadata": {}
  },
  {
   "cell_type": "code",
   "execution_count": 117,
   "metadata": {},
   "outputs": [],
   "source": [
    "# regex filter to extract 123.34/123 found visually and programmatically\n",
    "df_clean[0]['rating'] = df_clean[0].text.str.extract(r'(\\b\\d{0,3}\\.?\\d{1,2}\\/\\d{2,3})', expand=True)"
   ]
  },
  {
   "cell_type": "code",
   "execution_count": 118,
   "metadata": {},
   "outputs": [
    {
     "output_type": "execute_result",
     "data": {
      "text/plain": [
       "12/10       558\n",
       "11/10       463\n",
       "10/10       460\n",
       "13/10       350\n",
       "9/10        157\n",
       "8/10        102\n",
       "14/10        54\n",
       "7/10         53\n",
       "5/10         35\n",
       "6/10         32\n",
       "3/10         19\n",
       "4/10         15\n",
       "2/10          9\n",
       "1/10          8\n",
       "420/10        2\n",
       "4/20          2\n",
       "15/10         2\n",
       "9.75/10       2\n",
       "9/11          2\n",
       "0/10          2\n",
       "144/120       1\n",
       "60/50         1\n",
       "9.5/10        1\n",
       "11.26/10      1\n",
       "204/170       1\n",
       "50/50         1\n",
       "17/10         1\n",
       "11.27/10      1\n",
       "11/15         1\n",
       "99/90         1\n",
       "121/110       1\n",
       "960/00        1\n",
       ".13/10        1\n",
       ".10/10        1\n",
       "007/10        1\n",
       "80/80         1\n",
       "143/130       1\n",
       "20/16         1\n",
       "13.5/10       1\n",
       "84/70         1\n",
       "7/11          1\n",
       "165/150       1\n",
       "182/10        1\n",
       "45/50         1\n",
       "1776/10       1\n",
       "44/40         1\n",
       "88/80         1\n",
       "666/10        1\n",
       "NaN           1\n",
       "Name: rating, dtype: int64"
      ]
     },
     "metadata": {},
     "execution_count": 118
    }
   ],
   "source": [
    "df_clean[0]['rating'].value_counts(dropna=False)"
   ]
  },
  {
   "cell_type": "code",
   "execution_count": 119,
   "metadata": {},
   "outputs": [
    {
     "output_type": "execute_result",
     "data": {
      "text/plain": [
       "'13/10'"
      ]
     },
     "metadata": {},
     "execution_count": 119
    }
   ],
   "source": [
    "#remove .13 and .10 manually\n",
    "# remove .13\n",
    "x = df_clean[0].query('rating==\".13/10\"').rating.index[0]\n",
    "df_clean[0]['rating'].iloc[x] = df_clean[0]['rating'].iloc[x].split('.')[1]\n",
    "df_clean[0]['rating'].iloc[x]"
   ]
  },
  {
   "cell_type": "code",
   "execution_count": 120,
   "metadata": {},
   "outputs": [
    {
     "output_type": "execute_result",
     "data": {
      "text/plain": [
       "'10/10'"
      ]
     },
     "metadata": {},
     "execution_count": 120
    }
   ],
   "source": [
    "# remove .10\n",
    "x = df_clean[0].query('rating==\".10/10\"').rating.index[0]\n",
    "df_clean[0]['rating'].iloc[x] = df_clean[0]['rating'].iloc[x].split('.')[1]\n",
    "df_clean[0]['rating'].iloc[x]"
   ]
  },
  {
   "cell_type": "code",
   "execution_count": 121,
   "metadata": {},
   "outputs": [
    {
     "output_type": "execute_result",
     "data": {
      "text/plain": [
       "(12/10       558\n",
       " 11/10       463\n",
       " 10/10       461\n",
       " 13/10       351\n",
       " 9/10        157\n",
       " 8/10        102\n",
       " 14/10        54\n",
       " 7/10         53\n",
       " 5/10         35\n",
       " 6/10         32\n",
       " 3/10         19\n",
       " 4/10         15\n",
       " 2/10          9\n",
       " 1/10          8\n",
       " 15/10         2\n",
       " 9/11          2\n",
       " 9.75/10       2\n",
       " 0/10          2\n",
       " 4/20          2\n",
       " 420/10        2\n",
       " 11.27/10      1\n",
       " 99/90         1\n",
       " 60/50         1\n",
       " 144/120       1\n",
       " 11/15         1\n",
       " 17/10         1\n",
       " 11.26/10      1\n",
       " 121/110       1\n",
       " 50/50         1\n",
       " 204/170       1\n",
       " 9.5/10        1\n",
       " 960/00        1\n",
       " 165/150       1\n",
       " 666/10        1\n",
       " 88/80         1\n",
       " 44/40         1\n",
       " 1776/10       1\n",
       " 45/50         1\n",
       " 182/10        1\n",
       " 7/11          1\n",
       " 84/70         1\n",
       " 13.5/10       1\n",
       " 20/16         1\n",
       " 143/130       1\n",
       " 80/80         1\n",
       " 007/10        1\n",
       " NaN           1\n",
       " Name: rating, dtype: int64,\n",
       " (2356,))"
      ]
     },
     "metadata": {},
     "execution_count": 121
    }
   ],
   "source": [
    "df_clean[0].rating.value_counts(dropna=False), df_clean[0].rating.shape"
   ]
  },
  {
   "cell_type": "code",
   "execution_count": 122,
   "metadata": {},
   "outputs": [],
   "source": [
    "# check for non regex matches\n",
    "checknull = df_clean[0].rating.isnull()"
   ]
  },
  {
   "cell_type": "code",
   "execution_count": 123,
   "metadata": {},
   "outputs": [
    {
     "output_type": "execute_result",
     "data": {
      "text/plain": [
       "(['Meet Sam. She smiles 24/7 &amp; secretly aspires to be a reindeer. \\nKeep Sam smiling by clicking and sharing this link:\\nhttps://t.co/98tB8y7y7t https://t.co/LouL5vdvxx'],\n",
       " [nan])"
      ]
     },
     "metadata": {},
     "execution_count": 123
    }
   ],
   "source": [
    "list(df_clean[0][checknull].text), list(df_clean[0][checknull].rating)"
   ]
  },
  {
   "cell_type": "code",
   "execution_count": 124,
   "metadata": {},
   "outputs": [
    {
     "output_type": "execute_result",
     "data": {
      "text/plain": [
       "False    2350\n",
       "True        6\n",
       "Name: rating, dtype: int64"
      ]
     },
     "metadata": {},
     "execution_count": 124
    }
   ],
   "source": [
    "decimal_mask = df_clean[0].rating.str.contains('\\.', na=False) # to remove error\n",
    "decimal_mask.value_counts()"
   ]
  },
  {
   "cell_type": "code",
   "execution_count": 125,
   "metadata": {},
   "outputs": [
    {
     "output_type": "execute_result",
     "data": {
      "text/plain": [
       "45       13.5/10\n",
       "340      9.75/10\n",
       "695      9.75/10\n",
       "763     11.27/10\n",
       "1689      9.5/10\n",
       "1712    11.26/10\n",
       "Name: rating, dtype: object"
      ]
     },
     "metadata": {},
     "execution_count": 125
    }
   ],
   "source": [
    "df_clean[0][decimal_mask].rating"
   ]
  },
  {
   "cell_type": "code",
   "execution_count": 126,
   "metadata": {},
   "outputs": [
    {
     "output_type": "execute_result",
     "data": {
      "text/plain": [
       "Int64Index([45, 340, 695, 763, 1689, 1712], dtype='int64')"
      ]
     },
     "metadata": {},
     "execution_count": 126
    }
   ],
   "source": [
    "decimal_index = df_clean[0][decimal_mask].index\n",
    "decimal_index"
   ]
  },
  {
   "cell_type": "code",
   "execution_count": 127,
   "metadata": {},
   "outputs": [
    {
     "output_type": "execute_result",
     "data": {
      "text/plain": [
       "         0     1\n",
       "0     13.0  10.0\n",
       "1     13.0  10.0\n",
       "2     12.0  10.0\n",
       "3     13.0  10.0\n",
       "4     12.0  10.0\n",
       "...    ...   ...\n",
       "2351   5.0  10.0\n",
       "2352   6.0  10.0\n",
       "2353   9.0  10.0\n",
       "2354   7.0  10.0\n",
       "2355   8.0  10.0\n",
       "\n",
       "[2356 rows x 2 columns]"
      ],
      "text/html": "<div>\n<style scoped>\n    .dataframe tbody tr th:only-of-type {\n        vertical-align: middle;\n    }\n\n    .dataframe tbody tr th {\n        vertical-align: top;\n    }\n\n    .dataframe thead th {\n        text-align: right;\n    }\n</style>\n<table border=\"1\" class=\"dataframe\">\n  <thead>\n    <tr style=\"text-align: right;\">\n      <th></th>\n      <th>0</th>\n      <th>1</th>\n    </tr>\n  </thead>\n  <tbody>\n    <tr>\n      <th>0</th>\n      <td>13.0</td>\n      <td>10.0</td>\n    </tr>\n    <tr>\n      <th>1</th>\n      <td>13.0</td>\n      <td>10.0</td>\n    </tr>\n    <tr>\n      <th>2</th>\n      <td>12.0</td>\n      <td>10.0</td>\n    </tr>\n    <tr>\n      <th>3</th>\n      <td>13.0</td>\n      <td>10.0</td>\n    </tr>\n    <tr>\n      <th>4</th>\n      <td>12.0</td>\n      <td>10.0</td>\n    </tr>\n    <tr>\n      <th>...</th>\n      <td>...</td>\n      <td>...</td>\n    </tr>\n    <tr>\n      <th>2351</th>\n      <td>5.0</td>\n      <td>10.0</td>\n    </tr>\n    <tr>\n      <th>2352</th>\n      <td>6.0</td>\n      <td>10.0</td>\n    </tr>\n    <tr>\n      <th>2353</th>\n      <td>9.0</td>\n      <td>10.0</td>\n    </tr>\n    <tr>\n      <th>2354</th>\n      <td>7.0</td>\n      <td>10.0</td>\n    </tr>\n    <tr>\n      <th>2355</th>\n      <td>8.0</td>\n      <td>10.0</td>\n    </tr>\n  </tbody>\n</table>\n<p>2356 rows × 2 columns</p>\n</div>"
     },
     "metadata": {},
     "execution_count": 127
    }
   ],
   "source": [
    "clean_ratings = df_clean[0].rating.str.split('/', n=2, expand=True).astype(float)\n",
    "mid = clean_ratings[0].median()\n",
    "clean_ratings[0].fillna(mid, inplace=True)\n",
    "clean_ratings[1].fillna(10, inplace=True)\n",
    "clean_ratings"
   ]
  },
  {
   "cell_type": "code",
   "execution_count": 128,
   "metadata": {},
   "outputs": [
    {
     "output_type": "execute_result",
     "data": {
      "text/plain": [
       "(dtype('float64'), dtype('float64'))"
      ]
     },
     "metadata": {},
     "execution_count": 128
    }
   ],
   "source": [
    "clean_ratings[0].dtype, clean_ratings[0].dtype"
   ]
  },
  {
   "cell_type": "code",
   "execution_count": 129,
   "metadata": {},
   "outputs": [
    {
     "output_type": "execute_result",
     "data": {
      "text/plain": [
       "12.00      558\n",
       "11.00      465\n",
       "10.00      461\n",
       "13.00      351\n",
       "9.00       159\n",
       "8.00       102\n",
       "7.00        55\n",
       "14.00       54\n",
       "5.00        35\n",
       "6.00        32\n",
       "3.00        19\n",
       "4.00        17\n",
       "2.00         9\n",
       "1.00         8\n",
       "0.00         2\n",
       "420.00       2\n",
       "9.75         2\n",
       "15.00        2\n",
       "960.00       1\n",
       "84.00        1\n",
       "17.00        1\n",
       "13.50        1\n",
       "143.00       1\n",
       "50.00        1\n",
       "121.00       1\n",
       "182.00       1\n",
       "165.00       1\n",
       "45.00        1\n",
       "204.00       1\n",
       "1776.00      1\n",
       "666.00       1\n",
       "99.00        1\n",
       "11.27        1\n",
       "11.26        1\n",
       "88.00        1\n",
       "144.00       1\n",
       "9.50         1\n",
       "20.00        1\n",
       "44.00        1\n",
       "60.00        1\n",
       "80.00        1\n",
       "Name: 0, dtype: int64"
      ]
     },
     "metadata": {},
     "execution_count": 129
    }
   ],
   "source": [
    "clean_ratings[0].value_counts()"
   ]
  },
  {
   "cell_type": "code",
   "execution_count": 130,
   "metadata": {},
   "outputs": [
    {
     "output_type": "execute_result",
     "data": {
      "text/plain": [
       "10.0     2335\n",
       "50.0        3\n",
       "11.0        3\n",
       "80.0        2\n",
       "20.0        2\n",
       "150.0       1\n",
       "110.0       1\n",
       "90.0        1\n",
       "130.0       1\n",
       "70.0        1\n",
       "170.0       1\n",
       "120.0       1\n",
       "16.0        1\n",
       "40.0        1\n",
       "15.0        1\n",
       "0.0         1\n",
       "Name: 1, dtype: int64"
      ]
     },
     "metadata": {},
     "execution_count": 130
    }
   ],
   "source": [
    "clean_ratings[1].value_counts()"
   ]
  },
  {
   "cell_type": "code",
   "execution_count": 131,
   "metadata": {},
   "outputs": [],
   "source": [
    "df_clean[0].rating_numerator = clean_ratings[0].astype(float)\n",
    "df_clean[0].rating_denominator = clean_ratings[1].astype(int)"
   ]
  },
  {
   "source": [
    "#### Test:"
   ],
   "cell_type": "markdown",
   "metadata": {}
  },
  {
   "cell_type": "code",
   "execution_count": 132,
   "metadata": {},
   "outputs": [
    {
     "output_type": "execute_result",
     "data": {
      "text/plain": [
       "(False, False)"
      ]
     },
     "metadata": {},
     "execution_count": 132
    }
   ],
   "source": [
    "df_clean[0].rating_denominator.isnull().values.any(), df_clean[0].rating_numerator.isnull().values.any()"
   ]
  },
  {
   "cell_type": "code",
   "execution_count": 133,
   "metadata": {},
   "outputs": [],
   "source": [
    "df_clean[0].drop('rating', axis=1, inplace=True)"
   ]
  },
  {
   "cell_type": "code",
   "execution_count": 134,
   "metadata": {},
   "outputs": [
    {
     "output_type": "stream",
     "name": "stdout",
     "text": [
      "<class 'pandas.core.frame.DataFrame'>\nRangeIndex: 2356 entries, 0 to 2355\nData columns (total 17 columns):\n #   Column                      Non-Null Count  Dtype              \n---  ------                      --------------  -----              \n 0   tweet_id                    2356 non-null   object             \n 1   in_reply_to_status_id       2356 non-null   object             \n 2   in_reply_to_user_id         2356 non-null   object             \n 3   timestamp                   2356 non-null   datetime64[ns, UTC]\n 4   source_app                  2356 non-null   object             \n 5   text                        2356 non-null   object             \n 6   retweeted_status_id         2356 non-null   object             \n 7   retweeted_status_user_id    2356 non-null   object             \n 8   retweeted_status_timestamp  181 non-null    object             \n 9   expanded_urls               2297 non-null   object             \n 10  rating_numerator            2356 non-null   float64            \n 11  rating_denominator          2356 non-null   int32              \n 12  name                        2247 non-null   object             \n 13  doggo                       2356 non-null   object             \n 14  floofer                     2356 non-null   object             \n 15  pupper                      2356 non-null   object             \n 16  puppo                       2356 non-null   object             \ndtypes: datetime64[ns, UTC](1), float64(1), int32(1), object(14)\nmemory usage: 303.8+ KB\n"
     ]
    }
   ],
   "source": [
    "df_clean[0].info()"
   ]
  },
  {
   "cell_type": "code",
   "execution_count": 135,
   "metadata": {},
   "outputs": [
    {
     "output_type": "execute_result",
     "data": {
      "text/plain": [
       "12.00      558\n",
       "11.00      465\n",
       "10.00      461\n",
       "13.00      351\n",
       "9.00       159\n",
       "8.00       102\n",
       "7.00        55\n",
       "14.00       54\n",
       "5.00        35\n",
       "6.00        32\n",
       "3.00        19\n",
       "4.00        17\n",
       "2.00         9\n",
       "1.00         8\n",
       "0.00         2\n",
       "420.00       2\n",
       "9.75         2\n",
       "15.00        2\n",
       "960.00       1\n",
       "84.00        1\n",
       "17.00        1\n",
       "13.50        1\n",
       "143.00       1\n",
       "50.00        1\n",
       "121.00       1\n",
       "182.00       1\n",
       "165.00       1\n",
       "45.00        1\n",
       "204.00       1\n",
       "1776.00      1\n",
       "666.00       1\n",
       "99.00        1\n",
       "11.27        1\n",
       "11.26        1\n",
       "88.00        1\n",
       "144.00       1\n",
       "9.50         1\n",
       "20.00        1\n",
       "44.00        1\n",
       "60.00        1\n",
       "80.00        1\n",
       "Name: rating_numerator, dtype: int64"
      ]
     },
     "metadata": {},
     "execution_count": 135
    }
   ],
   "source": [
    "df_clean[0].rating_numerator.value_counts()"
   ]
  },
  {
   "cell_type": "code",
   "execution_count": 136,
   "metadata": {},
   "outputs": [
    {
     "output_type": "execute_result",
     "data": {
      "text/plain": [
       "10     2335\n",
       "11        3\n",
       "50        3\n",
       "80        2\n",
       "20        2\n",
       "15        1\n",
       "170       1\n",
       "150       1\n",
       "130       1\n",
       "120       1\n",
       "110       1\n",
       "90        1\n",
       "70        1\n",
       "40        1\n",
       "16        1\n",
       "0         1\n",
       "Name: rating_denominator, dtype: int64"
      ]
     },
     "metadata": {},
     "execution_count": 136
    }
   ],
   "source": [
    "df_clean[0].rating_denominator.value_counts()"
   ]
  },
  {
   "cell_type": "code",
   "execution_count": 137,
   "metadata": {},
   "outputs": [
    {
     "output_type": "stream",
     "name": "stdout",
     "text": [
      "<class 'pandas.core.frame.DataFrame'>\nRangeIndex: 2356 entries, 0 to 2355\nData columns (total 17 columns):\n #   Column                      Non-Null Count  Dtype              \n---  ------                      --------------  -----              \n 0   tweet_id                    2356 non-null   object             \n 1   in_reply_to_status_id       2356 non-null   object             \n 2   in_reply_to_user_id         2356 non-null   object             \n 3   timestamp                   2356 non-null   datetime64[ns, UTC]\n 4   source_app                  2356 non-null   object             \n 5   text                        2356 non-null   object             \n 6   retweeted_status_id         2356 non-null   object             \n 7   retweeted_status_user_id    2356 non-null   object             \n 8   retweeted_status_timestamp  181 non-null    object             \n 9   expanded_urls               2297 non-null   object             \n 10  rating_numerator            2356 non-null   float64            \n 11  rating_denominator          2356 non-null   int32              \n 12  name                        2247 non-null   object             \n 13  doggo                       2356 non-null   object             \n 14  floofer                     2356 non-null   object             \n 15  pupper                      2356 non-null   object             \n 16  puppo                       2356 non-null   object             \ndtypes: datetime64[ns, UTC](1), float64(1), int32(1), object(14)\nmemory usage: 303.8+ KB\n"
     ]
    }
   ],
   "source": [
    "df_clean[0].info()"
   ]
  },
  {
   "source": [
    "### Quality Issue 11:\n",
    "#### Define:\n",
    "remove retweets, i.e. 'RT @' in text"
   ],
   "cell_type": "markdown",
   "metadata": {}
  },
  {
   "cell_type": "code",
   "execution_count": 138,
   "metadata": {},
   "outputs": [
    {
     "output_type": "execute_result",
     "data": {
      "text/plain": [
       "nan                      2278\n",
       "4196983835.0               47\n",
       "21955058.0                  2\n",
       "29166305.0                  1\n",
       "2281181600.0                1\n",
       "20683724.0                  1\n",
       "77596200.0                  1\n",
       "2894131180.0                1\n",
       "2319108198.0                1\n",
       "30582082.0                  1\n",
       "180670967.0                 1\n",
       "26259576.0                  1\n",
       "13615722.0                  1\n",
       "21435658.0                  1\n",
       "291859009.0                 1\n",
       "358972768.0                 1\n",
       "4717297476.0                1\n",
       "113211856.0                 1\n",
       "15846407.0                  1\n",
       "16374678.0                  1\n",
       "28785486.0                  1\n",
       "1198988510.0                1\n",
       "16487760.0                  1\n",
       "47384430.0                  1\n",
       "11856342.0                  1\n",
       "1582853809.0                1\n",
       "279280991.0                 1\n",
       "3105440746.0                1\n",
       "467036706.0                 1\n",
       "194351775.0                 1\n",
       "7.305050141505823e+17       1\n",
       "8.405478643549184e+17       1\n",
       "Name: in_reply_to_user_id, dtype: int64"
      ]
     },
     "metadata": {},
     "execution_count": 138
    }
   ],
   "source": [
    "df_clean[0].in_reply_to_user_id.value_counts()"
   ]
  },
  {
   "source": [
    "#### Code:"
   ],
   "cell_type": "markdown",
   "metadata": {}
  },
  {
   "cell_type": "code",
   "execution_count": 139,
   "metadata": {},
   "outputs": [],
   "source": [
    "df_clean[0] = df_clean[0].query('in_reply_to_user_id==\"nan\" & retweeted_status_user_id==\"nan\"')"
   ]
  },
  {
   "source": [
    "#### Test:"
   ],
   "cell_type": "markdown",
   "metadata": {}
  },
  {
   "cell_type": "code",
   "execution_count": 140,
   "metadata": {},
   "outputs": [
    {
     "output_type": "execute_result",
     "data": {
      "text/plain": [
       "nan    2097\n",
       "Name: in_reply_to_user_id, dtype: int64"
      ]
     },
     "metadata": {},
     "execution_count": 140
    }
   ],
   "source": [
    "df_clean[0].in_reply_to_user_id.value_counts()"
   ]
  },
  {
   "cell_type": "code",
   "execution_count": 141,
   "metadata": {},
   "outputs": [
    {
     "output_type": "execute_result",
     "data": {
      "text/plain": [
       "nan    2097\n",
       "Name: retweeted_status_id, dtype: int64"
      ]
     },
     "metadata": {},
     "execution_count": 141
    }
   ],
   "source": [
    "df_clean[0].retweeted_status_id.value_counts()"
   ]
  },
  {
   "source": [
    "### Tidiness Issue 1:\n",
    "#### Define:\n",
    "timestamp split into three columns, date, time, timezone"
   ],
   "cell_type": "markdown",
   "metadata": {}
  },
  {
   "cell_type": "code",
   "execution_count": 142,
   "metadata": {},
   "outputs": [
    {
     "output_type": "execute_result",
     "data": {
      "text/plain": [
       "((2097, 17), (2075, 12), (2331, 3))"
      ]
     },
     "metadata": {},
     "execution_count": 142
    }
   ],
   "source": [
    "df_clean[0].shape, df_clean[1].shape, df_clean[2].shape"
   ]
  },
  {
   "source": [
    "#### Code:\n"
   ],
   "cell_type": "markdown",
   "metadata": {}
  },
  {
   "cell_type": "code",
   "execution_count": 143,
   "metadata": {},
   "outputs": [
    {
     "output_type": "execute_result",
     "data": {
      "text/plain": [
       "449    2017-01-11 02:15:36+00:00\n",
       "584    2016-11-20 00:59:15+00:00\n",
       "1116   2016-05-17 14:57:41+00:00\n",
       "568    2016-11-25 16:22:55+00:00\n",
       "873    2016-08-04 22:52:29+00:00\n",
       "Name: timestamp, dtype: datetime64[ns, UTC]"
      ]
     },
     "metadata": {},
     "execution_count": 143
    }
   ],
   "source": [
    "df_twitter.timestamp.sample(5)"
   ]
  },
  {
   "cell_type": "code",
   "execution_count": 144,
   "metadata": {},
   "outputs": [],
   "source": [
    "df_clean[0]['date'] = df_clean[0]['timestamp'].dt.date \n",
    "df_clean[0]['time'] = df_clean[0]['timestamp'].dt.time \n",
    "df_clean[0]['timezone'] = df_clean[0]['timestamp'].astype(str).str[-6:]\n",
    "df_clean[0].drop(labels='timestamp', axis=1, inplace = True)"
   ]
  },
  {
   "source": [
    "#### Test:\n"
   ],
   "cell_type": "markdown",
   "metadata": {}
  },
  {
   "cell_type": "code",
   "execution_count": 145,
   "metadata": {},
   "outputs": [
    {
     "output_type": "execute_result",
     "data": {
      "text/plain": [
       "            date      time timezone\n",
       "0     2017-08-01  16:23:56   +00:00\n",
       "1     2017-08-01  00:17:27   +00:00\n",
       "2     2017-07-31  00:18:03   +00:00\n",
       "3     2017-07-30  15:58:51   +00:00\n",
       "4     2017-07-29  16:00:24   +00:00\n",
       "...          ...       ...      ...\n",
       "2351  2015-11-16  00:24:50   +00:00\n",
       "2352  2015-11-16  00:04:52   +00:00\n",
       "2353  2015-11-15  23:21:54   +00:00\n",
       "2354  2015-11-15  23:05:30   +00:00\n",
       "2355  2015-11-15  22:32:08   +00:00\n",
       "\n",
       "[2097 rows x 3 columns]"
      ],
      "text/html": "<div>\n<style scoped>\n    .dataframe tbody tr th:only-of-type {\n        vertical-align: middle;\n    }\n\n    .dataframe tbody tr th {\n        vertical-align: top;\n    }\n\n    .dataframe thead th {\n        text-align: right;\n    }\n</style>\n<table border=\"1\" class=\"dataframe\">\n  <thead>\n    <tr style=\"text-align: right;\">\n      <th></th>\n      <th>date</th>\n      <th>time</th>\n      <th>timezone</th>\n    </tr>\n  </thead>\n  <tbody>\n    <tr>\n      <th>0</th>\n      <td>2017-08-01</td>\n      <td>16:23:56</td>\n      <td>+00:00</td>\n    </tr>\n    <tr>\n      <th>1</th>\n      <td>2017-08-01</td>\n      <td>00:17:27</td>\n      <td>+00:00</td>\n    </tr>\n    <tr>\n      <th>2</th>\n      <td>2017-07-31</td>\n      <td>00:18:03</td>\n      <td>+00:00</td>\n    </tr>\n    <tr>\n      <th>3</th>\n      <td>2017-07-30</td>\n      <td>15:58:51</td>\n      <td>+00:00</td>\n    </tr>\n    <tr>\n      <th>4</th>\n      <td>2017-07-29</td>\n      <td>16:00:24</td>\n      <td>+00:00</td>\n    </tr>\n    <tr>\n      <th>...</th>\n      <td>...</td>\n      <td>...</td>\n      <td>...</td>\n    </tr>\n    <tr>\n      <th>2351</th>\n      <td>2015-11-16</td>\n      <td>00:24:50</td>\n      <td>+00:00</td>\n    </tr>\n    <tr>\n      <th>2352</th>\n      <td>2015-11-16</td>\n      <td>00:04:52</td>\n      <td>+00:00</td>\n    </tr>\n    <tr>\n      <th>2353</th>\n      <td>2015-11-15</td>\n      <td>23:21:54</td>\n      <td>+00:00</td>\n    </tr>\n    <tr>\n      <th>2354</th>\n      <td>2015-11-15</td>\n      <td>23:05:30</td>\n      <td>+00:00</td>\n    </tr>\n    <tr>\n      <th>2355</th>\n      <td>2015-11-15</td>\n      <td>22:32:08</td>\n      <td>+00:00</td>\n    </tr>\n  </tbody>\n</table>\n<p>2097 rows × 3 columns</p>\n</div>"
     },
     "metadata": {},
     "execution_count": 145
    }
   ],
   "source": [
    "df_clean[0].iloc[:,16:]"
   ]
  },
  {
   "source": [
    "### Tidiness Issue 2:\n",
    "#### Define:\n",
    "categorize dog type into one column, and drop redundant columns.\n",
    "### Quality Issue #:\n",
    "#### Define:\n",
    "change datatype into categorical"
   ],
   "cell_type": "markdown",
   "metadata": {}
  },
  {
   "cell_type": "code",
   "execution_count": 146,
   "metadata": {},
   "outputs": [
    {
     "output_type": "execute_result",
     "data": {
      "text/plain": [
       "          name doggo floofer  pupper puppo\n",
       "86       Goose  None    None    None  None\n",
       "1112  Hermione  None    None    None  None\n",
       "40       Kevin  None    None    None  None\n",
       "436       None  None    None    None  None\n",
       "853      Louie  None    None  pupper  None\n",
       "34      Maisey  None    None    None  None\n",
       "1436   Charlie  None    None    None  None\n",
       "410      Wyatt  None    None    None  None\n",
       "208    Wiggles  None    None    None  None\n",
       "329      Poppy  None    None    None  None"
      ],
      "text/html": "<div>\n<style scoped>\n    .dataframe tbody tr th:only-of-type {\n        vertical-align: middle;\n    }\n\n    .dataframe tbody tr th {\n        vertical-align: top;\n    }\n\n    .dataframe thead th {\n        text-align: right;\n    }\n</style>\n<table border=\"1\" class=\"dataframe\">\n  <thead>\n    <tr style=\"text-align: right;\">\n      <th></th>\n      <th>name</th>\n      <th>doggo</th>\n      <th>floofer</th>\n      <th>pupper</th>\n      <th>puppo</th>\n    </tr>\n  </thead>\n  <tbody>\n    <tr>\n      <th>86</th>\n      <td>Goose</td>\n      <td>None</td>\n      <td>None</td>\n      <td>None</td>\n      <td>None</td>\n    </tr>\n    <tr>\n      <th>1112</th>\n      <td>Hermione</td>\n      <td>None</td>\n      <td>None</td>\n      <td>None</td>\n      <td>None</td>\n    </tr>\n    <tr>\n      <th>40</th>\n      <td>Kevin</td>\n      <td>None</td>\n      <td>None</td>\n      <td>None</td>\n      <td>None</td>\n    </tr>\n    <tr>\n      <th>436</th>\n      <td>None</td>\n      <td>None</td>\n      <td>None</td>\n      <td>None</td>\n      <td>None</td>\n    </tr>\n    <tr>\n      <th>853</th>\n      <td>Louie</td>\n      <td>None</td>\n      <td>None</td>\n      <td>pupper</td>\n      <td>None</td>\n    </tr>\n    <tr>\n      <th>34</th>\n      <td>Maisey</td>\n      <td>None</td>\n      <td>None</td>\n      <td>None</td>\n      <td>None</td>\n    </tr>\n    <tr>\n      <th>1436</th>\n      <td>Charlie</td>\n      <td>None</td>\n      <td>None</td>\n      <td>None</td>\n      <td>None</td>\n    </tr>\n    <tr>\n      <th>410</th>\n      <td>Wyatt</td>\n      <td>None</td>\n      <td>None</td>\n      <td>None</td>\n      <td>None</td>\n    </tr>\n    <tr>\n      <th>208</th>\n      <td>Wiggles</td>\n      <td>None</td>\n      <td>None</td>\n      <td>None</td>\n      <td>None</td>\n    </tr>\n    <tr>\n      <th>329</th>\n      <td>Poppy</td>\n      <td>None</td>\n      <td>None</td>\n      <td>None</td>\n      <td>None</td>\n    </tr>\n  </tbody>\n</table>\n</div>"
     },
     "metadata": {},
     "execution_count": 146
    }
   ],
   "source": [
    "df_clean[0].iloc[:,11:16].sample(10)"
   ]
  },
  {
   "source": [
    "#### Code:"
   ],
   "cell_type": "markdown",
   "metadata": {}
  },
  {
   "cell_type": "code",
   "execution_count": 147,
   "metadata": {},
   "outputs": [],
   "source": [
    "df_clean[0]['dog_type'] = df_clean[0].text.str.extract('(doggo|floofer|pupper|puppo)', expand=False)\n",
    "df_clean[0]['dog_type'] = df_clean[0]['dog_type'].astype('category')"
   ]
  },
  {
   "cell_type": "code",
   "execution_count": 148,
   "metadata": {},
   "outputs": [
    {
     "output_type": "execute_result",
     "data": {
      "text/plain": [
       "['doggo', 'floofer', 'pupper', 'puppo']"
      ]
     },
     "metadata": {},
     "execution_count": 148
    }
   ],
   "source": [
    "drop_cols = list(df_clean[0].iloc[:1,12:16])\n",
    "drop_cols"
   ]
  },
  {
   "cell_type": "code",
   "execution_count": 149,
   "metadata": {},
   "outputs": [
    {
     "output_type": "execute_result",
     "data": {
      "text/plain": [
       "NaN        1744\n",
       "pupper      240\n",
       "doggo        80\n",
       "puppo        29\n",
       "floofer       4\n",
       "Name: dog_type, dtype: int64"
      ]
     },
     "metadata": {},
     "execution_count": 149
    }
   ],
   "source": [
    "df_clean[0]['dog_type'].value_counts(dropna=False)"
   ]
  },
  {
   "cell_type": "code",
   "execution_count": 150,
   "metadata": {},
   "outputs": [],
   "source": [
    "df_clean[0]['dog_type'].fillna('doggo', inplace=True)"
   ]
  },
  {
   "cell_type": "code",
   "execution_count": 151,
   "metadata": {},
   "outputs": [
    {
     "output_type": "execute_result",
     "data": {
      "text/plain": [
       "doggo      1824\n",
       "pupper      240\n",
       "puppo        29\n",
       "floofer       4\n",
       "Name: dog_type, dtype: int64"
      ]
     },
     "metadata": {},
     "execution_count": 151
    }
   ],
   "source": [
    "df_clean[0]['dog_type'].value_counts(dropna=False)"
   ]
  },
  {
   "cell_type": "code",
   "execution_count": 152,
   "metadata": {},
   "outputs": [],
   "source": [
    "df_clean[0].drop(drop_cols, axis=1, inplace=True)"
   ]
  },
  {
   "source": [
    "#### Test:"
   ],
   "cell_type": "markdown",
   "metadata": {}
  },
  {
   "cell_type": "code",
   "execution_count": 153,
   "metadata": {},
   "outputs": [
    {
     "output_type": "execute_result",
     "data": {
      "text/plain": [
       "doggo      1824\n",
       "pupper      240\n",
       "puppo        29\n",
       "floofer       4\n",
       "Name: dog_type, dtype: int64"
      ]
     },
     "metadata": {},
     "execution_count": 153
    }
   ],
   "source": [
    "df_clean[0]['dog_type'].value_counts(dropna=False)"
   ]
  },
  {
   "cell_type": "code",
   "execution_count": 154,
   "metadata": {},
   "outputs": [
    {
     "output_type": "execute_result",
     "data": {
      "text/plain": [
       "['tweet_id',\n",
       " 'in_reply_to_status_id',\n",
       " 'in_reply_to_user_id',\n",
       " 'source_app',\n",
       " 'text',\n",
       " 'retweeted_status_id',\n",
       " 'retweeted_status_user_id',\n",
       " 'retweeted_status_timestamp',\n",
       " 'expanded_urls',\n",
       " 'rating_numerator',\n",
       " 'rating_denominator',\n",
       " 'name',\n",
       " 'date',\n",
       " 'time',\n",
       " 'timezone',\n",
       " 'dog_type']"
      ]
     },
     "metadata": {},
     "execution_count": 154
    }
   ],
   "source": [
    "list(df_clean[0].iloc[:0,:])"
   ]
  },
  {
   "source": [
    "### Tidiness Issue 3:\n",
    "#### Define:\n",
    "merge dataframes to contain the relevant columns required for analysis ensuring each is relevant to the information it pertains. Two dataframes in total.\n",
    "One observation consisting of Twitter Data, another consisting of image predictions."
   ],
   "cell_type": "markdown",
   "metadata": {}
  },
  {
   "source": [
    "#### Code:\n"
   ],
   "cell_type": "markdown",
   "metadata": {}
  },
  {
   "cell_type": "code",
   "execution_count": 155,
   "metadata": {},
   "outputs": [
    {
     "output_type": "execute_result",
     "data": {
      "text/plain": [
       "(2097, 16)"
      ]
     },
     "metadata": {},
     "execution_count": 155
    }
   ],
   "source": [
    "df_clean[0].shape"
   ]
  },
  {
   "cell_type": "code",
   "execution_count": 156,
   "metadata": {},
   "outputs": [],
   "source": [
    "# merge twitter archive and api data first, keep predictions at the end (width wise) of data frame\n",
    "twitter_archive_master = pd.merge(df_clean[0], df_clean[2], on='tweet_id', how='inner')"
   ]
  },
  {
   "cell_type": "code",
   "execution_count": 157,
   "metadata": {},
   "outputs": [],
   "source": [
    "twitter_archive_master = pd.merge(twitter_archive_master, df_clean[1], on='tweet_id', how='inner')"
   ]
  },
  {
   "source": [
    "#### Test:"
   ],
   "cell_type": "markdown",
   "metadata": {}
  },
  {
   "cell_type": "code",
   "execution_count": 158,
   "metadata": {},
   "outputs": [
    {
     "output_type": "execute_result",
     "data": {
      "text/plain": [
       "(1964, 29)"
      ]
     },
     "metadata": {},
     "execution_count": 158
    }
   ],
   "source": [
    "twitter_archive_master.shape"
   ]
  },
  {
   "cell_type": "code",
   "execution_count": 159,
   "metadata": {},
   "outputs": [
    {
     "output_type": "execute_result",
     "data": {
      "text/plain": [
       "             tweet_id in_reply_to_status_id in_reply_to_user_id  \\\n",
       "0  892420643555336193                   nan                 nan   \n",
       "1  892177421306343426                   nan                 nan   \n",
       "2  891815181378084864                   nan                 nan   \n",
       "3  891689557279858688                   nan                 nan   \n",
       "4  891327558926688256                   nan                 nan   \n",
       "\n",
       "           source_app                                               text  \\\n",
       "0  Twitter for iPhone  This is Phineas. He's a mystical boy. Only eve...   \n",
       "1  Twitter for iPhone  This is Tilly. She's just checking pup on you....   \n",
       "2  Twitter for iPhone  This is Archie. He is a rare Norwegian Pouncin...   \n",
       "3  Twitter for iPhone  This is Darla. She commenced a snooze mid meal...   \n",
       "4  Twitter for iPhone  This is Franklin. He would like you to stop ca...   \n",
       "\n",
       "  retweeted_status_id retweeted_status_user_id retweeted_status_timestamp  \\\n",
       "0                 nan                      nan                        NaN   \n",
       "1                 nan                      nan                        NaN   \n",
       "2                 nan                      nan                        NaN   \n",
       "3                 nan                      nan                        NaN   \n",
       "4                 nan                      nan                        NaN   \n",
       "\n",
       "                                       expanded_urls  rating_numerator  ...  \\\n",
       "0  https://twitter.com/dog_rates/status/892420643...              13.0  ...   \n",
       "1  https://twitter.com/dog_rates/status/892177421...              13.0  ...   \n",
       "2  https://twitter.com/dog_rates/status/891815181...              12.0  ...   \n",
       "3  https://twitter.com/dog_rates/status/891689557...              13.0  ...   \n",
       "4  https://twitter.com/dog_rates/status/891327558...              12.0  ...   \n",
       "\n",
       "   conf_tweet_img           p1   p1_conf p1_dog                  p2   p2_conf  \\\n",
       "0               1       orange  0.097049  False               bagel  0.085851   \n",
       "1               1    chihuahua  0.323581   True            pekinese  0.090647   \n",
       "2               1    chihuahua  0.716012   True            malamute  0.078253   \n",
       "3               1  paper_towel  0.170278  False  labrador_retriever  0.168086   \n",
       "4               2       basset  0.555712   True    english_springer  0.225770   \n",
       "\n",
       "   p2_dog                           p3   p3_conf  p3_dog  \n",
       "0   False                       banana  0.076110   False  \n",
       "1    True                     papillon  0.068957    True  \n",
       "2    True                       kelpie  0.031379    True  \n",
       "3    True                      spatula  0.040836   False  \n",
       "4    True  german_short-haired_pointer  0.175219    True  \n",
       "\n",
       "[5 rows x 29 columns]"
      ],
      "text/html": "<div>\n<style scoped>\n    .dataframe tbody tr th:only-of-type {\n        vertical-align: middle;\n    }\n\n    .dataframe tbody tr th {\n        vertical-align: top;\n    }\n\n    .dataframe thead th {\n        text-align: right;\n    }\n</style>\n<table border=\"1\" class=\"dataframe\">\n  <thead>\n    <tr style=\"text-align: right;\">\n      <th></th>\n      <th>tweet_id</th>\n      <th>in_reply_to_status_id</th>\n      <th>in_reply_to_user_id</th>\n      <th>source_app</th>\n      <th>text</th>\n      <th>retweeted_status_id</th>\n      <th>retweeted_status_user_id</th>\n      <th>retweeted_status_timestamp</th>\n      <th>expanded_urls</th>\n      <th>rating_numerator</th>\n      <th>...</th>\n      <th>conf_tweet_img</th>\n      <th>p1</th>\n      <th>p1_conf</th>\n      <th>p1_dog</th>\n      <th>p2</th>\n      <th>p2_conf</th>\n      <th>p2_dog</th>\n      <th>p3</th>\n      <th>p3_conf</th>\n      <th>p3_dog</th>\n    </tr>\n  </thead>\n  <tbody>\n    <tr>\n      <th>0</th>\n      <td>892420643555336193</td>\n      <td>nan</td>\n      <td>nan</td>\n      <td>Twitter for iPhone</td>\n      <td>This is Phineas. He's a mystical boy. Only eve...</td>\n      <td>nan</td>\n      <td>nan</td>\n      <td>NaN</td>\n      <td>https://twitter.com/dog_rates/status/892420643...</td>\n      <td>13.0</td>\n      <td>...</td>\n      <td>1</td>\n      <td>orange</td>\n      <td>0.097049</td>\n      <td>False</td>\n      <td>bagel</td>\n      <td>0.085851</td>\n      <td>False</td>\n      <td>banana</td>\n      <td>0.076110</td>\n      <td>False</td>\n    </tr>\n    <tr>\n      <th>1</th>\n      <td>892177421306343426</td>\n      <td>nan</td>\n      <td>nan</td>\n      <td>Twitter for iPhone</td>\n      <td>This is Tilly. She's just checking pup on you....</td>\n      <td>nan</td>\n      <td>nan</td>\n      <td>NaN</td>\n      <td>https://twitter.com/dog_rates/status/892177421...</td>\n      <td>13.0</td>\n      <td>...</td>\n      <td>1</td>\n      <td>chihuahua</td>\n      <td>0.323581</td>\n      <td>True</td>\n      <td>pekinese</td>\n      <td>0.090647</td>\n      <td>True</td>\n      <td>papillon</td>\n      <td>0.068957</td>\n      <td>True</td>\n    </tr>\n    <tr>\n      <th>2</th>\n      <td>891815181378084864</td>\n      <td>nan</td>\n      <td>nan</td>\n      <td>Twitter for iPhone</td>\n      <td>This is Archie. He is a rare Norwegian Pouncin...</td>\n      <td>nan</td>\n      <td>nan</td>\n      <td>NaN</td>\n      <td>https://twitter.com/dog_rates/status/891815181...</td>\n      <td>12.0</td>\n      <td>...</td>\n      <td>1</td>\n      <td>chihuahua</td>\n      <td>0.716012</td>\n      <td>True</td>\n      <td>malamute</td>\n      <td>0.078253</td>\n      <td>True</td>\n      <td>kelpie</td>\n      <td>0.031379</td>\n      <td>True</td>\n    </tr>\n    <tr>\n      <th>3</th>\n      <td>891689557279858688</td>\n      <td>nan</td>\n      <td>nan</td>\n      <td>Twitter for iPhone</td>\n      <td>This is Darla. She commenced a snooze mid meal...</td>\n      <td>nan</td>\n      <td>nan</td>\n      <td>NaN</td>\n      <td>https://twitter.com/dog_rates/status/891689557...</td>\n      <td>13.0</td>\n      <td>...</td>\n      <td>1</td>\n      <td>paper_towel</td>\n      <td>0.170278</td>\n      <td>False</td>\n      <td>labrador_retriever</td>\n      <td>0.168086</td>\n      <td>True</td>\n      <td>spatula</td>\n      <td>0.040836</td>\n      <td>False</td>\n    </tr>\n    <tr>\n      <th>4</th>\n      <td>891327558926688256</td>\n      <td>nan</td>\n      <td>nan</td>\n      <td>Twitter for iPhone</td>\n      <td>This is Franklin. He would like you to stop ca...</td>\n      <td>nan</td>\n      <td>nan</td>\n      <td>NaN</td>\n      <td>https://twitter.com/dog_rates/status/891327558...</td>\n      <td>12.0</td>\n      <td>...</td>\n      <td>2</td>\n      <td>basset</td>\n      <td>0.555712</td>\n      <td>True</td>\n      <td>english_springer</td>\n      <td>0.225770</td>\n      <td>True</td>\n      <td>german_short-haired_pointer</td>\n      <td>0.175219</td>\n      <td>True</td>\n    </tr>\n  </tbody>\n</table>\n<p>5 rows × 29 columns</p>\n</div>"
     },
     "metadata": {},
     "execution_count": 159
    }
   ],
   "source": [
    "twitter_archive_master.head()"
   ]
  },
  {
   "cell_type": "code",
   "execution_count": 160,
   "metadata": {},
   "outputs": [
    {
     "output_type": "stream",
     "name": "stdout",
     "text": [
      "<class 'pandas.core.frame.DataFrame'>\nInt64Index: 1964 entries, 0 to 1963\nData columns (total 29 columns):\n #   Column                      Non-Null Count  Dtype   \n---  ------                      --------------  -----   \n 0   tweet_id                    1964 non-null   object  \n 1   in_reply_to_status_id       1964 non-null   object  \n 2   in_reply_to_user_id         1964 non-null   object  \n 3   source_app                  1964 non-null   object  \n 4   text                        1964 non-null   object  \n 5   retweeted_status_id         1964 non-null   object  \n 6   retweeted_status_user_id    1964 non-null   object  \n 7   retweeted_status_timestamp  0 non-null      object  \n 8   expanded_urls               1964 non-null   object  \n 9   rating_numerator            1964 non-null   float64 \n 10  rating_denominator          1964 non-null   int32   \n 11  name                        1866 non-null   object  \n 12  date                        1964 non-null   object  \n 13  time                        1964 non-null   object  \n 14  timezone                    1964 non-null   object  \n 15  dog_type                    1964 non-null   category\n 16  retweet_count               1964 non-null   int64   \n 17  fav_count                   1964 non-null   int64   \n 18  img_url                     1964 non-null   object  \n 19  conf_tweet_img              1964 non-null   int64   \n 20  p1                          1964 non-null   object  \n 21  p1_conf                     1964 non-null   float64 \n 22  p1_dog                      1964 non-null   bool    \n 23  p2                          1964 non-null   object  \n 24  p2_conf                     1964 non-null   float64 \n 25  p2_dog                      1964 non-null   bool    \n 26  p3                          1964 non-null   object  \n 27  p3_conf                     1964 non-null   float64 \n 28  p3_dog                      1964 non-null   bool    \ndtypes: bool(3), category(1), float64(4), int32(1), int64(3), object(17)\nmemory usage: 399.1+ KB\n"
     ]
    }
   ],
   "source": [
    "twitter_archive_master.info()"
   ]
  },
  {
   "source": [
    "### Tidiness Issue 4:\n",
    "#### Define:\n",
    "drop redundant columns, retweeted and in_reply columns, four (4) in total"
   ],
   "cell_type": "markdown",
   "metadata": {}
  },
  {
   "source": [
    "#### Code:"
   ],
   "cell_type": "markdown",
   "metadata": {}
  },
  {
   "cell_type": "code",
   "execution_count": 161,
   "metadata": {},
   "outputs": [
    {
     "output_type": "execute_result",
     "data": {
      "text/plain": [
       "['in_reply_to_status_id',\n",
       " 'in_reply_to_user_id',\n",
       " 'retweeted_status_id',\n",
       " 'retweeted_status_user_id',\n",
       " 'retweeted_status_timestamp',\n",
       " 'expanded_urls']"
      ]
     },
     "metadata": {},
     "execution_count": 161
    }
   ],
   "source": [
    "drop_cols = list(twitter_archive_master.iloc[:0,[1,2,5,6,7,8]])\n",
    "drop_cols"
   ]
  },
  {
   "cell_type": "code",
   "execution_count": 162,
   "metadata": {},
   "outputs": [],
   "source": [
    "twitter_archive_master.drop(columns=drop_cols, inplace=True)"
   ]
  },
  {
   "source": [
    "#### Test:"
   ],
   "cell_type": "markdown",
   "metadata": {}
  },
  {
   "cell_type": "code",
   "execution_count": 163,
   "metadata": {},
   "outputs": [
    {
     "output_type": "stream",
     "name": "stdout",
     "text": [
      "<class 'pandas.core.frame.DataFrame'>\nInt64Index: 1964 entries, 0 to 1963\nData columns (total 23 columns):\n #   Column              Non-Null Count  Dtype   \n---  ------              --------------  -----   \n 0   tweet_id            1964 non-null   object  \n 1   source_app          1964 non-null   object  \n 2   text                1964 non-null   object  \n 3   rating_numerator    1964 non-null   float64 \n 4   rating_denominator  1964 non-null   int32   \n 5   name                1866 non-null   object  \n 6   date                1964 non-null   object  \n 7   time                1964 non-null   object  \n 8   timezone            1964 non-null   object  \n 9   dog_type            1964 non-null   category\n 10  retweet_count       1964 non-null   int64   \n 11  fav_count           1964 non-null   int64   \n 12  img_url             1964 non-null   object  \n 13  conf_tweet_img      1964 non-null   int64   \n 14  p1                  1964 non-null   object  \n 15  p1_conf             1964 non-null   float64 \n 16  p1_dog              1964 non-null   bool    \n 17  p2                  1964 non-null   object  \n 18  p2_conf             1964 non-null   float64 \n 19  p2_dog              1964 non-null   bool    \n 20  p3                  1964 non-null   object  \n 21  p3_conf             1964 non-null   float64 \n 22  p3_dog              1964 non-null   bool    \ndtypes: bool(3), category(1), float64(4), int32(1), int64(3), object(11)\nmemory usage: 307.1+ KB\n"
     ]
    }
   ],
   "source": [
    "twitter_archive_master.info()"
   ]
  },
  {
   "cell_type": "code",
   "execution_count": 164,
   "metadata": {},
   "outputs": [
    {
     "output_type": "execute_result",
     "data": {
      "text/plain": [
       "             tweet_id                                          img_url  \\\n",
       "0  666020888022790149  https://pbs.twimg.com/media/CT4udn0WwAA0aMy.jpg   \n",
       "1  666029285002620928  https://pbs.twimg.com/media/CT42GRgUYAA5iDo.jpg   \n",
       "2  666033412701032449  https://pbs.twimg.com/media/CT4521TWwAEvMyu.jpg   \n",
       "3  666044226329800704  https://pbs.twimg.com/media/CT5Dr8HUEAA-lEu.jpg   \n",
       "4  666049248165822465  https://pbs.twimg.com/media/CT5IQmsXIAAKY4A.jpg   \n",
       "\n",
       "   conf_tweet_img                      p1   p1_conf  p1_dog  \\\n",
       "0               1  welsh_springer_spaniel  0.465074    True   \n",
       "1               1                 redbone  0.506826    True   \n",
       "2               1         german_shepherd  0.596461    True   \n",
       "3               1     rhodesian_ridgeback  0.408143    True   \n",
       "4               1      miniature_pinscher  0.560311    True   \n",
       "\n",
       "                   p2   p2_conf  p2_dog                   p3   p3_conf  p3_dog  \n",
       "0              collie  0.156665    True    shetland_sheepdog  0.061428    True  \n",
       "1  miniature_pinscher  0.074192    True  rhodesian_ridgeback  0.072010    True  \n",
       "2            malinois  0.138584    True           bloodhound  0.116197    True  \n",
       "3             redbone  0.360687    True   miniature_pinscher  0.222752    True  \n",
       "4          rottweiler  0.243682    True             doberman  0.154629    True  "
      ],
      "text/html": "<div>\n<style scoped>\n    .dataframe tbody tr th:only-of-type {\n        vertical-align: middle;\n    }\n\n    .dataframe tbody tr th {\n        vertical-align: top;\n    }\n\n    .dataframe thead th {\n        text-align: right;\n    }\n</style>\n<table border=\"1\" class=\"dataframe\">\n  <thead>\n    <tr style=\"text-align: right;\">\n      <th></th>\n      <th>tweet_id</th>\n      <th>img_url</th>\n      <th>conf_tweet_img</th>\n      <th>p1</th>\n      <th>p1_conf</th>\n      <th>p1_dog</th>\n      <th>p2</th>\n      <th>p2_conf</th>\n      <th>p2_dog</th>\n      <th>p3</th>\n      <th>p3_conf</th>\n      <th>p3_dog</th>\n    </tr>\n  </thead>\n  <tbody>\n    <tr>\n      <th>0</th>\n      <td>666020888022790149</td>\n      <td>https://pbs.twimg.com/media/CT4udn0WwAA0aMy.jpg</td>\n      <td>1</td>\n      <td>welsh_springer_spaniel</td>\n      <td>0.465074</td>\n      <td>True</td>\n      <td>collie</td>\n      <td>0.156665</td>\n      <td>True</td>\n      <td>shetland_sheepdog</td>\n      <td>0.061428</td>\n      <td>True</td>\n    </tr>\n    <tr>\n      <th>1</th>\n      <td>666029285002620928</td>\n      <td>https://pbs.twimg.com/media/CT42GRgUYAA5iDo.jpg</td>\n      <td>1</td>\n      <td>redbone</td>\n      <td>0.506826</td>\n      <td>True</td>\n      <td>miniature_pinscher</td>\n      <td>0.074192</td>\n      <td>True</td>\n      <td>rhodesian_ridgeback</td>\n      <td>0.072010</td>\n      <td>True</td>\n    </tr>\n    <tr>\n      <th>2</th>\n      <td>666033412701032449</td>\n      <td>https://pbs.twimg.com/media/CT4521TWwAEvMyu.jpg</td>\n      <td>1</td>\n      <td>german_shepherd</td>\n      <td>0.596461</td>\n      <td>True</td>\n      <td>malinois</td>\n      <td>0.138584</td>\n      <td>True</td>\n      <td>bloodhound</td>\n      <td>0.116197</td>\n      <td>True</td>\n    </tr>\n    <tr>\n      <th>3</th>\n      <td>666044226329800704</td>\n      <td>https://pbs.twimg.com/media/CT5Dr8HUEAA-lEu.jpg</td>\n      <td>1</td>\n      <td>rhodesian_ridgeback</td>\n      <td>0.408143</td>\n      <td>True</td>\n      <td>redbone</td>\n      <td>0.360687</td>\n      <td>True</td>\n      <td>miniature_pinscher</td>\n      <td>0.222752</td>\n      <td>True</td>\n    </tr>\n    <tr>\n      <th>4</th>\n      <td>666049248165822465</td>\n      <td>https://pbs.twimg.com/media/CT5IQmsXIAAKY4A.jpg</td>\n      <td>1</td>\n      <td>miniature_pinscher</td>\n      <td>0.560311</td>\n      <td>True</td>\n      <td>rottweiler</td>\n      <td>0.243682</td>\n      <td>True</td>\n      <td>doberman</td>\n      <td>0.154629</td>\n      <td>True</td>\n    </tr>\n  </tbody>\n</table>\n</div>"
     },
     "metadata": {},
     "execution_count": 164
    }
   ],
   "source": [
    "df_clean[1].head()"
   ]
  },
  {
   "source": [
    "## Save Clean data"
   ],
   "cell_type": "markdown",
   "metadata": {}
  },
  {
   "cell_type": "code",
   "execution_count": 165,
   "metadata": {},
   "outputs": [],
   "source": [
    "directory = 'Working_Files'\n",
    "#from pathlib import Path\n",
    "Path(directory).mkdir(parents=True, exist_ok=True)"
   ]
  },
  {
   "cell_type": "code",
   "execution_count": 166,
   "metadata": {},
   "outputs": [],
   "source": [
    "### Twitter Master file\n",
    "filename_out1 = 'twitter_archive_master.csv'\n",
    "twitter_archive_master.to_csv(directory+'/'+filename_out1, index=True)"
   ]
  },
  {
   "cell_type": "code",
   "execution_count": 167,
   "metadata": {},
   "outputs": [],
   "source": [
    "import shutil\n",
    "def move_file(folder, file):\n",
    "    path = os.getcwd()\n",
    "    dest = path+'/'+folder+'/'+file\n",
    "    source = path+'/'+file\n",
    "\n",
    "    shutil.move(source, dest)\n",
    "    print('{} moved.'.format(file))"
   ]
  },
  {
   "source": [
    "## Exploratory Data Analysis and Visualization"
   ],
   "cell_type": "markdown",
   "metadata": {}
  },
  {
   "cell_type": "code",
   "execution_count": 170,
   "metadata": {},
   "outputs": [
    {
     "output_type": "stream",
     "name": "stdout",
     "text": [
      "<class 'pandas.core.frame.DataFrame'>\nInt64Index: 1964 entries, 0 to 1963\nData columns (total 23 columns):\n #   Column              Non-Null Count  Dtype   \n---  ------              --------------  -----   \n 0   tweet_id            1964 non-null   object  \n 1   source_app          1964 non-null   object  \n 2   text                1964 non-null   object  \n 3   rating_numerator    1964 non-null   float64 \n 4   rating_denominator  1964 non-null   int32   \n 5   name                1866 non-null   object  \n 6   date                1964 non-null   object  \n 7   time                1964 non-null   object  \n 8   timezone            1964 non-null   object  \n 9   dog_type            1964 non-null   category\n 10  retweet_count       1964 non-null   int64   \n 11  fav_count           1964 non-null   int64   \n 12  img_url             1964 non-null   object  \n 13  conf_tweet_img      1964 non-null   int64   \n 14  p1                  1964 non-null   object  \n 15  p1_conf             1964 non-null   float64 \n 16  p1_dog              1964 non-null   bool    \n 17  p2                  1964 non-null   object  \n 18  p2_conf             1964 non-null   float64 \n 19  p2_dog              1964 non-null   bool    \n 20  p3                  1964 non-null   object  \n 21  p3_conf             1964 non-null   float64 \n 22  p3_dog              1964 non-null   bool    \ndtypes: bool(3), category(1), float64(4), int32(1), int64(3), object(11)\nmemory usage: 307.1+ KB\n"
     ]
    }
   ],
   "source": [
    "twitter_archive_master.info()"
   ]
  },
  {
   "source": [
    "### Automated EDA"
   ],
   "cell_type": "markdown",
   "metadata": {}
  },
  {
   "source": [
    "#### Sweetviz"
   ],
   "cell_type": "markdown",
   "metadata": {}
  },
  {
   "cell_type": "code",
   "execution_count": 171,
   "metadata": {},
   "outputs": [
    {
     "output_type": "stream",
     "name": "stderr",
     "text": [
      "PandasGUI INFO — matplotlib.font_manager — Generating new fontManager, this may take some time...\n",
      "Done! Use 'show' commands to display/save.   |██████████| [100%]   00:00 -> (00:00 left)\n",
      "Feature: tweet_id                            |▌         | [  6%]   00:00 -> (00:00 left)Report SweetViz-Twitter_Data_Report.html was generated.\n",
      "\n",
      "Done! Use 'show' commands to display/save.   |██████████| [100%]   00:00 -> (00:00 left)\n",
      "Feature: tweet_id                            |▌         | [  6%]   00:00 -> (00:00 left)Report Raw_SweetViz-Twitter_Data_Report.html was generated.\n",
      "\n",
      "Done! Use 'show' commands to display/save.   |██████████| [100%]   00:00 -> (00:00 left)Report Raw_SweetViz-Img_Predictions_Report.html was generated.\n",
      "\n"
     ]
    }
   ],
   "source": [
    "import sweetviz as sv\n",
    "\n",
    "sweetviz_file1 = 'SweetViz-Twitter_Data_Report.html'\n",
    "sweetviz_file2 = 'SweetViz-Img_Predictions_Report.html'\n",
    "\n",
    "# Clean\n",
    "clean_report1 = sv.analyze([twitter_archive_master,'Twitter_Data'])\n",
    "clean_report1.show_html(filepath=sweetviz_file1, open_browser=False)\n",
    "print('')\n",
    "# Raw\n",
    "raw_report1 = sv.analyze([df_raw[0],'Twitter_Data_Raw'])\n",
    "raw_report1.show_html(filepath='Raw_'+sweetviz_file1, open_browser=False)\n",
    "print('')\n",
    "raw_report2 = sv.analyze([df_raw[0], 'Image_Predictions_Raw'])\n",
    "raw_report2.show_html(filepath='Raw_'+sweetviz_file2, open_browser=False)"
   ]
  },
  {
   "cell_type": "code",
   "execution_count": 172,
   "metadata": {},
   "outputs": [
    {
     "output_type": "stream",
     "name": "stderr",
     "text": [
      "Done! Use 'show' commands to display/save.   |██████████| [100%]   00:00 -> (00:00 left)Report SweetViz-Img_Predictions_Report.html was generated.\n",
      "\n"
     ]
    }
   ],
   "source": [
    "clean_report2 = sv.analyze([df_image_predictor, 'Image_Predictions'])\n",
    "clean_report2.show_html(filepath=sweetviz_file2, open_browser=False)"
   ]
  },
  {
   "cell_type": "code",
   "execution_count": 173,
   "metadata": {},
   "outputs": [
    {
     "output_type": "stream",
     "name": "stdout",
     "text": [
      "SweetViz-Twitter_Data_Report.html moved.\nSweetViz-Img_Predictions_Report.html moved.\nRaw_SweetViz-Twitter_Data_Report.html moved.\nRaw_SweetViz-Img_Predictions_Report.html moved.\n"
     ]
    }
   ],
   "source": [
    "# move into Reports Folder\n",
    "#dest = path+'/'+folder+'/'+file\n",
    "#source = path+'/'+file\n",
    "move_file('Reports', sweetviz_file1)\n",
    "move_file('Reports', sweetviz_file2)\n",
    "move_file('Reports', 'Raw_'+sweetviz_file1)\n",
    "move_file('Reports', 'Raw_'+sweetviz_file2)"
   ]
  },
  {
   "source": [
    "#### Pandas Profiling\n",
    "Limitation of n=10000 data points to be analysed"
   ],
   "cell_type": "markdown",
   "metadata": {}
  },
  {
   "source": [
    "from pandas_profiling import ProfileReport"
   ],
   "cell_type": "markdown",
   "metadata": {}
  },
  {
   "source": [
    "##### Twitter data"
   ],
   "cell_type": "markdown",
   "metadata": {}
  },
  {
   "cell_type": "code",
   "execution_count": 174,
   "metadata": {},
   "outputs": [],
   "source": [
    "from pandas_profiling import ProfileReport\n",
    "twitter_profile = ProfileReport(twitter_archive_master, title=\"Pandas_Profiling-Twitter_Data_Report\")"
   ]
  },
  {
   "cell_type": "code",
   "execution_count": 175,
   "metadata": {},
   "outputs": [],
   "source": [
    "def save_profile(profile, rep_name):\n",
    "    prof_directory = 'Reports'\n",
    "    Path(prof_directory).mkdir(parents=True, exist_ok=True)\n",
    "    profile.to_file(prof_directory + '/' + rep_name + '.html')"
   ]
  },
  {
   "cell_type": "code",
   "execution_count": 176,
   "metadata": {},
   "outputs": [
    {
     "output_type": "stream",
     "name": "stderr",
     "text": [
      "Summarize dataset: 100%|██████████| 37/37 [00:17<00:00,  2.13it/s, Completed]\n",
      "Generate report structure: 100%|██████████| 1/1 [00:08<00:00,  8.35s/it]\n"
     ]
    },
    {
     "output_type": "display_data",
     "data": {
      "text/plain": "VBox(children=(Tab(children=(Tab(children=(GridBox(children=(VBox(children=(GridspecLayout(children=(HTML(valu…",
      "application/vnd.jupyter.widget-view+json": {
       "version_major": 2,
       "version_minor": 0,
       "model_id": "b25de2e637814ed18032b27f8d11ccc6"
      }
     },
     "metadata": {}
    }
   ],
   "source": [
    "twitter_profile.to_widgets() # to display report above"
   ]
  },
  {
   "cell_type": "code",
   "execution_count": 191,
   "metadata": {},
   "outputs": [
    {
     "output_type": "stream",
     "name": "stderr",
     "text": [
      "Export report to file: 100%|██████████| 1/1 [00:00<00:00,  7.81it/s]Twitter_Report.html moved.\n",
      "\n"
     ]
    }
   ],
   "source": [
    "# save report as html, provide profile and report name\n",
    "pandasprof = 'Twitter_Report.html'\n",
    "twitter_profile.to_file(pandasprof)\n",
    "move_file('Reports', pandasprof)"
   ]
  },
  {
   "source": [
    "### Manual Visualization\n",
    "#### Tableau Public"
   ],
   "cell_type": "markdown",
   "metadata": {}
  },
  {
   "cell_type": "code",
   "execution_count": 190,
   "metadata": {},
   "outputs": [
    {
     "output_type": "display_data",
     "data": {
      "text/plain": "<IPython.core.display.HTML object>",
      "text/html": "<div class='tableauPlaceholder' id='viz1607920798943' style='position: relative'><noscript><a href='#'><img alt=' ' src='https:&#47;&#47;public.tableau.com&#47;static&#47;images&#47;We&#47;WeLoveDogsTwitterData&#47;Dashboard1&#47;1_rss.png' style='border: none' /></a></noscript><object class='tableauViz'  style='display:none;'><param name='host_url' value='https%3A%2F%2Fpublic.tableau.com%2F' /> <param name='embed_code_version' value='3' /> <param name='site_root' value='' /><param name='name' value='WeLoveDogsTwitterData&#47;Dashboard1' /><param name='tabs' value='no' /><param name='toolbar' value='yes' /><param name='static_image' value='https:&#47;&#47;public.tableau.com&#47;static&#47;images&#47;We&#47;WeLoveDogsTwitterData&#47;Dashboard1&#47;1.png' /> <param name='animate_transition' value='yes' /><param name='display_static_image' value='yes' /><param name='display_spinner' value='yes' /><param name='display_overlay' value='yes' /><param name='display_count' value='yes' /><param name='language' value='en' /></object></div>                <script type='text/javascript'>                    var divElement = document.getElementById('viz1607920798943');                    var vizElement = divElement.getElementsByTagName('object')[0];                    if ( divElement.offsetWidth > 800 ) { vizElement.style.width='1000px';vizElement.style.height='827px';} else if ( divElement.offsetWidth > 500 ) { vizElement.style.width='1000px';vizElement.style.height='827px';} else { vizElement.style.width='100%';vizElement.style.height='2077px';}                     var scriptElement = document.createElement('script');                    scriptElement.src = 'https://public.tableau.com/javascripts/api/viz_v1.js';                    vizElement.parentNode.insertBefore(scriptElement, vizElement);                </script>\n"
     },
     "metadata": {}
    }
   ],
   "source": [
    "%%html\n",
    "<div class='tableauPlaceholder' id='viz1607920798943' style='position: relative'><noscript><a href='#'><img alt=' ' src='https:&#47;&#47;public.tableau.com&#47;static&#47;images&#47;We&#47;WeLoveDogsTwitterData&#47;Dashboard1&#47;1_rss.png' style='border: none' /></a></noscript><object class='tableauViz'  style='display:none;'><param name='host_url' value='https%3A%2F%2Fpublic.tableau.com%2F' /> <param name='embed_code_version' value='3' /> <param name='site_root' value='' /><param name='name' value='WeLoveDogsTwitterData&#47;Dashboard1' /><param name='tabs' value='no' /><param name='toolbar' value='yes' /><param name='static_image' value='https:&#47;&#47;public.tableau.com&#47;static&#47;images&#47;We&#47;WeLoveDogsTwitterData&#47;Dashboard1&#47;1.png' /> <param name='animate_transition' value='yes' /><param name='display_static_image' value='yes' /><param name='display_spinner' value='yes' /><param name='display_overlay' value='yes' /><param name='display_count' value='yes' /><param name='language' value='en' /></object></div>                <script type='text/javascript'>                    var divElement = document.getElementById('viz1607920798943');                    var vizElement = divElement.getElementsByTagName('object')[0];                    if ( divElement.offsetWidth > 800 ) { vizElement.style.width='1000px';vizElement.style.height='827px';} else if ( divElement.offsetWidth > 500 ) { vizElement.style.width='1000px';vizElement.style.height='827px';} else { vizElement.style.width='100%';vizElement.style.height='2077px';}                     var scriptElement = document.createElement('script');                    scriptElement.src = 'https://public.tableau.com/javascripts/api/viz_v1.js';                    vizElement.parentNode.insertBefore(scriptElement, vizElement);                </script>"
   ]
  },
  {
   "cell_type": "code",
   "execution_count": null,
   "metadata": {},
   "outputs": [],
   "source": []
  }
 ],
 "metadata": {
  "kernelspec": {
   "name": "python3",
   "display_name": "Python 3.8.5 64-bit (conda)",
   "metadata": {
    "interpreter": {
     "hash": "562ec6405976493db7174998c6f199dd03aea2fb718069d5cdee13b378ce47b2"
    }
   }
  },
  "language_info": {
   "codemirror_mode": {
    "name": "ipython",
    "version": 3
   },
   "file_extension": ".py",
   "mimetype": "text/x-python",
   "name": "python",
   "nbconvert_exporter": "python",
   "pygments_lexer": "ipython3",
   "version": "3.8.5-final"
  }
 },
 "nbformat": 4,
 "nbformat_minor": 2
}